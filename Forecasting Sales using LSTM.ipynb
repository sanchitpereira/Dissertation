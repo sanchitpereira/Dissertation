{
  "nbformat": 4,
  "nbformat_minor": 0,
  "metadata": {
    "colab": {
      "name": "RNN.ipynb",
      "provenance": [],
      "collapsed_sections": []
    },
    "kernelspec": {
      "name": "python3",
      "display_name": "Python 3"
    }
  },
  "cells": [
    {
      "cell_type": "code",
      "metadata": {
        "id": "e_VjF4pfLBak",
        "colab_type": "code",
        "colab": {}
      },
      "source": [
        "import keras\n",
        "import sklearn\n",
        "import matplotlib.pyplot as plt\n",
        "import pandas as pd\n",
        "import numpy as np\n",
        "from statsmodels.tsa.seasonal import seasonal_decompose\n",
        "from sklearn.preprocessing import MinMaxScaler\n",
        "from keras.preprocessing.sequence import TimeseriesGenerator\n",
        "from keras.models import Sequential\n",
        "from keras.layers import Dense\n",
        "from keras.layers import LSTM \n",
        "from statsmodels.tools.eval_measures import rmse"
      ],
      "execution_count": 0,
      "outputs": []
    },
    {
      "cell_type": "code",
      "metadata": {
        "id": "BqXPoGh2n_ux",
        "colab_type": "code",
        "colab": {}
      },
      "source": [
        "!pip install -U -q PyDrive\n",
        "from pydrive.auth import GoogleAuth\n",
        "from pydrive.drive import GoogleDrive\n",
        "from google.colab import auth\n",
        "from oauth2client.client import GoogleCredentials \n",
        "auth.authenticate_user()\n",
        "gauth = GoogleAuth()\n",
        "gauth.credentials = GoogleCredentials.get_application_default()\n",
        "drive = GoogleDrive(gauth)"
      ],
      "execution_count": 0,
      "outputs": []
    },
    {
      "cell_type": "code",
      "metadata": {
        "id": "745-eOPzhrXg",
        "colab_type": "code",
        "colab": {}
      },
      "source": [
        "df = drive.CreateFile({'id':'1rAuL77nhjhZnWhGsDqujZK7mOzmYVE63'})\n",
        "df.GetContentFile('Alcohol_Sales.csv')\n",
        "df = pd.read_csv(\"Alcohol_Sales.csv\", index_col = \"DATE\", parse_dates = True)"
      ],
      "execution_count": 0,
      "outputs": []
    },
    {
      "cell_type": "code",
      "metadata": {
        "id": "AFxrYxzsoWmd",
        "colab_type": "code",
        "colab": {
          "base_uri": "https://localhost:8080/",
          "height": 225
        },
        "outputId": "83af314a-3051-445d-fed0-2f9d04963e97"
      },
      "source": [
        "df.head()"
      ],
      "execution_count": 129,
      "outputs": [
        {
          "output_type": "execute_result",
          "data": {
            "text/html": [
              "<div>\n",
              "<style scoped>\n",
              "    .dataframe tbody tr th:only-of-type {\n",
              "        vertical-align: middle;\n",
              "    }\n",
              "\n",
              "    .dataframe tbody tr th {\n",
              "        vertical-align: top;\n",
              "    }\n",
              "\n",
              "    .dataframe thead th {\n",
              "        text-align: right;\n",
              "    }\n",
              "</style>\n",
              "<table border=\"1\" class=\"dataframe\">\n",
              "  <thead>\n",
              "    <tr style=\"text-align: right;\">\n",
              "      <th></th>\n",
              "      <th>S4248SM144NCEN</th>\n",
              "    </tr>\n",
              "    <tr>\n",
              "      <th>DATE</th>\n",
              "      <th></th>\n",
              "    </tr>\n",
              "  </thead>\n",
              "  <tbody>\n",
              "    <tr>\n",
              "      <th>1992-01-01</th>\n",
              "      <td>3459</td>\n",
              "    </tr>\n",
              "    <tr>\n",
              "      <th>1992-02-01</th>\n",
              "      <td>3458</td>\n",
              "    </tr>\n",
              "    <tr>\n",
              "      <th>1992-03-01</th>\n",
              "      <td>4002</td>\n",
              "    </tr>\n",
              "    <tr>\n",
              "      <th>1992-04-01</th>\n",
              "      <td>4564</td>\n",
              "    </tr>\n",
              "    <tr>\n",
              "      <th>1992-05-01</th>\n",
              "      <td>4221</td>\n",
              "    </tr>\n",
              "  </tbody>\n",
              "</table>\n",
              "</div>"
            ],
            "text/plain": [
              "            S4248SM144NCEN\n",
              "DATE                      \n",
              "1992-01-01            3459\n",
              "1992-02-01            3458\n",
              "1992-03-01            4002\n",
              "1992-04-01            4564\n",
              "1992-05-01            4221"
            ]
          },
          "metadata": {
            "tags": []
          },
          "execution_count": 129
        }
      ]
    },
    {
      "cell_type": "code",
      "metadata": {
        "id": "wvZsW9X2ocMF",
        "colab_type": "code",
        "colab": {
          "base_uri": "https://localhost:8080/",
          "height": 298
        },
        "outputId": "9f080427-8799-4840-96d1-5827d8b5c1ce"
      },
      "source": [
        "df.columns = [\"Sales\"]\n",
        "df.plot()"
      ],
      "execution_count": 130,
      "outputs": [
        {
          "output_type": "execute_result",
          "data": {
            "text/plain": [
              "<matplotlib.axes._subplots.AxesSubplot at 0x7f3305cabb38>"
            ]
          },
          "metadata": {
            "tags": []
          },
          "execution_count": 130
        },
        {
          "output_type": "display_data",
          "data": {
            "image/png": "[encoded data removed]",
            "text/plain": [
              "<Figure size 432x288 with 1 Axes>"
            ]
          },
          "metadata": {
            "tags": []
          }
        }
      ]
    },
    {
      "cell_type": "code",
      "metadata": {
        "id": "WjSrSSXloggD",
        "colab_type": "code",
        "colab": {}
      },
      "source": [
        "results = seasonal_decompose(df[\"Sales\"])"
      ],
      "execution_count": 0,
      "outputs": []
    },
    {
      "cell_type": "code",
      "metadata": {
        "id": "nSC9C0-WozoW",
        "colab_type": "code",
        "colab": {
          "base_uri": "https://localhost:8080/",
          "height": 297
        },
        "outputId": "b539879a-1faf-4778-a9ed-f94ef0f921f0"
      },
      "source": [
        "results.plot();"
      ],
      "execution_count": 132,
      "outputs": [
        {
          "output_type": "display_data",
          "data": {
            "image/png": "[encoded data removed]",
            "text/plain": [
              "<Figure size 432x288 with 4 Axes>"
            ]
          },
          "metadata": {
            "tags": []
          }
        }
      ]
    },
    {
      "cell_type": "code",
      "metadata": {
        "id": "AqA2xewrjGuq",
        "colab_type": "code",
        "colab": {}
      },
      "source": [
        "from statsmodels.tsa.stattools import adfuller\n",
        "\n",
        "def adf_test(series, title = \"\"):\n",
        "  print(f'Augmented Dickey-fuller test : {title}')\n",
        "  result = adfuller(series.dropna(),autolag='AIC')\n",
        "\n",
        "  labels = ['ADF test statistic','p-value','# lags used','# Observations']\n",
        "  out = pd.Series(result[0:4], index = labels)\n",
        "\n",
        "  for key, val in result[4].items():\n",
        "    out[f'critical value ({key})'] = val\n",
        "\n",
        "  print(out.to_string())\n",
        "  if result[1] <=0.05:\n",
        "    print(\"Strong evidence against null hypothesis\")\n",
        "    print(\"Reject the null hypothesis\")\n",
        "    print(\"Data has no unit root and is stationary\")\n",
        "  else:\n",
        "    print(\"Weak evidence against the null hypothesis\")\n",
        "    print(\"Fail to reject the null hypothesis\")\n",
        "    print(\"Data has a unit root and is non-stationary\")\n"
      ],
      "execution_count": 0,
      "outputs": []
    },
    {
      "cell_type": "code",
      "metadata": {
        "id": "ssa9pc-jjIZ5",
        "colab_type": "code",
        "colab": {
          "base_uri": "https://localhost:8080/",
          "height": 202
        },
        "outputId": "f4b883bb-f730-4225-ddcb-8ba3fa1dffca"
      },
      "source": [
        "adf_test(df[\"Sales\"])"
      ],
      "execution_count": 135,
      "outputs": [
        {
          "output_type": "stream",
          "text": [
            "Augmented Dickey-fuller test : \n",
            "ADF test statistic        2.037405\n",
            "p-value                   0.998720\n",
            "# lags used              14.000000\n",
            "# Observations          310.000000\n",
            "critical value (1%)      -3.451622\n",
            "critical value (5%)      -2.870909\n",
            "critical value (10%)     -2.571762\n",
            "Weak evidence against the null hypothesis\n",
            "Fail to reject the null hypothesis\n",
            "Data has a unit root and is non-stationary\n"
          ],
          "name": "stdout"
        }
      ]
    },
    {
      "cell_type": "code",
      "metadata": {
        "id": "skGQeLCXo52k",
        "colab_type": "code",
        "colab": {
          "base_uri": "https://localhost:8080/",
          "height": 34
        },
        "outputId": "dfb9d5de-385d-4528-f8bd-e6b733f165f2"
      },
      "source": [
        "len(df)"
      ],
      "execution_count": 136,
      "outputs": [
        {
          "output_type": "execute_result",
          "data": {
            "text/plain": [
              "325"
            ]
          },
          "metadata": {
            "tags": []
          },
          "execution_count": 136
        }
      ]
    },
    {
      "cell_type": "code",
      "metadata": {
        "id": "zxSAa_nbpcmv",
        "colab_type": "code",
        "colab": {}
      },
      "source": [
        "train = df.iloc[:313]\n",
        "test = df.iloc[313:]"
      ],
      "execution_count": 0,
      "outputs": []
    },
    {
      "cell_type": "code",
      "metadata": {
        "id": "RUZ_EZd3qnOR",
        "colab_type": "code",
        "colab": {}
      },
      "source": [
        "scalar = MinMaxScaler()"
      ],
      "execution_count": 0,
      "outputs": []
    },
    {
      "cell_type": "code",
      "metadata": {
        "id": "eGn1zqvOrHie",
        "colab_type": "code",
        "colab": {
          "base_uri": "https://localhost:8080/",
          "height": 34
        },
        "outputId": "6c76438b-62ec-41bb-e836-6a73b9b0c4de"
      },
      "source": [
        "scalar.fit(train)"
      ],
      "execution_count": 139,
      "outputs": [
        {
          "output_type": "execute_result",
          "data": {
            "text/plain": [
              "MinMaxScaler(copy=True, feature_range=(0, 1))"
            ]
          },
          "metadata": {
            "tags": []
          },
          "execution_count": 139
        }
      ]
    },
    {
      "cell_type": "code",
      "metadata": {
        "id": "8_tUAD5Era5F",
        "colab_type": "code",
        "colab": {}
      },
      "source": [
        "scaled_train = scalar.transform(train)"
      ],
      "execution_count": 0,
      "outputs": []
    },
    {
      "cell_type": "code",
      "metadata": {
        "id": "9FZZgVahrxrn",
        "colab_type": "code",
        "colab": {}
      },
      "source": [
        "scaled_train = scalar.transform(train)\n",
        "scaled_test = scalar.transform(test)"
      ],
      "execution_count": 0,
      "outputs": []
    },
    {
      "cell_type": "code",
      "metadata": {
        "id": "DhW2uZR80TV2",
        "colab_type": "code",
        "colab": {}
      },
      "source": [
        "n_input = 12\n",
        "n_features = 1\n",
        "\n",
        "train_generator = TimeseriesGenerator(scaled_train,scaled_train, length=n_input, batch_size=2)"
      ],
      "execution_count": 0,
      "outputs": []
    },
    {
      "cell_type": "code",
      "metadata": {
        "id": "8HTsgBxqvJw4",
        "colab_type": "code",
        "colab": {}
      },
      "source": [
        "model = Sequential()\n",
        "model.add(LSTM(150, activation = \"relu\", input_shape = (n_input,n_features)))\n",
        "model.add(Dense(1))\n",
        "model.compile(optimizer = \"adam\",loss=\"mse\")"
      ],
      "execution_count": 0,
      "outputs": []
    },
    {
      "cell_type": "code",
      "metadata": {
        "id": "cfnyhET91B66",
        "colab_type": "code",
        "colab": {
          "base_uri": "https://localhost:8080/",
          "height": 218
        },
        "outputId": "8b1a7bb5-a50f-47e8-f38e-95ebad01c254"
      },
      "source": [
        "model.summary()"
      ],
      "execution_count": 148,
      "outputs": [
        {
          "output_type": "stream",
          "text": [
            "Model: \"sequential_6\"\n",
            "_________________________________________________________________\n",
            "Layer (type)                 Output Shape              Param #   \n",
            "=================================================================\n",
            "lstm_4 (LSTM)                (None, 150)               91200     \n",
            "_________________________________________________________________\n",
            "dense_7 (Dense)              (None, 1)                 151       \n",
            "=================================================================\n",
            "Total params: 91,351\n",
            "Trainable params: 91,351\n",
            "Non-trainable params: 0\n",
            "_________________________________________________________________\n"
          ],
          "name": "stdout"
        }
      ]
    },
    {
      "cell_type": "code",
      "metadata": {
        "id": "0aOlEKu00SPq",
        "colab_type": "code",
        "colab": {
          "base_uri": "https://localhost:8080/",
          "height": 874
        },
        "outputId": "8219eb98-6fce-4daa-8a2c-e72fc522a659"
      },
      "source": [
        "model.fit_generator(train_generator, epochs=25)"
      ],
      "execution_count": 149,
      "outputs": [
        {
          "output_type": "stream",
          "text": [
            "Epoch 1/25\n",
            "151/151 [==============================] - 3s 22ms/step - loss: 0.0290\n",
            "Epoch 2/25\n",
            "151/151 [==============================] - 2s 16ms/step - loss: 0.0098\n",
            "Epoch 3/25\n",
            "151/151 [==============================] - 2s 16ms/step - loss: 0.0098\n",
            "Epoch 4/25\n",
            "151/151 [==============================] - 2s 15ms/step - loss: 0.0091\n",
            "Epoch 5/25\n",
            "151/151 [==============================] - 2s 16ms/step - loss: 0.0083\n",
            "Epoch 6/25\n",
            "151/151 [==============================] - 2s 16ms/step - loss: 0.0086\n",
            "Epoch 7/25\n",
            "151/151 [==============================] - 2s 16ms/step - loss: 0.0085\n",
            "Epoch 8/25\n",
            "151/151 [==============================] - 2s 16ms/step - loss: 0.0084\n",
            "Epoch 9/25\n",
            "151/151 [==============================] - 2s 16ms/step - loss: 0.0080\n",
            "Epoch 10/25\n",
            "151/151 [==============================] - 2s 16ms/step - loss: 0.0074\n",
            "Epoch 11/25\n",
            "151/151 [==============================] - 2s 16ms/step - loss: 0.0057\n",
            "Epoch 12/25\n",
            "151/151 [==============================] - 2s 16ms/step - loss: 0.0051\n",
            "Epoch 13/25\n",
            "151/151 [==============================] - 2s 16ms/step - loss: 0.0052\n",
            "Epoch 14/25\n",
            "151/151 [==============================] - 2s 16ms/step - loss: 0.0051\n",
            "Epoch 15/25\n",
            "151/151 [==============================] - 2s 16ms/step - loss: 0.0039\n",
            "Epoch 16/25\n",
            "151/151 [==============================] - 2s 16ms/step - loss: 0.0030\n",
            "Epoch 17/25\n",
            "151/151 [==============================] - 2s 16ms/step - loss: 0.0023\n",
            "Epoch 18/25\n",
            "151/151 [==============================] - 2s 16ms/step - loss: 0.0020\n",
            "Epoch 19/25\n",
            "151/151 [==============================] - 2s 16ms/step - loss: 0.0018\n",
            "Epoch 20/25\n",
            "151/151 [==============================] - 2s 16ms/step - loss: 0.0021\n",
            "Epoch 21/25\n",
            "151/151 [==============================] - 2s 16ms/step - loss: 0.0019\n",
            "Epoch 22/25\n",
            "151/151 [==============================] - 2s 16ms/step - loss: 0.0019\n",
            "Epoch 23/25\n",
            "151/151 [==============================] - 2s 16ms/step - loss: 0.0015\n",
            "Epoch 24/25\n",
            "151/151 [==============================] - 2s 16ms/step - loss: 0.0016\n",
            "Epoch 25/25\n",
            "151/151 [==============================] - 2s 16ms/step - loss: 0.0014\n"
          ],
          "name": "stdout"
        },
        {
          "output_type": "execute_result",
          "data": {
            "text/plain": [
              "<keras.callbacks.History at 0x7f33054d03c8>"
            ]
          },
          "metadata": {
            "tags": []
          },
          "execution_count": 149
        }
      ]
    },
    {
      "cell_type": "code",
      "metadata": {
        "id": "Zge2Z4TX2wpY",
        "colab_type": "code",
        "colab": {
          "base_uri": "https://localhost:8080/",
          "height": 34
        },
        "outputId": "2dfe6b4d-92ce-4ada-e2db-e4d7920b7d8b"
      },
      "source": [
        "model.history.history.keys()"
      ],
      "execution_count": 150,
      "outputs": [
        {
          "output_type": "execute_result",
          "data": {
            "text/plain": [
              "dict_keys(['loss'])"
            ]
          },
          "metadata": {
            "tags": []
          },
          "execution_count": 150
        }
      ]
    },
    {
      "cell_type": "code",
      "metadata": {
        "id": "CSULh-A3240k",
        "colab_type": "code",
        "colab": {
          "base_uri": "https://localhost:8080/",
          "height": 284
        },
        "outputId": "ed755bf9-adf1-4905-d8be-ea6e3dc1bfe7"
      },
      "source": [
        "myloss=model.history.history[\"loss\"]\n",
        "plt.plot(range(len(model.history.history[\"loss\"])),model.history.history[\"loss\"])"
      ],
      "execution_count": 151,
      "outputs": [
        {
          "output_type": "execute_result",
          "data": {
            "text/plain": [
              "[<matplotlib.lines.Line2D at 0x7f3303e00940>]"
            ]
          },
          "metadata": {
            "tags": []
          },
          "execution_count": 151
        },
        {
          "output_type": "display_data",
          "data": {
            "image/png": "[encoded data removed]",
            "text/plain": [
              "<Figure size 432x288 with 1 Axes>"
            ]
          },
          "metadata": {
            "tags": []
          }
        }
      ]
    },
    {
      "cell_type": "code",
      "metadata": {
        "id": "XxWF8DlA3ZDg",
        "colab_type": "code",
        "colab": {
          "base_uri": "https://localhost:8080/",
          "height": 218
        },
        "outputId": "16e4cd71-8adb-45c3-fd9e-454395da503a"
      },
      "source": [
        "first_eval_batch = scaled_train[-12:]\n",
        "first_eval_batch"
      ],
      "execution_count": 152,
      "outputs": [
        {
          "output_type": "execute_result",
          "data": {
            "text/plain": [
              "array([[0.63432772],\n",
              "       [0.80776135],\n",
              "       [0.72313873],\n",
              "       [0.89870929],\n",
              "       [1.        ],\n",
              "       [0.71672793],\n",
              "       [0.88648602],\n",
              "       [0.75869732],\n",
              "       [0.82742115],\n",
              "       [0.87443371],\n",
              "       [0.96025301],\n",
              "       [0.5584238 ]])"
            ]
          },
          "metadata": {
            "tags": []
          },
          "execution_count": 152
        }
      ]
    },
    {
      "cell_type": "code",
      "metadata": {
        "id": "O01puD-J33yt",
        "colab_type": "code",
        "colab": {}
      },
      "source": [
        "first_eval_batch = first_eval_batch.reshape((1,n_input,n_features))"
      ],
      "execution_count": 0,
      "outputs": []
    },
    {
      "cell_type": "code",
      "metadata": {
        "id": "phWSPPG8JsJ_",
        "colab_type": "code",
        "colab": {
          "base_uri": "https://localhost:8080/",
          "height": 34
        },
        "outputId": "896a2bb9-800b-4ea7-e8fc-92d94c8ca66a"
      },
      "source": [
        "model.predict(first_eval_batch)"
      ],
      "execution_count": 154,
      "outputs": [
        {
          "output_type": "execute_result",
          "data": {
            "text/plain": [
              "array([[0.74606407]], dtype=float32)"
            ]
          },
          "metadata": {
            "tags": []
          },
          "execution_count": 154
        }
      ]
    },
    {
      "cell_type": "markdown",
      "metadata": {
        "id": "vAEhf2_jKFi5",
        "colab_type": "text"
      },
      "source": [
        "Forecasting Using RNN"
      ]
    },
    {
      "cell_type": "code",
      "metadata": {
        "id": "Bu4-QnNXKDkh",
        "colab_type": "code",
        "colab": {}
      },
      "source": [
        "test_predictions = []\n",
        "first_eval_batch=scaled_train[-n_input:]\n",
        "current_batch = first_eval_batch.reshape((1,n_input,n_features))\n",
        "\n",
        "for i in range(len(test)):\n",
        "  current_pred = model.predict(current_batch)[0]\n",
        "  test_predictions.append(current_pred)\n",
        "  current_batch=np.append(current_batch[:,1:,:],[[current_pred]],axis=1)"
      ],
      "execution_count": 0,
      "outputs": []
    },
    {
      "cell_type": "code",
      "metadata": {
        "id": "ziWMx0JMM0AR",
        "colab_type": "code",
        "colab": {
          "base_uri": "https://localhost:8080/",
          "height": 218
        },
        "outputId": "88ddc624-972c-43f7-c01b-3267562a95f3"
      },
      "source": [
        "test_predictions"
      ],
      "execution_count": 156,
      "outputs": [
        {
          "output_type": "execute_result",
          "data": {
            "text/plain": [
              "[array([0.74606407], dtype=float32),\n",
              " array([0.9040689], dtype=float32),\n",
              " array([0.8626507], dtype=float32),\n",
              " array([1.0376707], dtype=float32),\n",
              " array([1.1307392], dtype=float32),\n",
              " array([0.8692077], dtype=float32),\n",
              " array([1.0102794], dtype=float32),\n",
              " array([0.8784999], dtype=float32),\n",
              " array([0.9479362], dtype=float32),\n",
              " array([1.0013396], dtype=float32),\n",
              " array([1.0773318], dtype=float32),\n",
              " array([0.69602686], dtype=float32)]"
            ]
          },
          "metadata": {
            "tags": []
          },
          "execution_count": 156
        }
      ]
    },
    {
      "cell_type": "code",
      "metadata": {
        "id": "6cVO9aIFM2SD",
        "colab_type": "code",
        "colab": {}
      },
      "source": [
        "true_predictions = scalar.inverse_transform(test_predictions)"
      ],
      "execution_count": 0,
      "outputs": []
    },
    {
      "cell_type": "code",
      "metadata": {
        "id": "44vFCIU4NAWx",
        "colab_type": "code",
        "colab": {
          "base_uri": "https://localhost:8080/",
          "height": 118
        },
        "outputId": "c7ca3390-b003-43e9-eecb-3a3f3e9050b6"
      },
      "source": [
        "test[\"Predictions\"] = true_predictions"
      ],
      "execution_count": 158,
      "outputs": [
        {
          "output_type": "stream",
          "text": [
            "/usr/local/lib/python3.6/dist-packages/ipykernel_launcher.py:1: SettingWithCopyWarning: \n",
            "A value is trying to be set on a copy of a slice from a DataFrame.\n",
            "Try using .loc[row_indexer,col_indexer] = value instead\n",
            "\n",
            "See the caveats in the documentation: http://pandas.pydata.org/pandas-docs/stable/user_guide/indexing.html#returning-a-view-versus-a-copy\n",
            "  \"\"\"Entry point for launching an IPython kernel.\n"
          ],
          "name": "stderr"
        }
      ]
    },
    {
      "cell_type": "code",
      "metadata": {
        "id": "ZfW7PC7GNHse",
        "colab_type": "code",
        "colab": {
          "base_uri": "https://localhost:8080/",
          "height": 525
        },
        "outputId": "84100756-2a6c-41a2-a728-fc4272b5c277"
      },
      "source": [
        "test.plot(figsize = (12,8))"
      ],
      "execution_count": 159,
      "outputs": [
        {
          "output_type": "execute_result",
          "data": {
            "text/plain": [
              "<matplotlib.axes._subplots.AxesSubplot at 0x7f3303e34080>"
            ]
          },
          "metadata": {
            "tags": []
          },
          "execution_count": 159
        },
        {
          "output_type": "display_data",
          "data": {
            "image/png": "[encoded data removed]",
            "text/plain": [
              "<Figure size 864x576 with 1 Axes>"
            ]
          },
          "metadata": {
            "tags": []
          }
        }
      ]
    },
    {
      "cell_type": "code",
      "metadata": {
        "id": "CakqdZJDQShn",
        "colab_type": "code",
        "colab": {
          "base_uri": "https://localhost:8080/",
          "height": 34
        },
        "outputId": "e2a91430-6b03-4ccf-9855-a611d0410e93"
      },
      "source": [
        "test.columns"
      ],
      "execution_count": 160,
      "outputs": [
        {
          "output_type": "execute_result",
          "data": {
            "text/plain": [
              "Index(['Sales', 'Predictions'], dtype='object')"
            ]
          },
          "metadata": {
            "tags": []
          },
          "execution_count": 160
        }
      ]
    },
    {
      "cell_type": "code",
      "metadata": {
        "id": "-jcbp2-SQjio",
        "colab_type": "code",
        "colab": {
          "base_uri": "https://localhost:8080/",
          "height": 34
        },
        "outputId": "ceadd799-54e9-44be-c0e9-2f7bfde05ce1"
      },
      "source": [
        "rmse(test[\"Sales\"],test[\"Predictions\"])"
      ],
      "execution_count": 161,
      "outputs": [
        {
          "output_type": "execute_result",
          "data": {
            "text/plain": [
              "916.5967271857353"
            ]
          },
          "metadata": {
            "tags": []
          },
          "execution_count": 161
        }
      ]
    },
    {
      "cell_type": "code",
      "metadata": {
        "id": "60Z6mTP5QrQC",
        "colab_type": "code",
        "colab": {
          "base_uri": "https://localhost:8080/",
          "height": 34
        },
        "outputId": "05a5afac-5357-4dab-a6bd-c5ddb32624e2"
      },
      "source": [
        "test[\"Sales\"].mean()"
      ],
      "execution_count": 162,
      "outputs": [
        {
          "output_type": "execute_result",
          "data": {
            "text/plain": [
              "13111.75"
            ]
          },
          "metadata": {
            "tags": []
          },
          "execution_count": 162
        }
      ]
    }
  ]
}
