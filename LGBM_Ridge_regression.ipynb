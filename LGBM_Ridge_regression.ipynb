{
  "nbformat": 4,
  "nbformat_minor": 0,
  "metadata": {
    "colab": {
      "name": "LGBM_Ridge_regression.ipynb",
      "version": "0.3.2",
      "provenance": [],
      "collapsed_sections": []
    },
    "kernelspec": {
      "name": "python3",
      "display_name": "Python 3"
    }
  },
  "cells": [
    {
      "cell_type": "code",
      "metadata": {
        "id": "hQ8eAvgwlSf-",
        "colab_type": "code",
        "colab": {
          "base_uri": "https://localhost:8080/",
          "height": 50
        },
        "outputId": "79655149-bf7f-4954-ca00-cd364c399723"
      },
      "source": [
        "!pip install -U -q PyDrive\n",
        "from pydrive.auth import GoogleAuth\n",
        "from pydrive.drive import GoogleDrive\n",
        "from google.colab import auth\n",
        "from oauth2client.client import GoogleCredentials\n",
        "auth.authenticate_user()\n",
        "gauth = GoogleAuth()\n",
        "gauth.credentials = GoogleCredentials.get_application_default()\n",
        "drive = GoogleDrive(gauth)"
      ],
      "execution_count": 1,
      "outputs": [
        {
          "output_type": "stream",
          "text": [
            "\u001b[?25l\r\u001b[K     |▎                               | 10kB 16.1MB/s eta 0:00:01\r\u001b[K     |▋                               | 20kB 1.8MB/s eta 0:00:01\r\u001b[K     |█                               | 30kB 2.7MB/s eta 0:00:01\r\u001b[K     |█▎                              | 40kB 1.7MB/s eta 0:00:01\r\u001b[K     |█▋                              | 51kB 2.1MB/s eta 0:00:01\r\u001b[K     |██                              | 61kB 2.5MB/s eta 0:00:01\r\u001b[K     |██▎                             | 71kB 2.9MB/s eta 0:00:01\r\u001b[K     |██▋                             | 81kB 3.3MB/s eta 0:00:01\r\u001b[K     |███                             | 92kB 3.7MB/s eta 0:00:01\r\u001b[K     |███▎                            | 102kB 2.8MB/s eta 0:00:01\r\u001b[K     |███▋                            | 112kB 2.8MB/s eta 0:00:01\r\u001b[K     |████                            | 122kB 2.8MB/s eta 0:00:01\r\u001b[K     |████▎                           | 133kB 2.8MB/s eta 0:00:01\r\u001b[K     |████▋                           | 143kB 2.8MB/s eta 0:00:01\r\u001b[K     |█████                           | 153kB 2.8MB/s eta 0:00:01\r\u001b[K     |█████▎                          | 163kB 2.8MB/s eta 0:00:01\r\u001b[K     |█████▋                          | 174kB 2.8MB/s eta 0:00:01\r\u001b[K     |██████                          | 184kB 2.8MB/s eta 0:00:01\r\u001b[K     |██████▎                         | 194kB 2.8MB/s eta 0:00:01\r\u001b[K     |██████▋                         | 204kB 2.8MB/s eta 0:00:01\r\u001b[K     |███████                         | 215kB 2.8MB/s eta 0:00:01\r\u001b[K     |███████▎                        | 225kB 2.8MB/s eta 0:00:01\r\u001b[K     |███████▋                        | 235kB 2.8MB/s eta 0:00:01\r\u001b[K     |████████                        | 245kB 2.8MB/s eta 0:00:01\r\u001b[K     |████████▎                       | 256kB 2.8MB/s eta 0:00:01\r\u001b[K     |████████▋                       | 266kB 2.8MB/s eta 0:00:01\r\u001b[K     |█████████                       | 276kB 2.8MB/s eta 0:00:01\r\u001b[K     |█████████▎                      | 286kB 2.8MB/s eta 0:00:01\r\u001b[K     |█████████▋                      | 296kB 2.8MB/s eta 0:00:01\r\u001b[K     |██████████                      | 307kB 2.8MB/s eta 0:00:01\r\u001b[K     |██████████▎                     | 317kB 2.8MB/s eta 0:00:01\r\u001b[K     |██████████▋                     | 327kB 2.8MB/s eta 0:00:01\r\u001b[K     |███████████                     | 337kB 2.8MB/s eta 0:00:01\r\u001b[K     |███████████▎                    | 348kB 2.8MB/s eta 0:00:01\r\u001b[K     |███████████▋                    | 358kB 2.8MB/s eta 0:00:01\r\u001b[K     |████████████                    | 368kB 2.8MB/s eta 0:00:01\r\u001b[K     |████████████▎                   | 378kB 2.8MB/s eta 0:00:01\r\u001b[K     |████████████▋                   | 389kB 2.8MB/s eta 0:00:01\r\u001b[K     |█████████████                   | 399kB 2.8MB/s eta 0:00:01\r\u001b[K     |█████████████▎                  | 409kB 2.8MB/s eta 0:00:01\r\u001b[K     |█████████████▋                  | 419kB 2.8MB/s eta 0:00:01\r\u001b[K     |██████████████                  | 430kB 2.8MB/s eta 0:00:01\r\u001b[K     |██████████████▎                 | 440kB 2.8MB/s eta 0:00:01\r\u001b[K     |██████████████▋                 | 450kB 2.8MB/s eta 0:00:01\r\u001b[K     |███████████████                 | 460kB 2.8MB/s eta 0:00:01\r\u001b[K     |███████████████▎                | 471kB 2.8MB/s eta 0:00:01\r\u001b[K     |███████████████▋                | 481kB 2.8MB/s eta 0:00:01\r\u001b[K     |████████████████                | 491kB 2.8MB/s eta 0:00:01\r\u001b[K     |████████████████▎               | 501kB 2.8MB/s eta 0:00:01\r\u001b[K     |████████████████▋               | 512kB 2.8MB/s eta 0:00:01\r\u001b[K     |█████████████████               | 522kB 2.8MB/s eta 0:00:01\r\u001b[K     |█████████████████▎              | 532kB 2.8MB/s eta 0:00:01\r\u001b[K     |█████████████████▋              | 542kB 2.8MB/s eta 0:00:01\r\u001b[K     |██████████████████              | 552kB 2.8MB/s eta 0:00:01\r\u001b[K     |██████████████████▎             | 563kB 2.8MB/s eta 0:00:01\r\u001b[K     |██████████████████▋             | 573kB 2.8MB/s eta 0:00:01\r\u001b[K     |███████████████████             | 583kB 2.8MB/s eta 0:00:01\r\u001b[K     |███████████████████▎            | 593kB 2.8MB/s eta 0:00:01\r\u001b[K     |███████████████████▋            | 604kB 2.8MB/s eta 0:00:01\r\u001b[K     |████████████████████            | 614kB 2.8MB/s eta 0:00:01\r\u001b[K     |████████████████████▎           | 624kB 2.8MB/s eta 0:00:01\r\u001b[K     |████████████████████▋           | 634kB 2.8MB/s eta 0:00:01\r\u001b[K     |█████████████████████           | 645kB 2.8MB/s eta 0:00:01\r\u001b[K     |█████████████████████▎          | 655kB 2.8MB/s eta 0:00:01\r\u001b[K     |█████████████████████▋          | 665kB 2.8MB/s eta 0:00:01\r\u001b[K     |██████████████████████          | 675kB 2.8MB/s eta 0:00:01\r\u001b[K     |██████████████████████▎         | 686kB 2.8MB/s eta 0:00:01\r\u001b[K     |██████████████████████▋         | 696kB 2.8MB/s eta 0:00:01\r\u001b[K     |███████████████████████         | 706kB 2.8MB/s eta 0:00:01\r\u001b[K     |███████████████████████▎        | 716kB 2.8MB/s eta 0:00:01\r\u001b[K     |███████████████████████▋        | 727kB 2.8MB/s eta 0:00:01\r\u001b[K     |████████████████████████        | 737kB 2.8MB/s eta 0:00:01\r\u001b[K     |████████████████████████▎       | 747kB 2.8MB/s eta 0:00:01\r\u001b[K     |████████████████████████▋       | 757kB 2.8MB/s eta 0:00:01\r\u001b[K     |████████████████████████▉       | 768kB 2.8MB/s eta 0:00:01\r\u001b[K     |█████████████████████████▏      | 778kB 2.8MB/s eta 0:00:01\r\u001b[K     |█████████████████████████▌      | 788kB 2.8MB/s eta 0:00:01\r\u001b[K     |█████████████████████████▉      | 798kB 2.8MB/s eta 0:00:01\r\u001b[K     |██████████████████████████▏     | 808kB 2.8MB/s eta 0:00:01\r\u001b[K     |██████████████████████████▌     | 819kB 2.8MB/s eta 0:00:01\r\u001b[K     |██████████████████████████▉     | 829kB 2.8MB/s eta 0:00:01\r\u001b[K     |███████████████████████████▏    | 839kB 2.8MB/s eta 0:00:01\r\u001b[K     |███████████████████████████▌    | 849kB 2.8MB/s eta 0:00:01\r\u001b[K     |███████████████████████████▉    | 860kB 2.8MB/s eta 0:00:01\r\u001b[K     |████████████████████████████▏   | 870kB 2.8MB/s eta 0:00:01\r\u001b[K     |████████████████████████████▌   | 880kB 2.8MB/s eta 0:00:01\r\u001b[K     |████████████████████████████▉   | 890kB 2.8MB/s eta 0:00:01\r\u001b[K     |█████████████████████████████▏  | 901kB 2.8MB/s eta 0:00:01\r\u001b[K     |█████████████████████████████▌  | 911kB 2.8MB/s eta 0:00:01\r\u001b[K     |█████████████████████████████▉  | 921kB 2.8MB/s eta 0:00:01\r\u001b[K     |██████████████████████████████▏ | 931kB 2.8MB/s eta 0:00:01\r\u001b[K     |██████████████████████████████▌ | 942kB 2.8MB/s eta 0:00:01\r\u001b[K     |██████████████████████████████▉ | 952kB 2.8MB/s eta 0:00:01\r\u001b[K     |███████████████████████████████▏| 962kB 2.8MB/s eta 0:00:01\r\u001b[K     |███████████████████████████████▌| 972kB 2.8MB/s eta 0:00:01\r\u001b[K     |███████████████████████████████▉| 983kB 2.8MB/s eta 0:00:01\r\u001b[K     |████████████████████████████████| 993kB 2.8MB/s \n",
            "\u001b[?25h  Building wheel for PyDrive (setup.py) ... \u001b[?25l\u001b[?25hdone\n"
          ],
          "name": "stdout"
        }
      ]
    },
    {
      "cell_type": "code",
      "metadata": {
        "id": "wOf_MSn0la6M",
        "colab_type": "code",
        "colab": {}
      },
      "source": [
        "import pandas as pd\n",
        "from pandas import DataFrame\n",
        "import numpy as np\n",
        "import matplotlib.pyplot as plt\n",
        "%matplotlib inline\n",
        "import seaborn as sns\n",
        "import missingno as mn\n",
        "from sklearn import preprocessing "
      ],
      "execution_count": 0,
      "outputs": []
    },
    {
      "cell_type": "code",
      "metadata": {
        "id": "tD5uzAJYlea6",
        "colab_type": "code",
        "outputId": "132fc7a7-fc04-4be3-a430-f80221f6131a",
        "colab": {
          "base_uri": "https://localhost:8080/",
          "height": 219
        }
      },
      "source": [
        "train_d = drive.CreateFile({'id':'12UmjkxvaYAp4_7og19z1HqwAoUN-XhYp'})\n",
        "train_d.GetContentFile('train.tsv')\n",
        "\n",
        "train = DataFrame.from_csv(\"train.tsv\", sep=\"\\t\")\n",
        "train.head(3)\n",
        "#test_d = drive.CreateFile({'id':'1H1ErVzWJoLjM8Rwv2SPsGdCb8kgKjTIL'})\n",
        "#test_d.GetContentFile('test.tsv')\n",
        "\n",
        "#test = DataFrame.from_csv(\"test.tsv\", sep=\"\\t\")\n",
        "\n",
        "#test.head()\n",
        "\n",
        "\n"
      ],
      "execution_count": 3,
      "outputs": [
        {
          "output_type": "stream",
          "text": [
            "/usr/local/lib/python3.6/dist-packages/ipykernel_launcher.py:4: FutureWarning: from_csv is deprecated. Please use read_csv(...) instead. Note that some of the default arguments are different, so please refer to the documentation for from_csv when changing your function calls\n",
            "  after removing the cwd from sys.path.\n"
          ],
          "name": "stderr"
        },
        {
          "output_type": "execute_result",
          "data": {
            "text/html": [
              "<div>\n",
              "<style scoped>\n",
              "    .dataframe tbody tr th:only-of-type {\n",
              "        vertical-align: middle;\n",
              "    }\n",
              "\n",
              "    .dataframe tbody tr th {\n",
              "        vertical-align: top;\n",
              "    }\n",
              "\n",
              "    .dataframe thead th {\n",
              "        text-align: right;\n",
              "    }\n",
              "</style>\n",
              "<table border=\"1\" class=\"dataframe\">\n",
              "  <thead>\n",
              "    <tr style=\"text-align: right;\">\n",
              "      <th></th>\n",
              "      <th>name</th>\n",
              "      <th>item_condition_id</th>\n",
              "      <th>category_name</th>\n",
              "      <th>brand_name</th>\n",
              "      <th>price</th>\n",
              "      <th>shipping</th>\n",
              "      <th>item_description</th>\n",
              "    </tr>\n",
              "    <tr>\n",
              "      <th>train_id</th>\n",
              "      <th></th>\n",
              "      <th></th>\n",
              "      <th></th>\n",
              "      <th></th>\n",
              "      <th></th>\n",
              "      <th></th>\n",
              "      <th></th>\n",
              "    </tr>\n",
              "  </thead>\n",
              "  <tbody>\n",
              "    <tr>\n",
              "      <th>0</th>\n",
              "      <td>MLB Cincinnati Reds T Shirt Size XL</td>\n",
              "      <td>3</td>\n",
              "      <td>Men/Tops/T-shirts</td>\n",
              "      <td>NaN</td>\n",
              "      <td>10.0</td>\n",
              "      <td>1</td>\n",
              "      <td>No description yet</td>\n",
              "    </tr>\n",
              "    <tr>\n",
              "      <th>1</th>\n",
              "      <td>Razer BlackWidow Chroma Keyboard</td>\n",
              "      <td>3</td>\n",
              "      <td>Electronics/Computers &amp; Tablets/Components &amp; P...</td>\n",
              "      <td>Razer</td>\n",
              "      <td>52.0</td>\n",
              "      <td>0</td>\n",
              "      <td>This keyboard is in great condition and works ...</td>\n",
              "    </tr>\n",
              "    <tr>\n",
              "      <th>2</th>\n",
              "      <td>AVA-VIV Blouse</td>\n",
              "      <td>1</td>\n",
              "      <td>Women/Tops &amp; Blouses/Blouse</td>\n",
              "      <td>Target</td>\n",
              "      <td>10.0</td>\n",
              "      <td>1</td>\n",
              "      <td>Adorable top with a hint of lace and a key hol...</td>\n",
              "    </tr>\n",
              "  </tbody>\n",
              "</table>\n",
              "</div>"
            ],
            "text/plain": [
              "                                         name  ...                                   item_description\n",
              "train_id                                       ...                                                   \n",
              "0         MLB Cincinnati Reds T Shirt Size XL  ...                                 No description yet\n",
              "1            Razer BlackWidow Chroma Keyboard  ...  This keyboard is in great condition and works ...\n",
              "2                              AVA-VIV Blouse  ...  Adorable top with a hint of lace and a key hol...\n",
              "\n",
              "[3 rows x 7 columns]"
            ]
          },
          "metadata": {
            "tags": []
          },
          "execution_count": 3
        }
      ]
    },
    {
      "cell_type": "code",
      "metadata": {
        "id": "yHpsACbQoyKd",
        "colab_type": "code",
        "outputId": "91db15e6-2cd4-4cf3-f8ec-ce5858406d83",
        "colab": {
          "base_uri": "https://localhost:8080/",
          "height": 34
        }
      },
      "source": [
        "train.shape\n"
      ],
      "execution_count": 4,
      "outputs": [
        {
          "output_type": "execute_result",
          "data": {
            "text/plain": [
              "(1482535, 7)"
            ]
          },
          "metadata": {
            "tags": []
          },
          "execution_count": 4
        }
      ]
    },
    {
      "cell_type": "code",
      "metadata": {
        "id": "OFcb_A75loAp",
        "colab_type": "code",
        "colab": {}
      },
      "source": [
        "train_feature1 = train[train[\"price\"] > 2.0] \n",
        "train_feature = train_feature1[train_feature1.price <= 2000]"
      ],
      "execution_count": 0,
      "outputs": []
    },
    {
      "cell_type": "code",
      "metadata": {
        "id": "DS8_RYg4ltEG",
        "colab_type": "code",
        "colab": {}
      },
      "source": [
        "import pandas as pd\n",
        "import numpy as np\n",
        "import matplotlib.pyplot as plt\n",
        "import seaborn as sns\n",
        "import gc"
      ],
      "execution_count": 0,
      "outputs": []
    },
    {
      "cell_type": "code",
      "metadata": {
        "id": "ai-_-7dMlwW4",
        "colab_type": "code",
        "colab": {}
      },
      "source": [
        "from string import punctuation\n",
        "from scipy.sparse import vstack, hstack, csr_matrix\n",
        "from sklearn.feature_extraction.text import CountVectorizer, TfidfVectorizer\n",
        "from sklearn.feature_extraction.text import CountVectorizer, TfidfVectorizer\n",
        "from sklearn.preprocessing import LabelBinarizer\n",
        "from sklearn.linear_model import Ridge"
      ],
      "execution_count": 0,
      "outputs": []
    },
    {
      "cell_type": "code",
      "metadata": {
        "id": "SC9m5016utKg",
        "colab_type": "code",
        "outputId": "7e2d4144-36b3-4484-d8d7-9d646e3752e8",
        "colab": {
          "base_uri": "https://localhost:8080/",
          "height": 168
        }
      },
      "source": [
        "y = np.log1p(train['price'])\n",
        "y.describe()"
      ],
      "execution_count": 8,
      "outputs": [
        {
          "output_type": "execute_result",
          "data": {
            "text/plain": [
              "count    1.482535e+06\n",
              "mean     2.979059e+00\n",
              "std      7.492094e-01\n",
              "min      0.000000e+00\n",
              "25%      2.397895e+00\n",
              "50%      2.890372e+00\n",
              "75%      3.401197e+00\n",
              "max      7.605890e+00\n",
              "Name: price, dtype: float64"
            ]
          },
          "metadata": {
            "tags": []
          },
          "execution_count": 8
        }
      ]
    },
    {
      "cell_type": "code",
      "metadata": {
        "id": "p7B-UqdLmK6C",
        "colab_type": "code",
        "colab": {}
      },
      "source": [
        "combined = train"
      ],
      "execution_count": 0,
      "outputs": []
    },
    {
      "cell_type": "markdown",
      "metadata": {
        "id": "7Z49alqzmNmb",
        "colab_type": "text"
      },
      "source": [
        "**Punctuation**"
      ]
    },
    {
      "cell_type": "code",
      "metadata": {
        "id": "uKIq7aqOmQLf",
        "colab_type": "code",
        "outputId": "fbc657a9-5f6b-4b93-ddbb-1dbcc90f9c17",
        "colab": {
          "base_uri": "https://localhost:8080/",
          "height": 34
        }
      },
      "source": [
        "punctuation"
      ],
      "execution_count": 10,
      "outputs": [
        {
          "output_type": "execute_result",
          "data": {
            "text/plain": [
              "'!\"#$%&\\'()*+,-./:;<=>?@[\\\\]^_`{|}~'"
            ]
          },
          "metadata": {
            "tags": []
          },
          "execution_count": 10
        }
      ]
    },
    {
      "cell_type": "code",
      "metadata": {
        "id": "Jscwqi-RmUrJ",
        "colab_type": "code",
        "outputId": "52d0974f-aa55-4cd1-fd39-1c1dffe67cc9",
        "colab": {
          "base_uri": "https://localhost:8080/",
          "height": 554
        }
      },
      "source": [
        "punctuation_symbols = []\n",
        "for symbol in punctuation:\n",
        "    punctuation_symbols.append((symbol, ''))\n",
        "    \n",
        "punctuation_symbols"
      ],
      "execution_count": 11,
      "outputs": [
        {
          "output_type": "execute_result",
          "data": {
            "text/plain": [
              "[('!', ''),\n",
              " ('\"', ''),\n",
              " ('#', ''),\n",
              " ('$', ''),\n",
              " ('%', ''),\n",
              " ('&', ''),\n",
              " (\"'\", ''),\n",
              " ('(', ''),\n",
              " (')', ''),\n",
              " ('*', ''),\n",
              " ('+', ''),\n",
              " (',', ''),\n",
              " ('-', ''),\n",
              " ('.', ''),\n",
              " ('/', ''),\n",
              " (':', ''),\n",
              " (';', ''),\n",
              " ('<', ''),\n",
              " ('=', ''),\n",
              " ('>', ''),\n",
              " ('?', ''),\n",
              " ('@', ''),\n",
              " ('[', ''),\n",
              " ('\\\\', ''),\n",
              " (']', ''),\n",
              " ('^', ''),\n",
              " ('_', ''),\n",
              " ('`', ''),\n",
              " ('{', ''),\n",
              " ('|', ''),\n",
              " ('}', ''),\n",
              " ('~', '')]"
            ]
          },
          "metadata": {
            "tags": []
          },
          "execution_count": 11
        }
      ]
    },
    {
      "cell_type": "code",
      "metadata": {
        "id": "N5o2AOHomZsj",
        "colab_type": "code",
        "colab": {}
      },
      "source": [
        "import string\n",
        "def remove_punctuation(sentence: str) -> str:\n",
        "    return sentence.translate(str.maketrans('', '', string.punctuation))"
      ],
      "execution_count": 0,
      "outputs": []
    },
    {
      "cell_type": "code",
      "metadata": {
        "id": "pQuLrp8lmdTD",
        "colab_type": "code",
        "colab": {}
      },
      "source": [
        "def remove_digits(x):\n",
        "    x = ''.join([i for i in x if not i.isdigit()])\n",
        "    return x"
      ],
      "execution_count": 0,
      "outputs": []
    },
    {
      "cell_type": "code",
      "metadata": {
        "id": "s6P6r7ShmjQM",
        "colab_type": "code",
        "outputId": "237f8d95-3893-443d-b841-c5f63c1fe36d",
        "colab": {
          "base_uri": "https://localhost:8080/",
          "height": 50
        }
      },
      "source": [
        "from nltk.corpus import stopwords\n",
        "import nltk\n",
        "nltk.download(\"stopwords\")\n",
        "\n",
        "stop = stopwords.words('english')\n",
        "\n",
        "def remove_stop_words(x):\n",
        "    x = ' '.join([i for i in x.lower().split(' ') if i not in stop])\n",
        "    return x"
      ],
      "execution_count": 14,
      "outputs": [
        {
          "output_type": "stream",
          "text": [
            "[nltk_data] Downloading package stopwords to /root/nltk_data...\n",
            "[nltk_data]   Unzipping corpora/stopwords.zip.\n"
          ],
          "name": "stdout"
        }
      ]
    },
    {
      "cell_type": "code",
      "metadata": {
        "id": "VWW8JT9Omolt",
        "colab_type": "code",
        "colab": {}
      },
      "source": [
        "def to_lower(x):\n",
        "    return x.lower()"
      ],
      "execution_count": 0,
      "outputs": []
    },
    {
      "cell_type": "markdown",
      "metadata": {
        "id": "A33vT5LrmrSG",
        "colab_type": "text"
      },
      "source": [
        "**Explore**"
      ]
    },
    {
      "cell_type": "code",
      "metadata": {
        "id": "ZuxXJazomt8c",
        "colab_type": "code",
        "outputId": "5ea57617-97e9-4a0b-88ac-e465c1d1f1a4",
        "colab": {
          "base_uri": "https://localhost:8080/",
          "height": 151
        }
      },
      "source": [
        "train.count()"
      ],
      "execution_count": 16,
      "outputs": [
        {
          "output_type": "execute_result",
          "data": {
            "text/plain": [
              "name                 1482535\n",
              "item_condition_id    1482535\n",
              "category_name        1476208\n",
              "brand_name            849853\n",
              "price                1482535\n",
              "shipping             1482535\n",
              "item_description     1482531\n",
              "dtype: int64"
            ]
          },
          "metadata": {
            "tags": []
          },
          "execution_count": 16
        }
      ]
    },
    {
      "cell_type": "code",
      "metadata": {
        "id": "E98os3JNmz2n",
        "colab_type": "code",
        "outputId": "7928d773-b05b-4ff8-be6b-4744015ff6d7",
        "colab": {
          "base_uri": "https://localhost:8080/",
          "height": 151
        }
      },
      "source": [
        "train.dtypes"
      ],
      "execution_count": 17,
      "outputs": [
        {
          "output_type": "execute_result",
          "data": {
            "text/plain": [
              "name                  object\n",
              "item_condition_id      int64\n",
              "category_name         object\n",
              "brand_name            object\n",
              "price                float64\n",
              "shipping               int64\n",
              "item_description      object\n",
              "dtype: object"
            ]
          },
          "metadata": {
            "tags": []
          },
          "execution_count": 17
        }
      ]
    },
    {
      "cell_type": "code",
      "metadata": {
        "id": "aehsTIwAm3Ah",
        "colab_type": "code",
        "outputId": "bcab856e-3a58-436b-c079-6c4d24e7653d",
        "colab": {
          "base_uri": "https://localhost:8080/",
          "height": 168
        }
      },
      "source": [
        "train.price.describe()"
      ],
      "execution_count": 18,
      "outputs": [
        {
          "output_type": "execute_result",
          "data": {
            "text/plain": [
              "count    1.482535e+06\n",
              "mean     2.673752e+01\n",
              "std      3.858607e+01\n",
              "min      0.000000e+00\n",
              "25%      1.000000e+01\n",
              "50%      1.700000e+01\n",
              "75%      2.900000e+01\n",
              "max      2.009000e+03\n",
              "Name: price, dtype: float64"
            ]
          },
          "metadata": {
            "tags": []
          },
          "execution_count": 18
        }
      ]
    },
    {
      "cell_type": "code",
      "metadata": {
        "id": "qOD_W0L6m65C",
        "colab_type": "code",
        "outputId": "e6dc2945-b5da-4dc3-8ccc-7fed1b302d36",
        "colab": {
          "base_uri": "https://localhost:8080/",
          "height": 195
        }
      },
      "source": [
        "# Could we use these as features? Look at median price for each quantile\n",
        "bins = [0, 10, 17, 29, 2009]\n",
        "labels = ['q1','q2','q3','q4']\n",
        "train['price_bin'] = pd.cut(train['price'], bins=bins, labels=labels)\n",
        "train.groupby('price_bin')['price'].describe()"
      ],
      "execution_count": 19,
      "outputs": [
        {
          "output_type": "execute_result",
          "data": {
            "text/html": [
              "<div>\n",
              "<style scoped>\n",
              "    .dataframe tbody tr th:only-of-type {\n",
              "        vertical-align: middle;\n",
              "    }\n",
              "\n",
              "    .dataframe tbody tr th {\n",
              "        vertical-align: top;\n",
              "    }\n",
              "\n",
              "    .dataframe thead th {\n",
              "        text-align: right;\n",
              "    }\n",
              "</style>\n",
              "<table border=\"1\" class=\"dataframe\">\n",
              "  <thead>\n",
              "    <tr style=\"text-align: right;\">\n",
              "      <th></th>\n",
              "      <th>count</th>\n",
              "      <th>mean</th>\n",
              "      <th>std</th>\n",
              "      <th>min</th>\n",
              "      <th>25%</th>\n",
              "      <th>50%</th>\n",
              "      <th>75%</th>\n",
              "      <th>max</th>\n",
              "    </tr>\n",
              "    <tr>\n",
              "      <th>price_bin</th>\n",
              "      <th></th>\n",
              "      <th></th>\n",
              "      <th></th>\n",
              "      <th></th>\n",
              "      <th></th>\n",
              "      <th></th>\n",
              "      <th></th>\n",
              "      <th></th>\n",
              "    </tr>\n",
              "  </thead>\n",
              "  <tbody>\n",
              "    <tr>\n",
              "      <th>q1</th>\n",
              "      <td>375615.0</td>\n",
              "      <td>7.715192</td>\n",
              "      <td>2.077888</td>\n",
              "      <td>3.0</td>\n",
              "      <td>6.0</td>\n",
              "      <td>8.0</td>\n",
              "      <td>10.0</td>\n",
              "      <td>10.0</td>\n",
              "    </tr>\n",
              "    <tr>\n",
              "      <th>q2</th>\n",
              "      <td>378177.0</td>\n",
              "      <td>13.842940</td>\n",
              "      <td>1.794584</td>\n",
              "      <td>10.5</td>\n",
              "      <td>12.0</td>\n",
              "      <td>14.0</td>\n",
              "      <td>15.0</td>\n",
              "      <td>17.0</td>\n",
              "    </tr>\n",
              "    <tr>\n",
              "      <th>q3</th>\n",
              "      <td>359743.0</td>\n",
              "      <td>22.555694</td>\n",
              "      <td>3.337832</td>\n",
              "      <td>17.5</td>\n",
              "      <td>20.0</td>\n",
              "      <td>22.0</td>\n",
              "      <td>25.0</td>\n",
              "      <td>29.0</td>\n",
              "    </tr>\n",
              "    <tr>\n",
              "      <th>q4</th>\n",
              "      <td>368126.0</td>\n",
              "      <td>63.543534</td>\n",
              "      <td>63.749703</td>\n",
              "      <td>29.5</td>\n",
              "      <td>35.0</td>\n",
              "      <td>45.0</td>\n",
              "      <td>66.0</td>\n",
              "      <td>2009.0</td>\n",
              "    </tr>\n",
              "  </tbody>\n",
              "</table>\n",
              "</div>"
            ],
            "text/plain": [
              "              count       mean        std   min   25%   50%   75%     max\n",
              "price_bin                                                                \n",
              "q1         375615.0   7.715192   2.077888   3.0   6.0   8.0  10.0    10.0\n",
              "q2         378177.0  13.842940   1.794584  10.5  12.0  14.0  15.0    17.0\n",
              "q3         359743.0  22.555694   3.337832  17.5  20.0  22.0  25.0    29.0\n",
              "q4         368126.0  63.543534  63.749703  29.5  35.0  45.0  66.0  2009.0"
            ]
          },
          "metadata": {
            "tags": []
          },
          "execution_count": 19
        }
      ]
    },
    {
      "cell_type": "code",
      "metadata": {
        "id": "dsAYy3gLnAQM",
        "colab_type": "code",
        "outputId": "bf263f99-535c-4b2b-b6f7-c81358d36f38",
        "colab": {
          "base_uri": "https://localhost:8080/",
          "height": 470
        }
      },
      "source": [
        "plt.figure(figsize=(12, 7))\n",
        "plt.hist(train['price'], bins=50, range=[0,250], label='price')\n",
        "plt.title('Price Distribution', fontsize=15)\n",
        "plt.xlabel('Price', fontsize=15)\n",
        "plt.ylabel('Samples', fontsize=15)\n",
        "plt.xticks(fontsize=15)\n",
        "plt.yticks(fontsize=15)\n",
        "plt.legend(fontsize=15)\n",
        "plt.show()"
      ],
      "execution_count": 0,
      "outputs": [
        {
          "output_type": "display_data",
          "data": {
            "image/png": "[encoded data removed]",
            "text/plain": [
              "<Figure size 864x504 with 1 Axes>"
            ]
          },
          "metadata": {
            "tags": []
          }
        }
      ]
    },
    {
      "cell_type": "code",
      "metadata": {
        "id": "u06agJdznDnQ",
        "colab_type": "code",
        "outputId": "4d443bea-1991-4c56-c823-3fe3c0f514a1",
        "colab": {
          "base_uri": "https://localhost:8080/",
          "height": 516
        }
      },
      "source": [
        "shipping = train[train['shipping']==1]['price']\n",
        "no_shipping = train[train['shipping']==0]['price']\n",
        "\n",
        "plt.figure(figsize=(12,7))\n",
        "plt.hist(shipping, bins=50, normed=True, range=[0,250], alpha=0.7, label='Price With Shipping')\n",
        "plt.hist(no_shipping, bins=50, normed=True, range=[0,250], alpha=0.7, label='Price With No Shipping')\n",
        "plt.title('Price Distrubtion With/Without Shipping', fontsize=15)\n",
        "plt.xlabel('Price')\n",
        "plt.ylabel('Normalized Samples')\n",
        "plt.xticks(fontsize=15)\n",
        "plt.yticks(fontsize=15)\n",
        "plt.legend(fontsize=15)\n",
        "plt.show()"
      ],
      "execution_count": 0,
      "outputs": [
        {
          "output_type": "stream",
          "text": [
            "/usr/local/lib/python3.6/dist-packages/matplotlib/axes/_axes.py:6521: MatplotlibDeprecationWarning: \n",
            "The 'normed' kwarg was deprecated in Matplotlib 2.1 and will be removed in 3.1. Use 'density' instead.\n",
            "  alternative=\"'density'\", removal=\"3.1\")\n"
          ],
          "name": "stderr"
        },
        {
          "output_type": "display_data",
          "data": {
            "image/png": "[encoded data removed]",
            "text/plain": [
              "<Figure size 864x504 with 1 Axes>"
            ]
          },
          "metadata": {
            "tags": []
          }
        }
      ]
    },
    {
      "cell_type": "code",
      "metadata": {
        "id": "JU95PDdnnIsE",
        "colab_type": "code",
        "outputId": "3189246e-5711-4a4e-eb7a-e0a79ed48dba",
        "colab": {
          "base_uri": "https://localhost:8080/",
          "height": 34
        }
      },
      "source": [
        "train['brand_name'].nunique()"
      ],
      "execution_count": 0,
      "outputs": [
        {
          "output_type": "execute_result",
          "data": {
            "text/plain": [
              "4809"
            ]
          },
          "metadata": {
            "tags": []
          },
          "execution_count": 23
        }
      ]
    },
    {
      "cell_type": "code",
      "metadata": {
        "id": "8DU4w8dOnNR2",
        "colab_type": "code",
        "outputId": "03edeec5-7eda-41a4-b80d-533a1b2a3a7c",
        "colab": {
          "base_uri": "https://localhost:8080/",
          "height": 385
        }
      },
      "source": [
        "b20 = train['brand_name'].value_counts()[0:20].reset_index().rename(columns={'index': 'brand_name', 'brand_name':'count'})\n",
        "ax = sns.barplot(x=\"brand_name\", y=\"count\", data=b20)\n",
        "ax.set_xticklabels(ax.get_xticklabels(),rotation=90)\n",
        "ax.set_title('Top 20 Brand Distribution', fontsize=15)\n",
        "plt.show()"
      ],
      "execution_count": 0,
      "outputs": [
        {
          "output_type": "display_data",
          "data": {
            "image/png": "[encoded data removed]",
            "text/plain": [
              "<Figure size 432x288 with 1 Axes>"
            ]
          },
          "metadata": {
            "tags": []
          }
        }
      ]
    },
    {
      "cell_type": "code",
      "metadata": {
        "id": "oC7cBFoonYs_",
        "colab_type": "code",
        "colab": {}
      },
      "source": [
        "top20_brand = train.groupby('brand_name', axis=0).mean()\n",
        "df_expPrice = pd.DataFrame(top20_brand.sort_values('price', ascending = False)['price'][0:20].reset_index())\n",
        "\n",
        "\n",
        "ax = sns.barplot(x=\"brand_name\", y=\"price\", data=df_expPrice)\n",
        "ax.set_xticklabels(ax.get_xticklabels(),rotation=90, fontsize=15)\n",
        "ax.set_title('Top 20 Expensive Brand', fontsize=15)\n",
        "plt.xticks(fontsize=15)\n",
        "plt.yticks(fontsize=15)\n",
        "plt.show()# Displayd frequency ratio of brand names\n",
        "train['brand_name'].value_counts(1)"
      ],
      "execution_count": 0,
      "outputs": []
    },
    {
      "cell_type": "markdown",
      "metadata": {
        "id": "affmOw64nfRo",
        "colab_type": "text"
      },
      "source": [
        "**Category**"
      ]
    },
    {
      "cell_type": "code",
      "metadata": {
        "id": "RbSZwUcmnk8U",
        "colab_type": "code",
        "outputId": "9d0e83c8-ae9b-4d39-a2a9-8b72e3c91516",
        "colab": {
          "base_uri": "https://localhost:8080/",
          "height": 235
        }
      },
      "source": [
        "def transform_category_name(category_name):\n",
        "    try:\n",
        "        main, sub1, sub2= category_name.split('/')\n",
        "        return main, sub1, sub2\n",
        "    except:\n",
        "        return np.nan, np.nan, np.nan\n",
        "\n",
        "train['category_main'], train['category_sub1'], train['category_sub2'] = zip(*train['category_name'].apply(transform_category_name))\n",
        "\n",
        "cat_train = train[['category_main','category_sub1','category_sub2', 'price']]\n",
        "\n",
        "cat_train.head()\n",
        "\n"
      ],
      "execution_count": 0,
      "outputs": [
        {
          "output_type": "execute_result",
          "data": {
            "text/html": [
              "<div>\n",
              "<style scoped>\n",
              "    .dataframe tbody tr th:only-of-type {\n",
              "        vertical-align: middle;\n",
              "    }\n",
              "\n",
              "    .dataframe tbody tr th {\n",
              "        vertical-align: top;\n",
              "    }\n",
              "\n",
              "    .dataframe thead th {\n",
              "        text-align: right;\n",
              "    }\n",
              "</style>\n",
              "<table border=\"1\" class=\"dataframe\">\n",
              "  <thead>\n",
              "    <tr style=\"text-align: right;\">\n",
              "      <th></th>\n",
              "      <th>category_main</th>\n",
              "      <th>category_sub1</th>\n",
              "      <th>category_sub2</th>\n",
              "      <th>price</th>\n",
              "    </tr>\n",
              "    <tr>\n",
              "      <th>train_id</th>\n",
              "      <th></th>\n",
              "      <th></th>\n",
              "      <th></th>\n",
              "      <th></th>\n",
              "    </tr>\n",
              "  </thead>\n",
              "  <tbody>\n",
              "    <tr>\n",
              "      <th>0</th>\n",
              "      <td>Men</td>\n",
              "      <td>Tops</td>\n",
              "      <td>T-shirts</td>\n",
              "      <td>10.0</td>\n",
              "    </tr>\n",
              "    <tr>\n",
              "      <th>1</th>\n",
              "      <td>Electronics</td>\n",
              "      <td>Computers &amp; Tablets</td>\n",
              "      <td>Components &amp; Parts</td>\n",
              "      <td>52.0</td>\n",
              "    </tr>\n",
              "    <tr>\n",
              "      <th>2</th>\n",
              "      <td>Women</td>\n",
              "      <td>Tops &amp; Blouses</td>\n",
              "      <td>Blouse</td>\n",
              "      <td>10.0</td>\n",
              "    </tr>\n",
              "    <tr>\n",
              "      <th>3</th>\n",
              "      <td>Home</td>\n",
              "      <td>Home Décor</td>\n",
              "      <td>Home Décor Accents</td>\n",
              "      <td>35.0</td>\n",
              "    </tr>\n",
              "    <tr>\n",
              "      <th>4</th>\n",
              "      <td>Women</td>\n",
              "      <td>Jewelry</td>\n",
              "      <td>Necklaces</td>\n",
              "      <td>44.0</td>\n",
              "    </tr>\n",
              "  </tbody>\n",
              "</table>\n",
              "</div>"
            ],
            "text/plain": [
              "         category_main        category_sub1       category_sub2  price\n",
              "train_id                                                              \n",
              "0                  Men                 Tops            T-shirts   10.0\n",
              "1          Electronics  Computers & Tablets  Components & Parts   52.0\n",
              "2                Women       Tops & Blouses              Blouse   10.0\n",
              "3                 Home           Home Décor  Home Décor Accents   35.0\n",
              "4                Women              Jewelry           Necklaces   44.0"
            ]
          },
          "metadata": {
            "tags": []
          },
          "execution_count": 26
        }
      ]
    },
    {
      "cell_type": "code",
      "metadata": {
        "id": "3K1MyNVonxHP",
        "colab_type": "code",
        "colab": {}
      },
      "source": [
        "train.groupby('category_main')['price'].describe()"
      ],
      "execution_count": 0,
      "outputs": []
    },
    {
      "cell_type": "code",
      "metadata": {
        "id": "bl_2OBw8n3ke",
        "colab_type": "code",
        "outputId": "e017f9bf-8292-40c0-aff7-ad49ad3b77d6",
        "colab": {
          "base_uri": "https://localhost:8080/",
          "height": 204
        }
      },
      "source": [
        "train['category_main'].value_counts(1)"
      ],
      "execution_count": 0,
      "outputs": [
        {
          "output_type": "execute_result",
          "data": {
            "text/plain": [
              "Women                     0.451404\n",
              "Beauty                    0.141205\n",
              "Kids                      0.116651\n",
              "Electronics               0.081281\n",
              "Men                       0.063434\n",
              "Home                      0.046114\n",
              "Vintage & Collectibles    0.031614\n",
              "Other                     0.030813\n",
              "Handmade                  0.020954\n",
              "Sports & Outdoors         0.016531\n",
              "Name: category_main, dtype: float64"
            ]
          },
          "metadata": {
            "tags": []
          },
          "execution_count": 28
        }
      ]
    },
    {
      "cell_type": "code",
      "metadata": {
        "id": "iQJIDpQ4n6p6",
        "colab_type": "code",
        "colab": {}
      },
      "source": [
        "plt.figure(figsize=(17,10))\n",
        "sns.countplot(y = train['category_main'], order = train['category_main'].value_counts().index, orient = 'v')\n",
        "plt.title('Top 10 Categories', fontsize = 25)\n",
        "plt.ylabel('Main Category', fontsize = 20)\n",
        "plt.xlabel('Number of Items in Main Category', fontsize = 20)\n",
        "plt.show()"
      ],
      "execution_count": 0,
      "outputs": []
    },
    {
      "cell_type": "code",
      "metadata": {
        "id": "nBV0aGWWn_tg",
        "colab_type": "code",
        "colab": {}
      },
      "source": [
        "fig, axes = plt.subplots(figsize=(12, 7))\n",
        "main = cat_train[cat_train[\"price\"]<100]\n",
        "# Use a color palette\n",
        "ax = sns.boxplot( x=main[\"category_main\"], y=main[\"price\"], palette=\"Blues\")\n",
        "ax.set_xticklabels(ax.get_xticklabels(),rotation=90, fontsize=12)\n",
        "\n",
        "\n"
      ],
      "execution_count": 0,
      "outputs": []
    },
    {
      "cell_type": "code",
      "metadata": {
        "id": "VmhCOzFkoKT0",
        "colab_type": "code",
        "colab": {}
      },
      "source": [
        "train['no_brand'] = train['brand_name'].isnull()\n",
        "train.no_brand"
      ],
      "execution_count": 0,
      "outputs": []
    },
    {
      "cell_type": "code",
      "metadata": {
        "id": "w_fSvSbzoOCF",
        "colab_type": "code",
        "colab": {}
      },
      "source": [
        "f, ax = plt.subplots(figsize=(15, 4))\n",
        "sns.countplot(y='category_main', hue='no_brand', data=train).set_title('Category Distribution With/Without Brand');\n",
        "plt.show()"
      ],
      "execution_count": 0,
      "outputs": []
    },
    {
      "cell_type": "code",
      "metadata": {
        "id": "BYd_w5FNoR1L",
        "colab_type": "code",
        "colab": {}
      },
      "source": [
        "df = cat_train.groupby(['category_sub2'])['price'].agg(['mean']).reset_index().rename(columns={'index': 'main', 'category_main':'count'})\n",
        "df= df.sort_values('mean', ascending=False).head(20)\n",
        "\n",
        "plt.figure(figsize=(20, 15))\n",
        "plt.barh(range(0,len(df)), df['mean'], align='center', alpha=0.5, color='r')\n",
        "plt.yticks(range(0,len(df)), df['category_sub2'], fontsize=15)\n",
        "\n",
        "plt.xlabel('Price', fontsize=15)\n",
        "plt.ylabel('Sub Category 2', fontsize=15)\n",
        "plt.title('Top 20 2nd Category (Mean Price)', fontsize=20)\n",
        "plt.show()"
      ],
      "execution_count": 0,
      "outputs": []
    },
    {
      "cell_type": "code",
      "metadata": {
        "id": "tEcKzzGUoWCn",
        "colab_type": "code",
        "colab": {}
      },
      "source": [
        "df = cat_train.groupby(['category_sub1'])['price'].agg(['mean']).reset_index().rename(columns={'index': 'main', 'category_main':'count'})\n",
        "df= df.sort_values('mean', ascending=False)[0:20]\n",
        "\n",
        "plt.figure(figsize=(20, 15))\n",
        "plt.barh(range(0,len(df)), df['mean'], align='center', alpha=0.5, color='b')\n",
        "plt.yticks(range(0,len(df)), df['category_sub1'], fontsize=15)\n",
        "\n",
        "plt.xlabel('Price', fontsize=15)\n",
        "plt.ylabel('Sub Category 1', fontsize=15)\n",
        "plt.title('Top 20 1st Category (Mean Price)', fontsize=20)\n",
        "plt.show()"
      ],
      "execution_count": 0,
      "outputs": []
    },
    {
      "cell_type": "markdown",
      "metadata": {
        "id": "gPMxuxQ1obBS",
        "colab_type": "text"
      },
      "source": [
        "**Item Description**"
      ]
    },
    {
      "cell_type": "code",
      "metadata": {
        "id": "sbMYSciKoaU5",
        "colab_type": "code",
        "outputId": "bc70c414-17ad-41b6-eec7-3f2910747297",
        "colab": {
          "base_uri": "https://localhost:8080/",
          "height": 703
        }
      },
      "source": [
        "combined[\"item_description\"] = combined[\"item_description\"].astype(\"str\")\n",
        "descr = combined[['item_description', 'price']]\n",
        "descr[\"item_description\"] = descr[\"item_description\"].astype(\"str\")\n",
        "descr['count'] = descr['item_description'].apply(lambda x : len(str(x)))\n",
        "\n",
        "\n",
        "descr['item_description'] = descr['item_description'].apply(remove_digits)\n",
        "descr['item_description'] = descr['item_description'].apply(remove_punctuation)\n",
        "descr['item_description'] = descr['item_description'].apply(remove_stop_words)\n",
        "descr.head(3)"
      ],
      "execution_count": 0,
      "outputs": [
        {
          "output_type": "stream",
          "text": [
            "/usr/local/lib/python3.6/dist-packages/ipykernel_launcher.py:3: SettingWithCopyWarning: \n",
            "A value is trying to be set on a copy of a slice from a DataFrame.\n",
            "Try using .loc[row_indexer,col_indexer] = value instead\n",
            "\n",
            "See the caveats in the documentation: http://pandas.pydata.org/pandas-docs/stable/indexing.html#indexing-view-versus-copy\n",
            "  This is separate from the ipykernel package so we can avoid doing imports until\n",
            "/usr/local/lib/python3.6/dist-packages/ipykernel_launcher.py:4: SettingWithCopyWarning: \n",
            "A value is trying to be set on a copy of a slice from a DataFrame.\n",
            "Try using .loc[row_indexer,col_indexer] = value instead\n",
            "\n",
            "See the caveats in the documentation: http://pandas.pydata.org/pandas-docs/stable/indexing.html#indexing-view-versus-copy\n",
            "  after removing the cwd from sys.path.\n",
            "/usr/local/lib/python3.6/dist-packages/ipykernel_launcher.py:7: SettingWithCopyWarning: \n",
            "A value is trying to be set on a copy of a slice from a DataFrame.\n",
            "Try using .loc[row_indexer,col_indexer] = value instead\n",
            "\n",
            "See the caveats in the documentation: http://pandas.pydata.org/pandas-docs/stable/indexing.html#indexing-view-versus-copy\n",
            "  import sys\n",
            "/usr/local/lib/python3.6/dist-packages/ipykernel_launcher.py:8: SettingWithCopyWarning: \n",
            "A value is trying to be set on a copy of a slice from a DataFrame.\n",
            "Try using .loc[row_indexer,col_indexer] = value instead\n",
            "\n",
            "See the caveats in the documentation: http://pandas.pydata.org/pandas-docs/stable/indexing.html#indexing-view-versus-copy\n",
            "  \n",
            "/usr/local/lib/python3.6/dist-packages/ipykernel_launcher.py:9: SettingWithCopyWarning: \n",
            "A value is trying to be set on a copy of a slice from a DataFrame.\n",
            "Try using .loc[row_indexer,col_indexer] = value instead\n",
            "\n",
            "See the caveats in the documentation: http://pandas.pydata.org/pandas-docs/stable/indexing.html#indexing-view-versus-copy\n",
            "  if __name__ == '__main__':\n"
          ],
          "name": "stderr"
        },
        {
          "output_type": "execute_result",
          "data": {
            "text/html": [
              "<div>\n",
              "<style scoped>\n",
              "    .dataframe tbody tr th:only-of-type {\n",
              "        vertical-align: middle;\n",
              "    }\n",
              "\n",
              "    .dataframe tbody tr th {\n",
              "        vertical-align: top;\n",
              "    }\n",
              "\n",
              "    .dataframe thead th {\n",
              "        text-align: right;\n",
              "    }\n",
              "</style>\n",
              "<table border=\"1\" class=\"dataframe\">\n",
              "  <thead>\n",
              "    <tr style=\"text-align: right;\">\n",
              "      <th></th>\n",
              "      <th>item_description</th>\n",
              "      <th>price</th>\n",
              "      <th>count</th>\n",
              "    </tr>\n",
              "    <tr>\n",
              "      <th>train_id</th>\n",
              "      <th></th>\n",
              "      <th></th>\n",
              "      <th></th>\n",
              "    </tr>\n",
              "  </thead>\n",
              "  <tbody>\n",
              "    <tr>\n",
              "      <th>0</th>\n",
              "      <td>description yet</td>\n",
              "      <td>10.0</td>\n",
              "      <td>18</td>\n",
              "    </tr>\n",
              "    <tr>\n",
              "      <th>1</th>\n",
              "      <td>keyboard great condition works like came box p...</td>\n",
              "      <td>52.0</td>\n",
              "      <td>188</td>\n",
              "    </tr>\n",
              "    <tr>\n",
              "      <th>2</th>\n",
              "      <td>adorable top hint lace key hole back pale pink...</td>\n",
              "      <td>10.0</td>\n",
              "      <td>124</td>\n",
              "    </tr>\n",
              "  </tbody>\n",
              "</table>\n",
              "</div>"
            ],
            "text/plain": [
              "                                           item_description  price  count\n",
              "train_id                                                                 \n",
              "0                                           description yet   10.0     18\n",
              "1         keyboard great condition works like came box p...   52.0    188\n",
              "2         adorable top hint lace key hole back pale pink...   10.0    124"
            ]
          },
          "metadata": {
            "tags": []
          },
          "execution_count": 35
        }
      ]
    },
    {
      "cell_type": "code",
      "metadata": {
        "id": "hmJcASc7pIM-",
        "colab_type": "code",
        "outputId": "6e3c77df-0416-498f-c883-1c5c82b79f58",
        "colab": {
          "base_uri": "https://localhost:8080/",
          "height": 159
        }
      },
      "source": [
        "from nltk.stem.porter import PorterStemmer\n",
        "\n",
        "porter = PorterStemmer()\n",
        "\n",
        "descr['item_description'] = descr['item_description'].apply(porter.stem)"
      ],
      "execution_count": 0,
      "outputs": [
        {
          "output_type": "stream",
          "text": [
            "/usr/local/lib/python3.6/dist-packages/ipykernel_launcher.py:5: SettingWithCopyWarning: \n",
            "A value is trying to be set on a copy of a slice from a DataFrame.\n",
            "Try using .loc[row_indexer,col_indexer] = value instead\n",
            "\n",
            "See the caveats in the documentation: http://pandas.pydata.org/pandas-docs/stable/indexing.html#indexing-view-versus-copy\n",
            "  \"\"\"\n"
          ],
          "name": "stderr"
        }
      ]
    },
    {
      "cell_type": "code",
      "metadata": {
        "id": "CG_FXJXlpYv_",
        "colab_type": "code",
        "colab": {}
      },
      "source": [
        "def handle_missing_values(df):\n",
        "    df['category_name'].fillna(value='missing', inplace=True)\n",
        "    df['brand_name'].fillna(value='None', inplace=True)\n",
        "    df['item_description'].fillna(value='None', inplace=True)\n",
        "\n"
      ],
      "execution_count": 0,
      "outputs": []
    },
    {
      "cell_type": "code",
      "metadata": {
        "id": "IRyW9ApypgeP",
        "colab_type": "code",
        "colab": {}
      },
      "source": [
        "def to_categorical(df):\n",
        "    df['brand_name'] = df['brand_name'].astype('category')\n",
        "    df['category_name'] = df['category_name'].astype('category')\n",
        "    df['item_condition_id'] = df['item_condition_id'].astype('category')"
      ],
      "execution_count": 0,
      "outputs": []
    },
    {
      "cell_type": "code",
      "metadata": {
        "id": "pBFmhm0vpjXX",
        "colab_type": "code",
        "colab": {}
      },
      "source": [
        "# Applying the pre-processing functions\n",
        "handle_missing_values(combined)\n",
        "to_categorical(combined)"
      ],
      "execution_count": 0,
      "outputs": []
    },
    {
      "cell_type": "code",
      "metadata": {
        "id": "kk37airVpmbu",
        "colab_type": "code",
        "colab": {}
      },
      "source": [
        "#combined.item_description = combined.item_description.astype(str)\n",
        "\n",
        "combined.item_description = combined.item_description.astype(str)\n",
        "\n",
        "combined['item_description'] = combined['item_description'].apply(remove_digits)\n",
        "combined['item_description'] = combined['item_description'].apply(remove_punctuation)\n",
        "combined['item_description'] = combined['item_description'].apply(remove_stop_words)\n",
        "combined['item_description'] = combined['item_description'].apply(to_lower)\n",
        "\n",
        "combined['name'] = combined['name'].apply(remove_digits)\n",
        "combined['name'] = combined['name'].apply(remove_punctuation)\n",
        "combined['name'] = combined['name'].apply(remove_stop_words)\n",
        "combined['name'] = combined['name'].apply(to_lower)"
      ],
      "execution_count": 0,
      "outputs": []
    },
    {
      "cell_type": "code",
      "metadata": {
        "id": "NhoUpL0YppOO",
        "colab_type": "code",
        "outputId": "3dde6295-e175-4e39-9ee3-810314b335bc",
        "colab": {
          "base_uri": "https://localhost:8080/",
          "height": 238
        }
      },
      "source": [
        "combined.isnull().any()"
      ],
      "execution_count": 0,
      "outputs": [
        {
          "output_type": "execute_result",
          "data": {
            "text/plain": [
              "name                 False\n",
              "item_condition_id    False\n",
              "category_name        False\n",
              "brand_name           False\n",
              "price                False\n",
              "shipping             False\n",
              "item_description     False\n",
              "price_bin             True\n",
              "category_main         True\n",
              "category_sub1         True\n",
              "category_sub2         True\n",
              "no_brand             False\n",
              "dtype: bool"
            ]
          },
          "metadata": {
            "tags": []
          },
          "execution_count": 41
        }
      ]
    },
    {
      "cell_type": "code",
      "metadata": {
        "id": "IyiEmz4tpsPG",
        "colab_type": "code",
        "outputId": "f1701eff-e781-4c3c-ebf9-963cee5f8737",
        "colab": {
          "base_uri": "https://localhost:8080/",
          "height": 51
        }
      },
      "source": [
        "cv = CountVectorizer(min_df=10)\n",
        "X_name = cv.fit_transform(combined['name'])\n",
        "X_name"
      ],
      "execution_count": 0,
      "outputs": [
        {
          "output_type": "execute_result",
          "data": {
            "text/plain": [
              "<1482535x16961 sparse matrix of type '<class 'numpy.int64'>'\n",
              "\twith 5527212 stored elements in Compressed Sparse Row format>"
            ]
          },
          "metadata": {
            "tags": []
          },
          "execution_count": 42
        }
      ]
    },
    {
      "cell_type": "code",
      "metadata": {
        "id": "S7ZqW5gLbl9b",
        "colab_type": "code",
        "colab": {}
      },
      "source": [
        "combined[\"category_name\"] = combined[\"category_name\"].astype(\"str\")"
      ],
      "execution_count": 0,
      "outputs": []
    },
    {
      "cell_type": "code",
      "metadata": {
        "id": "sWVUEekepvC6",
        "colab_type": "code",
        "outputId": "eb3a2118-80ca-4d52-9cf9-7848d01103ec",
        "colab": {
          "base_uri": "https://localhost:8080/",
          "height": 51
        }
      },
      "source": [
        "cv = CountVectorizer()\n",
        "X_category = cv.fit_transform(combined['category_name'])\n",
        "#X_sub1 = cv.fit_transform(combined['sub_category_1'])\n",
        "#X_sub2 = cv.fit_transform(combined['sub_category_2'])\n",
        "X_category"
      ],
      "execution_count": 0,
      "outputs": [
        {
          "output_type": "execute_result",
          "data": {
            "text/plain": [
              "<1482535x1012 sparse matrix of type '<class 'numpy.int64'>'\n",
              "\twith 5936121 stored elements in Compressed Sparse Row format>"
            ]
          },
          "metadata": {
            "tags": []
          },
          "execution_count": 44
        }
      ]
    },
    {
      "cell_type": "code",
      "metadata": {
        "id": "EXIGLfmup45u",
        "colab_type": "code",
        "colab": {}
      },
      "source": [
        "# Apply TFIDF to \"item_description\", \n",
        "tv = TfidfVectorizer(max_features=55000, ngram_range=(1, 2), stop_words='english')\n",
        "X_description = tv.fit_transform(combined['item_description'])"
      ],
      "execution_count": 0,
      "outputs": []
    },
    {
      "cell_type": "code",
      "metadata": {
        "id": "M4Rw5x4Rp68S",
        "colab_type": "code",
        "colab": {}
      },
      "source": [
        "# Apply LabelBinarizer to \"brand_name\"\n",
        "lb = LabelBinarizer(sparse_output=True)\n",
        "X_brand = lb.fit_transform(combined['brand_name'])"
      ],
      "execution_count": 0,
      "outputs": []
    },
    {
      "cell_type": "code",
      "metadata": {
        "id": "aqnOG8nFp9gM",
        "colab_type": "code",
        "colab": {}
      },
      "source": [
        "combined[\"shipping\"] = combined[\"shipping\"].astype('category')"
      ],
      "execution_count": 0,
      "outputs": []
    },
    {
      "cell_type": "code",
      "metadata": {
        "id": "kJoEgpkvp_8a",
        "colab_type": "code",
        "colab": {}
      },
      "source": [
        "# Create our final sparse matrix\n",
        "X_dummies = csr_matrix(pd.get_dummies(combined[['item_condition_id', 'shipping']], sparse=True).values)\n",
        "\n",
        "# Combine everything together\n",
        "sparse_merge = hstack((X_dummies, X_description, X_brand, X_category, X_name)).tocsr()"
      ],
      "execution_count": 0,
      "outputs": []
    },
    {
      "cell_type": "code",
      "metadata": {
        "id": "gvC9Cno2qDCn",
        "colab_type": "code",
        "colab": {}
      },
      "source": [
        "from sklearn.model_selection import train_test_split\n",
        "\n",
        "x_train,x_test,y_train,y_test = train_test_split(sparse_merge, y, test_size = 0.25)"
      ],
      "execution_count": 0,
      "outputs": []
    },
    {
      "cell_type": "code",
      "metadata": {
        "id": "UWIwWsyJqFUL",
        "colab_type": "code",
        "colab": {}
      },
      "source": [
        "def rmsle(y, y0):\n",
        "    assert len(y) == len(y0)\n",
        "    return np.sqrt(np.mean(np.power(np.log1p(y)-np.log1p(y0), 2)))"
      ],
      "execution_count": 0,
      "outputs": []
    },
    {
      "cell_type": "code",
      "metadata": {
        "id": "z5CjcEOTqMTw",
        "colab_type": "code",
        "outputId": "4f1dae9d-48c2-4ab2-ba52-c3a911212f4a",
        "colab": {
          "base_uri": "https://localhost:8080/",
          "height": 51
        }
      },
      "source": [
        "# X_train_sparse = sparse_merge[:train_size]\n",
        "\n",
        "# X_test = sparse_merge[train_size:]\n",
        "\n",
        "from sklearn.model_selection import KFold\n",
        "kf = KFold(n_splits=10)\n",
        "X = sparse_merge\n",
        "kf.get_n_splits(X)\n",
        "print(kf) \n",
        "KFold(n_splits=10, random_state=None, shuffle=False)"
      ],
      "execution_count": 0,
      "outputs": [
        {
          "output_type": "stream",
          "text": [
            "KFold(n_splits=10, random_state=None, shuffle=False)\n"
          ],
          "name": "stdout"
        },
        {
          "output_type": "execute_result",
          "data": {
            "text/plain": [
              "KFold(n_splits=10, random_state=None, shuffle=False)"
            ]
          },
          "metadata": {
            "tags": []
          },
          "execution_count": 51
        }
      ]
    },
    {
      "cell_type": "code",
      "metadata": {
        "id": "fbBTAeWQeLy4",
        "colab_type": "code",
        "outputId": "fdad9ee9-3dbb-4245-c05e-359ef18b49b6",
        "colab": {
          "base_uri": "https://localhost:8080/",
          "height": 274
        }
      },
      "source": [
        "for train_index, test_index in kf.split(X):\n",
        " print(\"TRAIN:\", train_index, \"TEST:\", test_index)\n",
        " X_train, X_test = X[train_index], X[test_index]\n",
        " y_train, y_test = y[train_index], y[test_index]"
      ],
      "execution_count": 0,
      "outputs": [
        {
          "output_type": "stream",
          "text": [
            "TRAIN: [ 148254  148255  148256 ... 1482532 1482533 1482534] TEST: [     0      1      2 ... 148251 148252 148253]\n",
            "TRAIN: [      0       1       2 ... 1482532 1482533 1482534] TEST: [148254 148255 148256 ... 296505 296506 296507]\n",
            "TRAIN: [      0       1       2 ... 1482532 1482533 1482534] TEST: [296508 296509 296510 ... 444759 444760 444761]\n",
            "TRAIN: [      0       1       2 ... 1482532 1482533 1482534] TEST: [444762 444763 444764 ... 593013 593014 593015]\n",
            "TRAIN: [      0       1       2 ... 1482532 1482533 1482534] TEST: [593016 593017 593018 ... 741267 741268 741269]\n",
            "TRAIN: [      0       1       2 ... 1482532 1482533 1482534] TEST: [741270 741271 741272 ... 889520 889521 889522]\n",
            "TRAIN: [      0       1       2 ... 1482532 1482533 1482534] TEST: [ 889523  889524  889525 ... 1037773 1037774 1037775]\n",
            "TRAIN: [      0       1       2 ... 1482532 1482533 1482534] TEST: [1037776 1037777 1037778 ... 1186026 1186027 1186028]\n",
            "TRAIN: [      0       1       2 ... 1482532 1482533 1482534] TEST: [1186029 1186030 1186031 ... 1334279 1334280 1334281]\n",
            "TRAIN: [      0       1       2 ... 1334279 1334280 1334281] TEST: [1334282 1334283 1334284 ... 1482532 1482533 1482534]\n"
          ],
          "name": "stdout"
        }
      ]
    },
    {
      "cell_type": "code",
      "metadata": {
        "id": "0SJcDfCdqOXa",
        "colab_type": "code",
        "colab": {}
      },
      "source": [
        "import lightgbm as lgb\n",
        "d_train = lgb.Dataset(X_train, label=y_train)"
      ],
      "execution_count": 0,
      "outputs": []
    },
    {
      "cell_type": "code",
      "metadata": {
        "id": "-2Aw-p3pqQhS",
        "colab_type": "code",
        "colab": {}
      },
      "source": [
        "params = {}\n",
        "#params['learning_rate'] = 0.003\n",
        "params['boosting_type'] = 'gbdt'\n",
        "params['objective'] = 'regression'\n",
        "params['metric'] = 'rmse'\n",
        "\n",
        "clf = lgb.train(params, d_train, 100)"
      ],
      "execution_count": 0,
      "outputs": []
    },
    {
      "cell_type": "code",
      "metadata": {
        "id": "mDOMlbgVqSYX",
        "colab_type": "code",
        "colab": {}
      },
      "source": [
        "lgbm_pred=clf.predict(X_test)"
      ],
      "execution_count": 0,
      "outputs": []
    },
    {
      "cell_type": "code",
      "metadata": {
        "id": "cf3xvU3cqULc",
        "colab_type": "code",
        "outputId": "a597f97e-6168-4f61-c656-69efc61ceb69",
        "colab": {
          "base_uri": "https://localhost:8080/",
          "height": 51
        }
      },
      "source": [
        "np.expm1(lgbm_pred)"
      ],
      "execution_count": 0,
      "outputs": [
        {
          "output_type": "execute_result",
          "data": {
            "text/plain": [
              "array([12.95213556, 28.8899121 , 15.84290487, ..., 16.1327958 ,\n",
              "       10.95704257, 17.68707684])"
            ]
          },
          "metadata": {
            "tags": []
          },
          "execution_count": 56
        }
      ]
    },
    {
      "cell_type": "code",
      "metadata": {
        "id": "jbSR3MYSyBrn",
        "colab_type": "code",
        "outputId": "ff661b02-f702-49b5-8d27-c32526975ea1",
        "colab": {
          "base_uri": "https://localhost:8080/",
          "height": 51
        }
      },
      "source": [
        "import time\n",
        "start_time = time.time()\n",
        "print('[{}] LGBM completed.'.format(time.time() - start_time))\n",
        "print(\"LGBM rmsle: \"+str(rmsle(np.expm1(y_test), np.expm1(lgbm_pred))))\n",
        "\n"
      ],
      "execution_count": 0,
      "outputs": [
        {
          "output_type": "stream",
          "text": [
            "[3.814697265625e-05] LGBM completed.\n",
            "LGBM rmsle: 0.5389605996939181\n"
          ],
          "name": "stdout"
        }
      ]
    },
    {
      "cell_type": "code",
      "metadata": {
        "id": "1LI_8ciYqWSE",
        "colab_type": "code",
        "outputId": "896531ec-92db-4955-9bdd-bd91fe67dba2",
        "colab": {
          "base_uri": "https://localhost:8080/",
          "height": 51
        }
      },
      "source": [
        "from sklearn.metrics import r2_score\n",
        "from sklearn.metrics import mean_absolute_error\n",
        "print(\"r-squared:\"+str(r2_score(y_test, lgbm_pred)))\n",
        "print(\"mean absolute error:\"+str(mean_absolute_error(y_test, lgbm_pred)))      "
      ],
      "execution_count": 0,
      "outputs": [
        {
          "output_type": "stream",
          "text": [
            "r-squared:0.48083327632274453\n",
            "mean absolute error:0.4098796060227692\n"
          ],
          "name": "stdout"
        }
      ]
    },
    {
      "cell_type": "code",
      "metadata": {
        "id": "iZ3jpwk0yFao",
        "colab_type": "code",
        "outputId": "76fa78dd-4c73-47f3-de04-1ab77379635c",
        "colab": {
          "base_uri": "https://localhost:8080/",
          "height": 68
        }
      },
      "source": [
        "import time \n",
        "\n",
        "start_time = time.time()\n",
        "\n",
        "model = Ridge(solver = \"sag\", fit_intercept=False)\n",
        "\n",
        "print(\"Fitting Ridge Model\")\n",
        "model.fit(X_train, y_train)\n",
        "\n",
        "preds_valid = model.predict(X_test)\n",
        "\n",
        "print('[{}] Ridge completed.'.format(time.time() - start_time))\n",
        "print(\"Ridge rmsle: \"+str(rmsle(np.expm1(y_test), np.expm1(preds_valid))))"
      ],
      "execution_count": 0,
      "outputs": [
        {
          "output_type": "stream",
          "text": [
            "Fitting Ridge Model\n",
            "[231.8337676525116] Ridge completed.\n",
            "Ridge rmsle: 0.4714119252923613\n"
          ],
          "name": "stdout"
        }
      ]
    },
    {
      "cell_type": "code",
      "metadata": {
        "id": "QpScvl2ZyKU0",
        "colab_type": "code",
        "outputId": "53912978-a761-4c12-be56-4bc688a7b0f0",
        "colab": {
          "base_uri": "https://localhost:8080/",
          "height": 51
        }
      },
      "source": [
        "from sklearn.metrics import r2_score\n",
        "print(\"r-squared:\"+str(r2_score(y_test, preds_valid)))\n",
        "print(\"mean absolute error:\"+str(mean_absolute_error(y_test, preds_valid)))"
      ],
      "execution_count": 0,
      "outputs": [
        {
          "output_type": "stream",
          "text": [
            "r-squared:0.6028139905134817\n",
            "mean absolute error:0.3519239701167378\n"
          ],
          "name": "stdout"
        }
      ]
    },
    {
      "cell_type": "markdown",
      "metadata": {
        "id": "HN711V9Xxb0w",
        "colab_type": "text"
      },
      "source": [
        "**TRY**"
      ]
    },
    {
      "cell_type": "code",
      "metadata": {
        "id": "clfw-QNgRYxg",
        "colab_type": "code",
        "colab": {}
      },
      "source": [
        "data = train"
      ],
      "execution_count": 0,
      "outputs": []
    },
    {
      "cell_type": "code",
      "metadata": {
        "id": "FBMbDmPHR0sg",
        "colab_type": "code",
        "outputId": "28c075d0-9993-4635-9ddd-d57bf363bd6c",
        "colab": {
          "base_uri": "https://localhost:8080/",
          "height": 84
        }
      },
      "source": [
        "import nltk\n",
        "from nltk import word_tokenize\n",
        "nltk.download(\"stopwords\")\n",
        "nltk.download(\"punkt\")\n",
        "\n",
        "stopwords = stopwords.words(\"english\")"
      ],
      "execution_count": 21,
      "outputs": [
        {
          "output_type": "stream",
          "text": [
            "[nltk_data] Downloading package stopwords to /root/nltk_data...\n",
            "[nltk_data]   Package stopwords is already up-to-date!\n",
            "[nltk_data] Downloading package punkt to /root/nltk_data...\n",
            "[nltk_data]   Unzipping tokenizers/punkt.zip.\n"
          ],
          "name": "stdout"
        }
      ]
    },
    {
      "cell_type": "code",
      "metadata": {
        "id": "wFkQQ_PktXdo",
        "colab_type": "code",
        "colab": {}
      },
      "source": [
        "from nltk.stem.porter import PorterStemmer\n",
        "\n",
        "porter = PorterStemmer()\n",
        "\n",
        "#descr['item_description'] = descr['item_description'].apply(porter.stem)"
      ],
      "execution_count": 0,
      "outputs": []
    },
    {
      "cell_type": "code",
      "metadata": {
        "id": "AWRo16T_Rak1",
        "colab_type": "code",
        "colab": {}
      },
      "source": [
        "item_words = []\n",
        "sentence_final = []\n",
        "for sentence in data.item_description:\n",
        "    temp=\"\"\n",
        "    item_words = word_tokenize(sentence)\n",
        "    item_filtered_sentence = \"\"\n",
        "    for word in item_words:\n",
        "        if word not in stopwords and word.isalpha():\n",
        "          temp = temp + \" \" + (porter.stem(word))\n",
        "    sentence_final.append(temp);"
      ],
      "execution_count": 0,
      "outputs": []
    },
    {
      "cell_type": "code",
      "metadata": {
        "id": "KqFB95rxWf-K",
        "colab_type": "code",
        "colab": {}
      },
      "source": [
        "data[\"porter\"] = sentence_final"
      ],
      "execution_count": 0,
      "outputs": []
    },
    {
      "cell_type": "code",
      "metadata": {
        "id": "Ceaq4HK1d0dN",
        "colab_type": "code",
        "colab": {}
      },
      "source": [
        "data['porter'] = data['porter'].apply(remove_digits)\n",
        "data['porter'] = data['porter'].apply(remove_punctuation)\n",
        "data['porter'] = data['porter'].apply(to_lower)\n"
      ],
      "execution_count": 0,
      "outputs": []
    },
    {
      "cell_type": "code",
      "metadata": {
        "id": "14Q5t4Kud63k",
        "colab_type": "code",
        "outputId": "b59126e7-bbf3-4e1a-8a44-4b376884c467",
        "colab": {
          "base_uri": "https://localhost:8080/",
          "height": 50
        }
      },
      "source": [
        "cv = CountVectorizer(min_df=10)\n",
        "X_name = cv.fit_transform(data['name'])\n",
        "X_name"
      ],
      "execution_count": 0,
      "outputs": [
        {
          "output_type": "execute_result",
          "data": {
            "text/plain": [
              "<1482535x16961 sparse matrix of type '<class 'numpy.int64'>'\n",
              "\twith 5527212 stored elements in Compressed Sparse Row format>"
            ]
          },
          "metadata": {
            "tags": []
          },
          "execution_count": 73
        }
      ]
    },
    {
      "cell_type": "code",
      "metadata": {
        "id": "krn_nmEjeweZ",
        "colab_type": "code",
        "outputId": "63d49f3e-f414-4cd9-99ae-df213616fac0",
        "colab": {
          "base_uri": "https://localhost:8080/",
          "height": 50
        }
      },
      "source": [
        "cv = CountVectorizer()\n",
        "X_category = cv.fit_transform(data['category_name'])\n",
        "#X_sub1 = cv.fit_transform(combined['sub_category_1'])\n",
        "#X_sub2 = cv.fit_transform(combined['sub_category_2'])\n",
        "X_category"
      ],
      "execution_count": 0,
      "outputs": [
        {
          "output_type": "execute_result",
          "data": {
            "text/plain": [
              "<1482535x1012 sparse matrix of type '<class 'numpy.int64'>'\n",
              "\twith 5936121 stored elements in Compressed Sparse Row format>"
            ]
          },
          "metadata": {
            "tags": []
          },
          "execution_count": 74
        }
      ]
    },
    {
      "cell_type": "code",
      "metadata": {
        "id": "7HC0YA5Fe1z0",
        "colab_type": "code",
        "colab": {}
      },
      "source": [
        "tv = TfidfVectorizer(max_features=55000, ngram_range=(1, 2), stop_words='english')\n",
        "X_description = tv.fit_transform(data['porter'])"
      ],
      "execution_count": 0,
      "outputs": []
    },
    {
      "cell_type": "code",
      "metadata": {
        "id": "VMlEoXyifViH",
        "colab_type": "code",
        "colab": {}
      },
      "source": [
        "lb = LabelBinarizer(sparse_output=True)\n",
        "X_brand = lb.fit_transform(data['brand_name'])"
      ],
      "execution_count": 0,
      "outputs": []
    },
    {
      "cell_type": "code",
      "metadata": {
        "id": "5WCPdDFAfpK_",
        "colab_type": "code",
        "colab": {}
      },
      "source": [
        "data[\"shipping\"] = data[\"shipping\"].astype('category')"
      ],
      "execution_count": 0,
      "outputs": []
    },
    {
      "cell_type": "code",
      "metadata": {
        "id": "pHfxJ8Tqfznv",
        "colab_type": "code",
        "colab": {}
      },
      "source": [
        "# Create our final sparse matrix\n",
        "X_dummies = csr_matrix(pd.get_dummies(data[['item_condition_id', 'shipping']], sparse=True).values)\n",
        "\n",
        "# Combine everything together\n",
        "sparse_merge = hstack((X_dummies, X_description, X_brand, X_category, X_name)).tocsr()"
      ],
      "execution_count": 0,
      "outputs": []
    },
    {
      "cell_type": "code",
      "metadata": {
        "id": "QXaDwHgff6O5",
        "colab_type": "code",
        "colab": {}
      },
      "source": [
        "# from sklearn.model_selection import train_test_split\n",
        "\n",
        "# x_train,x_test,y_train,y_test = train_test_split(sparse_merge, y, test_size = 0.25)"
      ],
      "execution_count": 0,
      "outputs": []
    },
    {
      "cell_type": "code",
      "metadata": {
        "id": "FCR-O4pef_ot",
        "colab_type": "code",
        "outputId": "8b0564ad-3460-4947-c74f-8a5fde24ee16",
        "colab": {
          "base_uri": "https://localhost:8080/",
          "height": 50
        }
      },
      "source": [
        "# X_train_sparse = sparse_merge[:train_size]\n",
        "\n",
        "# X_test = sparse_merge[train_size:]\n",
        "\n",
        "from sklearn.model_selection import KFold\n",
        "kf = KFold(n_splits=10)\n",
        "X = sparse_merge\n",
        "kf.get_n_splits(X)\n",
        "print(kf) \n",
        "KFold(n_splits=10, random_state=None, shuffle=False)"
      ],
      "execution_count": 0,
      "outputs": [
        {
          "output_type": "stream",
          "text": [
            "KFold(n_splits=10, random_state=None, shuffle=False)\n"
          ],
          "name": "stdout"
        },
        {
          "output_type": "execute_result",
          "data": {
            "text/plain": [
              "KFold(n_splits=10, random_state=None, shuffle=False)"
            ]
          },
          "metadata": {
            "tags": []
          },
          "execution_count": 81
        }
      ]
    },
    {
      "cell_type": "code",
      "metadata": {
        "id": "VREaK0MrqbJs",
        "colab_type": "code",
        "outputId": "e85a677b-e972-492c-faa6-dd28c74498a6",
        "colab": {
          "base_uri": "https://localhost:8080/",
          "height": 185
        }
      },
      "source": [
        "for train_index, test_index in kf.split(X):\n",
        " print(\"TRAIN:\", train_index, \"TEST:\", test_index)\n",
        " X_train, X_test = X[train_index], X[test_index]\n",
        " y_train, y_test = y[train_index], y[test_index]"
      ],
      "execution_count": 0,
      "outputs": [
        {
          "output_type": "stream",
          "text": [
            "TRAIN: [ 148254  148255  148256 ... 1482532 1482533 1482534] TEST: [     0      1      2 ... 148251 148252 148253]\n",
            "TRAIN: [      0       1       2 ... 1482532 1482533 1482534] TEST: [148254 148255 148256 ... 296505 296506 296507]\n",
            "TRAIN: [      0       1       2 ... 1482532 1482533 1482534] TEST: [296508 296509 296510 ... 444759 444760 444761]\n",
            "TRAIN: [      0       1       2 ... 1482532 1482533 1482534] TEST: [444762 444763 444764 ... 593013 593014 593015]\n",
            "TRAIN: [      0       1       2 ... 1482532 1482533 1482534] TEST: [593016 593017 593018 ... 741267 741268 741269]\n",
            "TRAIN: [      0       1       2 ... 1482532 1482533 1482534] TEST: [741270 741271 741272 ... 889520 889521 889522]\n",
            "TRAIN: [      0       1       2 ... 1482532 1482533 1482534] TEST: [ 889523  889524  889525 ... 1037773 1037774 1037775]\n",
            "TRAIN: [      0       1       2 ... 1482532 1482533 1482534] TEST: [1037776 1037777 1037778 ... 1186026 1186027 1186028]\n",
            "TRAIN: [      0       1       2 ... 1482532 1482533 1482534] TEST: [1186029 1186030 1186031 ... 1334279 1334280 1334281]\n",
            "TRAIN: [      0       1       2 ... 1334279 1334280 1334281] TEST: [1334282 1334283 1334284 ... 1482532 1482533 1482534]\n"
          ],
          "name": "stdout"
        }
      ]
    },
    {
      "cell_type": "code",
      "metadata": {
        "id": "c4nEeycqgEoc",
        "colab_type": "code",
        "colab": {}
      },
      "source": [
        "import lightgbm as lgb\n",
        "d_train = lgb.Dataset(X_train, label=y_train)"
      ],
      "execution_count": 0,
      "outputs": []
    },
    {
      "cell_type": "code",
      "metadata": {
        "id": "omQw3QifvGoN",
        "colab_type": "code",
        "colab": {}
      },
      "source": [
        "params = {}\n",
        "#params['learning_rate'] = 0.003\n",
        "params['boosting_type'] = 'gbdt'\n",
        "params['objective'] = 'regression'\n",
        "params['metric'] = 'rmse'\n",
        "\n",
        "clf = lgb.train(params, d_train, 100)"
      ],
      "execution_count": 0,
      "outputs": []
    },
    {
      "cell_type": "code",
      "metadata": {
        "id": "p7UiJrjWvmGv",
        "colab_type": "code",
        "colab": {}
      },
      "source": [
        "lgbm_pred=clf.predict(X_test)"
      ],
      "execution_count": 0,
      "outputs": []
    },
    {
      "cell_type": "code",
      "metadata": {
        "id": "iobgakFBvrbz",
        "colab_type": "code",
        "outputId": "bb60d56b-0019-4188-94ee-4399f6c19ac3",
        "colab": {
          "base_uri": "https://localhost:8080/",
          "height": 50
        }
      },
      "source": [
        "np.expm1(lgbm_pred)"
      ],
      "execution_count": 0,
      "outputs": [
        {
          "output_type": "execute_result",
          "data": {
            "text/plain": [
              "array([12.77632208, 28.19903342, 15.75148727, ..., 15.97729398,\n",
              "       10.88583538, 18.21055593])"
            ]
          },
          "metadata": {
            "tags": []
          },
          "execution_count": 86
        }
      ]
    },
    {
      "cell_type": "code",
      "metadata": {
        "id": "Fv559sW7vxpP",
        "colab_type": "code",
        "outputId": "8bfba8e1-e318-40fb-bbbf-bd0dc26a51ca",
        "colab": {
          "base_uri": "https://localhost:8080/",
          "height": 50
        }
      },
      "source": [
        "import time\n",
        "start_time = time.time()\n",
        "print('[{}] LGBM completed.'.format(time.time() - start_time))\n",
        "print(\"LGBM rmsle: \"+str(rmsle(np.expm1(y_test), np.expm1(lgbm_pred))))\n",
        "\n"
      ],
      "execution_count": 0,
      "outputs": [
        {
          "output_type": "stream",
          "text": [
            "[2.86102294921875e-05] LGBM completed.\n",
            "LGBM rmsle: 0.5382789144523951\n"
          ],
          "name": "stdout"
        }
      ]
    },
    {
      "cell_type": "code",
      "metadata": {
        "id": "0Fc1MYWYwGHd",
        "colab_type": "code",
        "outputId": "065b862f-4ac7-4a02-8602-76b542e2632c",
        "colab": {
          "base_uri": "https://localhost:8080/",
          "height": 50
        }
      },
      "source": [
        "# from sklearn.metrics import r2_score\n",
        "# r2_score(y_test, lgbm_pred)\n",
        "\n",
        "from sklearn.metrics import r2_score\n",
        "from sklearn.metrics import mean_absolute_error\n",
        "print(\"r-squared:\"+str(r2_score(y_test, lgbm_pred)))\n",
        "print(\"mean absolute error:\"+str(mean_absolute_error(y_test, lgbm_pred)))      "
      ],
      "execution_count": 0,
      "outputs": [
        {
          "output_type": "stream",
          "text": [
            "r-squared:0.4821457450984957\n",
            "mean absolute error:0.4092809699494612\n"
          ],
          "name": "stdout"
        }
      ]
    },
    {
      "cell_type": "code",
      "metadata": {
        "id": "Yt6vAs-5wK-m",
        "colab_type": "code",
        "outputId": "d786b0e8-58ed-4e6e-84b6-699fd57f26c7",
        "colab": {
          "base_uri": "https://localhost:8080/",
          "height": 67
        }
      },
      "source": [
        "import time \n",
        "\n",
        "start_time = time.time()\n",
        "\n",
        "model = Ridge(solver = \"sag\", fit_intercept=False)\n",
        "\n",
        "print(\"Fitting Ridge Model\")\n",
        "model.fit(X_train, y_train)\n",
        "\n",
        "preds_valid = model.predict(X_test)\n",
        "\n",
        "print('[{}] Ridge completed.'.format(time.time() - start_time))\n",
        "print(\"Ridge rmsle: \"+str(rmsle(np.expm1(y_test), np.expm1(preds_valid))))"
      ],
      "execution_count": 0,
      "outputs": [
        {
          "output_type": "stream",
          "text": [
            "Fitting Ridge Model\n",
            "[225.23376488685608] Ridge completed.\n",
            "Ridge rmsle: 0.4721081380831702\n"
          ],
          "name": "stdout"
        }
      ]
    },
    {
      "cell_type": "code",
      "metadata": {
        "id": "QB1keqZNwPCM",
        "colab_type": "code",
        "outputId": "6c700ed5-cb0e-465c-ae0e-e7606b2f960b",
        "colab": {
          "base_uri": "https://localhost:8080/",
          "height": 50
        }
      },
      "source": [
        "# from sklearn.metrics import r2_score\n",
        "# r2_score(y_test, preds_valid)\n",
        "\n",
        "from sklearn.metrics import r2_score\n",
        "print(\"r-squared:\"+str(r2_score(y_test, preds_valid)))\n",
        "print(\"mean absolute error:\"+str(mean_absolute_error(y_test, preds_valid)))"
      ],
      "execution_count": 0,
      "outputs": [
        {
          "output_type": "stream",
          "text": [
            "r-squared:0.6016399422497174\n",
            "mean absolute error:0.35256166207360046\n"
          ],
          "name": "stdout"
        }
      ]
    },
    {
      "cell_type": "markdown",
      "metadata": {
        "id": "Zezm9rsCwrth",
        "colab_type": "text"
      },
      "source": [
        "lancast stem"
      ]
    },
    {
      "cell_type": "code",
      "metadata": {
        "id": "29-CRLsAxS45",
        "colab_type": "code",
        "colab": {}
      },
      "source": [
        "from nltk import LancasterStemmer\n",
        "\n",
        "lancaster = LancasterStemmer()"
      ],
      "execution_count": 0,
      "outputs": []
    },
    {
      "cell_type": "code",
      "metadata": {
        "id": "T5rXkWmpwqrH",
        "colab_type": "code",
        "colab": {}
      },
      "source": [
        "item_words1 = []\n",
        "sentence_final1 = []\n",
        "for sentence1 in data.item_description:\n",
        "    temp1=\"\"\n",
        "    item_words1 = word_tokenize(sentence1)\n",
        "    item_filtered_sentence1 = \"\"\n",
        "    for word1 in item_words1:\n",
        "        if word1 not in stopwords and word.isalpha():\n",
        "            temp1 = temp1 + \" \" + (lancaster.stem(word1))\n",
        "    sentence_final1.append(temp1);"
      ],
      "execution_count": 0,
      "outputs": []
    },
    {
      "cell_type": "code",
      "metadata": {
        "id": "LYwtgaOowxjZ",
        "colab_type": "code",
        "colab": {}
      },
      "source": [
        "data[\"lancaster\"] = sentence_final1"
      ],
      "execution_count": 0,
      "outputs": []
    },
    {
      "cell_type": "code",
      "metadata": {
        "id": "p9eDelN1w165",
        "colab_type": "code",
        "colab": {}
      },
      "source": [
        "data['lancaster'] = data['lancaster'].apply(remove_digits)\n",
        "data['lancaster'] = data['lancaster'].apply(remove_punctuation)\n",
        "data['lancaster'] = data['lancaster'].apply(to_lower)\n"
      ],
      "execution_count": 0,
      "outputs": []
    },
    {
      "cell_type": "code",
      "metadata": {
        "id": "N5-IbV15xKjG",
        "colab_type": "code",
        "outputId": "27ed4070-41cb-490b-94e6-386f3600b327",
        "colab": {
          "base_uri": "https://localhost:8080/",
          "height": 50
        }
      },
      "source": [
        "cv = CountVectorizer(min_df=10)\n",
        "X_name = cv.fit_transform(data['name'])\n",
        "X_name"
      ],
      "execution_count": 0,
      "outputs": [
        {
          "output_type": "execute_result",
          "data": {
            "text/plain": [
              "<1482535x16961 sparse matrix of type '<class 'numpy.int64'>'\n",
              "\twith 5527212 stored elements in Compressed Sparse Row format>"
            ]
          },
          "metadata": {
            "tags": []
          },
          "execution_count": 95
        }
      ]
    },
    {
      "cell_type": "code",
      "metadata": {
        "id": "ZwHy-cTB0n31",
        "colab_type": "code",
        "outputId": "00c129aa-bd9c-4ef9-953b-699bc20692de",
        "colab": {
          "base_uri": "https://localhost:8080/",
          "height": 50
        }
      },
      "source": [
        "cv = CountVectorizer()\n",
        "X_category = cv.fit_transform(data['category_name'])\n",
        "#X_sub1 = cv.fit_transform(combined['sub_category_1'])\n",
        "#X_sub2 = cv.fit_transform(combined['sub_category_2'])\n",
        "X_category"
      ],
      "execution_count": 0,
      "outputs": [
        {
          "output_type": "execute_result",
          "data": {
            "text/plain": [
              "<1482535x1012 sparse matrix of type '<class 'numpy.int64'>'\n",
              "\twith 5936121 stored elements in Compressed Sparse Row format>"
            ]
          },
          "metadata": {
            "tags": []
          },
          "execution_count": 96
        }
      ]
    },
    {
      "cell_type": "code",
      "metadata": {
        "id": "uIqVifp90vfG",
        "colab_type": "code",
        "colab": {}
      },
      "source": [
        "tv = TfidfVectorizer(max_features=55000, ngram_range=(1, 2), stop_words='english')\n",
        "X_description = tv.fit_transform(data['lancaster'])"
      ],
      "execution_count": 0,
      "outputs": []
    },
    {
      "cell_type": "code",
      "metadata": {
        "id": "Ti8Wl4su01zw",
        "colab_type": "code",
        "colab": {}
      },
      "source": [
        "lb = LabelBinarizer(sparse_output=True)\n",
        "X_brand = lb.fit_transform(data['brand_name'])"
      ],
      "execution_count": 0,
      "outputs": []
    },
    {
      "cell_type": "code",
      "metadata": {
        "id": "hn5zMOQ-0-8s",
        "colab_type": "code",
        "colab": {}
      },
      "source": [
        "data[\"shipping\"] = data[\"shipping\"].astype('category')"
      ],
      "execution_count": 0,
      "outputs": []
    },
    {
      "cell_type": "code",
      "metadata": {
        "id": "hjBY0vvg1Fel",
        "colab_type": "code",
        "colab": {}
      },
      "source": [
        "# Create our final sparse matrix\n",
        "X_dummies = csr_matrix(pd.get_dummies(data[['item_condition_id', 'shipping']], sparse=True).values)\n",
        "\n",
        "# Combine everything together\n",
        "sparse_merge = hstack((X_dummies, X_description, X_brand, X_category, X_name)).tocsr()"
      ],
      "execution_count": 0,
      "outputs": []
    },
    {
      "cell_type": "code",
      "metadata": {
        "id": "VN-zaGK01T2x",
        "colab_type": "code",
        "outputId": "79089f8e-adf8-4023-813e-943b7df8252b",
        "colab": {
          "base_uri": "https://localhost:8080/",
          "height": 50
        }
      },
      "source": [
        "# from sklearn.model_selection import KFold\n",
        "kf = KFold(n_splits=10)\n",
        "X = sparse_merge\n",
        "kf.get_n_splits(X)\n",
        "print(kf) \n",
        "KFold(n_splits=10, random_state=None, shuffle=False)"
      ],
      "execution_count": 0,
      "outputs": [
        {
          "output_type": "stream",
          "text": [
            "KFold(n_splits=10, random_state=None, shuffle=False)\n"
          ],
          "name": "stdout"
        },
        {
          "output_type": "execute_result",
          "data": {
            "text/plain": [
              "KFold(n_splits=10, random_state=None, shuffle=False)"
            ]
          },
          "metadata": {
            "tags": []
          },
          "execution_count": 103
        }
      ]
    },
    {
      "cell_type": "code",
      "metadata": {
        "id": "HgGESN3Rz5bB",
        "colab_type": "code",
        "outputId": "31e300cb-dabb-44f3-95ce-fd67262b6426",
        "colab": {
          "base_uri": "https://localhost:8080/",
          "height": 185
        }
      },
      "source": [
        "for train_index, test_index in kf.split(X):\n",
        " print(\"TRAIN:\", train_index, \"TEST:\", test_index)\n",
        " X_train, X_test = X[train_index], X[test_index]\n",
        " y_train, y_test = y[train_index], y[test_index]"
      ],
      "execution_count": 0,
      "outputs": [
        {
          "output_type": "stream",
          "text": [
            "TRAIN: [ 148254  148255  148256 ... 1482532 1482533 1482534] TEST: [     0      1      2 ... 148251 148252 148253]\n",
            "TRAIN: [      0       1       2 ... 1482532 1482533 1482534] TEST: [148254 148255 148256 ... 296505 296506 296507]\n",
            "TRAIN: [      0       1       2 ... 1482532 1482533 1482534] TEST: [296508 296509 296510 ... 444759 444760 444761]\n",
            "TRAIN: [      0       1       2 ... 1482532 1482533 1482534] TEST: [444762 444763 444764 ... 593013 593014 593015]\n",
            "TRAIN: [      0       1       2 ... 1482532 1482533 1482534] TEST: [593016 593017 593018 ... 741267 741268 741269]\n",
            "TRAIN: [      0       1       2 ... 1482532 1482533 1482534] TEST: [741270 741271 741272 ... 889520 889521 889522]\n",
            "TRAIN: [      0       1       2 ... 1482532 1482533 1482534] TEST: [ 889523  889524  889525 ... 1037773 1037774 1037775]\n",
            "TRAIN: [      0       1       2 ... 1482532 1482533 1482534] TEST: [1037776 1037777 1037778 ... 1186026 1186027 1186028]\n",
            "TRAIN: [      0       1       2 ... 1482532 1482533 1482534] TEST: [1186029 1186030 1186031 ... 1334279 1334280 1334281]\n",
            "TRAIN: [      0       1       2 ... 1334279 1334280 1334281] TEST: [1334282 1334283 1334284 ... 1482532 1482533 1482534]\n"
          ],
          "name": "stdout"
        }
      ]
    },
    {
      "cell_type": "code",
      "metadata": {
        "id": "VtnaPGbS1eKn",
        "colab_type": "code",
        "colab": {}
      },
      "source": [
        "import lightgbm as lgb\n",
        "d_train = lgb.Dataset(X_train, label=y_train)"
      ],
      "execution_count": 0,
      "outputs": []
    },
    {
      "cell_type": "code",
      "metadata": {
        "id": "BVo865pw1kpD",
        "colab_type": "code",
        "colab": {}
      },
      "source": [
        "params = {}\n",
        "#params['learning_rate'] = 0.003\n",
        "params['boosting_type'] = 'gbdt'\n",
        "params['objective'] = 'regression'\n",
        "params['metric'] = 'rmse'\n",
        "\n",
        "clf = lgb.train(params, d_train, 100)"
      ],
      "execution_count": 0,
      "outputs": []
    },
    {
      "cell_type": "code",
      "metadata": {
        "id": "-x11l7UF1pUH",
        "colab_type": "code",
        "colab": {}
      },
      "source": [
        "lgbm_pred=clf.predict(X_test)"
      ],
      "execution_count": 0,
      "outputs": []
    },
    {
      "cell_type": "code",
      "metadata": {
        "id": "mJsDuadi10kI",
        "colab_type": "code",
        "outputId": "d624d455-64c3-4912-ddb2-5d0ccb0f002e",
        "colab": {
          "base_uri": "https://localhost:8080/",
          "height": 50
        }
      },
      "source": [
        "np.expm1(lgbm_pred)"
      ],
      "execution_count": 0,
      "outputs": [
        {
          "output_type": "execute_result",
          "data": {
            "text/plain": [
              "array([13.00787875, 27.68239179, 15.89181424, ..., 15.90375885,\n",
              "       10.84721216, 18.5812732 ])"
            ]
          },
          "metadata": {
            "tags": []
          },
          "execution_count": 108
        }
      ]
    },
    {
      "cell_type": "code",
      "metadata": {
        "id": "hd4JMefZ1_Bs",
        "colab_type": "code",
        "outputId": "e5942f4a-22d2-48d9-ac98-02c467e55ed2",
        "colab": {
          "base_uri": "https://localhost:8080/",
          "height": 50
        }
      },
      "source": [
        "import time\n",
        "start_time = time.time()\n",
        "print('[{}] LGBM completed.'.format(time.time() - start_time))\n",
        "print(\"LGBM rmsle: \"+str(rmsle(np.expm1(y_test), np.expm1(lgbm_pred))))\n",
        "\n"
      ],
      "execution_count": 0,
      "outputs": [
        {
          "output_type": "stream",
          "text": [
            "[4.100799560546875e-05] LGBM completed.\n",
            "LGBM rmsle: 0.5384748664540546\n"
          ],
          "name": "stdout"
        }
      ]
    },
    {
      "cell_type": "code",
      "metadata": {
        "id": "STN33C1T2FAq",
        "colab_type": "code",
        "outputId": "9aad83f2-218d-4874-87a7-82072f7548cb",
        "colab": {
          "base_uri": "https://localhost:8080/",
          "height": 50
        }
      },
      "source": [
        "# from sklearn.metrics import r2_score\n",
        "# r2_score(y_test, lgbm_pred)\n",
        "\n",
        "from sklearn.metrics import r2_score\n",
        "from sklearn.metrics import mean_absolute_error\n",
        "print(\"r-squared:\"+str(r2_score(y_test, lgbm_pred)))\n",
        "print(\"mean absolute error:\"+str(mean_absolute_error(y_test, lgbm_pred)))      "
      ],
      "execution_count": 0,
      "outputs": [
        {
          "output_type": "stream",
          "text": [
            "r-squared:0.48176864302294875\n",
            "mean absolute error:0.409445650254516\n"
          ],
          "name": "stdout"
        }
      ]
    },
    {
      "cell_type": "code",
      "metadata": {
        "id": "sUMNq6562KGY",
        "colab_type": "code",
        "outputId": "579db381-ab17-44a6-da84-a5460b98716a",
        "colab": {
          "base_uri": "https://localhost:8080/",
          "height": 67
        }
      },
      "source": [
        "import time \n",
        "\n",
        "start_time = time.time()\n",
        "\n",
        "model = Ridge(solver = \"sag\", fit_intercept=False)\n",
        "\n",
        "print(\"Fitting Ridge Model\")\n",
        "model.fit(X_train, y_train)\n",
        "\n",
        "preds_valid = model.predict(X_test)\n",
        "\n",
        "print('[{}] Ridge completed.'.format(time.time() - start_time))\n",
        "print(\"Ridge rmsle: \"+str(rmsle(np.expm1(y_test), np.expm1(preds_valid))))"
      ],
      "execution_count": 0,
      "outputs": [
        {
          "output_type": "stream",
          "text": [
            "Fitting Ridge Model\n",
            "[238.4254331588745] Ridge completed.\n",
            "Ridge rmsle: 0.47252620716404675\n"
          ],
          "name": "stdout"
        }
      ]
    },
    {
      "cell_type": "code",
      "metadata": {
        "id": "HK-LuU-32Qtz",
        "colab_type": "code",
        "outputId": "67c79f6d-189d-4b6d-e542-9416dee55d9e",
        "colab": {
          "base_uri": "https://localhost:8080/",
          "height": 50
        }
      },
      "source": [
        "# from sklearn.metrics import r2_score\n",
        "# r2_score(y_test, preds_valid)\n",
        "from sklearn.metrics import r2_score\n",
        "print(\"r-squared:\"+str(r2_score(y_test, preds_valid)))\n",
        "print(\"mean absolute error:\"+str(mean_absolute_error(y_test, preds_valid)))"
      ],
      "execution_count": 0,
      "outputs": [
        {
          "output_type": "stream",
          "text": [
            "r-squared:0.6009341049666923\n",
            "mean absolute error:0.3530291489095241\n"
          ],
          "name": "stdout"
        }
      ]
    },
    {
      "cell_type": "code",
      "metadata": {
        "id": "6_qUtGGSDFOx",
        "colab_type": "code",
        "outputId": "f60bd03d-acb2-49f7-9f2d-71254c5e8881",
        "colab": {
          "base_uri": "https://localhost:8080/",
          "height": 50
        }
      },
      "source": [
        "# from sklearn.model_selection import KFold\n",
        "# kf = KFold(n_splits=10)\n",
        "# X = sparse_merge\n",
        "# kf.get_n_splits(X)\n",
        "# print(kf) \n",
        "# KFold(n_splits=2, random_state=None, shuffle=False)"
      ],
      "execution_count": 0,
      "outputs": [
        {
          "output_type": "stream",
          "text": [
            "KFold(n_splits=10, random_state=None, shuffle=False)\n"
          ],
          "name": "stdout"
        },
        {
          "output_type": "execute_result",
          "data": {
            "text/plain": [
              "KFold(n_splits=2, random_state=None, shuffle=False)"
            ]
          },
          "metadata": {
            "tags": []
          },
          "execution_count": 99
        }
      ]
    },
    {
      "cell_type": "code",
      "metadata": {
        "id": "KucoMSkTDXIL",
        "colab_type": "code",
        "outputId": "ade08a44-c7af-439c-daee-dc3ab369d1f2",
        "colab": {
          "base_uri": "https://localhost:8080/",
          "height": 185
        }
      },
      "source": [
        "# for train_index, test_index in kf.split(X):\n",
        "#  print(\"TRAIN:\", train_index, \"TEST:\", test_index)\n",
        "#  X_train, X_test = X[train_index], X[test_index]\n",
        "#  y_train, y_test = y[train_index], y[test_index]"
      ],
      "execution_count": 0,
      "outputs": [
        {
          "output_type": "stream",
          "text": [
            "TRAIN: [ 148254  148255  148256 ... 1482532 1482533 1482534] TEST: [     0      1      2 ... 148251 148252 148253]\n",
            "TRAIN: [      0       1       2 ... 1482532 1482533 1482534] TEST: [148254 148255 148256 ... 296505 296506 296507]\n",
            "TRAIN: [      0       1       2 ... 1482532 1482533 1482534] TEST: [296508 296509 296510 ... 444759 444760 444761]\n",
            "TRAIN: [      0       1       2 ... 1482532 1482533 1482534] TEST: [444762 444763 444764 ... 593013 593014 593015]\n",
            "TRAIN: [      0       1       2 ... 1482532 1482533 1482534] TEST: [593016 593017 593018 ... 741267 741268 741269]\n",
            "TRAIN: [      0       1       2 ... 1482532 1482533 1482534] TEST: [741270 741271 741272 ... 889520 889521 889522]\n",
            "TRAIN: [      0       1       2 ... 1482532 1482533 1482534] TEST: [ 889523  889524  889525 ... 1037773 1037774 1037775]\n",
            "TRAIN: [      0       1       2 ... 1482532 1482533 1482534] TEST: [1037776 1037777 1037778 ... 1186026 1186027 1186028]\n",
            "TRAIN: [      0       1       2 ... 1482532 1482533 1482534] TEST: [1186029 1186030 1186031 ... 1334279 1334280 1334281]\n",
            "TRAIN: [      0       1       2 ... 1334279 1334280 1334281] TEST: [1334282 1334283 1334284 ... 1482532 1482533 1482534]\n"
          ],
          "name": "stdout"
        }
      ]
    },
    {
      "cell_type": "code",
      "metadata": {
        "id": "vKkLYiAHJV6E",
        "colab_type": "code",
        "colab": {}
      },
      "source": [
        "#d_train = lgb.Dataset(X_train, label=y_train)"
      ],
      "execution_count": 0,
      "outputs": []
    },
    {
      "cell_type": "code",
      "metadata": {
        "id": "TmNAtEdMJbnY",
        "colab_type": "code",
        "colab": {}
      },
      "source": [
        "# params = {}\n",
        "# #params['learning_rate'] = 0.003\n",
        "# params['boosting_type'] = 'gbdt'\n",
        "# params['objective'] = 'regression'\n",
        "# params['metric'] = 'rmse'\n",
        "\n",
        "# clf = lgb.train(params, d_train, 100)"
      ],
      "execution_count": 0,
      "outputs": []
    },
    {
      "cell_type": "code",
      "metadata": {
        "id": "yskZgdFbK4sY",
        "colab_type": "code",
        "colab": {}
      },
      "source": [
        "#lgbm_pred=clf.predict(X_test)"
      ],
      "execution_count": 0,
      "outputs": []
    },
    {
      "cell_type": "code",
      "metadata": {
        "id": "pKjrVcdoK8JQ",
        "colab_type": "code",
        "outputId": "03e46eed-3dc6-4d52-d9c3-76da58ad34f3",
        "colab": {
          "base_uri": "https://localhost:8080/",
          "height": 50
        }
      },
      "source": [
        "#np.expm1(lgbm_pred)"
      ],
      "execution_count": 0,
      "outputs": [
        {
          "output_type": "execute_result",
          "data": {
            "text/plain": [
              "array([12.84414122, 26.06473209, 15.67159379, ..., 15.85447335,\n",
              "       10.86830006, 18.18294014])"
            ]
          },
          "metadata": {
            "tags": []
          },
          "execution_count": 106
        }
      ]
    },
    {
      "cell_type": "code",
      "metadata": {
        "id": "sHBH1EfKLCCc",
        "colab_type": "code",
        "outputId": "c9973144-3c8b-49d6-a7cb-72d1d34ec64f",
        "colab": {
          "base_uri": "https://localhost:8080/",
          "height": 50
        }
      },
      "source": [
        "# import time\n",
        "# start_time = time.time()\n",
        "# print('[{}] LGBM completed.'.format(time.time() - start_time))\n",
        "# print(\"LGBM rmsle: \"+str(rmsle(np.expm1(y_test), np.expm1(lgbm_pred))))\n",
        "\n"
      ],
      "execution_count": 0,
      "outputs": [
        {
          "output_type": "stream",
          "text": [
            "[3.814697265625e-05] LGBM completed.\n",
            "LGBM rmsle: 0.5386263899203864\n"
          ],
          "name": "stdout"
        }
      ]
    },
    {
      "cell_type": "code",
      "metadata": {
        "id": "NjouiTgkLIK6",
        "colab_type": "code",
        "outputId": "0a431a8e-cf41-47bc-8723-ae043b9e3ef1",
        "colab": {
          "base_uri": "https://localhost:8080/",
          "height": 34
        }
      },
      "source": [
        "# from sklearn.metrics import r2_score\n",
        "# r2_score(y_test, lgbm_pred)\n",
        "# from sklearn.metrics import mean_absolute_error\n",
        "# print(\"mean absolute error:\"+str(mean_absolute_error(y_test, lgbm_pred)))   "
      ],
      "execution_count": 0,
      "outputs": [
        {
          "output_type": "execute_result",
          "data": {
            "text/plain": [
              "0.4814769478498768"
            ]
          },
          "metadata": {
            "tags": []
          },
          "execution_count": 108
        }
      ]
    },
    {
      "cell_type": "code",
      "metadata": {
        "id": "SLVpQyBfLMlb",
        "colab_type": "code",
        "outputId": "849f335a-7513-4557-d795-af15b2712828",
        "colab": {
          "base_uri": "https://localhost:8080/",
          "height": 67
        }
      },
      "source": [
        "# import time \n",
        "\n",
        "# start_time = time.time()\n",
        "\n",
        "# model = Ridge(solver = \"sag\", fit_intercept=False)\n",
        "\n",
        "# print(\"Fitting Ridge Model\")\n",
        "# model.fit(X_train, y_train)\n",
        "\n",
        "# preds_valid = model.predict(X_test)\n",
        "\n",
        "# print('[{}] Ridge completed.'.format(time.time() - start_time))\n",
        "# print(\"Ridge rmsle: \"+str(rmsle(np.expm1(y_test), np.expm1(preds_valid))))"
      ],
      "execution_count": 0,
      "outputs": [
        {
          "output_type": "stream",
          "text": [
            "Fitting Ridge Model\n",
            "[207.33034873008728] Ridge completed.\n",
            "Ridge rmsle: 0.4716669311576959\n"
          ],
          "name": "stdout"
        }
      ]
    },
    {
      "cell_type": "code",
      "metadata": {
        "id": "p4YWExzfbYr3",
        "colab_type": "code",
        "outputId": "3631d2b6-6bc7-4964-b0d6-82b1d79aa83a",
        "colab": {
          "base_uri": "https://localhost:8080/",
          "height": 50
        }
      },
      "source": [
        "# from sklearn.metrics import r2_score\n",
        "# print(\"r-squared:\"+str(r2_score(y_test, preds_valid)))\n",
        "# from sklearn.metrics import mean_absolute_error\n",
        "# print(\"mean absolute error:\"+str(mean_absolute_error(y_test, preds_valid)))   "
      ],
      "execution_count": 0,
      "outputs": [
        {
          "output_type": "stream",
          "text": [
            "r-squared:0.6023841661873084\n",
            "mean absolute error:0.3522818777775839\n"
          ],
          "name": "stdout"
        }
      ]
    },
    {
      "cell_type": "markdown",
      "metadata": {
        "id": "e1TQBA3VOY_0",
        "colab_type": "text"
      },
      "source": [
        "Lemmatizer"
      ]
    },
    {
      "cell_type": "code",
      "metadata": {
        "id": "iVAz2RXHP035",
        "colab_type": "code",
        "outputId": "075fb773-5488-484f-80aa-3557f781113f",
        "colab": {
          "base_uri": "https://localhost:8080/",
          "height": 68
        }
      },
      "source": [
        "from nltk.stem import WordNetLemmatizer \n",
        "  \n",
        "lemmatizer = WordNetLemmatizer() \n",
        "nltk.download(\"wordnet\")"
      ],
      "execution_count": 0,
      "outputs": [
        {
          "output_type": "stream",
          "text": [
            "[nltk_data] Downloading package wordnet to /root/nltk_data...\n",
            "[nltk_data]   Unzipping corpora/wordnet.zip.\n"
          ],
          "name": "stdout"
        },
        {
          "output_type": "execute_result",
          "data": {
            "text/plain": [
              "True"
            ]
          },
          "metadata": {
            "tags": []
          },
          "execution_count": 74
        }
      ]
    },
    {
      "cell_type": "code",
      "metadata": {
        "id": "VDNIOC60OHpd",
        "colab_type": "code",
        "colab": {}
      },
      "source": [
        "item_words2 = []\n",
        "sentence_final2 = []\n",
        "for sentence in data.item_description:\n",
        "    temp2=\"\"\n",
        "    item_words2 = word_tokenize(sentence)\n",
        "    item_filtered_sentence2 = \"\"\n",
        "    for word in item_words2:\n",
        "        if word not in stopwords and word.isalpha():\n",
        "            temp2 = temp2 + \" \" + (lemmatizer.lemmatize(word))\n",
        "    sentence_final2.append(temp2);\n",
        "    "
      ],
      "execution_count": 0,
      "outputs": []
    },
    {
      "cell_type": "code",
      "metadata": {
        "id": "D_kKT8rWR05k",
        "colab_type": "code",
        "colab": {}
      },
      "source": [
        "data[\"lemmatize\"] = sentence_final2"
      ],
      "execution_count": 0,
      "outputs": []
    },
    {
      "cell_type": "code",
      "metadata": {
        "id": "2d1ar7YhR-yX",
        "colab_type": "code",
        "colab": {}
      },
      "source": [
        "data['lemmatize'] = data['lemmatize'].apply(remove_digits)\n",
        "data['lemmatize'] = data['lemmatize'].apply(remove_punctuation)\n",
        "data['lemmatize'] = data['lemmatize'].apply(to_lower)\n"
      ],
      "execution_count": 0,
      "outputs": []
    },
    {
      "cell_type": "code",
      "metadata": {
        "id": "LnKX5DdnSJhx",
        "colab_type": "code",
        "outputId": "cfd0857d-9450-434a-f764-428f085849bc",
        "colab": {
          "base_uri": "https://localhost:8080/",
          "height": 50
        }
      },
      "source": [
        "cv = CountVectorizer(min_df=10)\n",
        "X_name = cv.fit_transform(data['name'])\n",
        "X_name"
      ],
      "execution_count": 0,
      "outputs": [
        {
          "output_type": "execute_result",
          "data": {
            "text/plain": [
              "<1482535x16961 sparse matrix of type '<class 'numpy.int64'>'\n",
              "\twith 5527212 stored elements in Compressed Sparse Row format>"
            ]
          },
          "metadata": {
            "tags": []
          },
          "execution_count": 120
        }
      ]
    },
    {
      "cell_type": "code",
      "metadata": {
        "id": "LRMPSuX3SVXJ",
        "colab_type": "code",
        "outputId": "e4f29efe-af06-4c3b-fa8d-bb390dca21b6",
        "colab": {
          "base_uri": "https://localhost:8080/",
          "height": 50
        }
      },
      "source": [
        "cv = CountVectorizer()\n",
        "X_category = cv.fit_transform(data['category_name'])\n",
        "#X_sub1 = cv.fit_transform(combined['sub_category_1'])\n",
        "#X_sub2 = cv.fit_transform(combined['sub_category_2'])\n",
        "X_category"
      ],
      "execution_count": 0,
      "outputs": [
        {
          "output_type": "execute_result",
          "data": {
            "text/plain": [
              "<1482535x1012 sparse matrix of type '<class 'numpy.int64'>'\n",
              "\twith 5936121 stored elements in Compressed Sparse Row format>"
            ]
          },
          "metadata": {
            "tags": []
          },
          "execution_count": 121
        }
      ]
    },
    {
      "cell_type": "code",
      "metadata": {
        "id": "VmxkfIqrSedt",
        "colab_type": "code",
        "colab": {}
      },
      "source": [
        "tv = TfidfVectorizer(max_features=55000, ngram_range=(1, 2), stop_words='english')\n",
        "X_description = tv.fit_transform(data['lemmatize'])"
      ],
      "execution_count": 0,
      "outputs": []
    },
    {
      "cell_type": "code",
      "metadata": {
        "id": "OL_xZH8yTBuZ",
        "colab_type": "code",
        "colab": {}
      },
      "source": [
        "lb = LabelBinarizer(sparse_output=True)\n",
        "X_brand = lb.fit_transform(data['brand_name'])"
      ],
      "execution_count": 0,
      "outputs": []
    },
    {
      "cell_type": "code",
      "metadata": {
        "id": "zhYGSXA1TFqh",
        "colab_type": "code",
        "colab": {}
      },
      "source": [
        "data[\"shipping\"] = data[\"shipping\"].astype('category')"
      ],
      "execution_count": 0,
      "outputs": []
    },
    {
      "cell_type": "code",
      "metadata": {
        "id": "zorp09-sTKSX",
        "colab_type": "code",
        "colab": {}
      },
      "source": [
        "# Create our final sparse matrix\n",
        "X_dummies = csr_matrix(pd.get_dummies(combined[['item_condition_id', 'shipping']], sparse=True).values)\n",
        "\n",
        "# Combine everything together\n",
        "sparse_merge = hstack((X_dummies, X_description, X_brand, X_category, X_name)).tocsr()"
      ],
      "execution_count": 0,
      "outputs": []
    },
    {
      "cell_type": "code",
      "metadata": {
        "id": "MW3_S5TXTP9-",
        "colab_type": "code",
        "outputId": "016de708-7080-4ae8-a3de-dc9a685f0f89",
        "colab": {
          "base_uri": "https://localhost:8080/",
          "height": 50
        }
      },
      "source": [
        "from sklearn.model_selection import KFold\n",
        "kf = KFold(n_splits=10)\n",
        "X = sparse_merge\n",
        "kf.get_n_splits(X)\n",
        "print(kf) \n",
        "KFold(n_splits=10, random_state=None, shuffle=False)"
      ],
      "execution_count": 0,
      "outputs": [
        {
          "output_type": "stream",
          "text": [
            "KFold(n_splits=10, random_state=None, shuffle=False)\n"
          ],
          "name": "stdout"
        },
        {
          "output_type": "execute_result",
          "data": {
            "text/plain": [
              "KFold(n_splits=10, random_state=None, shuffle=False)"
            ]
          },
          "metadata": {
            "tags": []
          },
          "execution_count": 126
        }
      ]
    },
    {
      "cell_type": "code",
      "metadata": {
        "id": "hNtIeL9PTTvK",
        "colab_type": "code",
        "outputId": "9204a59d-3865-4e73-f051-7074e95ed9b9",
        "colab": {
          "base_uri": "https://localhost:8080/",
          "height": 185
        }
      },
      "source": [
        "for train_index, test_index in kf.split(X):\n",
        " print(\"TRAIN:\", train_index, \"TEST:\", test_index)\n",
        " X_train, X_test = X[train_index], X[test_index]\n",
        " y_train, y_test = y[train_index], y[test_index]"
      ],
      "execution_count": 0,
      "outputs": [
        {
          "output_type": "stream",
          "text": [
            "TRAIN: [ 148254  148255  148256 ... 1482532 1482533 1482534] TEST: [     0      1      2 ... 148251 148252 148253]\n",
            "TRAIN: [      0       1       2 ... 1482532 1482533 1482534] TEST: [148254 148255 148256 ... 296505 296506 296507]\n",
            "TRAIN: [      0       1       2 ... 1482532 1482533 1482534] TEST: [296508 296509 296510 ... 444759 444760 444761]\n",
            "TRAIN: [      0       1       2 ... 1482532 1482533 1482534] TEST: [444762 444763 444764 ... 593013 593014 593015]\n",
            "TRAIN: [      0       1       2 ... 1482532 1482533 1482534] TEST: [593016 593017 593018 ... 741267 741268 741269]\n",
            "TRAIN: [      0       1       2 ... 1482532 1482533 1482534] TEST: [741270 741271 741272 ... 889520 889521 889522]\n",
            "TRAIN: [      0       1       2 ... 1482532 1482533 1482534] TEST: [ 889523  889524  889525 ... 1037773 1037774 1037775]\n",
            "TRAIN: [      0       1       2 ... 1482532 1482533 1482534] TEST: [1037776 1037777 1037778 ... 1186026 1186027 1186028]\n",
            "TRAIN: [      0       1       2 ... 1482532 1482533 1482534] TEST: [1186029 1186030 1186031 ... 1334279 1334280 1334281]\n",
            "TRAIN: [      0       1       2 ... 1334279 1334280 1334281] TEST: [1334282 1334283 1334284 ... 1482532 1482533 1482534]\n"
          ],
          "name": "stdout"
        }
      ]
    },
    {
      "cell_type": "code",
      "metadata": {
        "id": "WKkh1EttULI0",
        "colab_type": "code",
        "colab": {}
      },
      "source": [
        "d_train = lgb.Dataset(X_train, label=y_train)"
      ],
      "execution_count": 0,
      "outputs": []
    },
    {
      "cell_type": "code",
      "metadata": {
        "id": "-3KP2svnUW02",
        "colab_type": "code",
        "colab": {}
      },
      "source": [
        "params = {}\n",
        "#params['learning_rate'] = 0.003\n",
        "params['boosting_type'] = 'gbdt'\n",
        "params['objective'] = 'regression'\n",
        "params['metric'] = 'rmse'\n",
        "\n",
        "clf = lgb.train(params, d_train, 100)"
      ],
      "execution_count": 0,
      "outputs": []
    },
    {
      "cell_type": "code",
      "metadata": {
        "id": "SpW6AmvGV2iP",
        "colab_type": "code",
        "colab": {}
      },
      "source": [
        "lgbm_pred=clf.predict(X_test)"
      ],
      "execution_count": 0,
      "outputs": []
    },
    {
      "cell_type": "code",
      "metadata": {
        "id": "RGhE_2t2V6FB",
        "colab_type": "code",
        "outputId": "35b0028a-db16-4d5d-c93d-56afe70f5b5b",
        "colab": {
          "base_uri": "https://localhost:8080/",
          "height": 50
        }
      },
      "source": [
        "np.expm1(lgbm_pred)"
      ],
      "execution_count": 0,
      "outputs": [
        {
          "output_type": "execute_result",
          "data": {
            "text/plain": [
              "array([12.87266012, 27.96883998, 15.74803937, ..., 15.91787709,\n",
              "       10.95416584, 18.18870064])"
            ]
          },
          "metadata": {
            "tags": []
          },
          "execution_count": 131
        }
      ]
    },
    {
      "cell_type": "code",
      "metadata": {
        "id": "6FXoqhEbV_au",
        "colab_type": "code",
        "outputId": "ac123993-2bd0-4068-9c89-88edc9429043",
        "colab": {
          "base_uri": "https://localhost:8080/",
          "height": 50
        }
      },
      "source": [
        "import time\n",
        "start_time = time.time()\n",
        "print('[{}] LGBM completed.'.format(time.time() - start_time))\n",
        "print(\"LGBM rmsle: \"+str(rmsle(np.expm1(y_test), np.expm1(lgbm_pred))))\n",
        "\n",
        "\n"
      ],
      "execution_count": 0,
      "outputs": [
        {
          "output_type": "stream",
          "text": [
            "[4.00543212890625e-05] LGBM completed.\n",
            "LGBM rmsle: 0.5387163024306395\n"
          ],
          "name": "stdout"
        }
      ]
    },
    {
      "cell_type": "code",
      "metadata": {
        "id": "g2g7T1UNWF8n",
        "colab_type": "code",
        "outputId": "6a79a788-0989-43cc-87dc-36180a6e9784",
        "colab": {
          "base_uri": "https://localhost:8080/",
          "height": 50
        }
      },
      "source": [
        "from sklearn.metrics import r2_score\n",
        "r2_score(y_test, lgbm_pred)\n",
        "print(\"r-squared:\"+str(r2_score(y_test, lgbm_pred)))\n",
        "print(\"mean absolute error:\"+str(mean_absolute_error(y_test, lgbm_pred)))"
      ],
      "execution_count": 0,
      "outputs": [
        {
          "output_type": "stream",
          "text": [
            "r-squared:0.4813038200515414\n",
            "mean absolute error:0.4097556614229984\n"
          ],
          "name": "stdout"
        }
      ]
    },
    {
      "cell_type": "code",
      "metadata": {
        "id": "G8qjZc_wWM9R",
        "colab_type": "code",
        "outputId": "728b746e-379f-49c1-de20-46cf0e2018f8",
        "colab": {
          "base_uri": "https://localhost:8080/",
          "height": 67
        }
      },
      "source": [
        "import time \n",
        "\n",
        "start_time = time.time()\n",
        "\n",
        "model = Ridge(solver = \"sag\", fit_intercept=False)\n",
        "\n",
        "print(\"Fitting Ridge Model\")\n",
        "model.fit(X_train, y_train)\n",
        "\n",
        "preds_valid = model.predict(X_test)\n",
        "\n",
        "print('[{}] Ridge completed.'.format(time.time() - start_time))\n",
        "print(\"Ridge rmsle: \"+str(rmsle(np.expm1(y_test), np.expm1(preds_valid))))"
      ],
      "execution_count": 0,
      "outputs": [
        {
          "output_type": "stream",
          "text": [
            "Fitting Ridge Model\n",
            "[238.61450815200806] Ridge completed.\n",
            "Ridge rmsle: 0.47166832560041894\n"
          ],
          "name": "stdout"
        }
      ]
    },
    {
      "cell_type": "code",
      "metadata": {
        "id": "h410y3lGX1I1",
        "colab_type": "code",
        "outputId": "481ed4c2-2baf-403a-de72-88ac4f33f494",
        "colab": {
          "base_uri": "https://localhost:8080/",
          "height": 50
        }
      },
      "source": [
        "from sklearn.metrics import r2_score\n",
        "print(\"r-squared:\"+str(r2_score(y_test, preds_valid)))\n",
        "from sklearn.metrics import mean_absolute_error\n",
        "print(\"mean absolute error:\"+str(mean_absolute_error(y_test, preds_valid)))      "
      ],
      "execution_count": 0,
      "outputs": [
        {
          "output_type": "stream",
          "text": [
            "r-squared:0.6023818151497885\n",
            "mean absolute error:0.35228287710761497\n"
          ],
          "name": "stdout"
        }
      ]
    },
    {
      "cell_type": "markdown",
      "metadata": {
        "id": "rhRBHNKEQ1ZS",
        "colab_type": "text"
      },
      "source": [
        "club"
      ]
    },
    {
      "cell_type": "code",
      "metadata": {
        "id": "w2GZY4xe_XGH",
        "colab_type": "code",
        "colab": {}
      },
      "source": [
        "data[\"name\"] = data[\"name\"].astype(\"str\")\n",
        "data[\"brand_name\"] = data[\"brand_name\"].astype(\"str\")\n",
        "data[\"category_name\"] = data[\"category_name\"].astype(\"str\")\n",
        "data[\"item_description\"] = data[\"item_description\"].astype(\"str\")"
      ],
      "execution_count": 0,
      "outputs": []
    },
    {
      "cell_type": "code",
      "metadata": {
        "id": "whmztjR32Tks",
        "colab_type": "code",
        "colab": {}
      },
      "source": [
        "data[\"new\"] = data[\"name\"]+ \" \"+data[\"brand_name\"]+\" \"+data[\"category_name\"]+\" \"+data[\"item_description\"]"
      ],
      "execution_count": 0,
      "outputs": []
    },
    {
      "cell_type": "code",
      "metadata": {
        "id": "KKaFQI9q_9IE",
        "colab_type": "code",
        "colab": {}
      },
      "source": [
        "item_words4 = []\n",
        "sentence_final4 = []\n",
        "for sentence in data.new:\n",
        "    temp4=\"\"\n",
        "    item_words4 = word_tokenize(sentence)\n",
        "    item_filtered_sentence4 = \"\"\n",
        "    for word in item_words4:\n",
        "        if word not in stopwords and word.isalpha():\n",
        "            #temp_sent = temp_sent + \" \" + (my_lemmatizer.lemmatize(word))\n",
        "            temp4 = temp4 + \" \" + (lemmatizer.lemmatize(word))\n",
        "    sentence_final4.append(temp4);\n",
        "    "
      ],
      "execution_count": 0,
      "outputs": []
    },
    {
      "cell_type": "code",
      "metadata": {
        "id": "PnikiesQDZdz",
        "colab_type": "code",
        "colab": {}
      },
      "source": [
        "data[\"club\"] = sentence_final4"
      ],
      "execution_count": 0,
      "outputs": []
    },
    {
      "cell_type": "code",
      "metadata": {
        "id": "Xh-DA42NGVJf",
        "colab_type": "code",
        "colab": {}
      },
      "source": [
        "data['club'] = data['club'].apply(remove_digits)\n",
        "data['club'] = data['club'].apply(remove_punctuation)\n",
        "data['club'] = data['club'].apply(to_lower)\n"
      ],
      "execution_count": 0,
      "outputs": []
    },
    {
      "cell_type": "code",
      "metadata": {
        "id": "RGg4LdkOHcZS",
        "colab_type": "code",
        "colab": {}
      },
      "source": [
        "tv = TfidfVectorizer(max_features=55000, ngram_range=(1, 2), stop_words='english')\n",
        "X_description = tv.fit_transform(data['club'])"
      ],
      "execution_count": 0,
      "outputs": []
    },
    {
      "cell_type": "code",
      "metadata": {
        "id": "T2ECCNGuHvwH",
        "colab_type": "code",
        "colab": {}
      },
      "source": [
        "data[\"shipping\"] = data[\"shipping\"].astype('category')"
      ],
      "execution_count": 0,
      "outputs": []
    },
    {
      "cell_type": "code",
      "metadata": {
        "id": "lfIe2ZuOH-K_",
        "colab_type": "code",
        "colab": {}
      },
      "source": [
        "data[\"item_condition_id\"] = data[\"item_condition_id\"].astype(\"category\")"
      ],
      "execution_count": 0,
      "outputs": []
    },
    {
      "cell_type": "code",
      "metadata": {
        "id": "IB3oheXfH2W9",
        "colab_type": "code",
        "colab": {}
      },
      "source": [
        "# Create our final sparse matrix\n",
        "X_dummies = csr_matrix(pd.get_dummies(data[['item_condition_id', 'shipping']], sparse=True).values)\n",
        "\n",
        "# Combine everything together\n",
        "sparse_merge = hstack((X_dummies, X_description)).tocsr()"
      ],
      "execution_count": 0,
      "outputs": []
    },
    {
      "cell_type": "code",
      "metadata": {
        "id": "UDzKbF6gIbfe",
        "colab_type": "code",
        "outputId": "e25fd06b-d2eb-44f2-edac-51b0e653c6f6",
        "colab": {
          "base_uri": "https://localhost:8080/",
          "height": 51
        }
      },
      "source": [
        "from sklearn.model_selection import KFold\n",
        "kf = KFold(n_splits=10)\n",
        "X = sparse_merge\n",
        "kf.get_n_splits(X)\n",
        "print(kf) \n",
        "KFold(n_splits=10, random_state=None, shuffle=False)"
      ],
      "execution_count": 0,
      "outputs": [
        {
          "output_type": "stream",
          "text": [
            "KFold(n_splits=10, random_state=None, shuffle=False)\n"
          ],
          "name": "stdout"
        },
        {
          "output_type": "execute_result",
          "data": {
            "text/plain": [
              "KFold(n_splits=10, random_state=None, shuffle=False)"
            ]
          },
          "metadata": {
            "tags": []
          },
          "execution_count": 87
        }
      ]
    },
    {
      "cell_type": "code",
      "metadata": {
        "id": "lQ1YtSLaIgSn",
        "colab_type": "code",
        "outputId": "cfdddc1b-86a3-40b2-99b2-cf9b9bdc19d2",
        "colab": {
          "base_uri": "https://localhost:8080/",
          "height": 254
        }
      },
      "source": [
        "for train_index, test_index in kf.split(X):\n",
        " print(\"TRAIN:\", train_index, \"TEST:\", test_index)\n",
        " X_train, X_test = X[train_index], X[test_index]\n",
        " y_train, y_test = y[train_index], y[test_index]"
      ],
      "execution_count": 0,
      "outputs": [
        {
          "output_type": "stream",
          "text": [
            "TRAIN: [ 148254  148255  148256 ... 1482532 1482533 1482534] TEST: [     0      1      2 ... 148251 148252 148253]\n",
            "TRAIN: [      0       1       2 ... 1482532 1482533 1482534] TEST: [148254 148255 148256 ... 296505 296506 296507]\n",
            "TRAIN: [      0       1       2 ... 1482532 1482533 1482534] TEST: [296508 296509 296510 ... 444759 444760 444761]\n",
            "TRAIN: [      0       1       2 ... 1482532 1482533 1482534] TEST: [444762 444763 444764 ... 593013 593014 593015]\n",
            "TRAIN: [      0       1       2 ... 1482532 1482533 1482534] TEST: [593016 593017 593018 ... 741267 741268 741269]\n",
            "TRAIN: [      0       1       2 ... 1482532 1482533 1482534] TEST: [741270 741271 741272 ... 889520 889521 889522]\n",
            "TRAIN: [      0       1       2 ... 1482532 1482533 1482534] TEST: [ 889523  889524  889525 ... 1037773 1037774 1037775]\n",
            "TRAIN: [      0       1       2 ... 1482532 1482533 1482534] TEST: [1037776 1037777 1037778 ... 1186026 1186027 1186028]\n",
            "TRAIN: [      0       1       2 ... 1482532 1482533 1482534] TEST: [1186029 1186030 1186031 ... 1334279 1334280 1334281]\n",
            "TRAIN: [      0       1       2 ... 1334279 1334280 1334281] TEST: [1334282 1334283 1334284 ... 1482532 1482533 1482534]\n"
          ],
          "name": "stdout"
        }
      ]
    },
    {
      "cell_type": "code",
      "metadata": {
        "id": "S-_mvgZqIlil",
        "colab_type": "code",
        "colab": {}
      },
      "source": [
        "import lightgbm as lgb\n",
        "d_train = lgb.Dataset(X_train, label=y_train)\n"
      ],
      "execution_count": 0,
      "outputs": []
    },
    {
      "cell_type": "code",
      "metadata": {
        "id": "rCnkmi3EI8lP",
        "colab_type": "code",
        "colab": {}
      },
      "source": [
        "params = {}\n",
        "#params['learning_rate'] = 0.003\n",
        "params['boosting_type'] = 'gbdt'\n",
        "params['objective'] = 'regression'\n",
        "params['metric'] = 'rmse'\n",
        "\n",
        "clf = lgb.train(params, d_train, 100)"
      ],
      "execution_count": 0,
      "outputs": []
    },
    {
      "cell_type": "code",
      "metadata": {
        "id": "Vh8pIpqKKxB4",
        "colab_type": "code",
        "colab": {}
      },
      "source": [
        "lgbm_pred=clf.predict(X_test)"
      ],
      "execution_count": 0,
      "outputs": []
    },
    {
      "cell_type": "code",
      "metadata": {
        "id": "HGKa5tJ5K0yM",
        "colab_type": "code",
        "outputId": "9a04c636-f4ce-4b81-a202-fc20bbbf27b0",
        "colab": {
          "base_uri": "https://localhost:8080/",
          "height": 51
        }
      },
      "source": [
        "np.expm1(lgbm_pred)"
      ],
      "execution_count": 0,
      "outputs": [
        {
          "output_type": "execute_result",
          "data": {
            "text/plain": [
              "array([13.95051834, 20.7773767 , 16.09137933, ..., 15.9186744 ,\n",
              "       12.04984043, 19.66873296])"
            ]
          },
          "metadata": {
            "tags": []
          },
          "execution_count": 92
        }
      ]
    },
    {
      "cell_type": "code",
      "metadata": {
        "id": "V3rpkTCLK4nH",
        "colab_type": "code",
        "outputId": "9d5991fe-d956-48cf-bca8-1af98836b319",
        "colab": {
          "base_uri": "https://localhost:8080/",
          "height": 51
        }
      },
      "source": [
        "import time\n",
        "start_time = time.time()\n",
        "print('[{}] LGBM completed.'.format(time.time() - start_time))\n",
        "print(\"LGBM rmsle: \"+str(rmsle(np.expm1(y_test), np.expm1(lgbm_pred))))\n",
        "\n",
        "\n"
      ],
      "execution_count": 0,
      "outputs": [
        {
          "output_type": "stream",
          "text": [
            "[4.458427429199219e-05] LGBM completed.\n",
            "LGBM rmsle: 0.5583794978033335\n"
          ],
          "name": "stdout"
        }
      ]
    },
    {
      "cell_type": "code",
      "metadata": {
        "id": "HCgmtVJnMKQk",
        "colab_type": "code",
        "outputId": "c16077cd-6ea6-4760-fc3b-95b4047088ed",
        "colab": {
          "base_uri": "https://localhost:8080/",
          "height": 51
        }
      },
      "source": [
        "from sklearn.metrics import r2_score\n",
        "print(\"r-squared:\"+str(r2_score(y_test, lgbm_pred)))\n",
        "from sklearn.metrics import mean_absolute_error\n",
        "print(\"mean absolute error:\"+str(mean_absolute_error(y_test, lgbm_pred)))   "
      ],
      "execution_count": 0,
      "outputs": [
        {
          "output_type": "stream",
          "text": [
            "r-squared:0.44274786546485967\n",
            "mean absolute error:0.426481174749929\n"
          ],
          "name": "stdout"
        }
      ]
    },
    {
      "cell_type": "code",
      "metadata": {
        "id": "hyoxbzi7MddK",
        "colab_type": "code",
        "outputId": "124e3ea6-653a-431b-e1f2-7610eedfe8e2",
        "colab": {
          "base_uri": "https://localhost:8080/",
          "height": 68
        }
      },
      "source": [
        "import time \n",
        "\n",
        "start_time = time.time()\n",
        "\n",
        "model = Ridge(solver = \"sag\", fit_intercept=False)\n",
        "\n",
        "print(\"Fitting Ridge Model\")\n",
        "model.fit(X_train, y_train)\n",
        "\n",
        "preds_valid = model.predict(X_test)\n",
        "\n",
        "print('[{}] Ridge completed.'.format(time.time() - start_time))\n",
        "print(\"Ridge rmsle: \"+str(rmsle(np.expm1(y_test), np.expm1(preds_valid))))"
      ],
      "execution_count": 0,
      "outputs": [
        {
          "output_type": "stream",
          "text": [
            "Fitting Ridge Model\n",
            "[80.17570638656616] Ridge completed.\n",
            "Ridge rmsle: 0.4845469019879797\n"
          ],
          "name": "stdout"
        }
      ]
    },
    {
      "cell_type": "code",
      "metadata": {
        "id": "zto7O7A5MO9j",
        "colab_type": "code",
        "outputId": "8f0da7b1-7ee4-47cc-9450-13a4301be59a",
        "colab": {
          "base_uri": "https://localhost:8080/",
          "height": 51
        }
      },
      "source": [
        "from sklearn.metrics import r2_score\n",
        "print(\"r-squared:\"+str(r2_score(y_test, preds_valid)))\n",
        "from sklearn.metrics import mean_absolute_error\n",
        "print(\"mean absolute error:\"+str(mean_absolute_error(y_test, preds_valid)))   "
      ],
      "execution_count": 0,
      "outputs": [
        {
          "output_type": "stream",
          "text": [
            "r-squared:0.5803720034574444\n",
            "mean absolute error:0.3617400290698352\n"
          ],
          "name": "stdout"
        }
      ]
    }
  ]
}