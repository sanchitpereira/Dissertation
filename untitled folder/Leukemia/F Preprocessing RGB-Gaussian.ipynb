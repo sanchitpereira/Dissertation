{
 "cells": [
  {
   "cell_type": "code",
   "execution_count": 2,
   "metadata": {},
   "outputs": [
    {
     "name": "stdout",
     "output_type": "stream",
     "text": [
      "Directory already exist, images will be written in same folder\n"
     ]
    }
   ],
   "source": [
    "import cv2\n",
    "\n",
    "import os,glob\n",
    "\n",
    "from os import listdir,makedirs\n",
    "\n",
    "from os.path import isfile,join\n",
    "path = r'/Users/jesus/Downloads/blood_cancer/Augmented_train/Full/' # Source Folder\n",
    "dstpath = r'/Users/jesus/Downloads/blood_cancer/Augmented_train/Gaussian5/' # Destination Folder\n",
    "try:\n",
    "    makedirs(dstpath)\n",
    "except:\n",
    "    print (\"Directory already exist, images will be written in same folder\")\n",
    "# Folder won't used\n",
    "files = [f for f in listdir(path) if isfile(join(path,f))] \n",
    "for image in files:\n",
    "    try:\n",
    "        bgr = cv2.imread(os.path.join(path,image))\n",
    "        imge = cv2.GaussianBlur(bgr, (5, 5), 0)\n",
    "        dstPath = join(dstpath,image)\n",
    "        \n",
    "        cv2.imwrite(dstPath,imge)\n",
    "\n",
    "    except:\n",
    "        print (\"{} is not converted\".format(image))\n",
    "for fil in glob.glob(\"*.bmp\"):\n",
    "    try:\n",
    "        bgr2 = cv2.imread(fil) \n",
    "        imgee = cv2.GaussianBlur(bgr2, (5, 5), 0)\n",
    "        cv2.imwrite(os.path.join(dstpath,fil),imgee)\n",
    "\n",
    "    except:\n",
    "        print('{} is not converted')"
   ]
  },
  {
   "cell_type": "code",
   "execution_count": null,
   "metadata": {},
   "outputs": [],
   "source": []
  }
 ],
 "metadata": {
  "kernelspec": {
   "display_name": "Python 3",
   "language": "python",
   "name": "python3"
  },
  "language_info": {
   "codemirror_mode": {
    "name": "ipython",
    "version": 3
   },
   "file_extension": ".py",
   "mimetype": "text/x-python",
   "name": "python",
   "nbconvert_exporter": "python",
   "pygments_lexer": "ipython3",
   "version": "3.7.6"
  }
 },
 "nbformat": 4,
 "nbformat_minor": 2
}
