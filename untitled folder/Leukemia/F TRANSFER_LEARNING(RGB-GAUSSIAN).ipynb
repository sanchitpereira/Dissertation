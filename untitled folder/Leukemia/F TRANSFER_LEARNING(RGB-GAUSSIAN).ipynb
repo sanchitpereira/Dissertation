{
 "cells": [
  {
   "cell_type": "markdown",
   "metadata": {},
   "source": [
    "Importing Libraries"
   ]
  },
  {
   "cell_type": "code",
   "execution_count": 2,
   "metadata": {},
   "outputs": [
    {
     "name": "stderr",
     "output_type": "stream",
     "text": [
      "Using TensorFlow backend.\n"
     ]
    }
   ],
   "source": [
    "import random\n",
    "import pandas as pd\n",
    "import os\n",
    "from keras.preprocessing.image import ImageDataGenerator, load_img\n",
    "import matplotlib.pyplot as plt\n",
    "from sklearn.model_selection import train_test_split\n",
    "from keras.applications.vgg16 import VGG16\n",
    "import numpy as np\n",
    "from keras.models import Sequential\n",
    "from keras.layers import GlobalAveragePooling2D\n",
    "from keras.layers.core import Activation,Dropout, Dense\n",
    "from keras.callbacks import EarlyStopping, ReduceLROnPlateau\n",
    "from sklearn.metrics import accuracy_score\n",
    "from sklearn.metrics import f1_score\n",
    "from sklearn.metrics import confusion_matrix\n",
    "from mlxtend.plotting import plot_confusion_matrix\n",
    "from keras import layers,models"
   ]
  },
  {
   "cell_type": "code",
   "execution_count": 3,
   "metadata": {},
   "outputs": [],
   "source": [
    "random.seed(2418)"
   ]
  },
  {
   "cell_type": "code",
   "execution_count": 4,
   "metadata": {},
   "outputs": [],
   "source": [
    "train = pd.read_csv('/Users/jesus/Downloads/blood_cancer/Augmented_train/train.csv')"
   ]
  },
  {
   "cell_type": "code",
   "execution_count": 5,
   "metadata": {},
   "outputs": [
    {
     "data": {
      "text/html": [
       "<div>\n",
       "<style scoped>\n",
       "    .dataframe tbody tr th:only-of-type {\n",
       "        vertical-align: middle;\n",
       "    }\n",
       "\n",
       "    .dataframe tbody tr th {\n",
       "        vertical-align: top;\n",
       "    }\n",
       "\n",
       "    .dataframe thead th {\n",
       "        text-align: right;\n",
       "    }\n",
       "</style>\n",
       "<table border=\"1\" class=\"dataframe\">\n",
       "  <thead>\n",
       "    <tr style=\"text-align: right;\">\n",
       "      <th></th>\n",
       "      <th>image_id</th>\n",
       "      <th>labels</th>\n",
       "    </tr>\n",
       "  </thead>\n",
       "  <tbody>\n",
       "    <tr>\n",
       "      <td>15084</td>\n",
       "      <td>_0_5667.h.bmp</td>\n",
       "      <td>1</td>\n",
       "    </tr>\n",
       "    <tr>\n",
       "      <td>15085</td>\n",
       "      <td>_0_7185.h.bmp</td>\n",
       "      <td>1</td>\n",
       "    </tr>\n",
       "    <tr>\n",
       "      <td>15086</td>\n",
       "      <td>_0_7554.h.bmp</td>\n",
       "      <td>1</td>\n",
       "    </tr>\n",
       "    <tr>\n",
       "      <td>15087</td>\n",
       "      <td>_0_2332.h.bmp</td>\n",
       "      <td>1</td>\n",
       "    </tr>\n",
       "    <tr>\n",
       "      <td>15088</td>\n",
       "      <td>_0_5622.h.bmp</td>\n",
       "      <td>1</td>\n",
       "    </tr>\n",
       "  </tbody>\n",
       "</table>\n",
       "</div>"
      ],
      "text/plain": [
       "            image_id  labels\n",
       "15084  _0_5667.h.bmp       1\n",
       "15085  _0_7185.h.bmp       1\n",
       "15086  _0_7554.h.bmp       1\n",
       "15087  _0_2332.h.bmp       1\n",
       "15088  _0_5622.h.bmp       1"
      ]
     },
     "execution_count": 5,
     "metadata": {},
     "output_type": "execute_result"
    }
   ],
   "source": [
    "train.tail()"
   ]
  },
  {
   "cell_type": "code",
   "execution_count": 6,
   "metadata": {},
   "outputs": [],
   "source": [
    "train = train.sample(frac=1).reset_index(drop=True)"
   ]
  },
  {
   "cell_type": "code",
   "execution_count": 7,
   "metadata": {},
   "outputs": [
    {
     "data": {
      "text/html": [
       "<div>\n",
       "<style scoped>\n",
       "    .dataframe tbody tr th:only-of-type {\n",
       "        vertical-align: middle;\n",
       "    }\n",
       "\n",
       "    .dataframe tbody tr th {\n",
       "        vertical-align: top;\n",
       "    }\n",
       "\n",
       "    .dataframe thead th {\n",
       "        text-align: right;\n",
       "    }\n",
       "</style>\n",
       "<table border=\"1\" class=\"dataframe\">\n",
       "  <thead>\n",
       "    <tr style=\"text-align: right;\">\n",
       "      <th></th>\n",
       "      <th>image_id</th>\n",
       "      <th>labels</th>\n",
       "    </tr>\n",
       "  </thead>\n",
       "  <tbody>\n",
       "    <tr>\n",
       "      <td>0</td>\n",
       "      <td>_0_3291.h.bmp</td>\n",
       "      <td>1</td>\n",
       "    </tr>\n",
       "    <tr>\n",
       "      <td>1</td>\n",
       "      <td>_0_6698..bmp</td>\n",
       "      <td>0</td>\n",
       "    </tr>\n",
       "    <tr>\n",
       "      <td>2</td>\n",
       "      <td>_0_4547.h.bmp</td>\n",
       "      <td>1</td>\n",
       "    </tr>\n",
       "    <tr>\n",
       "      <td>3</td>\n",
       "      <td>_0_7337.h.bmp</td>\n",
       "      <td>1</td>\n",
       "    </tr>\n",
       "    <tr>\n",
       "      <td>4</td>\n",
       "      <td>_0_3149.h.bmp</td>\n",
       "      <td>1</td>\n",
       "    </tr>\n",
       "  </tbody>\n",
       "</table>\n",
       "</div>"
      ],
      "text/plain": [
       "        image_id  labels\n",
       "0  _0_3291.h.bmp       1\n",
       "1   _0_6698..bmp       0\n",
       "2  _0_4547.h.bmp       1\n",
       "3  _0_7337.h.bmp       1\n",
       "4  _0_3149.h.bmp       1"
      ]
     },
     "execution_count": 7,
     "metadata": {},
     "output_type": "execute_result"
    }
   ],
   "source": [
    "train.head()"
   ]
  },
  {
   "cell_type": "code",
   "execution_count": 8,
   "metadata": {},
   "outputs": [
    {
     "data": {
      "text/html": [
       "<div>\n",
       "<style scoped>\n",
       "    .dataframe tbody tr th:only-of-type {\n",
       "        vertical-align: middle;\n",
       "    }\n",
       "\n",
       "    .dataframe tbody tr th {\n",
       "        vertical-align: top;\n",
       "    }\n",
       "\n",
       "    .dataframe thead th {\n",
       "        text-align: right;\n",
       "    }\n",
       "</style>\n",
       "<table border=\"1\" class=\"dataframe\">\n",
       "  <thead>\n",
       "    <tr style=\"text-align: right;\">\n",
       "      <th></th>\n",
       "      <th>image_id</th>\n",
       "      <th>labels</th>\n",
       "    </tr>\n",
       "  </thead>\n",
       "  <tbody>\n",
       "    <tr>\n",
       "      <td>15084</td>\n",
       "      <td>_0_8846..bmp</td>\n",
       "      <td>0</td>\n",
       "    </tr>\n",
       "    <tr>\n",
       "      <td>15085</td>\n",
       "      <td>_0_2487..bmp</td>\n",
       "      <td>0</td>\n",
       "    </tr>\n",
       "    <tr>\n",
       "      <td>15086</td>\n",
       "      <td>_0_932.h.bmp</td>\n",
       "      <td>1</td>\n",
       "    </tr>\n",
       "    <tr>\n",
       "      <td>15087</td>\n",
       "      <td>_0_5734.h.bmp</td>\n",
       "      <td>1</td>\n",
       "    </tr>\n",
       "    <tr>\n",
       "      <td>15088</td>\n",
       "      <td>_0_9385.h.bmp</td>\n",
       "      <td>1</td>\n",
       "    </tr>\n",
       "  </tbody>\n",
       "</table>\n",
       "</div>"
      ],
      "text/plain": [
       "            image_id  labels\n",
       "15084   _0_8846..bmp       0\n",
       "15085   _0_2487..bmp       0\n",
       "15086   _0_932.h.bmp       1\n",
       "15087  _0_5734.h.bmp       1\n",
       "15088  _0_9385.h.bmp       1"
      ]
     },
     "execution_count": 8,
     "metadata": {},
     "output_type": "execute_result"
    }
   ],
   "source": [
    "train.tail()"
   ]
  },
  {
   "cell_type": "code",
   "execution_count": 9,
   "metadata": {
    "scrolled": true
   },
   "outputs": [
    {
     "data": {
      "text/plain": [
       "<matplotlib.axes._subplots.AxesSubplot at 0x1a3c7ea410>"
      ]
     },
     "execution_count": 9,
     "metadata": {},
     "output_type": "execute_result"
    },
    {
     "data": {
      "image/png": "[encoded data removed]",
      "text/plain": [
       "<Figure size 432x288 with 1 Axes>"
      ]
     },
     "metadata": {
      "needs_background": "light"
     },
     "output_type": "display_data"
    }
   ],
   "source": [
    "train['labels'].value_counts().plot.bar()"
   ]
  },
  {
   "cell_type": "code",
   "execution_count": 10,
   "metadata": {},
   "outputs": [
    {
     "data": {
      "text/plain": [
       "<matplotlib.image.AxesImage at 0x1a3df91750>"
      ]
     },
     "execution_count": 10,
     "metadata": {},
     "output_type": "execute_result"
    },
    {
     "data": {
      "image/png": "[encoded data removed]",
      "text/plain": [
       "<Figure size 432x288 with 1 Axes>"
      ]
     },
     "metadata": {
      "needs_background": "light"
     },
     "output_type": "display_data"
    }
   ],
   "source": [
    "files = os.listdir(\"/Users/jesus/Downloads/blood_cancer/Augmented_train/rgbgaussian/\")\n",
    "\n",
    "\n",
    "sample = random.choice(files)\n",
    "image = load_img(\"/Users/jesus/Downloads/blood_cancer/Augmented_train/rgbgaussian/\" +sample)\n",
    "plt.imshow(image)"
   ]
  },
  {
   "cell_type": "code",
   "execution_count": 11,
   "metadata": {},
   "outputs": [],
   "source": [
    "train[\"labels\"] = train[\"labels\"].replace({0: 'all', 1: 'hem'}) "
   ]
  },
  {
   "cell_type": "code",
   "execution_count": 12,
   "metadata": {},
   "outputs": [],
   "source": [
    "train_dir = '/Users/jesus/Downloads/blood_cancer/Augmented_train/rgbgaussian/'"
   ]
  },
  {
   "cell_type": "markdown",
   "metadata": {},
   "source": [
    "Stratified Splitting"
   ]
  },
  {
   "cell_type": "code",
   "execution_count": 13,
   "metadata": {},
   "outputs": [],
   "source": [
    "train_df, test_df = train_test_split(train, test_size=0.25, random_state=20)"
   ]
  },
  {
   "cell_type": "code",
   "execution_count": 14,
   "metadata": {},
   "outputs": [],
   "source": [
    "train_df, validate_df = train_test_split(train_df, test_size=0.15, random_state=20)"
   ]
  },
  {
   "cell_type": "code",
   "execution_count": 15,
   "metadata": {},
   "outputs": [
    {
     "data": {
      "text/plain": [
       "<matplotlib.axes._subplots.AxesSubplot at 0x1a3dfb1d90>"
      ]
     },
     "execution_count": 15,
     "metadata": {},
     "output_type": "execute_result"
    },
    {
     "data": {
      "image/png": "[encoded data removed]",
      "text/plain": [
       "<Figure size 432x288 with 1 Axes>"
      ]
     },
     "metadata": {
      "needs_background": "light"
     },
     "output_type": "display_data"
    }
   ],
   "source": [
    "train_df['labels'].value_counts().plot.bar()"
   ]
  },
  {
   "cell_type": "code",
   "execution_count": 16,
   "metadata": {},
   "outputs": [
    {
     "data": {
      "text/plain": [
       "9618"
      ]
     },
     "execution_count": 16,
     "metadata": {},
     "output_type": "execute_result"
    }
   ],
   "source": [
    "len(train_df)\n"
   ]
  },
  {
   "cell_type": "code",
   "execution_count": 17,
   "metadata": {},
   "outputs": [
    {
     "data": {
      "text/plain": [
       "<matplotlib.axes._subplots.AxesSubplot at 0x1a3d0a0050>"
      ]
     },
     "execution_count": 17,
     "metadata": {},
     "output_type": "execute_result"
    },
    {
     "data": {
      "image/png": "[encoded data removed]",
      "text/plain": [
       "<Figure size 432x288 with 1 Axes>"
      ]
     },
     "metadata": {
      "needs_background": "light"
     },
     "output_type": "display_data"
    }
   ],
   "source": [
    "validate_df['labels'].value_counts().plot.bar()"
   ]
  },
  {
   "cell_type": "code",
   "execution_count": 18,
   "metadata": {},
   "outputs": [
    {
     "data": {
      "text/plain": [
       "3773"
      ]
     },
     "execution_count": 18,
     "metadata": {},
     "output_type": "execute_result"
    }
   ],
   "source": [
    "len(test_df)\n"
   ]
  },
  {
   "cell_type": "code",
   "execution_count": 19,
   "metadata": {},
   "outputs": [
    {
     "data": {
      "text/plain": [
       "1698"
      ]
     },
     "execution_count": 19,
     "metadata": {},
     "output_type": "execute_result"
    }
   ],
   "source": [
    "len(validate_df)"
   ]
  },
  {
   "cell_type": "code",
   "execution_count": 20,
   "metadata": {
    "scrolled": true
   },
   "outputs": [
    {
     "data": {
      "text/plain": [
       "<matplotlib.axes._subplots.AxesSubplot at 0x1a3d0fb790>"
      ]
     },
     "execution_count": 20,
     "metadata": {},
     "output_type": "execute_result"
    },
    {
     "data": {
      "image/png": "[encoded data removed]",
      "text/plain": [
       "<Figure size 432x288 with 1 Axes>"
      ]
     },
     "metadata": {
      "needs_background": "light"
     },
     "output_type": "display_data"
    }
   ],
   "source": [
    "test_df['labels'].value_counts().plot.bar()"
   ]
  },
  {
   "cell_type": "code",
   "execution_count": 23,
   "metadata": {},
   "outputs": [],
   "source": [
    "batch_size=32"
   ]
  },
  {
   "cell_type": "markdown",
   "metadata": {},
   "source": [
    "Loading the VGG16 model and freezing the top layers(dense layers) since we dont need that for feature extraction"
   ]
  },
  {
   "cell_type": "code",
   "execution_count": 24,
   "metadata": {
    "scrolled": true
   },
   "outputs": [
    {
     "name": "stdout",
     "output_type": "stream",
     "text": [
      "Model: \"vgg16\"\n",
      "_________________________________________________________________\n",
      "Layer (type)                 Output Shape              Param #   \n",
      "=================================================================\n",
      "input_2 (InputLayer)         (None, None, None, 3)     0         \n",
      "_________________________________________________________________\n",
      "block1_conv1 (Conv2D)        (None, None, None, 64)    1792      \n",
      "_________________________________________________________________\n",
      "block1_conv2 (Conv2D)        (None, None, None, 64)    36928     \n",
      "_________________________________________________________________\n",
      "block1_pool (MaxPooling2D)   (None, None, None, 64)    0         \n",
      "_________________________________________________________________\n",
      "block2_conv1 (Conv2D)        (None, None, None, 128)   73856     \n",
      "_________________________________________________________________\n",
      "block2_conv2 (Conv2D)        (None, None, None, 128)   147584    \n",
      "_________________________________________________________________\n",
      "block2_pool (MaxPooling2D)   (None, None, None, 128)   0         \n",
      "_________________________________________________________________\n",
      "block3_conv1 (Conv2D)        (None, None, None, 256)   295168    \n",
      "_________________________________________________________________\n",
      "block3_conv2 (Conv2D)        (None, None, None, 256)   590080    \n",
      "_________________________________________________________________\n",
      "block3_conv3 (Conv2D)        (None, None, None, 256)   590080    \n",
      "_________________________________________________________________\n",
      "block3_pool (MaxPooling2D)   (None, None, None, 256)   0         \n",
      "_________________________________________________________________\n",
      "block4_conv1 (Conv2D)        (None, None, None, 512)   1180160   \n",
      "_________________________________________________________________\n",
      "block4_conv2 (Conv2D)        (None, None, None, 512)   2359808   \n",
      "_________________________________________________________________\n",
      "block4_conv3 (Conv2D)        (None, None, None, 512)   2359808   \n",
      "_________________________________________________________________\n",
      "block4_pool (MaxPooling2D)   (None, None, None, 512)   0         \n",
      "_________________________________________________________________\n",
      "block5_conv1 (Conv2D)        (None, None, None, 512)   2359808   \n",
      "_________________________________________________________________\n",
      "block5_conv2 (Conv2D)        (None, None, None, 512)   2359808   \n",
      "_________________________________________________________________\n",
      "block5_conv3 (Conv2D)        (None, None, None, 512)   2359808   \n",
      "_________________________________________________________________\n",
      "block5_pool (MaxPooling2D)   (None, None, None, 512)   0         \n",
      "=================================================================\n",
      "Total params: 14,714,688\n",
      "Trainable params: 14,714,688\n",
      "Non-trainable params: 0\n",
      "_________________________________________________________________\n"
     ]
    }
   ],
   "source": [
    "model_cnn=VGG16(weights='imagenet',include_top=False)\n",
    "model_cnn.summary()"
   ]
  },
  {
   "cell_type": "markdown",
   "metadata": {},
   "source": [
    "Data Augmentation using Image Data Generator from keras"
   ]
  },
  {
   "cell_type": "code",
   "execution_count": 25,
   "metadata": {},
   "outputs": [],
   "source": [
    "train_datagen = ImageDataGenerator(\n",
    "rescale=1./255,)"
   ]
  },
  {
   "cell_type": "code",
   "execution_count": 26,
   "metadata": {},
   "outputs": [
    {
     "name": "stdout",
     "output_type": "stream",
     "text": [
      "Found 3773 validated image filenames belonging to 2 classes.\n"
     ]
    }
   ],
   "source": [
    "test_datagen = ImageDataGenerator(\n",
    "    rescale=1./255)\n",
    "\n",
    "\n",
    "test_generator = test_datagen.flow_from_dataframe(\n",
    "    test_df,train_dir, \n",
    "    x_col='image_id',\n",
    "    y_col='labels',\n",
    "    class_mode='binary',\n",
    "    target_size=(128,128),\n",
    "    batch_size=batch_size\n",
    ")"
   ]
  },
  {
   "cell_type": "code",
   "execution_count": 27,
   "metadata": {},
   "outputs": [
    {
     "name": "stdout",
     "output_type": "stream",
     "text": [
      "Found 1698 validated image filenames belonging to 2 classes.\n"
     ]
    }
   ],
   "source": [
    "valid_datagen = ImageDataGenerator(\n",
    "    rescale=1./255,\n",
    "    )\n",
    "\n",
    "valid_generator = valid_datagen.flow_from_dataframe(\n",
    "    validate_df, train_dir, \n",
    "    x_col='image_id',\n",
    "    y_col='labels',\n",
    "    class_mode='binary',\n",
    "    target_size=(128,128),\n",
    "    batch_size=batch_size\n",
    ")"
   ]
  },
  {
   "cell_type": "markdown",
   "metadata": {},
   "source": [
    "Function definition for feature extraction"
   ]
  },
  {
   "cell_type": "code",
   "execution_count": 28,
   "metadata": {},
   "outputs": [],
   "source": [
    "def ext_features(directory,samples,df):\n",
    "    \n",
    "    \n",
    "    features=np.zeros(shape=(samples,4,4,512))\n",
    "    labels=np.zeros(shape=(samples))\n",
    "    generator=train_datagen.flow_from_dataframe(dataframe=df,directory=directory, \n",
    "    x_col='image_id',\n",
    "    y_col='labels',\n",
    "    class_mode='binary',\n",
    "    target_size=(128, 128),\n",
    "    batch_size=batch_size)\n",
    "    \n",
    "    i=0\n",
    "    for input_batch,label_batch in generator:\n",
    "        feature_batch=model_cnn.predict(input_batch)\n",
    "        features[i*batch_size:(i+1)*batch_size]=feature_batch\n",
    "        labels[i*batch_size:(i+1)*batch_size]=label_batch\n",
    "        i+=1\n",
    "        if(i*batch_size>=samples):\n",
    "            break\n",
    "    return(features,labels)\n"
   ]
  },
  {
   "cell_type": "code",
   "execution_count": 29,
   "metadata": {},
   "outputs": [
    {
     "name": "stdout",
     "output_type": "stream",
     "text": [
      "Found 9618 validated image filenames belonging to 2 classes.\n",
      "Found 3773 validated image filenames belonging to 2 classes.\n",
      "Found 1698 validated image filenames belonging to 2 classes.\n"
     ]
    }
   ],
   "source": [
    "train_features, train_labels= ext_features(train_dir,9618, train_df)\n",
    "test_features, test_labels= ext_features(train_dir,3773, test_df)\n",
    "validate_features, validate_labels= ext_features(train_dir,1698, validate_df)\n"
   ]
  },
  {
   "cell_type": "markdown",
   "metadata": {},
   "source": [
    "A Shallow CNN Model 25 EPOCHS BATCH SIZE 32"
   ]
  },
  {
   "cell_type": "code",
   "execution_count": 38,
   "metadata": {},
   "outputs": [
    {
     "name": "stdout",
     "output_type": "stream",
     "text": [
      "Model: \"sequential_3\"\n",
      "_________________________________________________________________\n",
      "Layer (type)                 Output Shape              Param #   \n",
      "=================================================================\n",
      "global_average_pooling2d_3 ( (None, 512)               0         \n",
      "_________________________________________________________________\n",
      "dropout_3 (Dropout)          (None, 512)               0         \n",
      "_________________________________________________________________\n",
      "dense_5 (Dense)              (None, 200)               102600    \n",
      "_________________________________________________________________\n",
      "dense_6 (Dense)              (None, 1)                 201       \n",
      "=================================================================\n",
      "Total params: 102,801\n",
      "Trainable params: 102,801\n",
      "Non-trainable params: 0\n",
      "_________________________________________________________________\n"
     ]
    }
   ],
   "source": [
    "model1 = Sequential()\n",
    "model1.add(GlobalAveragePooling2D(input_shape=train_features.shape[1:]))\n",
    "model1.add(Dropout(0.1))\n",
    "model1.add(Dense(200, activation='relu'))\n",
    "model1.add(Dense(1, activation='sigmoid'))\n",
    "model1.summary()"
   ]
  },
  {
   "cell_type": "code",
   "execution_count": 39,
   "metadata": {},
   "outputs": [],
   "source": [
    "model1.compile(optimizer= 'adam',\n",
    "              loss='binary_crossentropy',\n",
    "              metrics=['accuracy'])"
   ]
  },
  {
   "cell_type": "code",
   "execution_count": 40,
   "metadata": {},
   "outputs": [
    {
     "name": "stdout",
     "output_type": "stream",
     "text": [
      "Train on 9618 samples, validate on 3773 samples\n",
      "Epoch 1/25\n",
      "9618/9618 [==============================] - 1s 126us/step - loss: 0.5372 - accuracy: 0.7370 - val_loss: 0.4970 - val_accuracy: 0.7726\n",
      "Epoch 2/25\n",
      "9618/9618 [==============================] - 1s 103us/step - loss: 0.5061 - accuracy: 0.7670 - val_loss: 0.4799 - val_accuracy: 0.7763\n",
      "Epoch 3/25\n",
      "9618/9618 [==============================] - 1s 103us/step - loss: 0.4986 - accuracy: 0.7696 - val_loss: 0.4831 - val_accuracy: 0.7774\n",
      "Epoch 4/25\n",
      "9618/9618 [==============================] - 1s 103us/step - loss: 0.4928 - accuracy: 0.7703 - val_loss: 0.4734 - val_accuracy: 0.7864\n",
      "Epoch 5/25\n",
      "9618/9618 [==============================] - 1s 103us/step - loss: 0.4848 - accuracy: 0.7768 - val_loss: 0.4665 - val_accuracy: 0.7901\n",
      "Epoch 6/25\n",
      "9618/9618 [==============================] - 1s 107us/step - loss: 0.4807 - accuracy: 0.7749 - val_loss: 0.4679 - val_accuracy: 0.7864\n",
      "Epoch 7/25\n",
      "9618/9618 [==============================] - 1s 109us/step - loss: 0.4787 - accuracy: 0.7787 - val_loss: 0.4675 - val_accuracy: 0.7893\n",
      "Epoch 8/25\n",
      "9618/9618 [==============================] - 1s 106us/step - loss: 0.4809 - accuracy: 0.7747 - val_loss: 0.4742 - val_accuracy: 0.7795\n",
      "Epoch 9/25\n",
      "9618/9618 [==============================] - 1s 104us/step - loss: 0.4698 - accuracy: 0.7805 - val_loss: 0.4602 - val_accuracy: 0.7896\n",
      "Epoch 10/25\n",
      "9618/9618 [==============================] - 1s 103us/step - loss: 0.4711 - accuracy: 0.7819 - val_loss: 0.4609 - val_accuracy: 0.7938\n",
      "Epoch 11/25\n",
      "9618/9618 [==============================] - 1s 106us/step - loss: 0.4685 - accuracy: 0.7828 - val_loss: 0.4590 - val_accuracy: 0.7911\n",
      "Epoch 12/25\n",
      "9618/9618 [==============================] - 1s 106us/step - loss: 0.4687 - accuracy: 0.7812 - val_loss: 0.4546 - val_accuracy: 0.7941\n",
      "Epoch 13/25\n",
      "9618/9618 [==============================] - 1s 110us/step - loss: 0.4682 - accuracy: 0.7783 - val_loss: 0.4540 - val_accuracy: 0.7938\n",
      "Epoch 14/25\n",
      "9618/9618 [==============================] - 1s 110us/step - loss: 0.4675 - accuracy: 0.7795 - val_loss: 0.4569 - val_accuracy: 0.7901\n",
      "Epoch 15/25\n",
      "9618/9618 [==============================] - 1s 116us/step - loss: 0.4641 - accuracy: 0.7838 - val_loss: 0.4545 - val_accuracy: 0.7904\n",
      "Epoch 16/25\n",
      "9618/9618 [==============================] - 1s 110us/step - loss: 0.4607 - accuracy: 0.7845 - val_loss: 0.4531 - val_accuracy: 0.7925\n",
      "Epoch 17/25\n",
      "9618/9618 [==============================] - 1s 105us/step - loss: 0.4623 - accuracy: 0.7796 - val_loss: 0.4527 - val_accuracy: 0.7946\n",
      "Epoch 18/25\n",
      "9618/9618 [==============================] - 1s 111us/step - loss: 0.4621 - accuracy: 0.7839 - val_loss: 0.4619 - val_accuracy: 0.7835\n",
      "Epoch 19/25\n",
      "9618/9618 [==============================] - 1s 108us/step - loss: 0.4553 - accuracy: 0.7895 - val_loss: 0.4481 - val_accuracy: 0.7957\n",
      "Epoch 20/25\n",
      "9618/9618 [==============================] - 1s 108us/step - loss: 0.4543 - accuracy: 0.7936 - val_loss: 0.4468 - val_accuracy: 0.7957\n",
      "Epoch 21/25\n",
      "9618/9618 [==============================] - 1s 103us/step - loss: 0.4579 - accuracy: 0.7876 - val_loss: 0.4452 - val_accuracy: 0.7988\n",
      "Epoch 22/25\n",
      "9618/9618 [==============================] - 1s 107us/step - loss: 0.4535 - accuracy: 0.7902 - val_loss: 0.4455 - val_accuracy: 0.7980\n",
      "Epoch 23/25\n",
      "9618/9618 [==============================] - 1s 108us/step - loss: 0.4490 - accuracy: 0.7905 - val_loss: 0.4440 - val_accuracy: 0.7988\n",
      "Epoch 24/25\n",
      "9618/9618 [==============================] - 1s 107us/step - loss: 0.4530 - accuracy: 0.7883 - val_loss: 0.4543 - val_accuracy: 0.7904\n",
      "Epoch 25/25\n",
      "9618/9618 [==============================] - 1s 107us/step - loss: 0.4480 - accuracy: 0.7928 - val_loss: 0.4467 - val_accuracy: 0.7949\n"
     ]
    }
   ],
   "source": [
    "history1 = model1.fit(train_features, train_labels, batch_size=32, epochs=25,\n",
    "          validation_data=(test_features, test_labels), shuffle=True)"
   ]
  },
  {
   "cell_type": "code",
   "execution_count": 41,
   "metadata": {},
   "outputs": [
    {
     "data": {
      "image/png": "[encoded data removed]",
      "text/plain": [
       "<Figure size 864x360 with 2 Axes>"
      ]
     },
     "metadata": {
      "needs_background": "light"
     },
     "output_type": "display_data"
    }
   ],
   "source": [
    "# plot the model loss and accuracy\n",
    "train_loss = history1.history['loss']\n",
    "train_acc = history1.history['accuracy']\n",
    "\n",
    "valid_loss = history1.history['val_loss']\n",
    "valid_acc = history1.history['val_accuracy']\n",
    "\n",
    "x = [(i+1) for i in range(len(train_loss))]\n",
    "\n",
    "f,ax = plt.subplots(1,2, figsize=(12,5))\n",
    "ax[0].plot(x, train_loss)\n",
    "ax[0].plot(x, valid_loss)\n",
    "ax[0].set_title(\"Loss plot\")\n",
    "ax[0].set_xlabel(\"Epochs\")\n",
    "ax[0].set_ylabel(\"loss\")\n",
    "ax[0].legend(['train', 'valid'])\n",
    "\n",
    "\n",
    "ax[1].plot(x, train_acc)\n",
    "ax[1].plot(x, valid_acc)\n",
    "ax[1].set_title(\"Accuracy plot\")\n",
    "ax[1].set_xlabel(\"Epochs\")\n",
    "ax[1].set_ylabel(\"acc\")\n",
    "ax[1].legend(['train', 'valid'])\n",
    "\n",
    "plt.show()"
   ]
  },
  {
   "cell_type": "code",
   "execution_count": 42,
   "metadata": {},
   "outputs": [
    {
     "name": "stdout",
     "output_type": "stream",
     "text": [
      "Val Accuracy = 0.80\n"
     ]
    }
   ],
   "source": [
    "predictions1 = model1.predict(validate_features)\n",
    "predictions1 = [1 if x>0.5 else 0 for x in predictions1]\n",
    "accuracy1 = accuracy_score(validate_labels, predictions1)\n",
    "print('Val Accuracy = %.2f' % accuracy1)"
   ]
  },
  {
   "cell_type": "code",
   "execution_count": 43,
   "metadata": {},
   "outputs": [],
   "source": [
    "confusion_mtx1 = confusion_matrix(validate_labels, predictions1) "
   ]
  },
  {
   "cell_type": "code",
   "execution_count": 44,
   "metadata": {},
   "outputs": [
    {
     "data": {
      "text/plain": [
       "(<Figure size 432x288 with 1 Axes>,\n",
       " <matplotlib.axes._subplots.AxesSubplot at 0x1a40ec4290>)"
      ]
     },
     "execution_count": 44,
     "metadata": {},
     "output_type": "execute_result"
    },
    {
     "data": {
      "image/png": "[encoded data removed]",
      "text/plain": [
       "<Figure size 432x288 with 1 Axes>"
      ]
     },
     "metadata": {
      "needs_background": "light"
     },
     "output_type": "display_data"
    }
   ],
   "source": [
    "plot_confusion_matrix(confusion_mtx1, show_normed=True)"
   ]
  },
  {
   "cell_type": "code",
   "execution_count": 45,
   "metadata": {},
   "outputs": [
    {
     "data": {
      "text/plain": [
       "0.7999854003041615"
      ]
     },
     "execution_count": 45,
     "metadata": {},
     "output_type": "execute_result"
    }
   ],
   "source": [
    "f1_score(validate_labels, predictions1, average='weighted')"
   ]
  },
  {
   "cell_type": "markdown",
   "metadata": {},
   "source": [
    "50 EPOCHS"
   ]
  },
  {
   "cell_type": "code",
   "execution_count": 46,
   "metadata": {},
   "outputs": [
    {
     "name": "stdout",
     "output_type": "stream",
     "text": [
      "Model: \"sequential_4\"\n",
      "_________________________________________________________________\n",
      "Layer (type)                 Output Shape              Param #   \n",
      "=================================================================\n",
      "global_average_pooling2d_4 ( (None, 512)               0         \n",
      "_________________________________________________________________\n",
      "dropout_4 (Dropout)          (None, 512)               0         \n",
      "_________________________________________________________________\n",
      "dense_7 (Dense)              (None, 200)               102600    \n",
      "_________________________________________________________________\n",
      "dense_8 (Dense)              (None, 1)                 201       \n",
      "=================================================================\n",
      "Total params: 102,801\n",
      "Trainable params: 102,801\n",
      "Non-trainable params: 0\n",
      "_________________________________________________________________\n"
     ]
    }
   ],
   "source": [
    "model2 = Sequential()\n",
    "model2.add(GlobalAveragePooling2D(input_shape=train_features.shape[1:]))\n",
    "model2.add(Dropout(0.1))\n",
    "model2.add(Dense(200, activation='relu'))\n",
    "model2.add(Dense(1, activation='sigmoid'))\n",
    "model2.summary()"
   ]
  },
  {
   "cell_type": "code",
   "execution_count": 47,
   "metadata": {},
   "outputs": [],
   "source": [
    "model2.compile(optimizer= 'adam',\n",
    "              loss='binary_crossentropy',\n",
    "              metrics=['accuracy'])"
   ]
  },
  {
   "cell_type": "code",
   "execution_count": 48,
   "metadata": {},
   "outputs": [
    {
     "name": "stdout",
     "output_type": "stream",
     "text": [
      "Train on 9618 samples, validate on 3773 samples\n",
      "Epoch 1/50\n",
      "9618/9618 [==============================] - 1s 120us/step - loss: 0.5396 - accuracy: 0.7422 - val_loss: 0.4920 - val_accuracy: 0.7723\n",
      "Epoch 2/50\n",
      "9618/9618 [==============================] - 1s 104us/step - loss: 0.5092 - accuracy: 0.7663 - val_loss: 0.4834 - val_accuracy: 0.7787\n",
      "Epoch 3/50\n",
      "9618/9618 [==============================] - 1s 103us/step - loss: 0.4981 - accuracy: 0.7678 - val_loss: 0.4763 - val_accuracy: 0.7803\n",
      "Epoch 4/50\n",
      "9618/9618 [==============================] - 1s 104us/step - loss: 0.4895 - accuracy: 0.7728 - val_loss: 0.4686 - val_accuracy: 0.7869\n",
      "Epoch 5/50\n",
      "9618/9618 [==============================] - 1s 108us/step - loss: 0.4851 - accuracy: 0.7731 - val_loss: 0.4650 - val_accuracy: 0.7882\n",
      "Epoch 6/50\n",
      "9618/9618 [==============================] - 1s 109us/step - loss: 0.4869 - accuracy: 0.7749 - val_loss: 0.4647 - val_accuracy: 0.7901\n",
      "Epoch 7/50\n",
      "9618/9618 [==============================] - 1s 111us/step - loss: 0.4802 - accuracy: 0.7810 - val_loss: 0.5001 - val_accuracy: 0.7522\n",
      "Epoch 8/50\n",
      "9618/9618 [==============================] - 1s 108us/step - loss: 0.4780 - accuracy: 0.7781 - val_loss: 0.4664 - val_accuracy: 0.7856\n",
      "Epoch 9/50\n",
      "9618/9618 [==============================] - 1s 102us/step - loss: 0.4771 - accuracy: 0.7760 - val_loss: 0.4596 - val_accuracy: 0.7896\n",
      "Epoch 10/50\n",
      "9618/9618 [==============================] - 1s 103us/step - loss: 0.4691 - accuracy: 0.7805 - val_loss: 0.4805 - val_accuracy: 0.7758\n",
      "Epoch 11/50\n",
      "9618/9618 [==============================] - 1s 104us/step - loss: 0.4693 - accuracy: 0.7785 - val_loss: 0.4547 - val_accuracy: 0.7919\n",
      "Epoch 12/50\n",
      "9618/9618 [==============================] - 1s 104us/step - loss: 0.4691 - accuracy: 0.7799 - val_loss: 0.4564 - val_accuracy: 0.7927\n",
      "Epoch 13/50\n",
      "9618/9618 [==============================] - 1s 104us/step - loss: 0.4671 - accuracy: 0.7824 - val_loss: 0.4581 - val_accuracy: 0.7917\n",
      "Epoch 14/50\n",
      "9618/9618 [==============================] - 1s 103us/step - loss: 0.4694 - accuracy: 0.7815 - val_loss: 0.4596 - val_accuracy: 0.7856\n",
      "Epoch 15/50\n",
      "9618/9618 [==============================] - 1s 104us/step - loss: 0.4671 - accuracy: 0.7799 - val_loss: 0.4569 - val_accuracy: 0.7935\n",
      "Epoch 16/50\n",
      "9618/9618 [==============================] - 1s 104us/step - loss: 0.4681 - accuracy: 0.7789 - val_loss: 0.4545 - val_accuracy: 0.7919\n",
      "Epoch 17/50\n",
      "9618/9618 [==============================] - 1s 105us/step - loss: 0.4627 - accuracy: 0.7832 - val_loss: 0.4657 - val_accuracy: 0.7922\n",
      "Epoch 18/50\n",
      "9618/9618 [==============================] - 1s 109us/step - loss: 0.4612 - accuracy: 0.7868 - val_loss: 0.4518 - val_accuracy: 0.7896\n",
      "Epoch 19/50\n",
      "9618/9618 [==============================] - 1s 109us/step - loss: 0.4608 - accuracy: 0.7844 - val_loss: 0.4678 - val_accuracy: 0.7824\n",
      "Epoch 20/50\n",
      "9618/9618 [==============================] - 1s 105us/step - loss: 0.4561 - accuracy: 0.7884 - val_loss: 0.4534 - val_accuracy: 0.7927\n",
      "Epoch 21/50\n",
      "9618/9618 [==============================] - 1s 103us/step - loss: 0.4542 - accuracy: 0.7904 - val_loss: 0.4477 - val_accuracy: 0.7972\n",
      "Epoch 22/50\n",
      "9618/9618 [==============================] - 1s 109us/step - loss: 0.4590 - accuracy: 0.7846 - val_loss: 0.4723 - val_accuracy: 0.7737\n",
      "Epoch 23/50\n",
      "9618/9618 [==============================] - 1s 102us/step - loss: 0.4522 - accuracy: 0.7859 - val_loss: 0.4473 - val_accuracy: 0.7951\n",
      "Epoch 24/50\n",
      "9618/9618 [==============================] - 1s 102us/step - loss: 0.4521 - accuracy: 0.7894 - val_loss: 0.4474 - val_accuracy: 0.7925\n",
      "Epoch 25/50\n",
      "9618/9618 [==============================] - 1s 113us/step - loss: 0.4511 - accuracy: 0.7889 - val_loss: 0.4488 - val_accuracy: 0.7914\n",
      "Epoch 26/50\n",
      "9618/9618 [==============================] - 1s 103us/step - loss: 0.4521 - accuracy: 0.7868 - val_loss: 0.4515 - val_accuracy: 0.7882\n",
      "Epoch 27/50\n",
      "9618/9618 [==============================] - 1s 107us/step - loss: 0.4530 - accuracy: 0.7905 - val_loss: 0.4532 - val_accuracy: 0.7866\n",
      "Epoch 28/50\n",
      "9618/9618 [==============================] - 1s 103us/step - loss: 0.4489 - accuracy: 0.7916 - val_loss: 0.4742 - val_accuracy: 0.7742\n",
      "Epoch 29/50\n",
      "9618/9618 [==============================] - 1s 103us/step - loss: 0.4471 - accuracy: 0.7899 - val_loss: 0.4482 - val_accuracy: 0.7941\n",
      "Epoch 30/50\n",
      "9618/9618 [==============================] - 1s 111us/step - loss: 0.4488 - accuracy: 0.7923 - val_loss: 0.4607 - val_accuracy: 0.7941\n",
      "Epoch 31/50\n",
      "9618/9618 [==============================] - 1s 110us/step - loss: 0.4465 - accuracy: 0.7886 - val_loss: 0.4434 - val_accuracy: 0.7983\n",
      "Epoch 32/50\n",
      "9618/9618 [==============================] - 1s 103us/step - loss: 0.4444 - accuracy: 0.7947 - val_loss: 0.4587 - val_accuracy: 0.7837\n",
      "Epoch 33/50\n",
      "9618/9618 [==============================] - 1s 111us/step - loss: 0.4470 - accuracy: 0.7938 - val_loss: 0.4405 - val_accuracy: 0.7999\n",
      "Epoch 34/50\n",
      "9618/9618 [==============================] - 1s 108us/step - loss: 0.4424 - accuracy: 0.7933 - val_loss: 0.4406 - val_accuracy: 0.7994\n",
      "Epoch 35/50\n",
      "9618/9618 [==============================] - 1s 109us/step - loss: 0.4453 - accuracy: 0.7921 - val_loss: 0.4493 - val_accuracy: 0.7994\n",
      "Epoch 36/50\n",
      "9618/9618 [==============================] - 1s 116us/step - loss: 0.4447 - accuracy: 0.7922 - val_loss: 0.4593 - val_accuracy: 0.7858\n",
      "Epoch 37/50\n",
      "9618/9618 [==============================] - 1s 109us/step - loss: 0.4395 - accuracy: 0.7934 - val_loss: 0.4392 - val_accuracy: 0.7983\n",
      "Epoch 38/50\n",
      "9618/9618 [==============================] - 1s 119us/step - loss: 0.4386 - accuracy: 0.7983 - val_loss: 0.4447 - val_accuracy: 0.7927\n",
      "Epoch 39/50\n",
      "9618/9618 [==============================] - 1s 109us/step - loss: 0.4355 - accuracy: 0.7961 - val_loss: 0.4407 - val_accuracy: 0.7978\n",
      "Epoch 40/50\n",
      "9618/9618 [==============================] - 1s 110us/step - loss: 0.4372 - accuracy: 0.7957 - val_loss: 0.4838 - val_accuracy: 0.7726\n",
      "Epoch 41/50\n",
      "9618/9618 [==============================] - 1s 108us/step - loss: 0.4340 - accuracy: 0.7982 - val_loss: 0.4401 - val_accuracy: 0.7954\n",
      "Epoch 42/50\n",
      "9618/9618 [==============================] - 1s 109us/step - loss: 0.4310 - accuracy: 0.7985 - val_loss: 0.4371 - val_accuracy: 0.7986\n",
      "Epoch 43/50\n",
      "9618/9618 [==============================] - 1s 110us/step - loss: 0.4346 - accuracy: 0.7961 - val_loss: 0.4454 - val_accuracy: 0.7941\n",
      "Epoch 44/50\n",
      "9618/9618 [==============================] - 1s 111us/step - loss: 0.4322 - accuracy: 0.7989 - val_loss: 0.4462 - val_accuracy: 0.7864\n",
      "Epoch 45/50\n",
      "9618/9618 [==============================] - 1s 106us/step - loss: 0.4333 - accuracy: 0.7940 - val_loss: 0.4462 - val_accuracy: 0.7917\n",
      "Epoch 46/50\n",
      "9618/9618 [==============================] - 1s 107us/step - loss: 0.4302 - accuracy: 0.7989 - val_loss: 0.4405 - val_accuracy: 0.7946\n",
      "Epoch 47/50\n",
      "9618/9618 [==============================] - 1s 105us/step - loss: 0.4312 - accuracy: 0.7989 - val_loss: 0.4369 - val_accuracy: 0.7988\n",
      "Epoch 48/50\n",
      "9618/9618 [==============================] - 1s 105us/step - loss: 0.4343 - accuracy: 0.7950 - val_loss: 0.4336 - val_accuracy: 0.8081\n",
      "Epoch 49/50\n",
      "9618/9618 [==============================] - 1s 105us/step - loss: 0.4316 - accuracy: 0.7994 - val_loss: 0.4444 - val_accuracy: 0.7919\n",
      "Epoch 50/50\n",
      "9618/9618 [==============================] - 1s 106us/step - loss: 0.4243 - accuracy: 0.8022 - val_loss: 0.4346 - val_accuracy: 0.7962\n"
     ]
    }
   ],
   "source": [
    "history2 = model2.fit(train_features, train_labels, batch_size=32, epochs=50,\n",
    "          validation_data=(test_features, test_labels), shuffle=True)"
   ]
  },
  {
   "cell_type": "code",
   "execution_count": 49,
   "metadata": {},
   "outputs": [
    {
     "data": {
      "image/png": "[encoded data removed]",
      "text/plain": [
       "<Figure size 864x360 with 2 Axes>"
      ]
     },
     "metadata": {
      "needs_background": "light"
     },
     "output_type": "display_data"
    }
   ],
   "source": [
    "# plot the model loss and accuracy\n",
    "train_loss = history2.history['loss']\n",
    "train_acc = history2.history['accuracy']\n",
    "\n",
    "valid_loss = history2.history['val_loss']\n",
    "valid_acc = history2.history['val_accuracy']\n",
    "\n",
    "x = [(i+1) for i in range(len(train_loss))]\n",
    "\n",
    "f,ax = plt.subplots(1,2, figsize=(12,5))\n",
    "ax[0].plot(x, train_loss)\n",
    "ax[0].plot(x, valid_loss)\n",
    "ax[0].set_title(\"Loss plot\")\n",
    "ax[0].set_xlabel(\"Epochs\")\n",
    "ax[0].set_ylabel(\"loss\")\n",
    "ax[0].legend(['train', 'valid'])\n",
    "\n",
    "\n",
    "ax[1].plot(x, train_acc)\n",
    "ax[1].plot(x, valid_acc)\n",
    "ax[1].set_title(\"Accuracy plot\")\n",
    "ax[1].set_xlabel(\"Epochs\")\n",
    "ax[1].set_ylabel(\"acc\")\n",
    "ax[1].legend(['train', 'valid'])\n",
    "\n",
    "plt.show()"
   ]
  },
  {
   "cell_type": "code",
   "execution_count": 50,
   "metadata": {},
   "outputs": [
    {
     "name": "stdout",
     "output_type": "stream",
     "text": [
      "Val Accuracy = 0.80\n"
     ]
    }
   ],
   "source": [
    "predictions2 = model2.predict(validate_features)\n",
    "predictions2 = [1 if x>0.5 else 0 for x in predictions2]\n",
    "accuracy2 = accuracy_score(validate_labels, predictions2)\n",
    "print('Val Accuracy = %.2f' % accuracy2)"
   ]
  },
  {
   "cell_type": "code",
   "execution_count": 51,
   "metadata": {},
   "outputs": [],
   "source": [
    "confusion_mtx2 = confusion_matrix(validate_labels, predictions2) "
   ]
  },
  {
   "cell_type": "code",
   "execution_count": 52,
   "metadata": {},
   "outputs": [
    {
     "data": {
      "text/plain": [
       "(<Figure size 432x288 with 1 Axes>,\n",
       " <matplotlib.axes._subplots.AxesSubplot at 0x1a41c29490>)"
      ]
     },
     "execution_count": 52,
     "metadata": {},
     "output_type": "execute_result"
    },
    {
     "data": {
      "image/png": "[encoded data removed]",
      "text/plain": [
       "<Figure size 432x288 with 1 Axes>"
      ]
     },
     "metadata": {
      "needs_background": "light"
     },
     "output_type": "display_data"
    }
   ],
   "source": [
    "plot_confusion_matrix(confusion_mtx2, show_normed=True)"
   ]
  },
  {
   "cell_type": "code",
   "execution_count": 53,
   "metadata": {},
   "outputs": [
    {
     "data": {
      "text/plain": [
       "0.7976298610319541"
      ]
     },
     "execution_count": 53,
     "metadata": {},
     "output_type": "execute_result"
    }
   ],
   "source": [
    "f1_score(validate_labels, predictions2, average='weighted')"
   ]
  },
  {
   "cell_type": "markdown",
   "metadata": {},
   "source": [
    "100 EPOCHS"
   ]
  },
  {
   "cell_type": "code",
   "execution_count": 62,
   "metadata": {},
   "outputs": [
    {
     "name": "stdout",
     "output_type": "stream",
     "text": [
      "Model: \"sequential_6\"\n",
      "_________________________________________________________________\n",
      "Layer (type)                 Output Shape              Param #   \n",
      "=================================================================\n",
      "global_average_pooling2d_6 ( (None, 512)               0         \n",
      "_________________________________________________________________\n",
      "dropout_6 (Dropout)          (None, 512)               0         \n",
      "_________________________________________________________________\n",
      "dense_11 (Dense)             (None, 200)               102600    \n",
      "_________________________________________________________________\n",
      "dense_12 (Dense)             (None, 1)                 201       \n",
      "=================================================================\n",
      "Total params: 102,801\n",
      "Trainable params: 102,801\n",
      "Non-trainable params: 0\n",
      "_________________________________________________________________\n"
     ]
    }
   ],
   "source": [
    "model3 = Sequential()\n",
    "model3.add(GlobalAveragePooling2D(input_shape=train_features.shape[1:]))\n",
    "model3.add(Dropout(0.1))\n",
    "model3.add(Dense(200, activation='relu'))\n",
    "model3.add(Dense(1, activation='sigmoid'))\n",
    "model3.summary()"
   ]
  },
  {
   "cell_type": "code",
   "execution_count": 63,
   "metadata": {},
   "outputs": [],
   "source": [
    "model3.compile(optimizer= 'adam',\n",
    "              loss='binary_crossentropy',\n",
    "              metrics=['accuracy'])"
   ]
  },
  {
   "cell_type": "code",
   "execution_count": 64,
   "metadata": {},
   "outputs": [
    {
     "name": "stdout",
     "output_type": "stream",
     "text": [
      "Train on 9618 samples, validate on 3773 samples\n",
      "Epoch 1/100\n",
      "9618/9618 [==============================] - 1s 120us/step - loss: 0.5404 - accuracy: 0.7351 - val_loss: 0.4928 - val_accuracy: 0.7763\n",
      "Epoch 2/100\n",
      "9618/9618 [==============================] - 1s 102us/step - loss: 0.5069 - accuracy: 0.7688 - val_loss: 0.4867 - val_accuracy: 0.7750\n",
      "Epoch 3/100\n",
      "9618/9618 [==============================] - 1s 110us/step - loss: 0.5001 - accuracy: 0.7698 - val_loss: 0.4736 - val_accuracy: 0.7832\n",
      "Epoch 4/100\n",
      "9618/9618 [==============================] - 1s 112us/step - loss: 0.4929 - accuracy: 0.7695 - val_loss: 0.4894 - val_accuracy: 0.7800\n",
      "Epoch 5/100\n",
      "9618/9618 [==============================] - 1s 106us/step - loss: 0.4855 - accuracy: 0.7748 - val_loss: 0.4711 - val_accuracy: 0.7787\n",
      "Epoch 6/100\n",
      "9618/9618 [==============================] - 1s 103us/step - loss: 0.4828 - accuracy: 0.7749 - val_loss: 0.4700 - val_accuracy: 0.7808\n",
      "Epoch 7/100\n",
      "9618/9618 [==============================] - 1s 103us/step - loss: 0.4761 - accuracy: 0.7806 - val_loss: 0.4828 - val_accuracy: 0.7747\n",
      "Epoch 8/100\n",
      "9618/9618 [==============================] - 1s 103us/step - loss: 0.4805 - accuracy: 0.7758 - val_loss: 0.4623 - val_accuracy: 0.7906\n",
      "Epoch 9/100\n",
      "9618/9618 [==============================] - 1s 103us/step - loss: 0.4740 - accuracy: 0.7796 - val_loss: 0.4684 - val_accuracy: 0.7861\n",
      "Epoch 10/100\n",
      "9618/9618 [==============================] - 1s 104us/step - loss: 0.4748 - accuracy: 0.7751 - val_loss: 0.4600 - val_accuracy: 0.7885\n",
      "Epoch 11/100\n",
      "9618/9618 [==============================] - 1s 104us/step - loss: 0.4700 - accuracy: 0.7790 - val_loss: 0.4587 - val_accuracy: 0.7896\n",
      "Epoch 12/100\n",
      "9618/9618 [==============================] - 1s 105us/step - loss: 0.4669 - accuracy: 0.7816 - val_loss: 0.4537 - val_accuracy: 0.7946\n",
      "Epoch 13/100\n",
      "9618/9618 [==============================] - 1s 106us/step - loss: 0.4693 - accuracy: 0.7799 - val_loss: 0.4572 - val_accuracy: 0.7927\n",
      "Epoch 14/100\n",
      "9618/9618 [==============================] - 1s 106us/step - loss: 0.4638 - accuracy: 0.7891 - val_loss: 0.4556 - val_accuracy: 0.7909\n",
      "Epoch 15/100\n",
      "9618/9618 [==============================] - 1s 105us/step - loss: 0.4666 - accuracy: 0.7808 - val_loss: 0.4595 - val_accuracy: 0.7848\n",
      "Epoch 16/100\n",
      "9618/9618 [==============================] - 1s 105us/step - loss: 0.4619 - accuracy: 0.7864 - val_loss: 0.4564 - val_accuracy: 0.7840\n",
      "Epoch 17/100\n",
      "9618/9618 [==============================] - 1s 105us/step - loss: 0.4605 - accuracy: 0.7875 - val_loss: 0.4592 - val_accuracy: 0.7933\n",
      "Epoch 18/100\n",
      "9618/9618 [==============================] - 1s 106us/step - loss: 0.4597 - accuracy: 0.7871 - val_loss: 0.4569 - val_accuracy: 0.7911\n",
      "Epoch 19/100\n",
      "9618/9618 [==============================] - 1s 105us/step - loss: 0.4547 - accuracy: 0.7863 - val_loss: 0.4631 - val_accuracy: 0.7816\n",
      "Epoch 20/100\n",
      "9618/9618 [==============================] - 1s 105us/step - loss: 0.4583 - accuracy: 0.7843 - val_loss: 0.4508 - val_accuracy: 0.7914\n",
      "Epoch 21/100\n",
      "9618/9618 [==============================] - 1s 104us/step - loss: 0.4582 - accuracy: 0.7856 - val_loss: 0.4590 - val_accuracy: 0.7882\n",
      "Epoch 22/100\n",
      "9618/9618 [==============================] - 1s 104us/step - loss: 0.4550 - accuracy: 0.7894 - val_loss: 0.4488 - val_accuracy: 0.7964\n",
      "Epoch 23/100\n",
      "9618/9618 [==============================] - 1s 105us/step - loss: 0.4612 - accuracy: 0.7852 - val_loss: 0.4574 - val_accuracy: 0.7954\n",
      "Epoch 24/100\n",
      "9618/9618 [==============================] - 1s 104us/step - loss: 0.4531 - accuracy: 0.7920 - val_loss: 0.4484 - val_accuracy: 0.7917\n",
      "Epoch 25/100\n",
      "9618/9618 [==============================] - 1s 104us/step - loss: 0.4488 - accuracy: 0.7915 - val_loss: 0.4729 - val_accuracy: 0.7737\n",
      "Epoch 26/100\n",
      "9618/9618 [==============================] - 1s 104us/step - loss: 0.4501 - accuracy: 0.7905 - val_loss: 0.4770 - val_accuracy: 0.7798\n",
      "Epoch 27/100\n",
      "9618/9618 [==============================] - 1s 106us/step - loss: 0.4451 - accuracy: 0.7928 - val_loss: 0.4438 - val_accuracy: 0.7946\n",
      "Epoch 28/100\n",
      "9618/9618 [==============================] - 1s 104us/step - loss: 0.4499 - accuracy: 0.7900 - val_loss: 0.4458 - val_accuracy: 0.7925\n",
      "Epoch 29/100\n",
      "9618/9618 [==============================] - 1s 104us/step - loss: 0.4478 - accuracy: 0.7898 - val_loss: 0.4470 - val_accuracy: 0.7943\n",
      "Epoch 30/100\n",
      "9618/9618 [==============================] - 1s 104us/step - loss: 0.4454 - accuracy: 0.7925 - val_loss: 0.4510 - val_accuracy: 0.7927\n",
      "Epoch 31/100\n",
      "9618/9618 [==============================] - 1s 105us/step - loss: 0.4474 - accuracy: 0.7885 - val_loss: 0.4441 - val_accuracy: 0.7954\n",
      "Epoch 32/100\n",
      "9618/9618 [==============================] - 1s 104us/step - loss: 0.4441 - accuracy: 0.7931 - val_loss: 0.4715 - val_accuracy: 0.7739\n",
      "Epoch 33/100\n",
      "9618/9618 [==============================] - 1s 104us/step - loss: 0.4451 - accuracy: 0.7927 - val_loss: 0.4476 - val_accuracy: 0.7935\n",
      "Epoch 34/100\n",
      "9618/9618 [==============================] - 1s 104us/step - loss: 0.4439 - accuracy: 0.7915 - val_loss: 0.4456 - val_accuracy: 0.7978\n",
      "Epoch 35/100\n",
      "9618/9618 [==============================] - 1s 104us/step - loss: 0.4443 - accuracy: 0.7918 - val_loss: 0.4415 - val_accuracy: 0.7978\n",
      "Epoch 36/100\n",
      "9618/9618 [==============================] - 1s 104us/step - loss: 0.4388 - accuracy: 0.7939 - val_loss: 0.4543 - val_accuracy: 0.7843\n",
      "Epoch 37/100\n",
      "9618/9618 [==============================] - 1s 103us/step - loss: 0.4379 - accuracy: 0.7936 - val_loss: 0.4437 - val_accuracy: 0.7967\n",
      "Epoch 38/100\n",
      "9618/9618 [==============================] - 1s 101us/step - loss: 0.4372 - accuracy: 0.7962 - val_loss: 0.4555 - val_accuracy: 0.7866\n",
      "Epoch 39/100\n",
      "9618/9618 [==============================] - 1s 102us/step - loss: 0.4349 - accuracy: 0.7976 - val_loss: 0.4460 - val_accuracy: 0.7964\n",
      "Epoch 40/100\n",
      "9618/9618 [==============================] - 1s 102us/step - loss: 0.4344 - accuracy: 0.7964 - val_loss: 0.4394 - val_accuracy: 0.7970\n",
      "Epoch 41/100\n",
      "9618/9618 [==============================] - 1s 101us/step - loss: 0.4347 - accuracy: 0.7980 - val_loss: 0.4400 - val_accuracy: 0.7996\n",
      "Epoch 42/100\n",
      "9618/9618 [==============================] - 1s 102us/step - loss: 0.4360 - accuracy: 0.7936 - val_loss: 0.4408 - val_accuracy: 0.7994\n",
      "Epoch 43/100\n",
      "9618/9618 [==============================] - 1s 102us/step - loss: 0.4331 - accuracy: 0.7972 - val_loss: 0.4410 - val_accuracy: 0.8025\n",
      "Epoch 44/100\n",
      "9618/9618 [==============================] - 1s 103us/step - loss: 0.4336 - accuracy: 0.8003 - val_loss: 0.4363 - val_accuracy: 0.7975\n",
      "Epoch 45/100\n",
      "9618/9618 [==============================] - 1s 102us/step - loss: 0.4284 - accuracy: 0.7983 - val_loss: 0.4436 - val_accuracy: 0.7893\n",
      "Epoch 46/100\n",
      "9618/9618 [==============================] - 1s 102us/step - loss: 0.4275 - accuracy: 0.8059 - val_loss: 0.4378 - val_accuracy: 0.7967\n",
      "Epoch 47/100\n",
      "9618/9618 [==============================] - 1s 102us/step - loss: 0.4316 - accuracy: 0.7973 - val_loss: 0.4345 - val_accuracy: 0.8010\n",
      "Epoch 48/100\n",
      "9618/9618 [==============================] - 1s 102us/step - loss: 0.4299 - accuracy: 0.7993 - val_loss: 0.4410 - val_accuracy: 0.8012\n",
      "Epoch 49/100\n",
      "9618/9618 [==============================] - 1s 102us/step - loss: 0.4251 - accuracy: 0.8014 - val_loss: 0.4498 - val_accuracy: 0.7906\n",
      "Epoch 50/100\n",
      "9618/9618 [==============================] - 1s 101us/step - loss: 0.4274 - accuracy: 0.8007 - val_loss: 0.4377 - val_accuracy: 0.7959\n",
      "Epoch 51/100\n",
      "9618/9618 [==============================] - 1s 102us/step - loss: 0.4253 - accuracy: 0.8023 - val_loss: 0.4363 - val_accuracy: 0.8002\n",
      "Epoch 52/100\n",
      "9618/9618 [==============================] - 1s 103us/step - loss: 0.4225 - accuracy: 0.8005 - val_loss: 0.4374 - val_accuracy: 0.7975\n",
      "Epoch 53/100\n",
      "9618/9618 [==============================] - 1s 103us/step - loss: 0.4260 - accuracy: 0.7992 - val_loss: 0.4494 - val_accuracy: 0.7893\n",
      "Epoch 54/100\n",
      "9618/9618 [==============================] - 1s 103us/step - loss: 0.4242 - accuracy: 0.7988 - val_loss: 0.4460 - val_accuracy: 0.7885\n",
      "Epoch 55/100\n",
      "9618/9618 [==============================] - 1s 103us/step - loss: 0.4248 - accuracy: 0.8027 - val_loss: 0.4412 - val_accuracy: 0.7994\n",
      "Epoch 56/100\n"
     ]
    },
    {
     "name": "stdout",
     "output_type": "stream",
     "text": [
      "9618/9618 [==============================] - 1s 104us/step - loss: 0.4202 - accuracy: 0.8045 - val_loss: 0.4589 - val_accuracy: 0.7864\n",
      "Epoch 57/100\n",
      "9618/9618 [==============================] - 1s 108us/step - loss: 0.4179 - accuracy: 0.8061 - val_loss: 0.4515 - val_accuracy: 0.7911\n",
      "Epoch 58/100\n",
      "9618/9618 [==============================] - 1s 108us/step - loss: 0.4217 - accuracy: 0.8069 - val_loss: 0.4333 - val_accuracy: 0.8007\n",
      "Epoch 59/100\n",
      "9618/9618 [==============================] - 1s 104us/step - loss: 0.4168 - accuracy: 0.8069 - val_loss: 0.4355 - val_accuracy: 0.8023\n",
      "Epoch 60/100\n",
      "9618/9618 [==============================] - 1s 114us/step - loss: 0.4200 - accuracy: 0.8062 - val_loss: 0.4425 - val_accuracy: 0.7933\n",
      "Epoch 61/100\n",
      "9618/9618 [==============================] - 1s 104us/step - loss: 0.4198 - accuracy: 0.8060 - val_loss: 0.4280 - val_accuracy: 0.8100\n",
      "Epoch 62/100\n",
      "9618/9618 [==============================] - 1s 110us/step - loss: 0.4154 - accuracy: 0.8067 - val_loss: 0.4290 - val_accuracy: 0.8055\n",
      "Epoch 63/100\n",
      "9618/9618 [==============================] - 1s 113us/step - loss: 0.4192 - accuracy: 0.8035 - val_loss: 0.4378 - val_accuracy: 0.7980\n",
      "Epoch 64/100\n",
      "9618/9618 [==============================] - 1s 107us/step - loss: 0.4135 - accuracy: 0.8088 - val_loss: 0.4250 - val_accuracy: 0.8097\n",
      "Epoch 65/100\n",
      "9618/9618 [==============================] - 1s 110us/step - loss: 0.4116 - accuracy: 0.8100 - val_loss: 0.4261 - val_accuracy: 0.8052\n",
      "Epoch 66/100\n",
      "9618/9618 [==============================] - 1s 118us/step - loss: 0.4133 - accuracy: 0.8057 - val_loss: 0.4264 - val_accuracy: 0.8028\n",
      "Epoch 67/100\n",
      "9618/9618 [==============================] - 1s 109us/step - loss: 0.4089 - accuracy: 0.8123 - val_loss: 0.4234 - val_accuracy: 0.8078\n",
      "Epoch 68/100\n",
      "9618/9618 [==============================] - 1s 113us/step - loss: 0.4106 - accuracy: 0.8106 - val_loss: 0.4514 - val_accuracy: 0.7999\n",
      "Epoch 69/100\n",
      "9618/9618 [==============================] - 1s 108us/step - loss: 0.4096 - accuracy: 0.8097 - val_loss: 0.4222 - val_accuracy: 0.8129\n",
      "Epoch 70/100\n",
      "9618/9618 [==============================] - 1s 104us/step - loss: 0.4095 - accuracy: 0.8114 - val_loss: 0.4227 - val_accuracy: 0.8147\n",
      "Epoch 71/100\n",
      "9618/9618 [==============================] - 1s 112us/step - loss: 0.4068 - accuracy: 0.8108 - val_loss: 0.4245 - val_accuracy: 0.8047\n",
      "Epoch 72/100\n",
      "9618/9618 [==============================] - 1s 114us/step - loss: 0.4053 - accuracy: 0.8087 - val_loss: 0.4343 - val_accuracy: 0.7964\n",
      "Epoch 73/100\n",
      "9618/9618 [==============================] - 1s 112us/step - loss: 0.4059 - accuracy: 0.8104 - val_loss: 0.4213 - val_accuracy: 0.8028\n",
      "Epoch 74/100\n",
      "9618/9618 [==============================] - 1s 110us/step - loss: 0.4067 - accuracy: 0.8107 - val_loss: 0.4240 - val_accuracy: 0.8097\n",
      "Epoch 75/100\n",
      "9618/9618 [==============================] - 1s 104us/step - loss: 0.3996 - accuracy: 0.8125 - val_loss: 0.4376 - val_accuracy: 0.8023\n",
      "Epoch 76/100\n",
      "9618/9618 [==============================] - 1s 104us/step - loss: 0.4017 - accuracy: 0.8171 - val_loss: 0.4260 - val_accuracy: 0.8049\n",
      "Epoch 77/100\n",
      "9618/9618 [==============================] - 1s 103us/step - loss: 0.3997 - accuracy: 0.8158 - val_loss: 0.4210 - val_accuracy: 0.8092\n",
      "Epoch 78/100\n",
      "9618/9618 [==============================] - 1s 104us/step - loss: 0.3996 - accuracy: 0.8162 - val_loss: 0.4241 - val_accuracy: 0.8073\n",
      "Epoch 79/100\n",
      "9618/9618 [==============================] - 1s 107us/step - loss: 0.3953 - accuracy: 0.8162 - val_loss: 0.4172 - val_accuracy: 0.8060\n",
      "Epoch 80/100\n",
      "9618/9618 [==============================] - 1s 108us/step - loss: 0.4009 - accuracy: 0.8129 - val_loss: 0.4324 - val_accuracy: 0.8086\n",
      "Epoch 81/100\n",
      "9618/9618 [==============================] - 1s 106us/step - loss: 0.3988 - accuracy: 0.8138 - val_loss: 0.4304 - val_accuracy: 0.8097\n",
      "Epoch 82/100\n",
      "9618/9618 [==============================] - 1s 107us/step - loss: 0.3993 - accuracy: 0.8151 - val_loss: 0.4245 - val_accuracy: 0.8124\n",
      "Epoch 83/100\n",
      "9618/9618 [==============================] - 1s 107us/step - loss: 0.3993 - accuracy: 0.8122 - val_loss: 0.4233 - val_accuracy: 0.8118\n",
      "Epoch 84/100\n",
      "9618/9618 [==============================] - 1s 108us/step - loss: 0.3944 - accuracy: 0.8178 - val_loss: 0.4365 - val_accuracy: 0.8063\n",
      "Epoch 85/100\n",
      "9618/9618 [==============================] - 1s 106us/step - loss: 0.4010 - accuracy: 0.8149 - val_loss: 0.4175 - val_accuracy: 0.8142\n",
      "Epoch 86/100\n",
      "9618/9618 [==============================] - 1s 108us/step - loss: 0.3910 - accuracy: 0.8220 - val_loss: 0.4140 - val_accuracy: 0.8131\n",
      "Epoch 87/100\n",
      "9618/9618 [==============================] - 1s 108us/step - loss: 0.3917 - accuracy: 0.8204 - val_loss: 0.4310 - val_accuracy: 0.8068\n",
      "Epoch 88/100\n",
      "9618/9618 [==============================] - 1s 107us/step - loss: 0.3866 - accuracy: 0.8246 - val_loss: 0.4182 - val_accuracy: 0.8094\n",
      "Epoch 89/100\n",
      "9618/9618 [==============================] - 1s 107us/step - loss: 0.3879 - accuracy: 0.8202 - val_loss: 0.4349 - val_accuracy: 0.8004\n",
      "Epoch 90/100\n",
      "9618/9618 [==============================] - 1s 107us/step - loss: 0.3904 - accuracy: 0.8173 - val_loss: 0.4224 - val_accuracy: 0.8094\n",
      "Epoch 91/100\n",
      "9618/9618 [==============================] - 1s 108us/step - loss: 0.3867 - accuracy: 0.8210 - val_loss: 0.4120 - val_accuracy: 0.8134\n",
      "Epoch 92/100\n",
      "9618/9618 [==============================] - 1s 110us/step - loss: 0.3866 - accuracy: 0.8235 - val_loss: 0.4177 - val_accuracy: 0.8150\n",
      "Epoch 93/100\n",
      "9618/9618 [==============================] - 1s 104us/step - loss: 0.3839 - accuracy: 0.8209 - val_loss: 0.4109 - val_accuracy: 0.8166\n",
      "Epoch 94/100\n",
      "9618/9618 [==============================] - 1s 106us/step - loss: 0.3928 - accuracy: 0.8165 - val_loss: 0.4422 - val_accuracy: 0.8002\n",
      "Epoch 95/100\n",
      "9618/9618 [==============================] - 1s 104us/step - loss: 0.3835 - accuracy: 0.8274 - val_loss: 0.4121 - val_accuracy: 0.8158\n",
      "Epoch 96/100\n",
      "9618/9618 [==============================] - 1s 101us/step - loss: 0.3833 - accuracy: 0.8252 - val_loss: 0.4166 - val_accuracy: 0.8147\n",
      "Epoch 97/100\n",
      "9618/9618 [==============================] - 1s 99us/step - loss: 0.3853 - accuracy: 0.8204 - val_loss: 0.4167 - val_accuracy: 0.8105\n",
      "Epoch 98/100\n",
      "9618/9618 [==============================] - 1s 101us/step - loss: 0.3807 - accuracy: 0.8217 - val_loss: 0.4048 - val_accuracy: 0.8214\n",
      "Epoch 99/100\n",
      "9618/9618 [==============================] - 1s 101us/step - loss: 0.3822 - accuracy: 0.8269 - val_loss: 0.4105 - val_accuracy: 0.8251\n",
      "Epoch 100/100\n",
      "9618/9618 [==============================] - 1s 101us/step - loss: 0.3804 - accuracy: 0.8239 - val_loss: 0.4160 - val_accuracy: 0.8158\n"
     ]
    }
   ],
   "source": [
    "history3 = model3.fit(train_features, train_labels, batch_size=32, epochs=100,\n",
    "          validation_data=(test_features, test_labels), shuffle=True)"
   ]
  },
  {
   "cell_type": "code",
   "execution_count": 65,
   "metadata": {},
   "outputs": [
    {
     "data": {
      "image/png": "[encoded data removed]",
      "text/plain": [
       "<Figure size 864x360 with 2 Axes>"
      ]
     },
     "metadata": {
      "needs_background": "light"
     },
     "output_type": "display_data"
    }
   ],
   "source": [
    "# plot the model loss and accuracy\n",
    "train_loss = history3.history['loss']\n",
    "train_acc = history3.history['accuracy']\n",
    "\n",
    "valid_loss = history3.history['val_loss']\n",
    "valid_acc = history3.history['val_accuracy']\n",
    "\n",
    "x = [(i+1) for i in range(len(train_loss))]\n",
    "\n",
    "f,ax = plt.subplots(1,2, figsize=(12,5))\n",
    "ax[0].plot(x, train_loss)\n",
    "ax[0].plot(x, valid_loss)\n",
    "ax[0].set_title(\"Loss plot\")\n",
    "ax[0].set_xlabel(\"Epochs\")\n",
    "ax[0].set_ylabel(\"loss\")\n",
    "ax[0].legend(['train', 'valid'])\n",
    "\n",
    "\n",
    "ax[1].plot(x, train_acc)\n",
    "ax[1].plot(x, valid_acc)\n",
    "ax[1].set_title(\"Accuracy plot\")\n",
    "ax[1].set_xlabel(\"Epochs\")\n",
    "ax[1].set_ylabel(\"acc\")\n",
    "ax[1].legend(['train', 'valid'])\n",
    "\n",
    "plt.show()"
   ]
  },
  {
   "cell_type": "code",
   "execution_count": 66,
   "metadata": {},
   "outputs": [
    {
     "name": "stdout",
     "output_type": "stream",
     "text": [
      "Val Accuracy = 0.82\n"
     ]
    }
   ],
   "source": [
    "predictions3 = model3.predict(validate_features)\n",
    "predictions3 = [1 if x>0.5 else 0 for x in predictions3]\n",
    "accuracy3 = accuracy_score(validate_labels, predictions3)\n",
    "print('Val Accuracy = %.2f' % accuracy3)"
   ]
  },
  {
   "cell_type": "code",
   "execution_count": 67,
   "metadata": {},
   "outputs": [],
   "source": [
    "confusion_mtx3 = confusion_matrix(validate_labels, predictions3) "
   ]
  },
  {
   "cell_type": "code",
   "execution_count": 68,
   "metadata": {},
   "outputs": [
    {
     "data": {
      "text/plain": [
       "(<Figure size 432x288 with 1 Axes>,\n",
       " <matplotlib.axes._subplots.AxesSubplot at 0x1a4633ac90>)"
      ]
     },
     "execution_count": 68,
     "metadata": {},
     "output_type": "execute_result"
    },
    {
     "data": {
      "image/png": "[encoded data removed]",
      "text/plain": [
       "<Figure size 432x288 with 1 Axes>"
      ]
     },
     "metadata": {
      "needs_background": "light"
     },
     "output_type": "display_data"
    }
   ],
   "source": [
    "plot_confusion_matrix(confusion_mtx3, show_normed=True)"
   ]
  },
  {
   "cell_type": "code",
   "execution_count": 69,
   "metadata": {},
   "outputs": [
    {
     "data": {
      "text/plain": [
       "0.8235235273033931"
      ]
     },
     "execution_count": 69,
     "metadata": {},
     "output_type": "execute_result"
    }
   ],
   "source": [
    "f1_score(validate_labels, predictions3, average='weighted')"
   ]
  },
  {
   "cell_type": "code",
   "execution_count": null,
   "metadata": {},
   "outputs": [],
   "source": []
  }
 ],
 "metadata": {
  "kernelspec": {
   "display_name": "Python 3",
   "language": "python",
   "name": "python3"
  },
  "language_info": {
   "codemirror_mode": {
    "name": "ipython",
    "version": 3
   },
   "file_extension": ".py",
   "mimetype": "text/x-python",
   "name": "python",
   "nbconvert_exporter": "python",
   "pygments_lexer": "ipython3",
   "version": "3.7.4"
  }
 },
 "nbformat": 4,
 "nbformat_minor": 2
}
