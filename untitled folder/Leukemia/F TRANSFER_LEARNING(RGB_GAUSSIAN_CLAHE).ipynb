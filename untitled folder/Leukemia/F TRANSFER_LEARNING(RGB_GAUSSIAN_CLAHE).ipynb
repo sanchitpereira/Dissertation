{
 "cells": [
  {
   "cell_type": "markdown",
   "metadata": {},
   "source": [
    "Importing Libraries"
   ]
  },
  {
   "cell_type": "code",
   "execution_count": 1,
   "metadata": {},
   "outputs": [
    {
     "name": "stderr",
     "output_type": "stream",
     "text": [
      "Using TensorFlow backend.\n"
     ]
    }
   ],
   "source": [
    "import random\n",
    "import pandas as pd\n",
    "import os\n",
    "from keras.preprocessing.image import ImageDataGenerator, load_img\n",
    "import matplotlib.pyplot as plt\n",
    "from sklearn.model_selection import train_test_split\n",
    "from keras.applications.vgg16 import VGG16\n",
    "import numpy as np\n",
    "from keras.models import Sequential\n",
    "from keras.layers import GlobalAveragePooling2D\n",
    "from keras.layers.core import Activation,Dropout, Dense\n",
    "from keras.callbacks import EarlyStopping, ReduceLROnPlateau\n",
    "from sklearn.metrics import accuracy_score\n",
    "from sklearn.metrics import f1_score\n",
    "from sklearn.metrics import confusion_matrix\n",
    "from mlxtend.plotting import plot_confusion_matrix\n",
    "from keras import layers,models"
   ]
  },
  {
   "cell_type": "code",
   "execution_count": 2,
   "metadata": {},
   "outputs": [],
   "source": [
    "random.seed(2418)"
   ]
  },
  {
   "cell_type": "code",
   "execution_count": 3,
   "metadata": {},
   "outputs": [],
   "source": [
    "train = pd.read_csv('/Users/jesus/Downloads/blood_cancer/Augmented_train/train.csv')"
   ]
  },
  {
   "cell_type": "code",
   "execution_count": 4,
   "metadata": {},
   "outputs": [
    {
     "data": {
      "text/html": [
       "<div>\n",
       "<style scoped>\n",
       "    .dataframe tbody tr th:only-of-type {\n",
       "        vertical-align: middle;\n",
       "    }\n",
       "\n",
       "    .dataframe tbody tr th {\n",
       "        vertical-align: top;\n",
       "    }\n",
       "\n",
       "    .dataframe thead th {\n",
       "        text-align: right;\n",
       "    }\n",
       "</style>\n",
       "<table border=\"1\" class=\"dataframe\">\n",
       "  <thead>\n",
       "    <tr style=\"text-align: right;\">\n",
       "      <th></th>\n",
       "      <th>image_id</th>\n",
       "      <th>labels</th>\n",
       "    </tr>\n",
       "  </thead>\n",
       "  <tbody>\n",
       "    <tr>\n",
       "      <td>15084</td>\n",
       "      <td>_0_5667.h.bmp</td>\n",
       "      <td>1</td>\n",
       "    </tr>\n",
       "    <tr>\n",
       "      <td>15085</td>\n",
       "      <td>_0_7185.h.bmp</td>\n",
       "      <td>1</td>\n",
       "    </tr>\n",
       "    <tr>\n",
       "      <td>15086</td>\n",
       "      <td>_0_7554.h.bmp</td>\n",
       "      <td>1</td>\n",
       "    </tr>\n",
       "    <tr>\n",
       "      <td>15087</td>\n",
       "      <td>_0_2332.h.bmp</td>\n",
       "      <td>1</td>\n",
       "    </tr>\n",
       "    <tr>\n",
       "      <td>15088</td>\n",
       "      <td>_0_5622.h.bmp</td>\n",
       "      <td>1</td>\n",
       "    </tr>\n",
       "  </tbody>\n",
       "</table>\n",
       "</div>"
      ],
      "text/plain": [
       "            image_id  labels\n",
       "15084  _0_5667.h.bmp       1\n",
       "15085  _0_7185.h.bmp       1\n",
       "15086  _0_7554.h.bmp       1\n",
       "15087  _0_2332.h.bmp       1\n",
       "15088  _0_5622.h.bmp       1"
      ]
     },
     "execution_count": 4,
     "metadata": {},
     "output_type": "execute_result"
    }
   ],
   "source": [
    "train.tail()"
   ]
  },
  {
   "cell_type": "code",
   "execution_count": 5,
   "metadata": {},
   "outputs": [],
   "source": [
    "train = train.sample(frac=1).reset_index(drop=True)"
   ]
  },
  {
   "cell_type": "code",
   "execution_count": 6,
   "metadata": {},
   "outputs": [
    {
     "data": {
      "text/html": [
       "<div>\n",
       "<style scoped>\n",
       "    .dataframe tbody tr th:only-of-type {\n",
       "        vertical-align: middle;\n",
       "    }\n",
       "\n",
       "    .dataframe tbody tr th {\n",
       "        vertical-align: top;\n",
       "    }\n",
       "\n",
       "    .dataframe thead th {\n",
       "        text-align: right;\n",
       "    }\n",
       "</style>\n",
       "<table border=\"1\" class=\"dataframe\">\n",
       "  <thead>\n",
       "    <tr style=\"text-align: right;\">\n",
       "      <th></th>\n",
       "      <th>image_id</th>\n",
       "      <th>labels</th>\n",
       "    </tr>\n",
       "  </thead>\n",
       "  <tbody>\n",
       "    <tr>\n",
       "      <td>0</td>\n",
       "      <td>_0_8719.h.bmp</td>\n",
       "      <td>1</td>\n",
       "    </tr>\n",
       "    <tr>\n",
       "      <td>1</td>\n",
       "      <td>_0_594..bmp</td>\n",
       "      <td>0</td>\n",
       "    </tr>\n",
       "    <tr>\n",
       "      <td>2</td>\n",
       "      <td>_0_6726..bmp</td>\n",
       "      <td>0</td>\n",
       "    </tr>\n",
       "    <tr>\n",
       "      <td>3</td>\n",
       "      <td>_0_3321.h.bmp</td>\n",
       "      <td>1</td>\n",
       "    </tr>\n",
       "    <tr>\n",
       "      <td>4</td>\n",
       "      <td>_0_4552.h.bmp</td>\n",
       "      <td>1</td>\n",
       "    </tr>\n",
       "  </tbody>\n",
       "</table>\n",
       "</div>"
      ],
      "text/plain": [
       "        image_id  labels\n",
       "0  _0_8719.h.bmp       1\n",
       "1    _0_594..bmp       0\n",
       "2   _0_6726..bmp       0\n",
       "3  _0_3321.h.bmp       1\n",
       "4  _0_4552.h.bmp       1"
      ]
     },
     "execution_count": 6,
     "metadata": {},
     "output_type": "execute_result"
    }
   ],
   "source": [
    "train.head()"
   ]
  },
  {
   "cell_type": "code",
   "execution_count": 7,
   "metadata": {},
   "outputs": [
    {
     "data": {
      "text/html": [
       "<div>\n",
       "<style scoped>\n",
       "    .dataframe tbody tr th:only-of-type {\n",
       "        vertical-align: middle;\n",
       "    }\n",
       "\n",
       "    .dataframe tbody tr th {\n",
       "        vertical-align: top;\n",
       "    }\n",
       "\n",
       "    .dataframe thead th {\n",
       "        text-align: right;\n",
       "    }\n",
       "</style>\n",
       "<table border=\"1\" class=\"dataframe\">\n",
       "  <thead>\n",
       "    <tr style=\"text-align: right;\">\n",
       "      <th></th>\n",
       "      <th>image_id</th>\n",
       "      <th>labels</th>\n",
       "    </tr>\n",
       "  </thead>\n",
       "  <tbody>\n",
       "    <tr>\n",
       "      <td>15084</td>\n",
       "      <td>_0_23.h.bmp</td>\n",
       "      <td>1</td>\n",
       "    </tr>\n",
       "    <tr>\n",
       "      <td>15085</td>\n",
       "      <td>_0_4791.h.bmp</td>\n",
       "      <td>1</td>\n",
       "    </tr>\n",
       "    <tr>\n",
       "      <td>15086</td>\n",
       "      <td>_0_2906.h.bmp</td>\n",
       "      <td>1</td>\n",
       "    </tr>\n",
       "    <tr>\n",
       "      <td>15087</td>\n",
       "      <td>_0_298.h.bmp</td>\n",
       "      <td>1</td>\n",
       "    </tr>\n",
       "    <tr>\n",
       "      <td>15088</td>\n",
       "      <td>_0_7298..bmp</td>\n",
       "      <td>0</td>\n",
       "    </tr>\n",
       "  </tbody>\n",
       "</table>\n",
       "</div>"
      ],
      "text/plain": [
       "            image_id  labels\n",
       "15084    _0_23.h.bmp       1\n",
       "15085  _0_4791.h.bmp       1\n",
       "15086  _0_2906.h.bmp       1\n",
       "15087   _0_298.h.bmp       1\n",
       "15088   _0_7298..bmp       0"
      ]
     },
     "execution_count": 7,
     "metadata": {},
     "output_type": "execute_result"
    }
   ],
   "source": [
    "train.tail()"
   ]
  },
  {
   "cell_type": "code",
   "execution_count": 8,
   "metadata": {
    "scrolled": true
   },
   "outputs": [
    {
     "data": {
      "text/plain": [
       "<matplotlib.axes._subplots.AxesSubplot at 0x10537ead0>"
      ]
     },
     "execution_count": 8,
     "metadata": {},
     "output_type": "execute_result"
    },
    {
     "data": {
      "image/png": "[encoded data removed]",
      "text/plain": [
       "<Figure size 432x288 with 1 Axes>"
      ]
     },
     "metadata": {
      "needs_background": "light"
     },
     "output_type": "display_data"
    }
   ],
   "source": [
    "train['labels'].value_counts().plot.bar()"
   ]
  },
  {
   "cell_type": "code",
   "execution_count": 9,
   "metadata": {},
   "outputs": [
    {
     "data": {
      "text/plain": [
       "<matplotlib.image.AxesImage at 0x1152ad1d0>"
      ]
     },
     "execution_count": 9,
     "metadata": {},
     "output_type": "execute_result"
    },
    {
     "data": {
      "image/png": "[encoded data removed]",
      "text/plain": [
       "<Figure size 432x288 with 1 Axes>"
      ]
     },
     "metadata": {
      "needs_background": "light"
     },
     "output_type": "display_data"
    }
   ],
   "source": [
    "files = os.listdir(\"/Users/jesus/Downloads/blood_cancer/Augmented_train/CLAHE_Gaussian/\")\n",
    "\n",
    "\n",
    "sample = random.choice(files)\n",
    "image = load_img(\"/Users/jesus/Downloads/blood_cancer/Augmented_train/CLAHE_Gaussian/\" +sample)\n",
    "plt.imshow(image)"
   ]
  },
  {
   "cell_type": "code",
   "execution_count": 10,
   "metadata": {},
   "outputs": [],
   "source": [
    "train[\"labels\"] = train[\"labels\"].replace({0: 'all', 1: 'hem'}) "
   ]
  },
  {
   "cell_type": "code",
   "execution_count": 11,
   "metadata": {},
   "outputs": [],
   "source": [
    "train_dir = '/Users/jesus/Downloads/blood_cancer/Augmented_train/CLAHE_Gaussian/'"
   ]
  },
  {
   "cell_type": "markdown",
   "metadata": {},
   "source": [
    "Stratified Splitting"
   ]
  },
  {
   "cell_type": "code",
   "execution_count": 12,
   "metadata": {},
   "outputs": [],
   "source": [
    "train_df, test_df = train_test_split(train, test_size=0.25, random_state=20)"
   ]
  },
  {
   "cell_type": "code",
   "execution_count": 13,
   "metadata": {},
   "outputs": [],
   "source": [
    "train_df, validate_df = train_test_split(train_df, test_size=0.15, random_state=20)"
   ]
  },
  {
   "cell_type": "code",
   "execution_count": 14,
   "metadata": {},
   "outputs": [
    {
     "data": {
      "text/plain": [
       "<matplotlib.axes._subplots.AxesSubplot at 0x1a3271ba50>"
      ]
     },
     "execution_count": 14,
     "metadata": {},
     "output_type": "execute_result"
    },
    {
     "data": {
      "image/png": "[encoded data removed]",
      "text/plain": [
       "<Figure size 432x288 with 1 Axes>"
      ]
     },
     "metadata": {
      "needs_background": "light"
     },
     "output_type": "display_data"
    }
   ],
   "source": [
    "train_df['labels'].value_counts().plot.bar()"
   ]
  },
  {
   "cell_type": "code",
   "execution_count": 15,
   "metadata": {},
   "outputs": [
    {
     "data": {
      "text/plain": [
       "9618"
      ]
     },
     "execution_count": 15,
     "metadata": {},
     "output_type": "execute_result"
    }
   ],
   "source": [
    "len(train_df)\n"
   ]
  },
  {
   "cell_type": "code",
   "execution_count": 16,
   "metadata": {},
   "outputs": [
    {
     "data": {
      "text/plain": [
       "<matplotlib.axes._subplots.AxesSubplot at 0x1a327dead0>"
      ]
     },
     "execution_count": 16,
     "metadata": {},
     "output_type": "execute_result"
    },
    {
     "data": {
      "image/png": "[encoded data removed]",
      "text/plain": [
       "<Figure size 432x288 with 1 Axes>"
      ]
     },
     "metadata": {
      "needs_background": "light"
     },
     "output_type": "display_data"
    }
   ],
   "source": [
    "validate_df['labels'].value_counts().plot.bar()"
   ]
  },
  {
   "cell_type": "code",
   "execution_count": 17,
   "metadata": {},
   "outputs": [
    {
     "data": {
      "text/plain": [
       "3773"
      ]
     },
     "execution_count": 17,
     "metadata": {},
     "output_type": "execute_result"
    }
   ],
   "source": [
    "len(test_df)\n"
   ]
  },
  {
   "cell_type": "code",
   "execution_count": 18,
   "metadata": {},
   "outputs": [
    {
     "data": {
      "text/plain": [
       "1698"
      ]
     },
     "execution_count": 18,
     "metadata": {},
     "output_type": "execute_result"
    }
   ],
   "source": [
    "len(validate_df)"
   ]
  },
  {
   "cell_type": "code",
   "execution_count": 19,
   "metadata": {
    "scrolled": true
   },
   "outputs": [
    {
     "data": {
      "text/plain": [
       "<matplotlib.axes._subplots.AxesSubplot at 0x1a328a0f10>"
      ]
     },
     "execution_count": 19,
     "metadata": {},
     "output_type": "execute_result"
    },
    {
     "data": {
      "image/png": "[encoded data removed]",
      "text/plain": [
       "<Figure size 432x288 with 1 Axes>"
      ]
     },
     "metadata": {
      "needs_background": "light"
     },
     "output_type": "display_data"
    }
   ],
   "source": [
    "test_df['labels'].value_counts().plot.bar()"
   ]
  },
  {
   "cell_type": "code",
   "execution_count": 20,
   "metadata": {},
   "outputs": [],
   "source": [
    "batch_size=32"
   ]
  },
  {
   "cell_type": "markdown",
   "metadata": {},
   "source": [
    "Loading the VGG16 model and freezing the top layers(dense layers) since we dont need that for feature extraction"
   ]
  },
  {
   "cell_type": "code",
   "execution_count": 21,
   "metadata": {
    "scrolled": true
   },
   "outputs": [
    {
     "name": "stdout",
     "output_type": "stream",
     "text": [
      "Model: \"vgg16\"\n",
      "_________________________________________________________________\n",
      "Layer (type)                 Output Shape              Param #   \n",
      "=================================================================\n",
      "input_1 (InputLayer)         (None, None, None, 3)     0         \n",
      "_________________________________________________________________\n",
      "block1_conv1 (Conv2D)        (None, None, None, 64)    1792      \n",
      "_________________________________________________________________\n",
      "block1_conv2 (Conv2D)        (None, None, None, 64)    36928     \n",
      "_________________________________________________________________\n",
      "block1_pool (MaxPooling2D)   (None, None, None, 64)    0         \n",
      "_________________________________________________________________\n",
      "block2_conv1 (Conv2D)        (None, None, None, 128)   73856     \n",
      "_________________________________________________________________\n",
      "block2_conv2 (Conv2D)        (None, None, None, 128)   147584    \n",
      "_________________________________________________________________\n",
      "block2_pool (MaxPooling2D)   (None, None, None, 128)   0         \n",
      "_________________________________________________________________\n",
      "block3_conv1 (Conv2D)        (None, None, None, 256)   295168    \n",
      "_________________________________________________________________\n",
      "block3_conv2 (Conv2D)        (None, None, None, 256)   590080    \n",
      "_________________________________________________________________\n",
      "block3_conv3 (Conv2D)        (None, None, None, 256)   590080    \n",
      "_________________________________________________________________\n",
      "block3_pool (MaxPooling2D)   (None, None, None, 256)   0         \n",
      "_________________________________________________________________\n",
      "block4_conv1 (Conv2D)        (None, None, None, 512)   1180160   \n",
      "_________________________________________________________________\n",
      "block4_conv2 (Conv2D)        (None, None, None, 512)   2359808   \n",
      "_________________________________________________________________\n",
      "block4_conv3 (Conv2D)        (None, None, None, 512)   2359808   \n",
      "_________________________________________________________________\n",
      "block4_pool (MaxPooling2D)   (None, None, None, 512)   0         \n",
      "_________________________________________________________________\n",
      "block5_conv1 (Conv2D)        (None, None, None, 512)   2359808   \n",
      "_________________________________________________________________\n",
      "block5_conv2 (Conv2D)        (None, None, None, 512)   2359808   \n",
      "_________________________________________________________________\n",
      "block5_conv3 (Conv2D)        (None, None, None, 512)   2359808   \n",
      "_________________________________________________________________\n",
      "block5_pool (MaxPooling2D)   (None, None, None, 512)   0         \n",
      "=================================================================\n",
      "Total params: 14,714,688\n",
      "Trainable params: 14,714,688\n",
      "Non-trainable params: 0\n",
      "_________________________________________________________________\n"
     ]
    }
   ],
   "source": [
    "model_cnn=VGG16(weights='imagenet',include_top=False)\n",
    "model_cnn.summary()"
   ]
  },
  {
   "cell_type": "markdown",
   "metadata": {},
   "source": [
    "Data Augmentation using Image Data Generator from keras"
   ]
  },
  {
   "cell_type": "code",
   "execution_count": 22,
   "metadata": {},
   "outputs": [],
   "source": [
    "train_datagen = ImageDataGenerator(\n",
    "rescale=1./255,)"
   ]
  },
  {
   "cell_type": "code",
   "execution_count": 23,
   "metadata": {},
   "outputs": [
    {
     "name": "stdout",
     "output_type": "stream",
     "text": [
      "Found 3773 validated image filenames belonging to 2 classes.\n"
     ]
    }
   ],
   "source": [
    "test_datagen = ImageDataGenerator(\n",
    "    rescale=1./255)\n",
    "\n",
    "\n",
    "test_generator = test_datagen.flow_from_dataframe(\n",
    "    test_df,train_dir, \n",
    "    x_col='image_id',\n",
    "    y_col='labels',\n",
    "    class_mode='binary',\n",
    "    target_size=(128,128),\n",
    "    batch_size=batch_size\n",
    ")"
   ]
  },
  {
   "cell_type": "code",
   "execution_count": 24,
   "metadata": {},
   "outputs": [
    {
     "name": "stdout",
     "output_type": "stream",
     "text": [
      "Found 1698 validated image filenames belonging to 2 classes.\n"
     ]
    }
   ],
   "source": [
    "valid_datagen = ImageDataGenerator(\n",
    "    rescale=1./255,\n",
    "    )\n",
    "\n",
    "valid_generator = valid_datagen.flow_from_dataframe(\n",
    "    validate_df, train_dir, \n",
    "    x_col='image_id',\n",
    "    y_col='labels',\n",
    "    class_mode='binary',\n",
    "    target_size=(128,128),\n",
    "    batch_size=batch_size\n",
    ")"
   ]
  },
  {
   "cell_type": "markdown",
   "metadata": {},
   "source": [
    "Function definition for feature extraction"
   ]
  },
  {
   "cell_type": "code",
   "execution_count": 25,
   "metadata": {},
   "outputs": [],
   "source": [
    "def ext_features(directory,samples,df):\n",
    "    \n",
    "    \n",
    "    features=np.zeros(shape=(samples,4,4,512))\n",
    "    labels=np.zeros(shape=(samples))\n",
    "    generator=train_datagen.flow_from_dataframe(dataframe=df,directory=directory, \n",
    "    x_col='image_id',\n",
    "    y_col='labels',\n",
    "    class_mode='binary',\n",
    "    target_size=(128, 128),\n",
    "    batch_size=batch_size)\n",
    "    \n",
    "    i=0\n",
    "    for input_batch,label_batch in generator:\n",
    "        feature_batch=model_cnn.predict(input_batch)\n",
    "        features[i*batch_size:(i+1)*batch_size]=feature_batch\n",
    "        labels[i*batch_size:(i+1)*batch_size]=label_batch\n",
    "        i+=1\n",
    "        if(i*batch_size>=samples):\n",
    "            break\n",
    "    return(features,labels)\n"
   ]
  },
  {
   "cell_type": "code",
   "execution_count": 26,
   "metadata": {},
   "outputs": [
    {
     "name": "stdout",
     "output_type": "stream",
     "text": [
      "Found 9618 validated image filenames belonging to 2 classes.\n",
      "Found 3773 validated image filenames belonging to 2 classes.\n",
      "Found 1698 validated image filenames belonging to 2 classes.\n"
     ]
    }
   ],
   "source": [
    "train_features, train_labels= ext_features(train_dir,9618, train_df)\n",
    "test_features, test_labels= ext_features(train_dir,3773, test_df)\n",
    "validate_features, validate_labels= ext_features(train_dir,1698, validate_df)\n"
   ]
  },
  {
   "cell_type": "markdown",
   "metadata": {},
   "source": [
    "A Shallow CNN Model 25 EPOCHS BATCH SIZE 32"
   ]
  },
  {
   "cell_type": "code",
   "execution_count": 27,
   "metadata": {},
   "outputs": [
    {
     "name": "stdout",
     "output_type": "stream",
     "text": [
      "Model: \"sequential_1\"\n",
      "_________________________________________________________________\n",
      "Layer (type)                 Output Shape              Param #   \n",
      "=================================================================\n",
      "global_average_pooling2d_1 ( (None, 512)               0         \n",
      "_________________________________________________________________\n",
      "dropout_1 (Dropout)          (None, 512)               0         \n",
      "_________________________________________________________________\n",
      "dense_1 (Dense)              (None, 200)               102600    \n",
      "_________________________________________________________________\n",
      "dense_2 (Dense)              (None, 1)                 201       \n",
      "=================================================================\n",
      "Total params: 102,801\n",
      "Trainable params: 102,801\n",
      "Non-trainable params: 0\n",
      "_________________________________________________________________\n"
     ]
    }
   ],
   "source": [
    "model1 = Sequential()\n",
    "model1.add(GlobalAveragePooling2D(input_shape=train_features.shape[1:]))\n",
    "model1.add(Dropout(0.1))\n",
    "model1.add(Dense(200, activation='relu'))\n",
    "model1.add(Dense(1, activation='sigmoid'))\n",
    "model1.summary()"
   ]
  },
  {
   "cell_type": "code",
   "execution_count": 28,
   "metadata": {},
   "outputs": [],
   "source": [
    "model1.compile(optimizer= 'adam',\n",
    "              loss='binary_crossentropy',\n",
    "              metrics=['accuracy'])"
   ]
  },
  {
   "cell_type": "code",
   "execution_count": 29,
   "metadata": {},
   "outputs": [
    {
     "name": "stdout",
     "output_type": "stream",
     "text": [
      "Train on 9618 samples, validate on 3773 samples\n",
      "Epoch 1/25\n",
      "9618/9618 [==============================] - 2s 165us/step - loss: 0.5251 - accuracy: 0.7492 - val_loss: 0.4879 - val_accuracy: 0.7768\n",
      "Epoch 2/25\n",
      "9618/9618 [==============================] - 1s 106us/step - loss: 0.4957 - accuracy: 0.7719 - val_loss: 0.4799 - val_accuracy: 0.7758\n",
      "Epoch 3/25\n",
      "9618/9618 [==============================] - 1s 105us/step - loss: 0.4906 - accuracy: 0.7708 - val_loss: 0.4671 - val_accuracy: 0.7832\n",
      "Epoch 4/25\n",
      "9618/9618 [==============================] - 1s 111us/step - loss: 0.4773 - accuracy: 0.7805 - val_loss: 0.4948 - val_accuracy: 0.7654\n",
      "Epoch 5/25\n",
      "9618/9618 [==============================] - 1s 108us/step - loss: 0.4724 - accuracy: 0.7830 - val_loss: 0.4545 - val_accuracy: 0.7877\n",
      "Epoch 6/25\n",
      "9618/9618 [==============================] - 1s 106us/step - loss: 0.4719 - accuracy: 0.7808 - val_loss: 0.4576 - val_accuracy: 0.7869\n",
      "Epoch 7/25\n",
      "9618/9618 [==============================] - 1s 113us/step - loss: 0.4618 - accuracy: 0.7864 - val_loss: 0.4797 - val_accuracy: 0.7747\n",
      "Epoch 8/25\n",
      "9618/9618 [==============================] - 1s 104us/step - loss: 0.4601 - accuracy: 0.7851 - val_loss: 0.4471 - val_accuracy: 0.7919\n",
      "Epoch 9/25\n",
      "9618/9618 [==============================] - 1s 105us/step - loss: 0.4584 - accuracy: 0.7877 - val_loss: 0.4476 - val_accuracy: 0.7922\n",
      "Epoch 10/25\n",
      "9618/9618 [==============================] - 1s 104us/step - loss: 0.4573 - accuracy: 0.7860 - val_loss: 0.4436 - val_accuracy: 0.7946\n",
      "Epoch 11/25\n",
      "9618/9618 [==============================] - 1s 103us/step - loss: 0.4604 - accuracy: 0.7842 - val_loss: 0.4453 - val_accuracy: 0.7935\n",
      "Epoch 12/25\n",
      "9618/9618 [==============================] - 1s 105us/step - loss: 0.4590 - accuracy: 0.7850 - val_loss: 0.4474 - val_accuracy: 0.7909\n",
      "Epoch 13/25\n",
      "9618/9618 [==============================] - 1s 106us/step - loss: 0.4514 - accuracy: 0.7927 - val_loss: 0.4359 - val_accuracy: 0.7964\n",
      "Epoch 14/25\n",
      "9618/9618 [==============================] - 1s 106us/step - loss: 0.4534 - accuracy: 0.7921 - val_loss: 0.4356 - val_accuracy: 0.7954\n",
      "Epoch 15/25\n",
      "9618/9618 [==============================] - 1s 106us/step - loss: 0.4451 - accuracy: 0.7942 - val_loss: 0.4402 - val_accuracy: 0.7935\n",
      "Epoch 16/25\n",
      "9618/9618 [==============================] - 1s 103us/step - loss: 0.4452 - accuracy: 0.7922 - val_loss: 0.4332 - val_accuracy: 0.7954\n",
      "Epoch 17/25\n",
      "9618/9618 [==============================] - 1s 105us/step - loss: 0.4408 - accuracy: 0.7951 - val_loss: 0.4611 - val_accuracy: 0.7813\n",
      "Epoch 18/25\n",
      "9618/9618 [==============================] - 1s 104us/step - loss: 0.4408 - accuracy: 0.7934 - val_loss: 0.4378 - val_accuracy: 0.7941\n",
      "Epoch 19/25\n",
      "9618/9618 [==============================] - 1s 102us/step - loss: 0.4360 - accuracy: 0.7987 - val_loss: 0.4260 - val_accuracy: 0.8015\n",
      "Epoch 20/25\n",
      "9618/9618 [==============================] - 1s 103us/step - loss: 0.4368 - accuracy: 0.7960 - val_loss: 0.4300 - val_accuracy: 0.8007\n",
      "Epoch 21/25\n",
      "9618/9618 [==============================] - 1s 104us/step - loss: 0.4354 - accuracy: 0.7983 - val_loss: 0.4334 - val_accuracy: 0.7967\n",
      "Epoch 22/25\n",
      "9618/9618 [==============================] - 1s 104us/step - loss: 0.4377 - accuracy: 0.8014 - val_loss: 0.4299 - val_accuracy: 0.8002\n",
      "Epoch 23/25\n",
      "9618/9618 [==============================] - 1s 103us/step - loss: 0.4331 - accuracy: 0.7987 - val_loss: 0.4271 - val_accuracy: 0.8017\n",
      "Epoch 24/25\n",
      "9618/9618 [==============================] - 1s 105us/step - loss: 0.4303 - accuracy: 0.8005 - val_loss: 0.4211 - val_accuracy: 0.8041\n",
      "Epoch 25/25\n",
      "9618/9618 [==============================] - 1s 102us/step - loss: 0.4238 - accuracy: 0.8044 - val_loss: 0.4935 - val_accuracy: 0.7631\n"
     ]
    }
   ],
   "source": [
    "history1 = model1.fit(train_features, train_labels, batch_size=32, epochs=25,\n",
    "          validation_data=(test_features, test_labels), shuffle=True)"
   ]
  },
  {
   "cell_type": "code",
   "execution_count": 30,
   "metadata": {},
   "outputs": [
    {
     "data": {
      "image/png": "[encoded data removed]",
      "text/plain": [
       "<Figure size 864x360 with 2 Axes>"
      ]
     },
     "metadata": {
      "needs_background": "light"
     },
     "output_type": "display_data"
    }
   ],
   "source": [
    "# plot the model loss and accuracy\n",
    "train_loss = history1.history['loss']\n",
    "train_acc = history1.history['accuracy']\n",
    "\n",
    "valid_loss = history1.history['val_loss']\n",
    "valid_acc = history1.history['val_accuracy']\n",
    "\n",
    "x = [(i+1) for i in range(len(train_loss))]\n",
    "\n",
    "f,ax = plt.subplots(1,2, figsize=(12,5))\n",
    "ax[0].plot(x, train_loss)\n",
    "ax[0].plot(x, valid_loss)\n",
    "ax[0].set_title(\"Loss plot\")\n",
    "ax[0].set_xlabel(\"Epochs\")\n",
    "ax[0].set_ylabel(\"loss\")\n",
    "ax[0].legend(['train', 'valid'])\n",
    "\n",
    "\n",
    "ax[1].plot(x, train_acc)\n",
    "ax[1].plot(x, valid_acc)\n",
    "ax[1].set_title(\"Accuracy plot\")\n",
    "ax[1].set_xlabel(\"Epochs\")\n",
    "ax[1].set_ylabel(\"acc\")\n",
    "ax[1].legend(['train', 'valid'])\n",
    "\n",
    "plt.show()"
   ]
  },
  {
   "cell_type": "code",
   "execution_count": 31,
   "metadata": {},
   "outputs": [
    {
     "name": "stdout",
     "output_type": "stream",
     "text": [
      "Val Accuracy = 0.73\n"
     ]
    }
   ],
   "source": [
    "predictions1 = model1.predict(validate_features)\n",
    "predictions1 = [1 if x>0.5 else 0 for x in predictions1]\n",
    "accuracy1 = accuracy_score(validate_labels, predictions1)\n",
    "print('Val Accuracy = %.2f' % accuracy1)"
   ]
  },
  {
   "cell_type": "code",
   "execution_count": 32,
   "metadata": {},
   "outputs": [],
   "source": [
    "confusion_mtx1 = confusion_matrix(validate_labels, predictions1) "
   ]
  },
  {
   "cell_type": "code",
   "execution_count": 33,
   "metadata": {},
   "outputs": [
    {
     "data": {
      "text/plain": [
       "(<Figure size 432x288 with 1 Axes>,\n",
       " <matplotlib.axes._subplots.AxesSubplot at 0x1a34b17c10>)"
      ]
     },
     "execution_count": 33,
     "metadata": {},
     "output_type": "execute_result"
    },
    {
     "data": {
      "image/png": "[encoded data removed]",
      "text/plain": [
       "<Figure size 432x288 with 1 Axes>"
      ]
     },
     "metadata": {
      "needs_background": "light"
     },
     "output_type": "display_data"
    }
   ],
   "source": [
    "plot_confusion_matrix(confusion_mtx1, show_normed=True)"
   ]
  },
  {
   "cell_type": "code",
   "execution_count": 34,
   "metadata": {},
   "outputs": [
    {
     "data": {
      "text/plain": [
       "0.7141699875348019"
      ]
     },
     "execution_count": 34,
     "metadata": {},
     "output_type": "execute_result"
    }
   ],
   "source": [
    "f1_score(validate_labels, predictions1, average='weighted')"
   ]
  },
  {
   "cell_type": "markdown",
   "metadata": {},
   "source": [
    "50 EPOCHS"
   ]
  },
  {
   "cell_type": "code",
   "execution_count": 35,
   "metadata": {},
   "outputs": [
    {
     "name": "stdout",
     "output_type": "stream",
     "text": [
      "Model: \"sequential_2\"\n",
      "_________________________________________________________________\n",
      "Layer (type)                 Output Shape              Param #   \n",
      "=================================================================\n",
      "global_average_pooling2d_2 ( (None, 512)               0         \n",
      "_________________________________________________________________\n",
      "dropout_2 (Dropout)          (None, 512)               0         \n",
      "_________________________________________________________________\n",
      "dense_3 (Dense)              (None, 200)               102600    \n",
      "_________________________________________________________________\n",
      "dense_4 (Dense)              (None, 1)                 201       \n",
      "=================================================================\n",
      "Total params: 102,801\n",
      "Trainable params: 102,801\n",
      "Non-trainable params: 0\n",
      "_________________________________________________________________\n"
     ]
    }
   ],
   "source": [
    "model2 = Sequential()\n",
    "model2.add(GlobalAveragePooling2D(input_shape=train_features.shape[1:]))\n",
    "model2.add(Dropout(0.1))\n",
    "model2.add(Dense(200, activation='relu'))\n",
    "model2.add(Dense(1, activation='sigmoid'))\n",
    "model2.summary()"
   ]
  },
  {
   "cell_type": "code",
   "execution_count": 36,
   "metadata": {},
   "outputs": [],
   "source": [
    "model2.compile(optimizer= 'adam',\n",
    "              loss='binary_crossentropy',\n",
    "              metrics=['accuracy'])"
   ]
  },
  {
   "cell_type": "code",
   "execution_count": 37,
   "metadata": {},
   "outputs": [
    {
     "name": "stdout",
     "output_type": "stream",
     "text": [
      "Train on 9618 samples, validate on 3773 samples\n",
      "Epoch 1/50\n",
      "9618/9618 [==============================] - 1s 121us/step - loss: 0.5256 - accuracy: 0.7541 - val_loss: 0.4876 - val_accuracy: 0.7747\n",
      "Epoch 2/50\n",
      "9618/9618 [==============================] - 1s 104us/step - loss: 0.4979 - accuracy: 0.7680 - val_loss: 0.5022 - val_accuracy: 0.7654\n",
      "Epoch 3/50\n",
      "9618/9618 [==============================] - 1s 104us/step - loss: 0.4828 - accuracy: 0.7794 - val_loss: 0.4662 - val_accuracy: 0.7843\n",
      "Epoch 4/50\n",
      "9618/9618 [==============================] - 1s 108us/step - loss: 0.4742 - accuracy: 0.7847 - val_loss: 0.4687 - val_accuracy: 0.7803\n",
      "Epoch 5/50\n",
      "9618/9618 [==============================] - 1s 105us/step - loss: 0.4676 - accuracy: 0.7819 - val_loss: 0.4544 - val_accuracy: 0.7901\n",
      "Epoch 6/50\n",
      "9618/9618 [==============================] - 1s 107us/step - loss: 0.4636 - accuracy: 0.7868 - val_loss: 0.4544 - val_accuracy: 0.7888\n",
      "Epoch 7/50\n",
      "9618/9618 [==============================] - 1s 106us/step - loss: 0.4662 - accuracy: 0.7832 - val_loss: 0.4525 - val_accuracy: 0.7888\n",
      "Epoch 8/50\n",
      "9618/9618 [==============================] - 1s 104us/step - loss: 0.4552 - accuracy: 0.7895 - val_loss: 0.4436 - val_accuracy: 0.7938\n",
      "Epoch 9/50\n",
      "9618/9618 [==============================] - 1s 113us/step - loss: 0.4535 - accuracy: 0.7906 - val_loss: 0.4575 - val_accuracy: 0.7890\n",
      "Epoch 10/50\n",
      "9618/9618 [==============================] - 1s 114us/step - loss: 0.4550 - accuracy: 0.7858 - val_loss: 0.4510 - val_accuracy: 0.7917\n",
      "Epoch 11/50\n",
      "9618/9618 [==============================] - 1s 102us/step - loss: 0.4554 - accuracy: 0.7875 - val_loss: 0.4802 - val_accuracy: 0.7715\n",
      "Epoch 12/50\n",
      "9618/9618 [==============================] - 1s 102us/step - loss: 0.4497 - accuracy: 0.7882 - val_loss: 0.4360 - val_accuracy: 0.7964\n",
      "Epoch 13/50\n",
      "9618/9618 [==============================] - 1s 102us/step - loss: 0.4469 - accuracy: 0.7939 - val_loss: 0.4379 - val_accuracy: 0.7970\n",
      "Epoch 14/50\n",
      "9618/9618 [==============================] - 1s 113us/step - loss: 0.4475 - accuracy: 0.7948 - val_loss: 0.4532 - val_accuracy: 0.7845\n",
      "Epoch 15/50\n",
      "9618/9618 [==============================] - 1s 109us/step - loss: 0.4473 - accuracy: 0.7943 - val_loss: 0.4344 - val_accuracy: 0.7986\n",
      "Epoch 16/50\n",
      "9618/9618 [==============================] - 1s 110us/step - loss: 0.4410 - accuracy: 0.7911 - val_loss: 0.4413 - val_accuracy: 0.7866\n",
      "Epoch 17/50\n",
      "9618/9618 [==============================] - 1s 117us/step - loss: 0.4414 - accuracy: 0.7975 - val_loss: 0.4371 - val_accuracy: 0.7994\n",
      "Epoch 18/50\n",
      "9618/9618 [==============================] - 1s 113us/step - loss: 0.4338 - accuracy: 0.7993 - val_loss: 0.4552 - val_accuracy: 0.7869\n",
      "Epoch 19/50\n",
      "9618/9618 [==============================] - 1s 112us/step - loss: 0.4368 - accuracy: 0.7972 - val_loss: 0.4297 - val_accuracy: 0.7996\n",
      "Epoch 20/50\n",
      "9618/9618 [==============================] - 1s 109us/step - loss: 0.4351 - accuracy: 0.7977 - val_loss: 0.4221 - val_accuracy: 0.8012\n",
      "Epoch 21/50\n",
      "9618/9618 [==============================] - 1s 105us/step - loss: 0.4275 - accuracy: 0.8040 - val_loss: 0.4328 - val_accuracy: 0.7980\n",
      "Epoch 22/50\n",
      "9618/9618 [==============================] - 1s 106us/step - loss: 0.4316 - accuracy: 0.8034 - val_loss: 0.4248 - val_accuracy: 0.8004\n",
      "Epoch 23/50\n",
      "9618/9618 [==============================] - 1s 106us/step - loss: 0.4286 - accuracy: 0.8026 - val_loss: 0.4244 - val_accuracy: 0.8020\n",
      "Epoch 24/50\n",
      "9618/9618 [==============================] - 1s 110us/step - loss: 0.4299 - accuracy: 0.8005 - val_loss: 0.4308 - val_accuracy: 0.7917\n",
      "Epoch 25/50\n",
      "9618/9618 [==============================] - 1s 107us/step - loss: 0.4261 - accuracy: 0.8025 - val_loss: 0.4346 - val_accuracy: 0.7962\n",
      "Epoch 26/50\n",
      "9618/9618 [==============================] - 1s 105us/step - loss: 0.4263 - accuracy: 0.8052 - val_loss: 0.4193 - val_accuracy: 0.8031\n",
      "Epoch 27/50\n",
      "9618/9618 [==============================] - 1s 106us/step - loss: 0.4258 - accuracy: 0.8049 - val_loss: 0.4205 - val_accuracy: 0.8033\n",
      "Epoch 28/50\n",
      "9618/9618 [==============================] - 1s 105us/step - loss: 0.4205 - accuracy: 0.8068 - val_loss: 0.4190 - val_accuracy: 0.8047\n",
      "Epoch 29/50\n",
      "9618/9618 [==============================] - 1s 109us/step - loss: 0.4195 - accuracy: 0.8051 - val_loss: 0.4167 - val_accuracy: 0.8049\n",
      "Epoch 30/50\n",
      "9618/9618 [==============================] - 1s 105us/step - loss: 0.4173 - accuracy: 0.8081 - val_loss: 0.4182 - val_accuracy: 0.8049\n",
      "Epoch 31/50\n",
      "9618/9618 [==============================] - 1s 108us/step - loss: 0.4114 - accuracy: 0.8107 - val_loss: 0.4354 - val_accuracy: 0.7888\n",
      "Epoch 32/50\n",
      "9618/9618 [==============================] - 1s 109us/step - loss: 0.4153 - accuracy: 0.8103 - val_loss: 0.4129 - val_accuracy: 0.8057\n",
      "Epoch 33/50\n",
      "9618/9618 [==============================] - 1s 105us/step - loss: 0.4172 - accuracy: 0.8114 - val_loss: 0.4195 - val_accuracy: 0.8044\n",
      "Epoch 34/50\n",
      "9618/9618 [==============================] - 1s 103us/step - loss: 0.4093 - accuracy: 0.8087 - val_loss: 0.4131 - val_accuracy: 0.8073\n",
      "Epoch 35/50\n",
      "9618/9618 [==============================] - 1s 111us/step - loss: 0.4108 - accuracy: 0.8098 - val_loss: 0.4092 - val_accuracy: 0.8113\n",
      "Epoch 36/50\n",
      "9618/9618 [==============================] - 1s 105us/step - loss: 0.4059 - accuracy: 0.8136 - val_loss: 0.4078 - val_accuracy: 0.8116\n",
      "Epoch 37/50\n",
      "9618/9618 [==============================] - 1s 106us/step - loss: 0.4035 - accuracy: 0.8199 - val_loss: 0.4236 - val_accuracy: 0.8044\n",
      "Epoch 38/50\n",
      "9618/9618 [==============================] - 1s 119us/step - loss: 0.4049 - accuracy: 0.8166 - val_loss: 0.4088 - val_accuracy: 0.8116\n",
      "Epoch 39/50\n",
      "9618/9618 [==============================] - 1s 110us/step - loss: 0.3997 - accuracy: 0.8182 - val_loss: 0.4112 - val_accuracy: 0.8161\n",
      "Epoch 40/50\n",
      "9618/9618 [==============================] - 1s 110us/step - loss: 0.3976 - accuracy: 0.8165 - val_loss: 0.4228 - val_accuracy: 0.8033\n",
      "Epoch 41/50\n",
      "9618/9618 [==============================] - 1s 108us/step - loss: 0.3965 - accuracy: 0.8186 - val_loss: 0.4135 - val_accuracy: 0.8084\n",
      "Epoch 42/50\n",
      "9618/9618 [==============================] - 1s 104us/step - loss: 0.3996 - accuracy: 0.8187 - val_loss: 0.4339 - val_accuracy: 0.7967\n",
      "Epoch 43/50\n",
      "9618/9618 [==============================] - 1s 109us/step - loss: 0.3965 - accuracy: 0.8217 - val_loss: 0.4161 - val_accuracy: 0.8063\n",
      "Epoch 44/50\n",
      "9618/9618 [==============================] - 1s 107us/step - loss: 0.3961 - accuracy: 0.8184 - val_loss: 0.3999 - val_accuracy: 0.8211\n",
      "Epoch 45/50\n",
      "9618/9618 [==============================] - 1s 108us/step - loss: 0.3974 - accuracy: 0.8217 - val_loss: 0.4039 - val_accuracy: 0.8195\n",
      "Epoch 46/50\n",
      "9618/9618 [==============================] - 1s 107us/step - loss: 0.3898 - accuracy: 0.8215 - val_loss: 0.4068 - val_accuracy: 0.8118\n",
      "Epoch 47/50\n",
      "9618/9618 [==============================] - 1s 107us/step - loss: 0.3855 - accuracy: 0.8269 - val_loss: 0.4006 - val_accuracy: 0.8142\n",
      "Epoch 48/50\n",
      "9618/9618 [==============================] - 1s 106us/step - loss: 0.3900 - accuracy: 0.8235 - val_loss: 0.3991 - val_accuracy: 0.8219\n",
      "Epoch 49/50\n",
      "9618/9618 [==============================] - 1s 105us/step - loss: 0.3946 - accuracy: 0.8209 - val_loss: 0.4046 - val_accuracy: 0.8142\n",
      "Epoch 50/50\n",
      "9618/9618 [==============================] - 1s 107us/step - loss: 0.3858 - accuracy: 0.8263 - val_loss: 0.4144 - val_accuracy: 0.8073\n"
     ]
    }
   ],
   "source": [
    "history2 = model2.fit(train_features, train_labels, batch_size=32, epochs=50,\n",
    "          validation_data=(test_features, test_labels), shuffle=True)"
   ]
  },
  {
   "cell_type": "code",
   "execution_count": 38,
   "metadata": {},
   "outputs": [
    {
     "data": {
      "image/png": "[encoded data removed]",
      "text/plain": [
       "<Figure size 864x360 with 2 Axes>"
      ]
     },
     "metadata": {
      "needs_background": "light"
     },
     "output_type": "display_data"
    }
   ],
   "source": [
    "# plot the model loss and accuracy\n",
    "train_loss = history2.history['loss']\n",
    "train_acc = history2.history['accuracy']\n",
    "\n",
    "valid_loss = history2.history['val_loss']\n",
    "valid_acc = history2.history['val_accuracy']\n",
    "\n",
    "x = [(i+1) for i in range(len(train_loss))]\n",
    "\n",
    "f,ax = plt.subplots(1,2, figsize=(12,5))\n",
    "ax[0].plot(x, train_loss)\n",
    "ax[0].plot(x, valid_loss)\n",
    "ax[0].set_title(\"Loss plot\")\n",
    "ax[0].set_xlabel(\"Epochs\")\n",
    "ax[0].set_ylabel(\"loss\")\n",
    "ax[0].legend(['train', 'valid'])\n",
    "\n",
    "\n",
    "ax[1].plot(x, train_acc)\n",
    "ax[1].plot(x, valid_acc)\n",
    "ax[1].set_title(\"Accuracy plot\")\n",
    "ax[1].set_xlabel(\"Epochs\")\n",
    "ax[1].set_ylabel(\"acc\")\n",
    "ax[1].legend(['train', 'valid'])\n",
    "\n",
    "plt.show()"
   ]
  },
  {
   "cell_type": "code",
   "execution_count": 39,
   "metadata": {},
   "outputs": [
    {
     "name": "stdout",
     "output_type": "stream",
     "text": [
      "Val Accuracy = 0.78\n"
     ]
    }
   ],
   "source": [
    "predictions2 = model2.predict(validate_features)\n",
    "predictions2 = [1 if x>0.5 else 0 for x in predictions2]\n",
    "accuracy2 = accuracy_score(validate_labels, predictions2)\n",
    "print('Val Accuracy = %.2f' % accuracy2)"
   ]
  },
  {
   "cell_type": "code",
   "execution_count": 40,
   "metadata": {},
   "outputs": [],
   "source": [
    "confusion_mtx2 = confusion_matrix(validate_labels, predictions2) "
   ]
  },
  {
   "cell_type": "code",
   "execution_count": 41,
   "metadata": {},
   "outputs": [
    {
     "data": {
      "text/plain": [
       "(<Figure size 432x288 with 1 Axes>,\n",
       " <matplotlib.axes._subplots.AxesSubplot at 0x1a36514990>)"
      ]
     },
     "execution_count": 41,
     "metadata": {},
     "output_type": "execute_result"
    },
    {
     "data": {
      "image/png": "[encoded data removed]",
      "text/plain": [
       "<Figure size 432x288 with 1 Axes>"
      ]
     },
     "metadata": {
      "needs_background": "light"
     },
     "output_type": "display_data"
    }
   ],
   "source": [
    "plot_confusion_matrix(confusion_mtx2, show_normed=True)"
   ]
  },
  {
   "cell_type": "code",
   "execution_count": 42,
   "metadata": {},
   "outputs": [
    {
     "data": {
      "text/plain": [
       "0.7715800888799992"
      ]
     },
     "execution_count": 42,
     "metadata": {},
     "output_type": "execute_result"
    }
   ],
   "source": [
    "f1_score(validate_labels, predictions2, average='weighted')"
   ]
  },
  {
   "cell_type": "markdown",
   "metadata": {},
   "source": [
    "100 EPOCHS"
   ]
  },
  {
   "cell_type": "code",
   "execution_count": 61,
   "metadata": {},
   "outputs": [
    {
     "name": "stdout",
     "output_type": "stream",
     "text": [
      "Model: \"sequential_5\"\n",
      "_________________________________________________________________\n",
      "Layer (type)                 Output Shape              Param #   \n",
      "=================================================================\n",
      "global_average_pooling2d_5 ( (None, 512)               0         \n",
      "_________________________________________________________________\n",
      "dropout_5 (Dropout)          (None, 512)               0         \n",
      "_________________________________________________________________\n",
      "dense_9 (Dense)              (None, 200)               102600    \n",
      "_________________________________________________________________\n",
      "dense_10 (Dense)             (None, 1)                 201       \n",
      "=================================================================\n",
      "Total params: 102,801\n",
      "Trainable params: 102,801\n",
      "Non-trainable params: 0\n",
      "_________________________________________________________________\n"
     ]
    }
   ],
   "source": [
    "model3 = Sequential()\n",
    "model3.add(GlobalAveragePooling2D(input_shape=train_features.shape[1:]))\n",
    "model3.add(Dropout(0.1))\n",
    "model3.add(Dense(200, activation='relu'))\n",
    "model3.add(Dense(1, activation='sigmoid'))\n",
    "model3.summary()"
   ]
  },
  {
   "cell_type": "code",
   "execution_count": 62,
   "metadata": {},
   "outputs": [],
   "source": [
    "model3.compile(optimizer= 'adam',\n",
    "              loss='binary_crossentropy',\n",
    "              metrics=['accuracy'])"
   ]
  },
  {
   "cell_type": "code",
   "execution_count": 63,
   "metadata": {},
   "outputs": [
    {
     "name": "stdout",
     "output_type": "stream",
     "text": [
      "Train on 9618 samples, validate on 3773 samples\n",
      "Epoch 1/100\n",
      "9618/9618 [==============================] - 1s 126us/step - loss: 0.5289 - accuracy: 0.7468 - val_loss: 0.5105 - val_accuracy: 0.7620\n",
      "Epoch 2/100\n",
      "9618/9618 [==============================] - 1s 106us/step - loss: 0.4934 - accuracy: 0.7718 - val_loss: 0.4890 - val_accuracy: 0.7691\n",
      "Epoch 3/100\n",
      "9618/9618 [==============================] - 1s 105us/step - loss: 0.4809 - accuracy: 0.7794 - val_loss: 0.5039 - val_accuracy: 0.7625\n",
      "Epoch 4/100\n",
      "9618/9618 [==============================] - 1s 106us/step - loss: 0.4802 - accuracy: 0.7756 - val_loss: 0.5137 - val_accuracy: 0.7525\n",
      "Epoch 5/100\n",
      "9618/9618 [==============================] - 1s 105us/step - loss: 0.4740 - accuracy: 0.7816 - val_loss: 0.4538 - val_accuracy: 0.7901\n",
      "Epoch 6/100\n",
      "9618/9618 [==============================] - 1s 103us/step - loss: 0.4636 - accuracy: 0.7864 - val_loss: 0.4574 - val_accuracy: 0.7869\n",
      "Epoch 7/100\n",
      "9618/9618 [==============================] - 1s 107us/step - loss: 0.4618 - accuracy: 0.7861 - val_loss: 0.4460 - val_accuracy: 0.7904\n",
      "Epoch 8/100\n",
      "9618/9618 [==============================] - 1s 104us/step - loss: 0.4572 - accuracy: 0.7846 - val_loss: 0.4845 - val_accuracy: 0.7768\n",
      "Epoch 9/100\n",
      "9618/9618 [==============================] - 1s 105us/step - loss: 0.4602 - accuracy: 0.7869 - val_loss: 0.4527 - val_accuracy: 0.7896\n",
      "Epoch 10/100\n",
      "9618/9618 [==============================] - 1s 105us/step - loss: 0.4593 - accuracy: 0.7862 - val_loss: 0.4447 - val_accuracy: 0.7911\n",
      "Epoch 11/100\n",
      "9618/9618 [==============================] - 1s 106us/step - loss: 0.4565 - accuracy: 0.7877 - val_loss: 0.4813 - val_accuracy: 0.7681\n",
      "Epoch 12/100\n",
      "9618/9618 [==============================] - 1s 106us/step - loss: 0.4463 - accuracy: 0.7916 - val_loss: 0.4438 - val_accuracy: 0.7927\n",
      "Epoch 13/100\n",
      "9618/9618 [==============================] - 1s 104us/step - loss: 0.4488 - accuracy: 0.7912 - val_loss: 0.4365 - val_accuracy: 0.7980\n",
      "Epoch 14/100\n",
      "9618/9618 [==============================] - 1s 107us/step - loss: 0.4433 - accuracy: 0.7941 - val_loss: 0.4542 - val_accuracy: 0.7866\n",
      "Epoch 15/100\n",
      "9618/9618 [==============================] - 1s 113us/step - loss: 0.4491 - accuracy: 0.7917 - val_loss: 0.5004 - val_accuracy: 0.7623\n",
      "Epoch 16/100\n",
      "9618/9618 [==============================] - 1s 113us/step - loss: 0.4456 - accuracy: 0.7909 - val_loss: 0.4340 - val_accuracy: 0.7983\n",
      "Epoch 17/100\n",
      "9618/9618 [==============================] - 1s 106us/step - loss: 0.4419 - accuracy: 0.7987 - val_loss: 0.4287 - val_accuracy: 0.7988\n",
      "Epoch 18/100\n",
      "9618/9618 [==============================] - 1s 106us/step - loss: 0.4369 - accuracy: 0.7987 - val_loss: 0.4449 - val_accuracy: 0.7946\n",
      "Epoch 19/100\n",
      "9618/9618 [==============================] - 1s 107us/step - loss: 0.4390 - accuracy: 0.7989 - val_loss: 0.4308 - val_accuracy: 0.8015\n",
      "Epoch 20/100\n",
      "9618/9618 [==============================] - 1s 104us/step - loss: 0.4315 - accuracy: 0.8017 - val_loss: 0.4314 - val_accuracy: 0.8015\n",
      "Epoch 21/100\n",
      "9618/9618 [==============================] - 1s 104us/step - loss: 0.4361 - accuracy: 0.7988 - val_loss: 0.4256 - val_accuracy: 0.8015\n",
      "Epoch 22/100\n",
      "9618/9618 [==============================] - 1s 103us/step - loss: 0.4333 - accuracy: 0.7991 - val_loss: 0.4319 - val_accuracy: 0.8002\n",
      "Epoch 23/100\n",
      "9618/9618 [==============================] - 1s 103us/step - loss: 0.4277 - accuracy: 0.8014 - val_loss: 0.4267 - val_accuracy: 0.8010\n",
      "Epoch 24/100\n",
      "9618/9618 [==============================] - 1s 106us/step - loss: 0.4244 - accuracy: 0.8035 - val_loss: 0.4350 - val_accuracy: 0.8010\n",
      "Epoch 25/100\n",
      "9618/9618 [==============================] - 1s 105us/step - loss: 0.4313 - accuracy: 0.8006 - val_loss: 0.4191 - val_accuracy: 0.8094\n",
      "Epoch 26/100\n",
      "9618/9618 [==============================] - 1s 103us/step - loss: 0.4294 - accuracy: 0.8009 - val_loss: 0.4186 - val_accuracy: 0.8073\n",
      "Epoch 27/100\n",
      "9618/9618 [==============================] - 1s 102us/step - loss: 0.4224 - accuracy: 0.8073 - val_loss: 0.4230 - val_accuracy: 0.8116\n",
      "Epoch 28/100\n",
      "9618/9618 [==============================] - 1s 101us/step - loss: 0.4221 - accuracy: 0.8053 - val_loss: 0.4194 - val_accuracy: 0.8113\n",
      "Epoch 29/100\n",
      "9618/9618 [==============================] - 1s 107us/step - loss: 0.4244 - accuracy: 0.8026 - val_loss: 0.4505 - val_accuracy: 0.7840\n",
      "Epoch 30/100\n",
      "9618/9618 [==============================] - 1s 105us/step - loss: 0.4168 - accuracy: 0.8061 - val_loss: 0.4159 - val_accuracy: 0.8076\n",
      "Epoch 31/100\n",
      "9618/9618 [==============================] - 1s 107us/step - loss: 0.4143 - accuracy: 0.8097 - val_loss: 0.4162 - val_accuracy: 0.8092\n",
      "Epoch 32/100\n",
      "9618/9618 [==============================] - 1s 105us/step - loss: 0.4116 - accuracy: 0.8088 - val_loss: 0.4267 - val_accuracy: 0.8010\n",
      "Epoch 33/100\n",
      "9618/9618 [==============================] - 1s 103us/step - loss: 0.4160 - accuracy: 0.8066 - val_loss: 0.4150 - val_accuracy: 0.8086\n",
      "Epoch 34/100\n",
      "9618/9618 [==============================] - 1s 105us/step - loss: 0.4137 - accuracy: 0.8134 - val_loss: 0.4222 - val_accuracy: 0.8129\n",
      "Epoch 35/100\n",
      "9618/9618 [==============================] - 1s 106us/step - loss: 0.4087 - accuracy: 0.8158 - val_loss: 0.4151 - val_accuracy: 0.8102\n",
      "Epoch 36/100\n",
      "9618/9618 [==============================] - 1s 104us/step - loss: 0.4077 - accuracy: 0.8155 - val_loss: 0.4074 - val_accuracy: 0.8121\n",
      "Epoch 37/100\n",
      "9618/9618 [==============================] - 1s 106us/step - loss: 0.4075 - accuracy: 0.8142 - val_loss: 0.4111 - val_accuracy: 0.8121\n",
      "Epoch 38/100\n",
      "9618/9618 [==============================] - 1s 105us/step - loss: 0.4071 - accuracy: 0.8119 - val_loss: 0.4159 - val_accuracy: 0.8108\n",
      "Epoch 39/100\n",
      "9618/9618 [==============================] - 1s 104us/step - loss: 0.4035 - accuracy: 0.8145 - val_loss: 0.4066 - val_accuracy: 0.8108\n",
      "Epoch 40/100\n",
      "9618/9618 [==============================] - 1s 106us/step - loss: 0.4052 - accuracy: 0.8142 - val_loss: 0.4027 - val_accuracy: 0.8219\n",
      "Epoch 41/100\n",
      "9618/9618 [==============================] - 1s 106us/step - loss: 0.4036 - accuracy: 0.8151 - val_loss: 0.4199 - val_accuracy: 0.8142\n",
      "Epoch 42/100\n",
      "9618/9618 [==============================] - 1s 104us/step - loss: 0.4016 - accuracy: 0.8175 - val_loss: 0.4300 - val_accuracy: 0.7978\n",
      "Epoch 43/100\n",
      "9618/9618 [==============================] - 1s 106us/step - loss: 0.4036 - accuracy: 0.8118 - val_loss: 0.4013 - val_accuracy: 0.8158\n",
      "Epoch 44/100\n",
      "9618/9618 [==============================] - 1s 105us/step - loss: 0.4005 - accuracy: 0.8169 - val_loss: 0.4030 - val_accuracy: 0.8179\n",
      "Epoch 45/100\n",
      "9618/9618 [==============================] - 1s 106us/step - loss: 0.3919 - accuracy: 0.8228 - val_loss: 0.4037 - val_accuracy: 0.8166\n",
      "Epoch 46/100\n",
      "9618/9618 [==============================] - 1s 104us/step - loss: 0.3970 - accuracy: 0.8185 - val_loss: 0.4011 - val_accuracy: 0.8227\n",
      "Epoch 47/100\n",
      "9618/9618 [==============================] - 1s 106us/step - loss: 0.3943 - accuracy: 0.8185 - val_loss: 0.4181 - val_accuracy: 0.8129\n",
      "Epoch 48/100\n",
      "9618/9618 [==============================] - 1s 105us/step - loss: 0.3909 - accuracy: 0.8217 - val_loss: 0.4130 - val_accuracy: 0.8131\n",
      "Epoch 49/100\n",
      "9618/9618 [==============================] - 1s 106us/step - loss: 0.3945 - accuracy: 0.8202 - val_loss: 0.4193 - val_accuracy: 0.8060\n",
      "Epoch 50/100\n",
      "9618/9618 [==============================] - 1s 106us/step - loss: 0.3929 - accuracy: 0.8212 - val_loss: 0.4046 - val_accuracy: 0.8227\n",
      "Epoch 51/100\n",
      "9618/9618 [==============================] - 1s 105us/step - loss: 0.3891 - accuracy: 0.8221 - val_loss: 0.3967 - val_accuracy: 0.8237\n",
      "Epoch 52/100\n",
      "9618/9618 [==============================] - 1s 105us/step - loss: 0.3901 - accuracy: 0.8239 - val_loss: 0.4037 - val_accuracy: 0.8219\n",
      "Epoch 53/100\n",
      "9618/9618 [==============================] - 1s 111us/step - loss: 0.3820 - accuracy: 0.8263 - val_loss: 0.4027 - val_accuracy: 0.8166\n",
      "Epoch 54/100\n",
      "9618/9618 [==============================] - 1s 108us/step - loss: 0.3836 - accuracy: 0.8304 - val_loss: 0.3937 - val_accuracy: 0.8261\n",
      "Epoch 55/100\n",
      "9618/9618 [==============================] - 1s 104us/step - loss: 0.3838 - accuracy: 0.8227 - val_loss: 0.4165 - val_accuracy: 0.8055\n",
      "Epoch 56/100\n"
     ]
    },
    {
     "name": "stdout",
     "output_type": "stream",
     "text": [
      "9618/9618 [==============================] - 1s 103us/step - loss: 0.3760 - accuracy: 0.8314 - val_loss: 0.4148 - val_accuracy: 0.8129\n",
      "Epoch 57/100\n",
      "9618/9618 [==============================] - 1s 104us/step - loss: 0.3829 - accuracy: 0.8305 - val_loss: 0.3927 - val_accuracy: 0.8227\n",
      "Epoch 58/100\n",
      "9618/9618 [==============================] - 1s 111us/step - loss: 0.3815 - accuracy: 0.8252 - val_loss: 0.3907 - val_accuracy: 0.8269\n",
      "Epoch 59/100\n",
      "9618/9618 [==============================] - 1s 106us/step - loss: 0.3769 - accuracy: 0.8336 - val_loss: 0.3964 - val_accuracy: 0.8224\n",
      "Epoch 60/100\n",
      "9618/9618 [==============================] - 1s 105us/step - loss: 0.3760 - accuracy: 0.8294 - val_loss: 0.3975 - val_accuracy: 0.8171\n",
      "Epoch 61/100\n",
      "9618/9618 [==============================] - 1s 102us/step - loss: 0.3732 - accuracy: 0.8297 - val_loss: 0.4079 - val_accuracy: 0.8116\n",
      "Epoch 62/100\n",
      "9618/9618 [==============================] - 1s 101us/step - loss: 0.3699 - accuracy: 0.8339 - val_loss: 0.4116 - val_accuracy: 0.8110\n",
      "Epoch 63/100\n",
      "9618/9618 [==============================] - 1s 108us/step - loss: 0.3727 - accuracy: 0.8354 - val_loss: 0.3959 - val_accuracy: 0.8187\n",
      "Epoch 64/100\n",
      "9618/9618 [==============================] - 1s 108us/step - loss: 0.3700 - accuracy: 0.8348 - val_loss: 0.4050 - val_accuracy: 0.8192\n",
      "Epoch 65/100\n",
      "9618/9618 [==============================] - 1s 107us/step - loss: 0.3702 - accuracy: 0.8292 - val_loss: 0.3877 - val_accuracy: 0.8280\n",
      "Epoch 66/100\n",
      "9618/9618 [==============================] - 1s 106us/step - loss: 0.3659 - accuracy: 0.8336 - val_loss: 0.3917 - val_accuracy: 0.8259\n",
      "Epoch 67/100\n",
      "9618/9618 [==============================] - 1s 104us/step - loss: 0.3708 - accuracy: 0.8305 - val_loss: 0.4012 - val_accuracy: 0.8145\n",
      "Epoch 68/100\n",
      "9618/9618 [==============================] - 1s 106us/step - loss: 0.3684 - accuracy: 0.8328 - val_loss: 0.4065 - val_accuracy: 0.8158\n",
      "Epoch 69/100\n",
      "9618/9618 [==============================] - 1s 104us/step - loss: 0.3611 - accuracy: 0.8357 - val_loss: 0.4269 - val_accuracy: 0.8041\n",
      "Epoch 70/100\n",
      "9618/9618 [==============================] - 1s 107us/step - loss: 0.3671 - accuracy: 0.8389 - val_loss: 0.4063 - val_accuracy: 0.8150\n",
      "Epoch 71/100\n",
      "9618/9618 [==============================] - 1s 105us/step - loss: 0.3593 - accuracy: 0.8360 - val_loss: 0.4036 - val_accuracy: 0.8171\n",
      "Epoch 72/100\n",
      "9618/9618 [==============================] - 1s 106us/step - loss: 0.3601 - accuracy: 0.8365 - val_loss: 0.3893 - val_accuracy: 0.8253\n",
      "Epoch 73/100\n",
      "9618/9618 [==============================] - 1s 106us/step - loss: 0.3578 - accuracy: 0.8382 - val_loss: 0.3903 - val_accuracy: 0.8232\n",
      "Epoch 74/100\n",
      "9618/9618 [==============================] - 1s 107us/step - loss: 0.3607 - accuracy: 0.8375 - val_loss: 0.3908 - val_accuracy: 0.8240\n",
      "Epoch 75/100\n",
      "9618/9618 [==============================] - 1s 106us/step - loss: 0.3593 - accuracy: 0.8355 - val_loss: 0.3845 - val_accuracy: 0.8275\n",
      "Epoch 76/100\n",
      "9618/9618 [==============================] - 1s 105us/step - loss: 0.3611 - accuracy: 0.8373 - val_loss: 0.3877 - val_accuracy: 0.8264\n",
      "Epoch 77/100\n",
      "9618/9618 [==============================] - 1s 105us/step - loss: 0.3551 - accuracy: 0.8368 - val_loss: 0.3860 - val_accuracy: 0.8267\n",
      "Epoch 78/100\n",
      "9618/9618 [==============================] - 1s 103us/step - loss: 0.3532 - accuracy: 0.8391 - val_loss: 0.3920 - val_accuracy: 0.8314\n",
      "Epoch 79/100\n",
      "9618/9618 [==============================] - 1s 106us/step - loss: 0.3529 - accuracy: 0.8472 - val_loss: 0.3916 - val_accuracy: 0.8280\n",
      "Epoch 80/100\n",
      "9618/9618 [==============================] - 1s 107us/step - loss: 0.3534 - accuracy: 0.8396 - val_loss: 0.3954 - val_accuracy: 0.8177\n",
      "Epoch 81/100\n",
      "9618/9618 [==============================] - 1s 106us/step - loss: 0.3474 - accuracy: 0.8474 - val_loss: 0.3844 - val_accuracy: 0.8322\n",
      "Epoch 82/100\n",
      "9618/9618 [==============================] - 1s 108us/step - loss: 0.3478 - accuracy: 0.8427 - val_loss: 0.3906 - val_accuracy: 0.8264\n",
      "Epoch 83/100\n",
      "9618/9618 [==============================] - 1s 107us/step - loss: 0.3543 - accuracy: 0.8394 - val_loss: 0.3872 - val_accuracy: 0.8269\n",
      "Epoch 84/100\n",
      "9618/9618 [==============================] - 1s 103us/step - loss: 0.3462 - accuracy: 0.8454 - val_loss: 0.3859 - val_accuracy: 0.8301\n",
      "Epoch 85/100\n",
      "9618/9618 [==============================] - 1s 106us/step - loss: 0.3511 - accuracy: 0.8400 - val_loss: 0.3834 - val_accuracy: 0.8290\n",
      "Epoch 86/100\n",
      "9618/9618 [==============================] - 1s 103us/step - loss: 0.3428 - accuracy: 0.8491 - val_loss: 0.4168 - val_accuracy: 0.8216\n",
      "Epoch 87/100\n",
      "9618/9618 [==============================] - 1s 104us/step - loss: 0.3468 - accuracy: 0.8419 - val_loss: 0.4102 - val_accuracy: 0.8195\n",
      "Epoch 88/100\n",
      "9618/9618 [==============================] - 1s 107us/step - loss: 0.3410 - accuracy: 0.8506 - val_loss: 0.3826 - val_accuracy: 0.8341\n",
      "Epoch 89/100\n",
      "9618/9618 [==============================] - 1s 104us/step - loss: 0.3416 - accuracy: 0.8481 - val_loss: 0.3886 - val_accuracy: 0.8293\n",
      "Epoch 90/100\n",
      "9618/9618 [==============================] - 1s 102us/step - loss: 0.3426 - accuracy: 0.8498 - val_loss: 0.3805 - val_accuracy: 0.8328\n",
      "Epoch 91/100\n",
      "9618/9618 [==============================] - 1s 102us/step - loss: 0.3416 - accuracy: 0.8476 - val_loss: 0.4050 - val_accuracy: 0.8174\n",
      "Epoch 92/100\n",
      "9618/9618 [==============================] - 1s 103us/step - loss: 0.3376 - accuracy: 0.8499 - val_loss: 0.3831 - val_accuracy: 0.8314\n",
      "Epoch 93/100\n",
      "9618/9618 [==============================] - 1s 103us/step - loss: 0.3331 - accuracy: 0.8523 - val_loss: 0.3762 - val_accuracy: 0.8357\n",
      "Epoch 94/100\n",
      "9618/9618 [==============================] - 1s 104us/step - loss: 0.3401 - accuracy: 0.8506 - val_loss: 0.3768 - val_accuracy: 0.8320\n",
      "Epoch 95/100\n",
      "9618/9618 [==============================] - 1s 105us/step - loss: 0.3413 - accuracy: 0.8464 - val_loss: 0.3905 - val_accuracy: 0.8285\n",
      "Epoch 96/100\n",
      "9618/9618 [==============================] - 1s 104us/step - loss: 0.3385 - accuracy: 0.8478 - val_loss: 0.3718 - val_accuracy: 0.8381\n",
      "Epoch 97/100\n",
      "9618/9618 [==============================] - 1s 109us/step - loss: 0.3340 - accuracy: 0.8490 - val_loss: 0.3799 - val_accuracy: 0.8354\n",
      "Epoch 98/100\n",
      "9618/9618 [==============================] - 1s 109us/step - loss: 0.3295 - accuracy: 0.8540 - val_loss: 0.3845 - val_accuracy: 0.8357\n",
      "Epoch 99/100\n",
      "9618/9618 [==============================] - 1s 104us/step - loss: 0.3338 - accuracy: 0.8548 - val_loss: 0.3976 - val_accuracy: 0.8283\n",
      "Epoch 100/100\n",
      "9618/9618 [==============================] - 1s 102us/step - loss: 0.3281 - accuracy: 0.8516 - val_loss: 0.3993 - val_accuracy: 0.8243\n"
     ]
    }
   ],
   "source": [
    "history3 = model3.fit(train_features, train_labels, batch_size=32, epochs=100,\n",
    "          validation_data=(test_features, test_labels), shuffle=True)"
   ]
  },
  {
   "cell_type": "code",
   "execution_count": 64,
   "metadata": {},
   "outputs": [
    {
     "data": {
      "image/png": "[encoded data removed]",
      "text/plain": [
       "<Figure size 864x360 with 2 Axes>"
      ]
     },
     "metadata": {
      "needs_background": "light"
     },
     "output_type": "display_data"
    }
   ],
   "source": [
    "# plot the model loss and accuracy\n",
    "train_loss = history3.history['loss']\n",
    "train_acc = history3.history['accuracy']\n",
    "\n",
    "valid_loss = history3.history['val_loss']\n",
    "valid_acc = history3.history['val_accuracy']\n",
    "\n",
    "x = [(i+1) for i in range(len(train_loss))]\n",
    "\n",
    "f,ax = plt.subplots(1,2, figsize=(12,5))\n",
    "ax[0].plot(x, train_loss)\n",
    "ax[0].plot(x, valid_loss)\n",
    "ax[0].set_title(\"Loss plot\")\n",
    "ax[0].set_xlabel(\"Epochs\")\n",
    "ax[0].set_ylabel(\"loss\")\n",
    "ax[0].legend(['train', 'valid'])\n",
    "\n",
    "\n",
    "ax[1].plot(x, train_acc)\n",
    "ax[1].plot(x, valid_acc)\n",
    "ax[1].set_title(\"Accuracy plot\")\n",
    "ax[1].set_xlabel(\"Epochs\")\n",
    "ax[1].set_ylabel(\"acc\")\n",
    "ax[1].legend(['train', 'valid'])\n",
    "\n",
    "plt.show()"
   ]
  },
  {
   "cell_type": "code",
   "execution_count": 65,
   "metadata": {},
   "outputs": [
    {
     "name": "stdout",
     "output_type": "stream",
     "text": [
      "Val Accuracy = 0.80\n"
     ]
    }
   ],
   "source": [
    "predictions3 = model3.predict(validate_features)\n",
    "predictions3 = [1 if x>0.5 else 0 for x in predictions3]\n",
    "accuracy3 = accuracy_score(validate_labels, predictions3)\n",
    "print('Val Accuracy = %.2f' % accuracy3)"
   ]
  },
  {
   "cell_type": "code",
   "execution_count": 66,
   "metadata": {},
   "outputs": [],
   "source": [
    "confusion_mtx3 = confusion_matrix(validate_labels, predictions3) "
   ]
  },
  {
   "cell_type": "code",
   "execution_count": 67,
   "metadata": {},
   "outputs": [
    {
     "data": {
      "text/plain": [
       "(<Figure size 432x288 with 1 Axes>,\n",
       " <matplotlib.axes._subplots.AxesSubplot at 0x1a36145a10>)"
      ]
     },
     "execution_count": 67,
     "metadata": {},
     "output_type": "execute_result"
    },
    {
     "data": {
      "image/png": "[encoded data removed]",
      "text/plain": [
       "<Figure size 432x288 with 1 Axes>"
      ]
     },
     "metadata": {
      "needs_background": "light"
     },
     "output_type": "display_data"
    }
   ],
   "source": [
    "plot_confusion_matrix(confusion_mtx3, show_normed=True)"
   ]
  },
  {
   "cell_type": "code",
   "execution_count": 69,
   "metadata": {},
   "outputs": [
    {
     "data": {
      "text/plain": [
       "0.7937911656195779"
      ]
     },
     "execution_count": 69,
     "metadata": {},
     "output_type": "execute_result"
    }
   ],
   "source": [
    "f1_score(validate_labels, predictions3, average='weighted')"
   ]
  },
  {
   "cell_type": "code",
   "execution_count": null,
   "metadata": {},
   "outputs": [],
   "source": []
  }
 ],
 "metadata": {
  "kernelspec": {
   "display_name": "Python 3",
   "language": "python",
   "name": "python3"
  },
  "language_info": {
   "codemirror_mode": {
    "name": "ipython",
    "version": 3
   },
   "file_extension": ".py",
   "mimetype": "text/x-python",
   "name": "python",
   "nbconvert_exporter": "python",
   "pygments_lexer": "ipython3",
   "version": "3.7.4"
  }
 },
 "nbformat": 4,
 "nbformat_minor": 2
}
