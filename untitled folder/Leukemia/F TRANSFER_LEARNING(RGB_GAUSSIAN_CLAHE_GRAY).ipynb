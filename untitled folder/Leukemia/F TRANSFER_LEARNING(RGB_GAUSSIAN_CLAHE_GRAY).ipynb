{
 "cells": [
  {
   "cell_type": "markdown",
   "metadata": {},
   "source": [
    "Importing Libraries"
   ]
  },
  {
   "cell_type": "code",
   "execution_count": 1,
   "metadata": {},
   "outputs": [
    {
     "name": "stderr",
     "output_type": "stream",
     "text": [
      "Using TensorFlow backend.\n"
     ]
    }
   ],
   "source": [
    "import random\n",
    "import pandas as pd\n",
    "import os\n",
    "from keras.preprocessing.image import ImageDataGenerator, load_img\n",
    "import matplotlib.pyplot as plt\n",
    "from sklearn.model_selection import train_test_split\n",
    "from keras.applications.vgg16 import VGG16\n",
    "import numpy as np\n",
    "from keras.models import Sequential\n",
    "from keras.layers import GlobalAveragePooling2D\n",
    "from keras.layers.core import Activation,Dropout, Dense\n",
    "from keras.callbacks import EarlyStopping, ReduceLROnPlateau\n",
    "from sklearn.metrics import accuracy_score\n",
    "from sklearn.metrics import f1_score\n",
    "from sklearn.metrics import confusion_matrix\n",
    "from mlxtend.plotting import plot_confusion_matrix\n",
    "from keras import layers,models"
   ]
  },
  {
   "cell_type": "code",
   "execution_count": 2,
   "metadata": {},
   "outputs": [],
   "source": [
    "random.seed(2418)"
   ]
  },
  {
   "cell_type": "code",
   "execution_count": 3,
   "metadata": {},
   "outputs": [],
   "source": [
    "train = pd.read_csv('/Users/jesus/Downloads/blood_cancer/Augmented_train/train.csv')"
   ]
  },
  {
   "cell_type": "code",
   "execution_count": 4,
   "metadata": {},
   "outputs": [
    {
     "data": {
      "text/html": [
       "<div>\n",
       "<style scoped>\n",
       "    .dataframe tbody tr th:only-of-type {\n",
       "        vertical-align: middle;\n",
       "    }\n",
       "\n",
       "    .dataframe tbody tr th {\n",
       "        vertical-align: top;\n",
       "    }\n",
       "\n",
       "    .dataframe thead th {\n",
       "        text-align: right;\n",
       "    }\n",
       "</style>\n",
       "<table border=\"1\" class=\"dataframe\">\n",
       "  <thead>\n",
       "    <tr style=\"text-align: right;\">\n",
       "      <th></th>\n",
       "      <th>image_id</th>\n",
       "      <th>labels</th>\n",
       "    </tr>\n",
       "  </thead>\n",
       "  <tbody>\n",
       "    <tr>\n",
       "      <td>15084</td>\n",
       "      <td>_0_5667.h.bmp</td>\n",
       "      <td>1</td>\n",
       "    </tr>\n",
       "    <tr>\n",
       "      <td>15085</td>\n",
       "      <td>_0_7185.h.bmp</td>\n",
       "      <td>1</td>\n",
       "    </tr>\n",
       "    <tr>\n",
       "      <td>15086</td>\n",
       "      <td>_0_7554.h.bmp</td>\n",
       "      <td>1</td>\n",
       "    </tr>\n",
       "    <tr>\n",
       "      <td>15087</td>\n",
       "      <td>_0_2332.h.bmp</td>\n",
       "      <td>1</td>\n",
       "    </tr>\n",
       "    <tr>\n",
       "      <td>15088</td>\n",
       "      <td>_0_5622.h.bmp</td>\n",
       "      <td>1</td>\n",
       "    </tr>\n",
       "  </tbody>\n",
       "</table>\n",
       "</div>"
      ],
      "text/plain": [
       "            image_id  labels\n",
       "15084  _0_5667.h.bmp       1\n",
       "15085  _0_7185.h.bmp       1\n",
       "15086  _0_7554.h.bmp       1\n",
       "15087  _0_2332.h.bmp       1\n",
       "15088  _0_5622.h.bmp       1"
      ]
     },
     "execution_count": 4,
     "metadata": {},
     "output_type": "execute_result"
    }
   ],
   "source": [
    "train.tail()"
   ]
  },
  {
   "cell_type": "code",
   "execution_count": 5,
   "metadata": {},
   "outputs": [],
   "source": [
    "train = train.sample(frac=1).reset_index(drop=True)"
   ]
  },
  {
   "cell_type": "code",
   "execution_count": 6,
   "metadata": {},
   "outputs": [
    {
     "data": {
      "text/html": [
       "<div>\n",
       "<style scoped>\n",
       "    .dataframe tbody tr th:only-of-type {\n",
       "        vertical-align: middle;\n",
       "    }\n",
       "\n",
       "    .dataframe tbody tr th {\n",
       "        vertical-align: top;\n",
       "    }\n",
       "\n",
       "    .dataframe thead th {\n",
       "        text-align: right;\n",
       "    }\n",
       "</style>\n",
       "<table border=\"1\" class=\"dataframe\">\n",
       "  <thead>\n",
       "    <tr style=\"text-align: right;\">\n",
       "      <th></th>\n",
       "      <th>image_id</th>\n",
       "      <th>labels</th>\n",
       "    </tr>\n",
       "  </thead>\n",
       "  <tbody>\n",
       "    <tr>\n",
       "      <td>0</td>\n",
       "      <td>_0_495.h.bmp</td>\n",
       "      <td>1</td>\n",
       "    </tr>\n",
       "    <tr>\n",
       "      <td>1</td>\n",
       "      <td>_0_9436.h.bmp</td>\n",
       "      <td>1</td>\n",
       "    </tr>\n",
       "    <tr>\n",
       "      <td>2</td>\n",
       "      <td>_0_4157..bmp</td>\n",
       "      <td>0</td>\n",
       "    </tr>\n",
       "    <tr>\n",
       "      <td>3</td>\n",
       "      <td>_0_6777..bmp</td>\n",
       "      <td>0</td>\n",
       "    </tr>\n",
       "    <tr>\n",
       "      <td>4</td>\n",
       "      <td>_0_6181.h.bmp</td>\n",
       "      <td>1</td>\n",
       "    </tr>\n",
       "  </tbody>\n",
       "</table>\n",
       "</div>"
      ],
      "text/plain": [
       "        image_id  labels\n",
       "0   _0_495.h.bmp       1\n",
       "1  _0_9436.h.bmp       1\n",
       "2   _0_4157..bmp       0\n",
       "3   _0_6777..bmp       0\n",
       "4  _0_6181.h.bmp       1"
      ]
     },
     "execution_count": 6,
     "metadata": {},
     "output_type": "execute_result"
    }
   ],
   "source": [
    "train.head()"
   ]
  },
  {
   "cell_type": "code",
   "execution_count": 7,
   "metadata": {},
   "outputs": [
    {
     "data": {
      "text/html": [
       "<div>\n",
       "<style scoped>\n",
       "    .dataframe tbody tr th:only-of-type {\n",
       "        vertical-align: middle;\n",
       "    }\n",
       "\n",
       "    .dataframe tbody tr th {\n",
       "        vertical-align: top;\n",
       "    }\n",
       "\n",
       "    .dataframe thead th {\n",
       "        text-align: right;\n",
       "    }\n",
       "</style>\n",
       "<table border=\"1\" class=\"dataframe\">\n",
       "  <thead>\n",
       "    <tr style=\"text-align: right;\">\n",
       "      <th></th>\n",
       "      <th>image_id</th>\n",
       "      <th>labels</th>\n",
       "    </tr>\n",
       "  </thead>\n",
       "  <tbody>\n",
       "    <tr>\n",
       "      <td>15084</td>\n",
       "      <td>_0_1544.h.bmp</td>\n",
       "      <td>1</td>\n",
       "    </tr>\n",
       "    <tr>\n",
       "      <td>15085</td>\n",
       "      <td>_0_3678.h.bmp</td>\n",
       "      <td>1</td>\n",
       "    </tr>\n",
       "    <tr>\n",
       "      <td>15086</td>\n",
       "      <td>_0_1593..bmp</td>\n",
       "      <td>0</td>\n",
       "    </tr>\n",
       "    <tr>\n",
       "      <td>15087</td>\n",
       "      <td>_0_9668.h.bmp</td>\n",
       "      <td>1</td>\n",
       "    </tr>\n",
       "    <tr>\n",
       "      <td>15088</td>\n",
       "      <td>_0_2898.h.bmp</td>\n",
       "      <td>1</td>\n",
       "    </tr>\n",
       "  </tbody>\n",
       "</table>\n",
       "</div>"
      ],
      "text/plain": [
       "            image_id  labels\n",
       "15084  _0_1544.h.bmp       1\n",
       "15085  _0_3678.h.bmp       1\n",
       "15086   _0_1593..bmp       0\n",
       "15087  _0_9668.h.bmp       1\n",
       "15088  _0_2898.h.bmp       1"
      ]
     },
     "execution_count": 7,
     "metadata": {},
     "output_type": "execute_result"
    }
   ],
   "source": [
    "train.tail()"
   ]
  },
  {
   "cell_type": "code",
   "execution_count": 8,
   "metadata": {
    "scrolled": true
   },
   "outputs": [
    {
     "data": {
      "text/plain": [
       "<matplotlib.axes._subplots.AxesSubplot at 0x10467ce90>"
      ]
     },
     "execution_count": 8,
     "metadata": {},
     "output_type": "execute_result"
    },
    {
     "data": {
      "image/png": "[encoded data removed]",
      "text/plain": [
       "<Figure size 432x288 with 1 Axes>"
      ]
     },
     "metadata": {
      "needs_background": "light"
     },
     "output_type": "display_data"
    }
   ],
   "source": [
    "train['labels'].value_counts().plot.bar()"
   ]
  },
  {
   "cell_type": "code",
   "execution_count": 9,
   "metadata": {},
   "outputs": [
    {
     "data": {
      "text/plain": [
       "<matplotlib.image.AxesImage at 0x1a32b41550>"
      ]
     },
     "execution_count": 9,
     "metadata": {},
     "output_type": "execute_result"
    },
    {
     "data": {
      "image/png": "[encoded data removed]",
      "text/plain": [
       "<Figure size 432x288 with 1 Axes>"
      ]
     },
     "metadata": {
      "needs_background": "light"
     },
     "output_type": "display_data"
    }
   ],
   "source": [
    "files = os.listdir(\"/Users/jesus/Downloads/blood_cancer/Augmented_train/GRAY_Gaussian/\")\n",
    "\n",
    "\n",
    "sample = random.choice(files)\n",
    "image = load_img(\"/Users/jesus/Downloads/blood_cancer/Augmented_train/GRAY_Gaussian/\" +sample)\n",
    "plt.imshow(image)"
   ]
  },
  {
   "cell_type": "code",
   "execution_count": 10,
   "metadata": {},
   "outputs": [],
   "source": [
    "train[\"labels\"] = train[\"labels\"].replace({0: 'all', 1: 'hem'}) "
   ]
  },
  {
   "cell_type": "code",
   "execution_count": 11,
   "metadata": {},
   "outputs": [],
   "source": [
    "train_dir = '/Users/jesus/Downloads/blood_cancer/Augmented_train/GRAY_Gaussian/'"
   ]
  },
  {
   "cell_type": "markdown",
   "metadata": {},
   "source": [
    "Stratified Splitting"
   ]
  },
  {
   "cell_type": "code",
   "execution_count": 12,
   "metadata": {},
   "outputs": [],
   "source": [
    "train_df, test_df = train_test_split(train, test_size=0.25, random_state=20)"
   ]
  },
  {
   "cell_type": "code",
   "execution_count": 13,
   "metadata": {},
   "outputs": [],
   "source": [
    "train_df, validate_df = train_test_split(train_df, test_size=0.15, random_state=20)"
   ]
  },
  {
   "cell_type": "code",
   "execution_count": 14,
   "metadata": {},
   "outputs": [
    {
     "data": {
      "text/plain": [
       "<matplotlib.axes._subplots.AxesSubplot at 0x1a32b5ae10>"
      ]
     },
     "execution_count": 14,
     "metadata": {},
     "output_type": "execute_result"
    },
    {
     "data": {
      "image/png": "[encoded data removed]",
      "text/plain": [
       "<Figure size 432x288 with 1 Axes>"
      ]
     },
     "metadata": {
      "needs_background": "light"
     },
     "output_type": "display_data"
    }
   ],
   "source": [
    "train_df['labels'].value_counts().plot.bar()"
   ]
  },
  {
   "cell_type": "code",
   "execution_count": 15,
   "metadata": {},
   "outputs": [
    {
     "data": {
      "text/plain": [
       "9618"
      ]
     },
     "execution_count": 15,
     "metadata": {},
     "output_type": "execute_result"
    }
   ],
   "source": [
    "len(train_df)\n"
   ]
  },
  {
   "cell_type": "code",
   "execution_count": 16,
   "metadata": {},
   "outputs": [
    {
     "data": {
      "text/plain": [
       "<matplotlib.axes._subplots.AxesSubplot at 0x1a31b54550>"
      ]
     },
     "execution_count": 16,
     "metadata": {},
     "output_type": "execute_result"
    },
    {
     "data": {
      "image/png": "[encoded data removed]",
      "text/plain": [
       "<Figure size 432x288 with 1 Axes>"
      ]
     },
     "metadata": {
      "needs_background": "light"
     },
     "output_type": "display_data"
    }
   ],
   "source": [
    "validate_df['labels'].value_counts().plot.bar()"
   ]
  },
  {
   "cell_type": "code",
   "execution_count": 17,
   "metadata": {},
   "outputs": [
    {
     "data": {
      "text/plain": [
       "3773"
      ]
     },
     "execution_count": 17,
     "metadata": {},
     "output_type": "execute_result"
    }
   ],
   "source": [
    "len(test_df)\n"
   ]
  },
  {
   "cell_type": "code",
   "execution_count": 18,
   "metadata": {},
   "outputs": [
    {
     "data": {
      "text/plain": [
       "1698"
      ]
     },
     "execution_count": 18,
     "metadata": {},
     "output_type": "execute_result"
    }
   ],
   "source": [
    "len(validate_df)"
   ]
  },
  {
   "cell_type": "code",
   "execution_count": 19,
   "metadata": {
    "scrolled": true
   },
   "outputs": [
    {
     "data": {
      "text/plain": [
       "<matplotlib.axes._subplots.AxesSubplot at 0x1a31b5c110>"
      ]
     },
     "execution_count": 19,
     "metadata": {},
     "output_type": "execute_result"
    },
    {
     "data": {
      "image/png": "[encoded data removed]",
      "text/plain": [
       "<Figure size 432x288 with 1 Axes>"
      ]
     },
     "metadata": {
      "needs_background": "light"
     },
     "output_type": "display_data"
    }
   ],
   "source": [
    "test_df['labels'].value_counts().plot.bar()"
   ]
  },
  {
   "cell_type": "code",
   "execution_count": 20,
   "metadata": {},
   "outputs": [],
   "source": [
    "batch_size=32"
   ]
  },
  {
   "cell_type": "markdown",
   "metadata": {},
   "source": [
    "Loading the VGG16 model and freezing the top layers(dense layers) since we dont need that for feature extraction"
   ]
  },
  {
   "cell_type": "code",
   "execution_count": 21,
   "metadata": {
    "scrolled": true
   },
   "outputs": [
    {
     "name": "stdout",
     "output_type": "stream",
     "text": [
      "Model: \"vgg16\"\n",
      "_________________________________________________________________\n",
      "Layer (type)                 Output Shape              Param #   \n",
      "=================================================================\n",
      "input_1 (InputLayer)         (None, None, None, 3)     0         \n",
      "_________________________________________________________________\n",
      "block1_conv1 (Conv2D)        (None, None, None, 64)    1792      \n",
      "_________________________________________________________________\n",
      "block1_conv2 (Conv2D)        (None, None, None, 64)    36928     \n",
      "_________________________________________________________________\n",
      "block1_pool (MaxPooling2D)   (None, None, None, 64)    0         \n",
      "_________________________________________________________________\n",
      "block2_conv1 (Conv2D)        (None, None, None, 128)   73856     \n",
      "_________________________________________________________________\n",
      "block2_conv2 (Conv2D)        (None, None, None, 128)   147584    \n",
      "_________________________________________________________________\n",
      "block2_pool (MaxPooling2D)   (None, None, None, 128)   0         \n",
      "_________________________________________________________________\n",
      "block3_conv1 (Conv2D)        (None, None, None, 256)   295168    \n",
      "_________________________________________________________________\n",
      "block3_conv2 (Conv2D)        (None, None, None, 256)   590080    \n",
      "_________________________________________________________________\n",
      "block3_conv3 (Conv2D)        (None, None, None, 256)   590080    \n",
      "_________________________________________________________________\n",
      "block3_pool (MaxPooling2D)   (None, None, None, 256)   0         \n",
      "_________________________________________________________________\n",
      "block4_conv1 (Conv2D)        (None, None, None, 512)   1180160   \n",
      "_________________________________________________________________\n",
      "block4_conv2 (Conv2D)        (None, None, None, 512)   2359808   \n",
      "_________________________________________________________________\n",
      "block4_conv3 (Conv2D)        (None, None, None, 512)   2359808   \n",
      "_________________________________________________________________\n",
      "block4_pool (MaxPooling2D)   (None, None, None, 512)   0         \n",
      "_________________________________________________________________\n",
      "block5_conv1 (Conv2D)        (None, None, None, 512)   2359808   \n",
      "_________________________________________________________________\n",
      "block5_conv2 (Conv2D)        (None, None, None, 512)   2359808   \n",
      "_________________________________________________________________\n",
      "block5_conv3 (Conv2D)        (None, None, None, 512)   2359808   \n",
      "_________________________________________________________________\n",
      "block5_pool (MaxPooling2D)   (None, None, None, 512)   0         \n",
      "=================================================================\n",
      "Total params: 14,714,688\n",
      "Trainable params: 14,714,688\n",
      "Non-trainable params: 0\n",
      "_________________________________________________________________\n"
     ]
    }
   ],
   "source": [
    "model_cnn=VGG16(weights='imagenet',include_top=False)\n",
    "model_cnn.summary()"
   ]
  },
  {
   "cell_type": "markdown",
   "metadata": {},
   "source": [
    "Data Augmentation using Image Data Generator from keras"
   ]
  },
  {
   "cell_type": "code",
   "execution_count": 22,
   "metadata": {},
   "outputs": [],
   "source": [
    "train_datagen = ImageDataGenerator(\n",
    "rescale=1./255,)"
   ]
  },
  {
   "cell_type": "code",
   "execution_count": 23,
   "metadata": {},
   "outputs": [
    {
     "name": "stdout",
     "output_type": "stream",
     "text": [
      "Found 3773 validated image filenames belonging to 2 classes.\n"
     ]
    }
   ],
   "source": [
    "test_datagen = ImageDataGenerator(\n",
    "    rescale=1./255)\n",
    "\n",
    "\n",
    "test_generator = test_datagen.flow_from_dataframe(\n",
    "    test_df,train_dir, \n",
    "    x_col='image_id',\n",
    "    y_col='labels',\n",
    "    class_mode='binary',\n",
    "    target_size=(128,128),\n",
    "    batch_size=batch_size\n",
    ")"
   ]
  },
  {
   "cell_type": "code",
   "execution_count": 24,
   "metadata": {},
   "outputs": [
    {
     "name": "stdout",
     "output_type": "stream",
     "text": [
      "Found 1698 validated image filenames belonging to 2 classes.\n"
     ]
    }
   ],
   "source": [
    "valid_datagen = ImageDataGenerator(\n",
    "    rescale=1./255,\n",
    "    )\n",
    "\n",
    "valid_generator = valid_datagen.flow_from_dataframe(\n",
    "    validate_df, train_dir, \n",
    "    x_col='image_id',\n",
    "    y_col='labels',\n",
    "    class_mode='binary',\n",
    "    target_size=(128,128),\n",
    "    batch_size=batch_size\n",
    ")"
   ]
  },
  {
   "cell_type": "markdown",
   "metadata": {},
   "source": [
    "Function definition for feature extraction"
   ]
  },
  {
   "cell_type": "code",
   "execution_count": 25,
   "metadata": {},
   "outputs": [],
   "source": [
    "def ext_features(directory,samples,df):\n",
    "    \n",
    "    \n",
    "    features=np.zeros(shape=(samples,4,4,512))\n",
    "    labels=np.zeros(shape=(samples))\n",
    "    generator=train_datagen.flow_from_dataframe(dataframe=df,directory=directory, \n",
    "    x_col='image_id',\n",
    "    y_col='labels',\n",
    "    class_mode='binary',\n",
    "    target_size=(128, 128),\n",
    "    batch_size=batch_size)\n",
    "    \n",
    "    i=0\n",
    "    for input_batch,label_batch in generator:\n",
    "        feature_batch=model_cnn.predict(input_batch)\n",
    "        features[i*batch_size:(i+1)*batch_size]=feature_batch\n",
    "        labels[i*batch_size:(i+1)*batch_size]=label_batch\n",
    "        i+=1\n",
    "        if(i*batch_size>=samples):\n",
    "            break\n",
    "    return(features,labels)\n"
   ]
  },
  {
   "cell_type": "code",
   "execution_count": 26,
   "metadata": {},
   "outputs": [
    {
     "name": "stdout",
     "output_type": "stream",
     "text": [
      "Found 9618 validated image filenames belonging to 2 classes.\n",
      "Found 3773 validated image filenames belonging to 2 classes.\n",
      "Found 1698 validated image filenames belonging to 2 classes.\n"
     ]
    }
   ],
   "source": [
    "train_features, train_labels= ext_features(train_dir,9618, train_df)\n",
    "test_features, test_labels= ext_features(train_dir,3773, test_df)\n",
    "validate_features, validate_labels= ext_features(train_dir,1698, validate_df)\n"
   ]
  },
  {
   "cell_type": "markdown",
   "metadata": {},
   "source": [
    "A Shallow CNN Model 25 EPOCHS BATCH SIZE 32"
   ]
  },
  {
   "cell_type": "code",
   "execution_count": 27,
   "metadata": {},
   "outputs": [
    {
     "name": "stdout",
     "output_type": "stream",
     "text": [
      "Model: \"sequential_1\"\n",
      "_________________________________________________________________\n",
      "Layer (type)                 Output Shape              Param #   \n",
      "=================================================================\n",
      "global_average_pooling2d_1 ( (None, 512)               0         \n",
      "_________________________________________________________________\n",
      "dropout_1 (Dropout)          (None, 512)               0         \n",
      "_________________________________________________________________\n",
      "dense_1 (Dense)              (None, 200)               102600    \n",
      "_________________________________________________________________\n",
      "dense_2 (Dense)              (None, 1)                 201       \n",
      "=================================================================\n",
      "Total params: 102,801\n",
      "Trainable params: 102,801\n",
      "Non-trainable params: 0\n",
      "_________________________________________________________________\n"
     ]
    }
   ],
   "source": [
    "model1 = Sequential()\n",
    "model1.add(GlobalAveragePooling2D(input_shape=train_features.shape[1:]))\n",
    "model1.add(Dropout(0.1))\n",
    "model1.add(Dense(200, activation='relu'))\n",
    "model1.add(Dense(1, activation='sigmoid'))\n",
    "model1.summary()"
   ]
  },
  {
   "cell_type": "code",
   "execution_count": 28,
   "metadata": {},
   "outputs": [],
   "source": [
    "model1.compile(optimizer= 'adam',\n",
    "              loss='binary_crossentropy',\n",
    "              metrics=['accuracy'])"
   ]
  },
  {
   "cell_type": "code",
   "execution_count": 29,
   "metadata": {},
   "outputs": [
    {
     "name": "stdout",
     "output_type": "stream",
     "text": [
      "Train on 9618 samples, validate on 3773 samples\n",
      "Epoch 1/25\n",
      "9618/9618 [==============================] - 3s 284us/step - loss: 0.5327 - accuracy: 0.7481 - val_loss: 0.5114 - val_accuracy: 0.7469\n",
      "Epoch 2/25\n",
      "9618/9618 [==============================] - 1s 112us/step - loss: 0.4972 - accuracy: 0.7722 - val_loss: 0.4694 - val_accuracy: 0.7763\n",
      "Epoch 3/25\n",
      "9618/9618 [==============================] - 1s 104us/step - loss: 0.4962 - accuracy: 0.7663 - val_loss: 0.4650 - val_accuracy: 0.7816\n",
      "Epoch 4/25\n",
      "9618/9618 [==============================] - 1s 106us/step - loss: 0.4844 - accuracy: 0.7737 - val_loss: 0.4855 - val_accuracy: 0.7686\n",
      "Epoch 5/25\n",
      "9618/9618 [==============================] - 1s 112us/step - loss: 0.4809 - accuracy: 0.7714 - val_loss: 0.4648 - val_accuracy: 0.7805\n",
      "Epoch 6/25\n",
      "9618/9618 [==============================] - 1s 109us/step - loss: 0.4759 - accuracy: 0.7754 - val_loss: 0.4541 - val_accuracy: 0.7824\n",
      "Epoch 7/25\n",
      "9618/9618 [==============================] - 1s 108us/step - loss: 0.4687 - accuracy: 0.7793 - val_loss: 0.4544 - val_accuracy: 0.7888\n",
      "Epoch 8/25\n",
      "9618/9618 [==============================] - 1s 106us/step - loss: 0.4669 - accuracy: 0.7807 - val_loss: 0.4466 - val_accuracy: 0.7843\n",
      "Epoch 9/25\n",
      "9618/9618 [==============================] - 1s 104us/step - loss: 0.4647 - accuracy: 0.7825 - val_loss: 0.4606 - val_accuracy: 0.7805\n",
      "Epoch 10/25\n",
      "9618/9618 [==============================] - 1s 103us/step - loss: 0.4644 - accuracy: 0.7813 - val_loss: 0.5227 - val_accuracy: 0.7418\n",
      "Epoch 11/25\n",
      "9618/9618 [==============================] - 1s 105us/step - loss: 0.4610 - accuracy: 0.7824 - val_loss: 0.4450 - val_accuracy: 0.7901\n",
      "Epoch 12/25\n",
      "9618/9618 [==============================] - 1s 104us/step - loss: 0.4608 - accuracy: 0.7829 - val_loss: 0.4496 - val_accuracy: 0.7856\n",
      "Epoch 13/25\n",
      "9618/9618 [==============================] - 1s 108us/step - loss: 0.4594 - accuracy: 0.7829 - val_loss: 0.4557 - val_accuracy: 0.7766\n",
      "Epoch 14/25\n",
      "9618/9618 [==============================] - 1s 101us/step - loss: 0.4537 - accuracy: 0.7881 - val_loss: 0.4535 - val_accuracy: 0.7829\n",
      "Epoch 15/25\n",
      "9618/9618 [==============================] - 1s 101us/step - loss: 0.4564 - accuracy: 0.7830 - val_loss: 0.4609 - val_accuracy: 0.7800\n",
      "Epoch 16/25\n",
      "9618/9618 [==============================] - 1s 100us/step - loss: 0.4545 - accuracy: 0.7844 - val_loss: 0.4559 - val_accuracy: 0.7819\n",
      "Epoch 17/25\n",
      "9618/9618 [==============================] - 1s 105us/step - loss: 0.4547 - accuracy: 0.7860 - val_loss: 0.4494 - val_accuracy: 0.7837\n",
      "Epoch 18/25\n",
      "9618/9618 [==============================] - 1s 103us/step - loss: 0.4525 - accuracy: 0.7879 - val_loss: 0.4688 - val_accuracy: 0.7774\n",
      "Epoch 19/25\n",
      "9618/9618 [==============================] - 1s 103us/step - loss: 0.4474 - accuracy: 0.7924 - val_loss: 0.4371 - val_accuracy: 0.7861\n",
      "Epoch 20/25\n",
      "9618/9618 [==============================] - 1s 102us/step - loss: 0.4479 - accuracy: 0.7872 - val_loss: 0.4387 - val_accuracy: 0.7861\n",
      "Epoch 21/25\n",
      "9618/9618 [==============================] - 1s 103us/step - loss: 0.4449 - accuracy: 0.7928 - val_loss: 0.4435 - val_accuracy: 0.7872\n",
      "Epoch 22/25\n",
      "9618/9618 [==============================] - 1s 103us/step - loss: 0.4475 - accuracy: 0.7902 - val_loss: 0.4563 - val_accuracy: 0.7808\n",
      "Epoch 23/25\n",
      "9618/9618 [==============================] - 1s 101us/step - loss: 0.4389 - accuracy: 0.7956 - val_loss: 0.4358 - val_accuracy: 0.7882\n",
      "Epoch 24/25\n",
      "9618/9618 [==============================] - 1s 100us/step - loss: 0.4420 - accuracy: 0.7934 - val_loss: 0.4379 - val_accuracy: 0.7906\n",
      "Epoch 25/25\n",
      "9618/9618 [==============================] - 1s 103us/step - loss: 0.4406 - accuracy: 0.7927 - val_loss: 0.4375 - val_accuracy: 0.7946\n"
     ]
    }
   ],
   "source": [
    "history1 = model1.fit(train_features, train_labels, batch_size=32, epochs=25,\n",
    "          validation_data=(test_features, test_labels), shuffle=True)"
   ]
  },
  {
   "cell_type": "code",
   "execution_count": 30,
   "metadata": {},
   "outputs": [
    {
     "data": {
      "image/png": "[encoded data removed]",
      "text/plain": [
       "<Figure size 864x360 with 2 Axes>"
      ]
     },
     "metadata": {
      "needs_background": "light"
     },
     "output_type": "display_data"
    }
   ],
   "source": [
    "# plot the model loss and accuracy\n",
    "train_loss = history1.history['loss']\n",
    "train_acc = history1.history['accuracy']\n",
    "\n",
    "valid_loss = history1.history['val_loss']\n",
    "valid_acc = history1.history['val_accuracy']\n",
    "\n",
    "x = [(i+1) for i in range(len(train_loss))]\n",
    "\n",
    "f,ax = plt.subplots(1,2, figsize=(12,5))\n",
    "ax[0].plot(x, train_loss)\n",
    "ax[0].plot(x, valid_loss)\n",
    "ax[0].set_title(\"Loss plot\")\n",
    "ax[0].set_xlabel(\"Epochs\")\n",
    "ax[0].set_ylabel(\"loss\")\n",
    "ax[0].legend(['train', 'valid'])\n",
    "\n",
    "\n",
    "ax[1].plot(x, train_acc)\n",
    "ax[1].plot(x, valid_acc)\n",
    "ax[1].set_title(\"Accuracy plot\")\n",
    "ax[1].set_xlabel(\"Epochs\")\n",
    "ax[1].set_ylabel(\"acc\")\n",
    "ax[1].legend(['train', 'valid'])\n",
    "\n",
    "plt.show()"
   ]
  },
  {
   "cell_type": "code",
   "execution_count": 31,
   "metadata": {},
   "outputs": [
    {
     "name": "stdout",
     "output_type": "stream",
     "text": [
      "Val Accuracy = 0.80\n"
     ]
    }
   ],
   "source": [
    "predictions1 = model1.predict(validate_features)\n",
    "predictions1 = [1 if x>0.5 else 0 for x in predictions1]\n",
    "accuracy1 = accuracy_score(validate_labels, predictions1)\n",
    "print('Val Accuracy = %.2f' % accuracy1)"
   ]
  },
  {
   "cell_type": "code",
   "execution_count": 32,
   "metadata": {},
   "outputs": [],
   "source": [
    "confusion_mtx1 = confusion_matrix(validate_labels, predictions1) "
   ]
  },
  {
   "cell_type": "code",
   "execution_count": 33,
   "metadata": {},
   "outputs": [
    {
     "data": {
      "text/plain": [
       "(<Figure size 432x288 with 1 Axes>,\n",
       " <matplotlib.axes._subplots.AxesSubplot at 0x1a33e98410>)"
      ]
     },
     "execution_count": 33,
     "metadata": {},
     "output_type": "execute_result"
    },
    {
     "data": {
      "image/png": "[encoded data removed]",
      "text/plain": [
       "<Figure size 432x288 with 1 Axes>"
      ]
     },
     "metadata": {
      "needs_background": "light"
     },
     "output_type": "display_data"
    }
   ],
   "source": [
    "plot_confusion_matrix(confusion_mtx1, show_normed=True)"
   ]
  },
  {
   "cell_type": "code",
   "execution_count": 34,
   "metadata": {},
   "outputs": [
    {
     "data": {
      "text/plain": [
       "0.7997240851253727"
      ]
     },
     "execution_count": 34,
     "metadata": {},
     "output_type": "execute_result"
    }
   ],
   "source": [
    "f1_score(validate_labels, predictions1, average='weighted')"
   ]
  },
  {
   "cell_type": "markdown",
   "metadata": {},
   "source": [
    "50 EPOCHS"
   ]
  },
  {
   "cell_type": "code",
   "execution_count": 35,
   "metadata": {},
   "outputs": [
    {
     "name": "stdout",
     "output_type": "stream",
     "text": [
      "Model: \"sequential_2\"\n",
      "_________________________________________________________________\n",
      "Layer (type)                 Output Shape              Param #   \n",
      "=================================================================\n",
      "global_average_pooling2d_2 ( (None, 512)               0         \n",
      "_________________________________________________________________\n",
      "dropout_2 (Dropout)          (None, 512)               0         \n",
      "_________________________________________________________________\n",
      "dense_3 (Dense)              (None, 200)               102600    \n",
      "_________________________________________________________________\n",
      "dense_4 (Dense)              (None, 1)                 201       \n",
      "=================================================================\n",
      "Total params: 102,801\n",
      "Trainable params: 102,801\n",
      "Non-trainable params: 0\n",
      "_________________________________________________________________\n"
     ]
    }
   ],
   "source": [
    "model2 = Sequential()\n",
    "model2.add(GlobalAveragePooling2D(input_shape=train_features.shape[1:]))\n",
    "model2.add(Dropout(0.1))\n",
    "model2.add(Dense(200, activation='relu'))\n",
    "model2.add(Dense(1, activation='sigmoid'))\n",
    "model2.summary()"
   ]
  },
  {
   "cell_type": "code",
   "execution_count": 36,
   "metadata": {},
   "outputs": [],
   "source": [
    "model2.compile(optimizer= 'adam',\n",
    "              loss='binary_crossentropy',\n",
    "              metrics=['accuracy'])"
   ]
  },
  {
   "cell_type": "code",
   "execution_count": 37,
   "metadata": {},
   "outputs": [
    {
     "name": "stdout",
     "output_type": "stream",
     "text": [
      "Train on 9618 samples, validate on 3773 samples\n",
      "Epoch 1/50\n",
      "9618/9618 [==============================] - 1s 122us/step - loss: 0.5380 - accuracy: 0.7411 - val_loss: 0.4881 - val_accuracy: 0.7657\n",
      "Epoch 2/50\n",
      "9618/9618 [==============================] - 1s 104us/step - loss: 0.5033 - accuracy: 0.7645 - val_loss: 0.5111 - val_accuracy: 0.7588\n",
      "Epoch 3/50\n",
      "9618/9618 [==============================] - 1s 107us/step - loss: 0.4906 - accuracy: 0.7725 - val_loss: 0.4635 - val_accuracy: 0.7795\n",
      "Epoch 4/50\n",
      "9618/9618 [==============================] - 1s 107us/step - loss: 0.4844 - accuracy: 0.7761 - val_loss: 0.4667 - val_accuracy: 0.7843\n",
      "Epoch 5/50\n",
      "9618/9618 [==============================] - 1s 104us/step - loss: 0.4767 - accuracy: 0.7779 - val_loss: 0.4638 - val_accuracy: 0.7811\n",
      "Epoch 6/50\n",
      "9618/9618 [==============================] - 1s 107us/step - loss: 0.4796 - accuracy: 0.7735 - val_loss: 0.4575 - val_accuracy: 0.7792\n",
      "Epoch 7/50\n",
      "9618/9618 [==============================] - 1s 102us/step - loss: 0.4720 - accuracy: 0.7767 - val_loss: 0.4565 - val_accuracy: 0.7821\n",
      "Epoch 8/50\n",
      "9618/9618 [==============================] - 1s 103us/step - loss: 0.4666 - accuracy: 0.7836 - val_loss: 0.4996 - val_accuracy: 0.7599\n",
      "Epoch 9/50\n",
      "9618/9618 [==============================] - 1s 102us/step - loss: 0.4671 - accuracy: 0.7792 - val_loss: 0.4723 - val_accuracy: 0.7766\n",
      "Epoch 10/50\n",
      "9618/9618 [==============================] - 1s 104us/step - loss: 0.4699 - accuracy: 0.7809 - val_loss: 0.4649 - val_accuracy: 0.7795\n",
      "Epoch 11/50\n",
      "9618/9618 [==============================] - 1s 103us/step - loss: 0.4592 - accuracy: 0.7849 - val_loss: 0.4471 - val_accuracy: 0.7858\n",
      "Epoch 12/50\n",
      "9618/9618 [==============================] - 1s 104us/step - loss: 0.4658 - accuracy: 0.7776 - val_loss: 0.4464 - val_accuracy: 0.7837\n",
      "Epoch 13/50\n",
      "9618/9618 [==============================] - 1s 103us/step - loss: 0.4606 - accuracy: 0.7812 - val_loss: 0.4484 - val_accuracy: 0.7829\n",
      "Epoch 14/50\n",
      "9618/9618 [==============================] - 1s 104us/step - loss: 0.4577 - accuracy: 0.7845 - val_loss: 0.4437 - val_accuracy: 0.7888\n",
      "Epoch 15/50\n",
      "9618/9618 [==============================] - 1s 106us/step - loss: 0.4534 - accuracy: 0.7881 - val_loss: 0.4719 - val_accuracy: 0.7821\n",
      "Epoch 16/50\n",
      "9618/9618 [==============================] - 1s 105us/step - loss: 0.4517 - accuracy: 0.7888 - val_loss: 0.4556 - val_accuracy: 0.7790\n",
      "Epoch 17/50\n",
      "9618/9618 [==============================] - 1s 103us/step - loss: 0.4540 - accuracy: 0.7826 - val_loss: 0.4422 - val_accuracy: 0.7866\n",
      "Epoch 18/50\n",
      "9618/9618 [==============================] - 1s 103us/step - loss: 0.4505 - accuracy: 0.7877 - val_loss: 0.4425 - val_accuracy: 0.7893\n",
      "Epoch 19/50\n",
      "9618/9618 [==============================] - 1s 112us/step - loss: 0.4438 - accuracy: 0.7926 - val_loss: 0.4411 - val_accuracy: 0.7858\n",
      "Epoch 20/50\n",
      "9618/9618 [==============================] - 1s 106us/step - loss: 0.4525 - accuracy: 0.7871 - val_loss: 0.4430 - val_accuracy: 0.7901\n",
      "Epoch 21/50\n",
      "9618/9618 [==============================] - 1s 104us/step - loss: 0.4469 - accuracy: 0.7942 - val_loss: 0.4398 - val_accuracy: 0.7882\n",
      "Epoch 22/50\n",
      "9618/9618 [==============================] - 1s 112us/step - loss: 0.4446 - accuracy: 0.7902 - val_loss: 0.4535 - val_accuracy: 0.7851\n",
      "Epoch 23/50\n",
      "9618/9618 [==============================] - 1s 104us/step - loss: 0.4471 - accuracy: 0.7904 - val_loss: 0.4374 - val_accuracy: 0.7917\n",
      "Epoch 24/50\n",
      "9618/9618 [==============================] - 1s 103us/step - loss: 0.4408 - accuracy: 0.7938 - val_loss: 0.4559 - val_accuracy: 0.7840\n",
      "Epoch 25/50\n",
      "9618/9618 [==============================] - 1s 109us/step - loss: 0.4393 - accuracy: 0.7944 - val_loss: 0.4674 - val_accuracy: 0.7816\n",
      "Epoch 26/50\n",
      "9618/9618 [==============================] - 1s 109us/step - loss: 0.4385 - accuracy: 0.7943 - val_loss: 0.4562 - val_accuracy: 0.7851\n",
      "Epoch 27/50\n",
      "9618/9618 [==============================] - 1s 113us/step - loss: 0.4325 - accuracy: 0.7974 - val_loss: 0.4859 - val_accuracy: 0.7612\n",
      "Epoch 28/50\n",
      "9618/9618 [==============================] - 1s 107us/step - loss: 0.4339 - accuracy: 0.7990 - val_loss: 0.4364 - val_accuracy: 0.7911\n",
      "Epoch 29/50\n",
      "9618/9618 [==============================] - 1s 104us/step - loss: 0.4325 - accuracy: 0.8004 - val_loss: 0.4351 - val_accuracy: 0.7909\n",
      "Epoch 30/50\n",
      "9618/9618 [==============================] - 1s 103us/step - loss: 0.4325 - accuracy: 0.7993 - val_loss: 0.5160 - val_accuracy: 0.7604\n",
      "Epoch 31/50\n",
      "9618/9618 [==============================] - 1s 104us/step - loss: 0.4325 - accuracy: 0.7968 - val_loss: 0.4410 - val_accuracy: 0.7904\n",
      "Epoch 32/50\n",
      "9618/9618 [==============================] - 1s 105us/step - loss: 0.4281 - accuracy: 0.8056 - val_loss: 0.4339 - val_accuracy: 0.7972\n",
      "Epoch 33/50\n",
      "9618/9618 [==============================] - 1s 110us/step - loss: 0.4298 - accuracy: 0.8046 - val_loss: 0.4321 - val_accuracy: 0.7938\n",
      "Epoch 34/50\n",
      "9618/9618 [==============================] - 1s 111us/step - loss: 0.4256 - accuracy: 0.8007 - val_loss: 0.4275 - val_accuracy: 0.7972\n",
      "Epoch 35/50\n",
      "9618/9618 [==============================] - 1s 114us/step - loss: 0.4259 - accuracy: 0.8049 - val_loss: 0.4226 - val_accuracy: 0.7994\n",
      "Epoch 36/50\n",
      "9618/9618 [==============================] - 1s 109us/step - loss: 0.4202 - accuracy: 0.8037 - val_loss: 0.4238 - val_accuracy: 0.7954\n",
      "Epoch 37/50\n",
      "9618/9618 [==============================] - 1s 111us/step - loss: 0.4166 - accuracy: 0.8085 - val_loss: 0.4247 - val_accuracy: 0.7951\n",
      "Epoch 38/50\n",
      "9618/9618 [==============================] - 1s 106us/step - loss: 0.4199 - accuracy: 0.8094 - val_loss: 0.4215 - val_accuracy: 0.8015\n",
      "Epoch 39/50\n",
      "9618/9618 [==============================] - 1s 116us/step - loss: 0.4151 - accuracy: 0.8097 - val_loss: 0.4197 - val_accuracy: 0.8017\n",
      "Epoch 40/50\n",
      "9618/9618 [==============================] - 1s 108us/step - loss: 0.4134 - accuracy: 0.8100 - val_loss: 0.4165 - val_accuracy: 0.8033\n",
      "Epoch 41/50\n",
      "9618/9618 [==============================] - 1s 104us/step - loss: 0.4125 - accuracy: 0.8069 - val_loss: 0.4227 - val_accuracy: 0.7988\n",
      "Epoch 42/50\n",
      "9618/9618 [==============================] - 1s 103us/step - loss: 0.4118 - accuracy: 0.8147 - val_loss: 0.4222 - val_accuracy: 0.8010\n",
      "Epoch 43/50\n",
      "9618/9618 [==============================] - 1s 106us/step - loss: 0.4111 - accuracy: 0.8132 - val_loss: 0.4277 - val_accuracy: 0.7962\n",
      "Epoch 44/50\n",
      "9618/9618 [==============================] - 1s 108us/step - loss: 0.4152 - accuracy: 0.8092 - val_loss: 0.4234 - val_accuracy: 0.8010\n",
      "Epoch 45/50\n",
      "9618/9618 [==============================] - 1s 108us/step - loss: 0.4093 - accuracy: 0.8119 - val_loss: 0.4177 - val_accuracy: 0.8044\n",
      "Epoch 46/50\n",
      "9618/9618 [==============================] - 1s 109us/step - loss: 0.4081 - accuracy: 0.8133 - val_loss: 0.4296 - val_accuracy: 0.7957\n",
      "Epoch 47/50\n",
      "9618/9618 [==============================] - 1s 107us/step - loss: 0.4057 - accuracy: 0.8127 - val_loss: 0.4233 - val_accuracy: 0.7986\n",
      "Epoch 48/50\n",
      "9618/9618 [==============================] - 1s 103us/step - loss: 0.4021 - accuracy: 0.8159 - val_loss: 0.4246 - val_accuracy: 0.7954\n",
      "Epoch 49/50\n",
      "9618/9618 [==============================] - 1s 102us/step - loss: 0.4035 - accuracy: 0.8161 - val_loss: 0.4201 - val_accuracy: 0.8007\n",
      "Epoch 50/50\n",
      "9618/9618 [==============================] - 1s 103us/step - loss: 0.4040 - accuracy: 0.8123 - val_loss: 0.4240 - val_accuracy: 0.7919\n"
     ]
    }
   ],
   "source": [
    "history2 = model2.fit(train_features, train_labels, batch_size=32, epochs=50,\n",
    "          validation_data=(test_features, test_labels), shuffle=True)"
   ]
  },
  {
   "cell_type": "code",
   "execution_count": 38,
   "metadata": {},
   "outputs": [
    {
     "data": {
      "image/png": "[encoded data removed]",
      "text/plain": [
       "<Figure size 864x360 with 2 Axes>"
      ]
     },
     "metadata": {
      "needs_background": "light"
     },
     "output_type": "display_data"
    }
   ],
   "source": [
    "# plot the model loss and accuracy\n",
    "train_loss = history2.history['loss']\n",
    "train_acc = history2.history['accuracy']\n",
    "\n",
    "valid_loss = history2.history['val_loss']\n",
    "valid_acc = history2.history['val_accuracy']\n",
    "\n",
    "x = [(i+1) for i in range(len(train_loss))]\n",
    "\n",
    "f,ax = plt.subplots(1,2, figsize=(12,5))\n",
    "ax[0].plot(x, train_loss)\n",
    "ax[0].plot(x, valid_loss)\n",
    "ax[0].set_title(\"Loss plot\")\n",
    "ax[0].set_xlabel(\"Epochs\")\n",
    "ax[0].set_ylabel(\"loss\")\n",
    "ax[0].legend(['train', 'valid'])\n",
    "\n",
    "\n",
    "ax[1].plot(x, train_acc)\n",
    "ax[1].plot(x, valid_acc)\n",
    "ax[1].set_title(\"Accuracy plot\")\n",
    "ax[1].set_xlabel(\"Epochs\")\n",
    "ax[1].set_ylabel(\"acc\")\n",
    "ax[1].legend(['train', 'valid'])\n",
    "\n",
    "plt.show()"
   ]
  },
  {
   "cell_type": "code",
   "execution_count": 39,
   "metadata": {},
   "outputs": [
    {
     "name": "stdout",
     "output_type": "stream",
     "text": [
      "Val Accuracy = 0.80\n"
     ]
    }
   ],
   "source": [
    "predictions2 = model2.predict(validate_features)\n",
    "predictions2 = [1 if x>0.5 else 0 for x in predictions2]\n",
    "accuracy2 = accuracy_score(validate_labels, predictions2)\n",
    "print('Val Accuracy = %.2f' % accuracy2)"
   ]
  },
  {
   "cell_type": "code",
   "execution_count": 40,
   "metadata": {},
   "outputs": [],
   "source": [
    "confusion_mtx2 = confusion_matrix(validate_labels, predictions2) "
   ]
  },
  {
   "cell_type": "code",
   "execution_count": 41,
   "metadata": {},
   "outputs": [
    {
     "data": {
      "text/plain": [
       "(<Figure size 432x288 with 1 Axes>,\n",
       " <matplotlib.axes._subplots.AxesSubplot at 0x1a358a0810>)"
      ]
     },
     "execution_count": 41,
     "metadata": {},
     "output_type": "execute_result"
    },
    {
     "data": {
      "image/png": "[encoded data removed]",
      "text/plain": [
       "<Figure size 432x288 with 1 Axes>"
      ]
     },
     "metadata": {
      "needs_background": "light"
     },
     "output_type": "display_data"
    }
   ],
   "source": [
    "plot_confusion_matrix(confusion_mtx2, show_normed=True)"
   ]
  },
  {
   "cell_type": "code",
   "execution_count": 42,
   "metadata": {},
   "outputs": [
    {
     "data": {
      "text/plain": [
       "0.7998255849052114"
      ]
     },
     "execution_count": 42,
     "metadata": {},
     "output_type": "execute_result"
    }
   ],
   "source": [
    "f1_score(validate_labels, predictions2, average='weighted')"
   ]
  },
  {
   "cell_type": "markdown",
   "metadata": {},
   "source": [
    "100 EPOCHS"
   ]
  },
  {
   "cell_type": "code",
   "execution_count": 52,
   "metadata": {},
   "outputs": [
    {
     "name": "stdout",
     "output_type": "stream",
     "text": [
      "Model: \"sequential_4\"\n",
      "_________________________________________________________________\n",
      "Layer (type)                 Output Shape              Param #   \n",
      "=================================================================\n",
      "global_average_pooling2d_4 ( (None, 512)               0         \n",
      "_________________________________________________________________\n",
      "dropout_4 (Dropout)          (None, 512)               0         \n",
      "_________________________________________________________________\n",
      "dense_7 (Dense)              (None, 200)               102600    \n",
      "_________________________________________________________________\n",
      "dense_8 (Dense)              (None, 1)                 201       \n",
      "=================================================================\n",
      "Total params: 102,801\n",
      "Trainable params: 102,801\n",
      "Non-trainable params: 0\n",
      "_________________________________________________________________\n"
     ]
    }
   ],
   "source": [
    "model3 = Sequential()\n",
    "model3.add(GlobalAveragePooling2D(input_shape=train_features.shape[1:]))\n",
    "model3.add(Dropout(0.1))\n",
    "model3.add(Dense(200, activation='relu'))\n",
    "model3.add(Dense(1, activation='sigmoid'))\n",
    "model3.summary()"
   ]
  },
  {
   "cell_type": "code",
   "execution_count": 53,
   "metadata": {},
   "outputs": [],
   "source": [
    "model3.compile(optimizer= 'adam',\n",
    "              loss='binary_crossentropy',\n",
    "              metrics=['accuracy'])"
   ]
  },
  {
   "cell_type": "code",
   "execution_count": 54,
   "metadata": {},
   "outputs": [
    {
     "name": "stdout",
     "output_type": "stream",
     "text": [
      "Train on 9618 samples, validate on 3773 samples\n",
      "Epoch 1/100\n",
      "9618/9618 [==============================] - 1s 127us/step - loss: 0.5366 - accuracy: 0.7359 - val_loss: 0.4884 - val_accuracy: 0.7808\n",
      "Epoch 2/100\n",
      "9618/9618 [==============================] - 1s 104us/step - loss: 0.5004 - accuracy: 0.7707 - val_loss: 0.4768 - val_accuracy: 0.7811\n",
      "Epoch 3/100\n",
      "9618/9618 [==============================] - 1s 104us/step - loss: 0.4892 - accuracy: 0.7705 - val_loss: 0.4665 - val_accuracy: 0.7811\n",
      "Epoch 4/100\n",
      "9618/9618 [==============================] - 1s 105us/step - loss: 0.4825 - accuracy: 0.7737 - val_loss: 0.4897 - val_accuracy: 0.7665\n",
      "Epoch 5/100\n",
      "9618/9618 [==============================] - 1s 107us/step - loss: 0.4764 - accuracy: 0.7785 - val_loss: 0.4619 - val_accuracy: 0.7835\n",
      "Epoch 6/100\n",
      "9618/9618 [==============================] - 1s 108us/step - loss: 0.4742 - accuracy: 0.7828 - val_loss: 0.4701 - val_accuracy: 0.7723\n",
      "Epoch 7/100\n",
      "9618/9618 [==============================] - 1s 108us/step - loss: 0.4712 - accuracy: 0.7808 - val_loss: 0.4809 - val_accuracy: 0.7718\n",
      "Epoch 8/100\n",
      "9618/9618 [==============================] - 1s 109us/step - loss: 0.4718 - accuracy: 0.7769 - val_loss: 0.4939 - val_accuracy: 0.7652\n",
      "Epoch 9/100\n",
      "9618/9618 [==============================] - 1s 110us/step - loss: 0.4696 - accuracy: 0.7838 - val_loss: 0.4525 - val_accuracy: 0.7864\n",
      "Epoch 10/100\n",
      "9618/9618 [==============================] - 1s 108us/step - loss: 0.4624 - accuracy: 0.7795 - val_loss: 0.4555 - val_accuracy: 0.7776\n",
      "Epoch 11/100\n",
      "9618/9618 [==============================] - 1s 107us/step - loss: 0.4628 - accuracy: 0.7804 - val_loss: 0.4787 - val_accuracy: 0.7713\n",
      "Epoch 12/100\n",
      "9618/9618 [==============================] - 1s 108us/step - loss: 0.4599 - accuracy: 0.7818 - val_loss: 0.4552 - val_accuracy: 0.7800\n",
      "Epoch 13/100\n",
      "9618/9618 [==============================] - 1s 109us/step - loss: 0.4612 - accuracy: 0.7824 - val_loss: 0.4458 - val_accuracy: 0.7880\n",
      "Epoch 14/100\n",
      "9618/9618 [==============================] - 1s 111us/step - loss: 0.4566 - accuracy: 0.7852 - val_loss: 0.4438 - val_accuracy: 0.7906\n",
      "Epoch 15/100\n",
      "9618/9618 [==============================] - 1s 109us/step - loss: 0.4536 - accuracy: 0.7859 - val_loss: 0.4459 - val_accuracy: 0.7835\n",
      "Epoch 16/100\n",
      "9618/9618 [==============================] - 1s 109us/step - loss: 0.4545 - accuracy: 0.7851 - val_loss: 0.4442 - val_accuracy: 0.7848\n",
      "Epoch 17/100\n",
      "9618/9618 [==============================] - 1s 109us/step - loss: 0.4545 - accuracy: 0.7860 - val_loss: 0.4480 - val_accuracy: 0.7832\n",
      "Epoch 18/100\n",
      "9618/9618 [==============================] - 1s 108us/step - loss: 0.4482 - accuracy: 0.7910 - val_loss: 0.4410 - val_accuracy: 0.7872\n",
      "Epoch 19/100\n",
      "9618/9618 [==============================] - 1s 109us/step - loss: 0.4480 - accuracy: 0.7891 - val_loss: 0.4458 - val_accuracy: 0.7917\n",
      "Epoch 20/100\n",
      "9618/9618 [==============================] - 1s 109us/step - loss: 0.4496 - accuracy: 0.7917 - val_loss: 0.4385 - val_accuracy: 0.7896\n",
      "Epoch 21/100\n",
      "9618/9618 [==============================] - 1s 109us/step - loss: 0.4476 - accuracy: 0.7870 - val_loss: 0.4414 - val_accuracy: 0.7861\n",
      "Epoch 22/100\n",
      "9618/9618 [==============================] - 1s 109us/step - loss: 0.4423 - accuracy: 0.7909 - val_loss: 0.4376 - val_accuracy: 0.7896\n",
      "Epoch 23/100\n",
      "9618/9618 [==============================] - 1s 109us/step - loss: 0.4437 - accuracy: 0.7911 - val_loss: 0.4381 - val_accuracy: 0.7896\n",
      "Epoch 24/100\n",
      "9618/9618 [==============================] - 1s 108us/step - loss: 0.4361 - accuracy: 0.7946 - val_loss: 0.4341 - val_accuracy: 0.7904\n",
      "Epoch 25/100\n",
      "9618/9618 [==============================] - 1s 108us/step - loss: 0.4403 - accuracy: 0.7936 - val_loss: 0.4390 - val_accuracy: 0.7856\n",
      "Epoch 26/100\n",
      "9618/9618 [==============================] - 1s 109us/step - loss: 0.4383 - accuracy: 0.7938 - val_loss: 0.4331 - val_accuracy: 0.7890\n",
      "Epoch 27/100\n",
      "9618/9618 [==============================] - 1s 108us/step - loss: 0.4349 - accuracy: 0.7973 - val_loss: 0.4412 - val_accuracy: 0.7866\n",
      "Epoch 28/100\n",
      "9618/9618 [==============================] - 1s 108us/step - loss: 0.4345 - accuracy: 0.7957 - val_loss: 0.4332 - val_accuracy: 0.7901\n",
      "Epoch 29/100\n",
      "9618/9618 [==============================] - 1s 108us/step - loss: 0.4325 - accuracy: 0.7966 - val_loss: 0.4424 - val_accuracy: 0.7808\n",
      "Epoch 30/100\n",
      "9618/9618 [==============================] - 1s 107us/step - loss: 0.4297 - accuracy: 0.8026 - val_loss: 0.4439 - val_accuracy: 0.7893\n",
      "Epoch 31/100\n",
      "9618/9618 [==============================] - 1s 107us/step - loss: 0.4298 - accuracy: 0.8000 - val_loss: 0.4332 - val_accuracy: 0.7893\n",
      "Epoch 32/100\n",
      "9618/9618 [==============================] - 1s 107us/step - loss: 0.4329 - accuracy: 0.7963 - val_loss: 0.4317 - val_accuracy: 0.7933\n",
      "Epoch 33/100\n",
      "9618/9618 [==============================] - 1s 107us/step - loss: 0.4310 - accuracy: 0.8014 - val_loss: 0.4269 - val_accuracy: 0.7964\n",
      "Epoch 34/100\n",
      "9618/9618 [==============================] - 1s 108us/step - loss: 0.4230 - accuracy: 0.8026 - val_loss: 0.4398 - val_accuracy: 0.7872\n",
      "Epoch 35/100\n",
      "9618/9618 [==============================] - 1s 107us/step - loss: 0.4260 - accuracy: 0.8044 - val_loss: 0.4295 - val_accuracy: 0.7988\n",
      "Epoch 36/100\n",
      "9618/9618 [==============================] - 1s 107us/step - loss: 0.4215 - accuracy: 0.8073 - val_loss: 0.4697 - val_accuracy: 0.7707\n",
      "Epoch 37/100\n",
      "9618/9618 [==============================] - 1s 104us/step - loss: 0.4206 - accuracy: 0.8006 - val_loss: 0.4294 - val_accuracy: 0.7925\n",
      "Epoch 38/100\n",
      "9618/9618 [==============================] - 1s 103us/step - loss: 0.4211 - accuracy: 0.8014 - val_loss: 0.4311 - val_accuracy: 0.7933\n",
      "Epoch 39/100\n",
      "9618/9618 [==============================] - 1s 104us/step - loss: 0.4198 - accuracy: 0.8059 - val_loss: 0.4351 - val_accuracy: 0.7888\n",
      "Epoch 40/100\n",
      "9618/9618 [==============================] - 1s 103us/step - loss: 0.4195 - accuracy: 0.8090 - val_loss: 0.4225 - val_accuracy: 0.7954\n",
      "Epoch 41/100\n",
      "9618/9618 [==============================] - 1s 103us/step - loss: 0.4164 - accuracy: 0.8068 - val_loss: 0.4285 - val_accuracy: 0.7975\n",
      "Epoch 42/100\n",
      "9618/9618 [==============================] - 1s 103us/step - loss: 0.4136 - accuracy: 0.8113 - val_loss: 0.4479 - val_accuracy: 0.7827\n",
      "Epoch 43/100\n",
      "9618/9618 [==============================] - 1s 104us/step - loss: 0.4168 - accuracy: 0.8080 - val_loss: 0.4271 - val_accuracy: 0.7983\n",
      "Epoch 44/100\n",
      "9618/9618 [==============================] - 1s 104us/step - loss: 0.4124 - accuracy: 0.8094 - val_loss: 0.4184 - val_accuracy: 0.8025\n",
      "Epoch 45/100\n",
      "9618/9618 [==============================] - 1s 103us/step - loss: 0.4064 - accuracy: 0.8177 - val_loss: 0.4269 - val_accuracy: 0.7959\n",
      "Epoch 46/100\n",
      "9618/9618 [==============================] - 1s 103us/step - loss: 0.4121 - accuracy: 0.8108 - val_loss: 0.4285 - val_accuracy: 0.8004\n",
      "Epoch 47/100\n",
      "9618/9618 [==============================] - 1s 103us/step - loss: 0.4066 - accuracy: 0.8140 - val_loss: 0.4515 - val_accuracy: 0.7805\n",
      "Epoch 48/100\n",
      "9618/9618 [==============================] - 1s 103us/step - loss: 0.4072 - accuracy: 0.8141 - val_loss: 0.4222 - val_accuracy: 0.7999\n",
      "Epoch 49/100\n",
      "9618/9618 [==============================] - 1s 103us/step - loss: 0.4064 - accuracy: 0.8115 - val_loss: 0.4141 - val_accuracy: 0.8039\n",
      "Epoch 50/100\n",
      "9618/9618 [==============================] - 1s 103us/step - loss: 0.3975 - accuracy: 0.8201 - val_loss: 0.4158 - val_accuracy: 0.8020\n",
      "Epoch 51/100\n",
      "9618/9618 [==============================] - 1s 104us/step - loss: 0.4013 - accuracy: 0.8139 - val_loss: 0.4141 - val_accuracy: 0.8055\n",
      "Epoch 52/100\n",
      "9618/9618 [==============================] - 1s 103us/step - loss: 0.4025 - accuracy: 0.8179 - val_loss: 0.4310 - val_accuracy: 0.7911\n",
      "Epoch 53/100\n",
      "9618/9618 [==============================] - 1s 104us/step - loss: 0.4017 - accuracy: 0.8152 - val_loss: 0.4371 - val_accuracy: 0.7967\n",
      "Epoch 54/100\n",
      "9618/9618 [==============================] - 1s 103us/step - loss: 0.3994 - accuracy: 0.8201 - val_loss: 0.4212 - val_accuracy: 0.7996\n",
      "Epoch 55/100\n",
      "9618/9618 [==============================] - 1s 103us/step - loss: 0.3973 - accuracy: 0.8211 - val_loss: 0.4159 - val_accuracy: 0.8086\n",
      "Epoch 56/100\n"
     ]
    },
    {
     "name": "stdout",
     "output_type": "stream",
     "text": [
      "9618/9618 [==============================] - 1s 103us/step - loss: 0.3982 - accuracy: 0.8159 - val_loss: 0.4177 - val_accuracy: 0.8047\n",
      "Epoch 57/100\n",
      "9618/9618 [==============================] - 1s 102us/step - loss: 0.3925 - accuracy: 0.8232 - val_loss: 0.4226 - val_accuracy: 0.8031\n",
      "Epoch 58/100\n",
      "9618/9618 [==============================] - 1s 102us/step - loss: 0.3933 - accuracy: 0.8190 - val_loss: 0.4114 - val_accuracy: 0.8068\n",
      "Epoch 59/100\n",
      "9618/9618 [==============================] - 1s 102us/step - loss: 0.3911 - accuracy: 0.8243 - val_loss: 0.4213 - val_accuracy: 0.8002\n",
      "Epoch 60/100\n",
      "9618/9618 [==============================] - 1s 102us/step - loss: 0.3917 - accuracy: 0.8222 - val_loss: 0.4305 - val_accuracy: 0.8002\n",
      "Epoch 61/100\n",
      "9618/9618 [==============================] - 1s 102us/step - loss: 0.3929 - accuracy: 0.8185 - val_loss: 0.4069 - val_accuracy: 0.8110\n",
      "Epoch 62/100\n",
      "9618/9618 [==============================] - 1s 102us/step - loss: 0.3872 - accuracy: 0.8253 - val_loss: 0.4162 - val_accuracy: 0.8073\n",
      "Epoch 63/100\n",
      "9618/9618 [==============================] - 1s 103us/step - loss: 0.3902 - accuracy: 0.8250 - val_loss: 0.4140 - val_accuracy: 0.8036\n",
      "Epoch 64/100\n",
      "9618/9618 [==============================] - 1s 102us/step - loss: 0.3840 - accuracy: 0.8273 - val_loss: 0.4075 - val_accuracy: 0.8081\n",
      "Epoch 65/100\n",
      "9618/9618 [==============================] - 1s 102us/step - loss: 0.3861 - accuracy: 0.8268 - val_loss: 0.4063 - val_accuracy: 0.8124\n",
      "Epoch 66/100\n",
      "9618/9618 [==============================] - 1s 102us/step - loss: 0.3879 - accuracy: 0.8237 - val_loss: 0.4104 - val_accuracy: 0.8084\n",
      "Epoch 67/100\n",
      "9618/9618 [==============================] - 1s 102us/step - loss: 0.3795 - accuracy: 0.8289 - val_loss: 0.4178 - val_accuracy: 0.8055\n",
      "Epoch 68/100\n",
      "9618/9618 [==============================] - 1s 102us/step - loss: 0.3825 - accuracy: 0.8289 - val_loss: 0.4322 - val_accuracy: 0.8071\n",
      "Epoch 69/100\n",
      "9618/9618 [==============================] - 1s 103us/step - loss: 0.3809 - accuracy: 0.8283 - val_loss: 0.4037 - val_accuracy: 0.8086\n",
      "Epoch 70/100\n",
      "9618/9618 [==============================] - 1s 103us/step - loss: 0.3774 - accuracy: 0.8279 - val_loss: 0.4128 - val_accuracy: 0.8002\n",
      "Epoch 71/100\n",
      "9618/9618 [==============================] - 1s 102us/step - loss: 0.3814 - accuracy: 0.8244 - val_loss: 0.4131 - val_accuracy: 0.8039\n",
      "Epoch 72/100\n",
      "9618/9618 [==============================] - 1s 102us/step - loss: 0.3720 - accuracy: 0.8358 - val_loss: 0.4098 - val_accuracy: 0.8126\n",
      "Epoch 73/100\n",
      "9618/9618 [==============================] - 1s 103us/step - loss: 0.3737 - accuracy: 0.8295 - val_loss: 0.4054 - val_accuracy: 0.8166\n",
      "Epoch 74/100\n",
      "9618/9618 [==============================] - 1s 102us/step - loss: 0.3739 - accuracy: 0.8371 - val_loss: 0.4371 - val_accuracy: 0.7991\n",
      "Epoch 75/100\n",
      "9618/9618 [==============================] - 1s 104us/step - loss: 0.3746 - accuracy: 0.8308 - val_loss: 0.4020 - val_accuracy: 0.8145\n",
      "Epoch 76/100\n",
      "9618/9618 [==============================] - 1s 104us/step - loss: 0.3701 - accuracy: 0.8320 - val_loss: 0.3997 - val_accuracy: 0.8139\n",
      "Epoch 77/100\n",
      "9618/9618 [==============================] - 1s 103us/step - loss: 0.3721 - accuracy: 0.8350 - val_loss: 0.4021 - val_accuracy: 0.8108\n",
      "Epoch 78/100\n",
      "9618/9618 [==============================] - 1s 103us/step - loss: 0.3668 - accuracy: 0.8342 - val_loss: 0.3980 - val_accuracy: 0.8161\n",
      "Epoch 79/100\n",
      "9618/9618 [==============================] - 1s 103us/step - loss: 0.3674 - accuracy: 0.8344 - val_loss: 0.4181 - val_accuracy: 0.8063\n",
      "Epoch 80/100\n",
      "9618/9618 [==============================] - 1s 103us/step - loss: 0.3676 - accuracy: 0.8359 - val_loss: 0.4114 - val_accuracy: 0.8068\n",
      "Epoch 81/100\n",
      "9618/9618 [==============================] - 1s 104us/step - loss: 0.3671 - accuracy: 0.8361 - val_loss: 0.4276 - val_accuracy: 0.8031\n",
      "Epoch 82/100\n",
      "9618/9618 [==============================] - 1s 102us/step - loss: 0.3630 - accuracy: 0.8356 - val_loss: 0.4022 - val_accuracy: 0.8174\n",
      "Epoch 83/100\n",
      "9618/9618 [==============================] - 1s 103us/step - loss: 0.3625 - accuracy: 0.8341 - val_loss: 0.4003 - val_accuracy: 0.8163\n",
      "Epoch 84/100\n",
      "9618/9618 [==============================] - 1s 103us/step - loss: 0.3651 - accuracy: 0.8323 - val_loss: 0.3921 - val_accuracy: 0.8192\n",
      "Epoch 85/100\n",
      "9618/9618 [==============================] - 1s 103us/step - loss: 0.3596 - accuracy: 0.8398 - val_loss: 0.4013 - val_accuracy: 0.8216\n",
      "Epoch 86/100\n",
      "9618/9618 [==============================] - 1s 104us/step - loss: 0.3625 - accuracy: 0.8398 - val_loss: 0.4054 - val_accuracy: 0.8139\n",
      "Epoch 87/100\n",
      "9618/9618 [==============================] - 1s 103us/step - loss: 0.3655 - accuracy: 0.8350 - val_loss: 0.4021 - val_accuracy: 0.8150\n",
      "Epoch 88/100\n",
      "9618/9618 [==============================] - 1s 103us/step - loss: 0.3602 - accuracy: 0.8370 - val_loss: 0.4040 - val_accuracy: 0.8166\n",
      "Epoch 89/100\n",
      "9618/9618 [==============================] - 1s 103us/step - loss: 0.3570 - accuracy: 0.8385 - val_loss: 0.4268 - val_accuracy: 0.8044\n",
      "Epoch 90/100\n",
      "9618/9618 [==============================] - 1s 103us/step - loss: 0.3555 - accuracy: 0.8403 - val_loss: 0.4138 - val_accuracy: 0.8041\n",
      "Epoch 91/100\n",
      "9618/9618 [==============================] - 1s 103us/step - loss: 0.3588 - accuracy: 0.8370 - val_loss: 0.4096 - val_accuracy: 0.8192\n",
      "Epoch 92/100\n",
      "9618/9618 [==============================] - 1s 103us/step - loss: 0.3567 - accuracy: 0.8408 - val_loss: 0.4014 - val_accuracy: 0.8166\n",
      "Epoch 93/100\n",
      "9618/9618 [==============================] - 1s 102us/step - loss: 0.3551 - accuracy: 0.8421 - val_loss: 0.4018 - val_accuracy: 0.8155\n",
      "Epoch 94/100\n",
      "9618/9618 [==============================] - 1s 102us/step - loss: 0.3515 - accuracy: 0.8435 - val_loss: 0.4187 - val_accuracy: 0.8089\n",
      "Epoch 95/100\n",
      "9618/9618 [==============================] - 1s 103us/step - loss: 0.3500 - accuracy: 0.8418 - val_loss: 0.4055 - val_accuracy: 0.8113\n",
      "Epoch 96/100\n",
      "9618/9618 [==============================] - 1s 103us/step - loss: 0.3480 - accuracy: 0.8454 - val_loss: 0.4018 - val_accuracy: 0.8177\n",
      "Epoch 97/100\n",
      "9618/9618 [==============================] - 1s 102us/step - loss: 0.3482 - accuracy: 0.8460 - val_loss: 0.3956 - val_accuracy: 0.8190\n",
      "Epoch 98/100\n",
      "9618/9618 [==============================] - 1s 102us/step - loss: 0.3516 - accuracy: 0.8413 - val_loss: 0.4028 - val_accuracy: 0.8184\n",
      "Epoch 99/100\n",
      "9618/9618 [==============================] - 1s 103us/step - loss: 0.3450 - accuracy: 0.8422 - val_loss: 0.4060 - val_accuracy: 0.8216\n",
      "Epoch 100/100\n",
      "9618/9618 [==============================] - 1s 103us/step - loss: 0.3427 - accuracy: 0.8473 - val_loss: 0.3909 - val_accuracy: 0.8230\n"
     ]
    }
   ],
   "source": [
    "history3 = model3.fit(train_features, train_labels, batch_size=32, epochs=100,\n",
    "          validation_data=(test_features, test_labels), shuffle=True)"
   ]
  },
  {
   "cell_type": "code",
   "execution_count": 55,
   "metadata": {},
   "outputs": [
    {
     "data": {
      "image/png": "[encoded data removed]",
      "text/plain": [
       "<Figure size 864x360 with 2 Axes>"
      ]
     },
     "metadata": {
      "needs_background": "light"
     },
     "output_type": "display_data"
    }
   ],
   "source": [
    "# plot the model loss and accuracy\n",
    "train_loss = history3.history['loss']\n",
    "train_acc = history3.history['accuracy']\n",
    "\n",
    "valid_loss = history3.history['val_loss']\n",
    "valid_acc = history3.history['val_accuracy']\n",
    "\n",
    "x = [(i+1) for i in range(len(train_loss))]\n",
    "\n",
    "f,ax = plt.subplots(1,2, figsize=(12,5))\n",
    "ax[0].plot(x, train_loss)\n",
    "ax[0].plot(x, valid_loss)\n",
    "ax[0].set_title(\"Loss plot\")\n",
    "ax[0].set_xlabel(\"Epochs\")\n",
    "ax[0].set_ylabel(\"loss\")\n",
    "ax[0].legend(['train', 'valid'])\n",
    "\n",
    "\n",
    "ax[1].plot(x, train_acc)\n",
    "ax[1].plot(x, valid_acc)\n",
    "ax[1].set_title(\"Accuracy plot\")\n",
    "ax[1].set_xlabel(\"Epochs\")\n",
    "ax[1].set_ylabel(\"acc\")\n",
    "ax[1].legend(['train', 'valid'])\n",
    "\n",
    "plt.show()"
   ]
  },
  {
   "cell_type": "code",
   "execution_count": 56,
   "metadata": {},
   "outputs": [
    {
     "name": "stdout",
     "output_type": "stream",
     "text": [
      "Val Accuracy = 0.84\n"
     ]
    }
   ],
   "source": [
    "predictions3 = model3.predict(validate_features)\n",
    "predictions3 = [1 if x>0.5 else 0 for x in predictions3]\n",
    "accuracy3 = accuracy_score(validate_labels, predictions3)\n",
    "print('Val Accuracy = %.2f' % accuracy3)"
   ]
  },
  {
   "cell_type": "code",
   "execution_count": 57,
   "metadata": {},
   "outputs": [],
   "source": [
    "confusion_mtx3 = confusion_matrix(validate_labels, predictions3) "
   ]
  },
  {
   "cell_type": "code",
   "execution_count": 58,
   "metadata": {},
   "outputs": [
    {
     "data": {
      "text/plain": [
       "(<Figure size 432x288 with 1 Axes>,\n",
       " <matplotlib.axes._subplots.AxesSubplot at 0x1a37103e10>)"
      ]
     },
     "execution_count": 58,
     "metadata": {},
     "output_type": "execute_result"
    },
    {
     "data": {
      "image/png": "[encoded data removed]",
      "text/plain": [
       "<Figure size 432x288 with 1 Axes>"
      ]
     },
     "metadata": {
      "needs_background": "light"
     },
     "output_type": "display_data"
    }
   ],
   "source": [
    "plot_confusion_matrix(confusion_mtx3, show_normed=True)"
   ]
  },
  {
   "cell_type": "code",
   "execution_count": 59,
   "metadata": {},
   "outputs": [
    {
     "data": {
      "text/plain": [
       "0.8345836296592715"
      ]
     },
     "execution_count": 59,
     "metadata": {},
     "output_type": "execute_result"
    }
   ],
   "source": [
    "f1_score(validate_labels, predictions3, average='weighted')"
   ]
  },
  {
   "cell_type": "code",
   "execution_count": null,
   "metadata": {},
   "outputs": [],
   "source": []
  }
 ],
 "metadata": {
  "kernelspec": {
   "display_name": "Python 3",
   "language": "python",
   "name": "python3"
  },
  "language_info": {
   "codemirror_mode": {
    "name": "ipython",
    "version": 3
   },
   "file_extension": ".py",
   "mimetype": "text/x-python",
   "name": "python",
   "nbconvert_exporter": "python",
   "pygments_lexer": "ipython3",
   "version": "3.7.4"
  }
 },
 "nbformat": 4,
 "nbformat_minor": 2
}
