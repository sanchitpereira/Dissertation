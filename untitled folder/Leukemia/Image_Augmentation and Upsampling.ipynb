{
 "cells": [
  {
   "cell_type": "code",
   "execution_count": 1,
   "metadata": {},
   "outputs": [
    {
     "name": "stderr",
     "output_type": "stream",
     "text": [
      "Using TensorFlow backend.\n"
     ]
    }
   ],
   "source": [
    "import os\n",
    "from glob import glob\n",
    "from PIL import Image\n",
    "import pandas as pd\n",
    "import matplotlib.pyplot as plt\n",
    "import numpy as np\n",
    "from numpy import expand_dims\n",
    "from keras.preprocessing.image import load_img\n",
    "from keras.preprocessing.image import img_to_array\n",
    "from keras.preprocessing.image import ImageDataGenerator\n",
    "from matplotlib import pyplot as plt"
   ]
  },
  {
   "cell_type": "code",
   "execution_count": 7,
   "metadata": {},
   "outputs": [],
   "source": [
    "def loadImages_all(path=\"/Users/jesus/Downloads/blood_cancer/training_data_w:o_pp/all\"):\n",
    "  return [os.path.join(path,f)for f in os.listdir(path)if f.endswith(\".bmp\")]\n",
    "\n",
    "\n"
   ]
  },
  {
   "cell_type": "code",
   "execution_count": 8,
   "metadata": {},
   "outputs": [],
   "source": [
    "all = loadImages_all()\n"
   ]
  },
  {
   "cell_type": "code",
   "execution_count": 9,
   "metadata": {},
   "outputs": [
    {
     "data": {
      "text/plain": [
       "7272"
      ]
     },
     "execution_count": 9,
     "metadata": {},
     "output_type": "execute_result"
    }
   ],
   "source": [
    "len(all)"
   ]
  },
  {
   "cell_type": "code",
   "execution_count": 19,
   "metadata": {},
   "outputs": [],
   "source": [
    "i=0\n",
    "itr=2\n",
    "for image in all:\n",
    "  img = load_img(image) \n",
    "  data = img_to_array(img)\n",
    "  samples = expand_dims(data, 0)\n",
    "  datagen = ImageDataGenerator(rotation_range=30, brightness_range=[1.0-1.2])\n",
    "  it = datagen.flow(samples, batch_size=32, save_to_dir=\"/Users/jesus/Downloads/blood_cancer/Augmented_train/all\",save_format='.bmp')\n",
    "  for j in range(itr):\n",
    "    batch = it.next()"
   ]
  },
  {
   "cell_type": "code",
   "execution_count": 20,
   "metadata": {},
   "outputs": [],
   "source": [
    "def loadImages_hem(path=\"/Users/jesus/Downloads/blood_cancer/training_data_w:o_pp/hem\"):\n",
    "  return [os.path.join(path,f)for f in os.listdir(path)if f.endswith(\".bmp\")]"
   ]
  },
  {
   "cell_type": "code",
   "execution_count": 21,
   "metadata": {},
   "outputs": [],
   "source": [
    "hem = loadImages_hem()"
   ]
  },
  {
   "cell_type": "code",
   "execution_count": 22,
   "metadata": {},
   "outputs": [
    {
     "data": {
      "text/plain": [
       "3389"
      ]
     },
     "execution_count": 22,
     "metadata": {},
     "output_type": "execute_result"
    }
   ],
   "source": [
    "len(hem)"
   ]
  },
  {
   "cell_type": "code",
   "execution_count": 23,
   "metadata": {},
   "outputs": [],
   "source": [
    "i=0\n",
    "itr=4\n",
    "for image in hem:\n",
    "  img = load_img(image) \n",
    "  data = img_to_array(img)\n",
    "  samples = expand_dims(data, 0)\n",
    "  datagen = ImageDataGenerator(rotation_range=30)\n",
    "  it = datagen.flow(samples, batch_size=32, save_to_dir=\"/Users/jesus/Downloads/blood_cancer/Augmented_train/hem\",save_format='h.bmp')\n",
    "  for j in range(itr):\n",
    "    batch = it.next()"
   ]
  },
  {
   "cell_type": "code",
   "execution_count": null,
   "metadata": {},
   "outputs": [],
   "source": [
    " "
   ]
  }
 ],
 "metadata": {
  "kernelspec": {
   "display_name": "Python 3",
   "language": "python",
   "name": "python3"
  },
  "language_info": {
   "codemirror_mode": {
    "name": "ipython",
    "version": 3
   },
   "file_extension": ".py",
   "mimetype": "text/x-python",
   "name": "python",
   "nbconvert_exporter": "python",
   "pygments_lexer": "ipython3",
   "version": "3.7.6"
  }
 },
 "nbformat": 4,
 "nbformat_minor": 2
}
