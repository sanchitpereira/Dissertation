{
 "cells": [
  {
   "cell_type": "code",
   "execution_count": 1,
   "metadata": {},
   "outputs": [
    {
     "name": "stderr",
     "output_type": "stream",
     "text": [
      "Using TensorFlow backend.\n"
     ]
    }
   ],
   "source": [
    "import numpy as np\n",
    "import pandas as pd \n",
    "from keras.preprocessing.image import ImageDataGenerator, load_img\n",
    "from keras.utils import to_categorical\n",
    "from sklearn.model_selection import train_test_split\n",
    "import matplotlib.pyplot as plt\n",
    "import os\n",
    "import cv2\n",
    "from sklearn.utils import class_weight\n",
    "import pandas as pd\n",
    "from keras.models import Sequential\n",
    "from keras.layers.normalization import BatchNormalization\n",
    "from keras.layers.convolutional import Conv2D\n",
    "from keras.layers.convolutional import MaxPooling2D\n",
    "from keras.layers.core import Activation, Flatten, Dropout, Dense,Reshape\n",
    "from keras.optimizers import Adam\n",
    "from keras.applications.vgg19 import VGG19\n",
    "# from keras.applications.vgg19 import preprocess_input\n",
    "from pathlib import Path\n",
    "from sklearn.metrics import confusion_matrix\n",
    "from mlxtend.plotting import plot_confusion_matrix\n",
    "import random\n",
    "from keras.callbacks import EarlyStopping, ReduceLROnPlateau\n",
    "from sklearn.utils import class_weight\n",
    "from keras.layers import Conv2D,MaxPool2D,GlobalAveragePooling2D,AveragePooling2D\n",
    "from keras import layers,models\n",
    "from sklearn.metrics import f1_score\n",
    "from mlxtend.plotting import plot_confusion_matrix"
   ]
  },
  {
   "cell_type": "code",
   "execution_count": 2,
   "metadata": {},
   "outputs": [],
   "source": [
    "random.seed(2418)"
   ]
  },
  {
   "cell_type": "code",
   "execution_count": 3,
   "metadata": {},
   "outputs": [],
   "source": [
    "train = pd.read_csv('/Users/jesus/Downloads/blood_cancer/Augmented_train/train.csv')"
   ]
  },
  {
   "cell_type": "code",
   "execution_count": 4,
   "metadata": {},
   "outputs": [
    {
     "data": {
      "text/html": [
       "<div>\n",
       "<style scoped>\n",
       "    .dataframe tbody tr th:only-of-type {\n",
       "        vertical-align: middle;\n",
       "    }\n",
       "\n",
       "    .dataframe tbody tr th {\n",
       "        vertical-align: top;\n",
       "    }\n",
       "\n",
       "    .dataframe thead th {\n",
       "        text-align: right;\n",
       "    }\n",
       "</style>\n",
       "<table border=\"1\" class=\"dataframe\">\n",
       "  <thead>\n",
       "    <tr style=\"text-align: right;\">\n",
       "      <th></th>\n",
       "      <th>image_id</th>\n",
       "      <th>labels</th>\n",
       "    </tr>\n",
       "  </thead>\n",
       "  <tbody>\n",
       "    <tr>\n",
       "      <td>15084</td>\n",
       "      <td>_0_5667.h.bmp</td>\n",
       "      <td>1</td>\n",
       "    </tr>\n",
       "    <tr>\n",
       "      <td>15085</td>\n",
       "      <td>_0_7185.h.bmp</td>\n",
       "      <td>1</td>\n",
       "    </tr>\n",
       "    <tr>\n",
       "      <td>15086</td>\n",
       "      <td>_0_7554.h.bmp</td>\n",
       "      <td>1</td>\n",
       "    </tr>\n",
       "    <tr>\n",
       "      <td>15087</td>\n",
       "      <td>_0_2332.h.bmp</td>\n",
       "      <td>1</td>\n",
       "    </tr>\n",
       "    <tr>\n",
       "      <td>15088</td>\n",
       "      <td>_0_5622.h.bmp</td>\n",
       "      <td>1</td>\n",
       "    </tr>\n",
       "  </tbody>\n",
       "</table>\n",
       "</div>"
      ],
      "text/plain": [
       "            image_id  labels\n",
       "15084  _0_5667.h.bmp       1\n",
       "15085  _0_7185.h.bmp       1\n",
       "15086  _0_7554.h.bmp       1\n",
       "15087  _0_2332.h.bmp       1\n",
       "15088  _0_5622.h.bmp       1"
      ]
     },
     "execution_count": 4,
     "metadata": {},
     "output_type": "execute_result"
    }
   ],
   "source": [
    "train.tail()"
   ]
  },
  {
   "cell_type": "code",
   "execution_count": 5,
   "metadata": {},
   "outputs": [],
   "source": [
    "train = train.sample(frac=1).reset_index(drop=True)"
   ]
  },
  {
   "cell_type": "code",
   "execution_count": 6,
   "metadata": {},
   "outputs": [
    {
     "data": {
      "text/html": [
       "<div>\n",
       "<style scoped>\n",
       "    .dataframe tbody tr th:only-of-type {\n",
       "        vertical-align: middle;\n",
       "    }\n",
       "\n",
       "    .dataframe tbody tr th {\n",
       "        vertical-align: top;\n",
       "    }\n",
       "\n",
       "    .dataframe thead th {\n",
       "        text-align: right;\n",
       "    }\n",
       "</style>\n",
       "<table border=\"1\" class=\"dataframe\">\n",
       "  <thead>\n",
       "    <tr style=\"text-align: right;\">\n",
       "      <th></th>\n",
       "      <th>image_id</th>\n",
       "      <th>labels</th>\n",
       "    </tr>\n",
       "  </thead>\n",
       "  <tbody>\n",
       "    <tr>\n",
       "      <td>0</td>\n",
       "      <td>_0_4786.h.bmp</td>\n",
       "      <td>1</td>\n",
       "    </tr>\n",
       "    <tr>\n",
       "      <td>1</td>\n",
       "      <td>_0_8526.h.bmp</td>\n",
       "      <td>1</td>\n",
       "    </tr>\n",
       "    <tr>\n",
       "      <td>2</td>\n",
       "      <td>_0_8499..bmp</td>\n",
       "      <td>0</td>\n",
       "    </tr>\n",
       "    <tr>\n",
       "      <td>3</td>\n",
       "      <td>_0_1404..bmp</td>\n",
       "      <td>0</td>\n",
       "    </tr>\n",
       "    <tr>\n",
       "      <td>4</td>\n",
       "      <td>_0_5370.h.bmp</td>\n",
       "      <td>1</td>\n",
       "    </tr>\n",
       "  </tbody>\n",
       "</table>\n",
       "</div>"
      ],
      "text/plain": [
       "        image_id  labels\n",
       "0  _0_4786.h.bmp       1\n",
       "1  _0_8526.h.bmp       1\n",
       "2   _0_8499..bmp       0\n",
       "3   _0_1404..bmp       0\n",
       "4  _0_5370.h.bmp       1"
      ]
     },
     "execution_count": 6,
     "metadata": {},
     "output_type": "execute_result"
    }
   ],
   "source": [
    "train.head()"
   ]
  },
  {
   "cell_type": "code",
   "execution_count": 7,
   "metadata": {},
   "outputs": [
    {
     "data": {
      "text/html": [
       "<div>\n",
       "<style scoped>\n",
       "    .dataframe tbody tr th:only-of-type {\n",
       "        vertical-align: middle;\n",
       "    }\n",
       "\n",
       "    .dataframe tbody tr th {\n",
       "        vertical-align: top;\n",
       "    }\n",
       "\n",
       "    .dataframe thead th {\n",
       "        text-align: right;\n",
       "    }\n",
       "</style>\n",
       "<table border=\"1\" class=\"dataframe\">\n",
       "  <thead>\n",
       "    <tr style=\"text-align: right;\">\n",
       "      <th></th>\n",
       "      <th>image_id</th>\n",
       "      <th>labels</th>\n",
       "    </tr>\n",
       "  </thead>\n",
       "  <tbody>\n",
       "    <tr>\n",
       "      <td>15084</td>\n",
       "      <td>_0_5728.h.bmp</td>\n",
       "      <td>1</td>\n",
       "    </tr>\n",
       "    <tr>\n",
       "      <td>15085</td>\n",
       "      <td>_0_317.h.bmp</td>\n",
       "      <td>1</td>\n",
       "    </tr>\n",
       "    <tr>\n",
       "      <td>15086</td>\n",
       "      <td>_0_6835.h.bmp</td>\n",
       "      <td>1</td>\n",
       "    </tr>\n",
       "    <tr>\n",
       "      <td>15087</td>\n",
       "      <td>_0_4265.h.bmp</td>\n",
       "      <td>1</td>\n",
       "    </tr>\n",
       "    <tr>\n",
       "      <td>15088</td>\n",
       "      <td>_0_1234.h.bmp</td>\n",
       "      <td>1</td>\n",
       "    </tr>\n",
       "  </tbody>\n",
       "</table>\n",
       "</div>"
      ],
      "text/plain": [
       "            image_id  labels\n",
       "15084  _0_5728.h.bmp       1\n",
       "15085   _0_317.h.bmp       1\n",
       "15086  _0_6835.h.bmp       1\n",
       "15087  _0_4265.h.bmp       1\n",
       "15088  _0_1234.h.bmp       1"
      ]
     },
     "execution_count": 7,
     "metadata": {},
     "output_type": "execute_result"
    }
   ],
   "source": [
    "train.tail()"
   ]
  },
  {
   "cell_type": "code",
   "execution_count": 8,
   "metadata": {},
   "outputs": [
    {
     "data": {
      "text/plain": [
       "<matplotlib.axes._subplots.AxesSubplot at 0x10dd8fcd0>"
      ]
     },
     "execution_count": 8,
     "metadata": {},
     "output_type": "execute_result"
    },
    {
     "data": {
      "image/png": "[encoded data removed]",
      "text/plain": [
       "<Figure size 432x288 with 1 Axes>"
      ]
     },
     "metadata": {
      "needs_background": "light"
     },
     "output_type": "display_data"
    }
   ],
   "source": [
    "train['labels'].value_counts().plot.bar()"
   ]
  },
  {
   "cell_type": "code",
   "execution_count": 9,
   "metadata": {},
   "outputs": [
    {
     "data": {
      "text/plain": [
       "<matplotlib.image.AxesImage at 0x1a43513fd0>"
      ]
     },
     "execution_count": 9,
     "metadata": {},
     "output_type": "execute_result"
    },
    {
     "data": {
      "image/png": "[encoded data removed]",
      "text/plain": [
       "<Figure size 432x288 with 1 Axes>"
      ]
     },
     "metadata": {
      "needs_background": "light"
     },
     "output_type": "display_data"
    }
   ],
   "source": [
    "files = os.listdir(\"/Users/jesus/Downloads/blood_cancer/Augmented_train/Gaussian-clahe-gray/\")\n",
    "\n",
    "\n",
    "sample = random.choice(files)\n",
    "image = load_img(\"/Users/jesus/Downloads/blood_cancer/Augmented_train/Gaussian-clahe-gray/\" +sample)\n",
    "plt.imshow(image)"
   ]
  },
  {
   "cell_type": "code",
   "execution_count": 10,
   "metadata": {},
   "outputs": [],
   "source": [
    "train[\"labels\"] = train[\"labels\"].replace({0: 'all', 1: 'hem'}) "
   ]
  },
  {
   "cell_type": "code",
   "execution_count": 11,
   "metadata": {},
   "outputs": [],
   "source": [
    "train_dir = '/Users/jesus/Downloads/blood_cancer/Augmented_train/Gaussian-clahe-gray'"
   ]
  },
  {
   "cell_type": "code",
   "execution_count": 12,
   "metadata": {},
   "outputs": [],
   "source": [
    "train_df, test_df = train_test_split(train, test_size=0.20, random_state=20)"
   ]
  },
  {
   "cell_type": "code",
   "execution_count": 13,
   "metadata": {},
   "outputs": [],
   "source": [
    "train_df, validate_df = train_test_split(train_df, test_size=0.10, random_state=20)"
   ]
  },
  {
   "cell_type": "code",
   "execution_count": 14,
   "metadata": {},
   "outputs": [
    {
     "data": {
      "text/plain": [
       "<matplotlib.axes._subplots.AxesSubplot at 0x1a4241a1d0>"
      ]
     },
     "execution_count": 14,
     "metadata": {},
     "output_type": "execute_result"
    },
    {
     "data": {
      "image/png": "[encoded data removed]",
      "text/plain": [
       "<Figure size 432x288 with 1 Axes>"
      ]
     },
     "metadata": {
      "needs_background": "light"
     },
     "output_type": "display_data"
    }
   ],
   "source": [
    "train_df['labels'].value_counts().plot.bar()"
   ]
  },
  {
   "cell_type": "code",
   "execution_count": 15,
   "metadata": {},
   "outputs": [
    {
     "data": {
      "text/plain": [
       "10863"
      ]
     },
     "execution_count": 15,
     "metadata": {},
     "output_type": "execute_result"
    }
   ],
   "source": [
    "len(train_df)\n"
   ]
  },
  {
   "cell_type": "code",
   "execution_count": 16,
   "metadata": {},
   "outputs": [
    {
     "data": {
      "text/plain": [
       "<matplotlib.axes._subplots.AxesSubplot at 0x1a4218edd0>"
      ]
     },
     "execution_count": 16,
     "metadata": {},
     "output_type": "execute_result"
    },
    {
     "data": {
      "image/png": "[encoded data removed]",
      "text/plain": [
       "<Figure size 432x288 with 1 Axes>"
      ]
     },
     "metadata": {
      "needs_background": "light"
     },
     "output_type": "display_data"
    }
   ],
   "source": [
    "validate_df['labels'].value_counts().plot.bar()"
   ]
  },
  {
   "cell_type": "code",
   "execution_count": 17,
   "metadata": {},
   "outputs": [
    {
     "data": {
      "text/plain": [
       "3018"
      ]
     },
     "execution_count": 17,
     "metadata": {},
     "output_type": "execute_result"
    }
   ],
   "source": [
    "len(test_df)\n"
   ]
  },
  {
   "cell_type": "code",
   "execution_count": 18,
   "metadata": {},
   "outputs": [
    {
     "data": {
      "text/plain": [
       "1208"
      ]
     },
     "execution_count": 18,
     "metadata": {},
     "output_type": "execute_result"
    }
   ],
   "source": [
    "len(validate_df)"
   ]
  },
  {
   "cell_type": "code",
   "execution_count": 19,
   "metadata": {
    "scrolled": true
   },
   "outputs": [
    {
     "data": {
      "text/plain": [
       "<matplotlib.axes._subplots.AxesSubplot at 0x1a424c47d0>"
      ]
     },
     "execution_count": 19,
     "metadata": {},
     "output_type": "execute_result"
    },
    {
     "data": {
      "image/png": "[encoded data removed]",
      "text/plain": [
       "<Figure size 432x288 with 1 Axes>"
      ]
     },
     "metadata": {
      "needs_background": "light"
     },
     "output_type": "display_data"
    }
   ],
   "source": [
    "test_df['labels'].value_counts().plot.bar()"
   ]
  },
  {
   "cell_type": "code",
   "execution_count": 20,
   "metadata": {},
   "outputs": [],
   "source": [
    "batch_size=20"
   ]
  },
  {
   "cell_type": "code",
   "execution_count": 21,
   "metadata": {
    "scrolled": true
   },
   "outputs": [
    {
     "name": "stdout",
     "output_type": "stream",
     "text": [
      "Model: \"vgg19\"\n",
      "_________________________________________________________________\n",
      "Layer (type)                 Output Shape              Param #   \n",
      "=================================================================\n",
      "input_1 (InputLayer)         (None, None, None, 3)     0         \n",
      "_________________________________________________________________\n",
      "block1_conv1 (Conv2D)        (None, None, None, 64)    1792      \n",
      "_________________________________________________________________\n",
      "block1_conv2 (Conv2D)        (None, None, None, 64)    36928     \n",
      "_________________________________________________________________\n",
      "block1_pool (MaxPooling2D)   (None, None, None, 64)    0         \n",
      "_________________________________________________________________\n",
      "block2_conv1 (Conv2D)        (None, None, None, 128)   73856     \n",
      "_________________________________________________________________\n",
      "block2_conv2 (Conv2D)        (None, None, None, 128)   147584    \n",
      "_________________________________________________________________\n",
      "block2_pool (MaxPooling2D)   (None, None, None, 128)   0         \n",
      "_________________________________________________________________\n",
      "block3_conv1 (Conv2D)        (None, None, None, 256)   295168    \n",
      "_________________________________________________________________\n",
      "block3_conv2 (Conv2D)        (None, None, None, 256)   590080    \n",
      "_________________________________________________________________\n",
      "block3_conv3 (Conv2D)        (None, None, None, 256)   590080    \n",
      "_________________________________________________________________\n",
      "block3_conv4 (Conv2D)        (None, None, None, 256)   590080    \n",
      "_________________________________________________________________\n",
      "block3_pool (MaxPooling2D)   (None, None, None, 256)   0         \n",
      "_________________________________________________________________\n",
      "block4_conv1 (Conv2D)        (None, None, None, 512)   1180160   \n",
      "_________________________________________________________________\n",
      "block4_conv2 (Conv2D)        (None, None, None, 512)   2359808   \n",
      "_________________________________________________________________\n",
      "block4_conv3 (Conv2D)        (None, None, None, 512)   2359808   \n",
      "_________________________________________________________________\n",
      "block4_conv4 (Conv2D)        (None, None, None, 512)   2359808   \n",
      "_________________________________________________________________\n",
      "block4_pool (MaxPooling2D)   (None, None, None, 512)   0         \n",
      "_________________________________________________________________\n",
      "block5_conv1 (Conv2D)        (None, None, None, 512)   2359808   \n",
      "_________________________________________________________________\n",
      "block5_conv2 (Conv2D)        (None, None, None, 512)   2359808   \n",
      "_________________________________________________________________\n",
      "block5_conv3 (Conv2D)        (None, None, None, 512)   2359808   \n",
      "_________________________________________________________________\n",
      "block5_conv4 (Conv2D)        (None, None, None, 512)   2359808   \n",
      "_________________________________________________________________\n",
      "block5_pool (MaxPooling2D)   (None, None, None, 512)   0         \n",
      "=================================================================\n",
      "Total params: 20,024,384\n",
      "Trainable params: 20,024,384\n",
      "Non-trainable params: 0\n",
      "_________________________________________________________________\n"
     ]
    }
   ],
   "source": [
    "model_vg=VGG19(weights='imagenet',include_top=False)\n",
    "model_vg.summary()"
   ]
  },
  {
   "cell_type": "code",
   "execution_count": 22,
   "metadata": {},
   "outputs": [],
   "source": [
    "train_datagen = ImageDataGenerator(\n",
    "rotation_range=45,\n",
    "rescale=1./255,)\n",
    "\n"
   ]
  },
  {
   "cell_type": "code",
   "execution_count": 23,
   "metadata": {},
   "outputs": [
    {
     "name": "stdout",
     "output_type": "stream",
     "text": [
      "Found 3018 validated image filenames belonging to 2 classes.\n"
     ]
    }
   ],
   "source": [
    "test_datagen = ImageDataGenerator(\n",
    "    rescale=1./255)\n",
    "#     brightness_range=[1.0,1.1]\n",
    "\n",
    "test_generator = test_datagen.flow_from_dataframe(\n",
    "    test_df,train_dir, \n",
    "    x_col='image_id',\n",
    "    y_col='labels',\n",
    "    class_mode='binary',\n",
    "    target_size=(128, 128),\n",
    "    batch_size=batch_size\n",
    ")"
   ]
  },
  {
   "cell_type": "code",
   "execution_count": 24,
   "metadata": {},
   "outputs": [
    {
     "name": "stdout",
     "output_type": "stream",
     "text": [
      "Found 1208 validated image filenames belonging to 2 classes.\n"
     ]
    }
   ],
   "source": [
    "valid_datagen = ImageDataGenerator(\n",
    "    rescale=1./255,\n",
    "    )\n",
    "\n",
    "valid_generator = valid_datagen.flow_from_dataframe(\n",
    "    validate_df, train_dir, \n",
    "    x_col='image_id',\n",
    "    y_col='labels',\n",
    "    class_mode='binary',\n",
    "    target_size=(128, 128),\n",
    "    batch_size=batch_size\n",
    ")"
   ]
  },
  {
   "cell_type": "code",
   "execution_count": 27,
   "metadata": {},
   "outputs": [],
   "source": [
    "def extract_features(directory,samples,df):\n",
    "    \n",
    "    \n",
    "    features=np.zeros(shape=(samples,4,4,512))\n",
    "    labels=np.zeros(shape=(samples))\n",
    "    generator=train_datagen.flow_from_dataframe(dataframe=df,directory=directory, \n",
    "    x_col='image_id',\n",
    "    y_col='labels',\n",
    "    class_mode='binary',\n",
    "    target_size=(128, 128),\n",
    "    batch_size=batch_size)\n",
    "    \n",
    "    i=0\n",
    "    for input_batch,label_batch in generator:\n",
    "        feature_batch=model_vg.predict(input_batch)\n",
    "        features[i*batch_size:(i+1)*batch_size]=feature_batch\n",
    "        labels[i*batch_size:(i+1)*batch_size]=label_batch\n",
    "        i+=1\n",
    "        if(i*batch_size>=samples):\n",
    "            break\n",
    "    return(features,labels)\n"
   ]
  },
  {
   "cell_type": "code",
   "execution_count": 28,
   "metadata": {},
   "outputs": [
    {
     "name": "stdout",
     "output_type": "stream",
     "text": [
      "Found 10863 validated image filenames belonging to 2 classes.\n",
      "Found 3018 validated image filenames belonging to 2 classes.\n",
      "Found 1208 validated image filenames belonging to 2 classes.\n"
     ]
    }
   ],
   "source": [
    "train_features, train_labels= extract_features(train_dir,10863, train_df)\n",
    "test_features, test_labels= extract_features(train_dir,3018, test_df)\n",
    "validate_features, validate_labels= extract_features(train_dir,1208, validate_df)\n"
   ]
  },
  {
   "cell_type": "code",
   "execution_count": 29,
   "metadata": {},
   "outputs": [],
   "source": [
    "train_features_flatten=train_features.reshape((10863,4*4*512))\n",
    "test_features_flatten=test_features.reshape((3018,4*4*512))\n",
    "validate_features_flatten=validate_features.reshape((1208,4*4*512))\n"
   ]
  },
  {
   "cell_type": "code",
   "execution_count": 30,
   "metadata": {},
   "outputs": [
    {
     "data": {
      "text/plain": [
       "(10863, 4, 4, 512)"
      ]
     },
     "execution_count": 30,
     "metadata": {},
     "output_type": "execute_result"
    }
   ],
   "source": [
    "train_features.shape"
   ]
  },
  {
   "cell_type": "code",
   "execution_count": null,
   "metadata": {},
   "outputs": [],
   "source": [
    "# import os,cv2\n",
    "# from IPython.display import Image\n",
    "# from keras.preprocessing import image\n",
    "\n",
    "\n",
    "# from keras.applications.imagenet_utils import preprocess_input\n",
    "# import seaborn as sns\n",
    "# from keras import regularizers\n",
    "\n",
    "# from keras.preprocessing.image import ImageDataGenerator\n",
    "# from keras.models import Sequential\n",
    "# from keras.layers import Dense,Dropout,Activation,Flatten\n",
    "\n",
    "# from keras import optimizers\n",
    "# from keras.callbacks import ReduceLROnPlateau,EarlyStopping\n",
    "# from keras.layers.normalization import BatchNormalization\n",
    "# from keras.regularizers import l2"
   ]
  },
  {
   "cell_type": "code",
   "execution_count": 187,
   "metadata": {},
   "outputs": [
    {
     "name": "stdout",
     "output_type": "stream",
     "text": [
      "Model: \"sequential_27\"\n",
      "_________________________________________________________________\n",
      "Layer (type)                 Output Shape              Param #   \n",
      "=================================================================\n",
      "global_average_pooling2d_27  (None, 512)               0         \n",
      "_________________________________________________________________\n",
      "dropout_32 (Dropout)         (None, 512)               0         \n",
      "_________________________________________________________________\n",
      "dense_70 (Dense)             (None, 2688)              1378944   \n",
      "_________________________________________________________________\n",
      "dense_71 (Dense)             (None, 1)                 2689      \n",
      "=================================================================\n",
      "Total params: 1,381,633\n",
      "Trainable params: 1,381,633\n",
      "Non-trainable params: 0\n",
      "_________________________________________________________________\n"
     ]
    }
   ],
   "source": [
    "# model = models.Sequential()\n",
    "# model.add(layers.Flatten(input_shape=(7,7,512)))\n",
    "# model.add(layers.Dense(256, activation='relu', input_dim=(7*7*512)))\n",
    "# model.add(layers.Dropout(0.5))\n",
    "# model.add(layers.Dense(2, activation='sigmoid'))\n",
    "# model.summary()\n",
    "\n",
    "# model = models.Sequential()\n",
    "# model.add(layers.Flatten(input_shape=(4,4,512)))\n",
    "# model.add(layers.Dense(256, activation='relu', input_dim=(4*4*512)))\n",
    "# model.add(layers.Dropout(0.25))\n",
    "# model.add(layers.Dense(1, activation='sigmoid'))\n",
    "# model.summary()\n",
    "\n",
    "model_transfer = Sequential()\n",
    "model_transfer.add(GlobalAveragePooling2D(input_shape=train_features.shape[1:]))\n",
    "model_transfer.add(Dropout(0.25))\n",
    "model_transfer.add(Dense(2688, activation='relu'))\n",
    "# model_transfer.add(Dropout(0.25))\n",
    "# model_transfer.add(Dense(256, activation='relu'))\n",
    "\n",
    "# # model_transfer.add(Dense(128, activation='relu'))\n",
    "# # model_transfer.add(Dense(256, activation='relu'))\n",
    "# # model_transfer.add(Dense(128, activation='relu'))\n",
    "# # model_transfer.add(Dense(512, activation='relu'))\n",
    "model_transfer.add(Dense(1, activation='sigmoid'))\n",
    "model_transfer.summary()\n",
    "\n",
    "\n",
    "\n",
    "\n",
    "\n",
    "# model = Sequential()\n",
    "# model.add(GlobalAveragePooling2D(input_shape=train_features.shape[1:]))\n",
    "# model.add(Dense(256, activation='relu'))\n",
    "# model.add(layers.Dropout(0.7))\n",
    "# model.add(Dense(2, activation='sigmoid'))\n",
    "# model.summary()\n",
    "\n",
    "# model = models.Sequential()\n",
    "# model.add(layers.Flatten(input_shape=(4,4,512)))\n",
    "# model.add(layers.Dense(256, activation='relu', input_dim=(4*4*512)))\n",
    "# model.add(layers.Dropout(0.5))\n",
    "# model.add(layers.Dense(2, activation='sigmoid'))\n",
    "# model.summary()\n",
    "\n",
    "\n",
    "# model=models.Sequential()\n",
    "# model.add(layers.Dense(212,activation='relu',kernel_regularizer=regularizers.l1_l2(.001),input_dim=(7*7*512)))\n",
    "# model.add(layers.Dropout(0.5))\n",
    "# model.add(layers.Dense(2,activation='sigmoid'))\n",
    "\n",
    "# model.summary()"
   ]
  },
  {
   "cell_type": "code",
   "execution_count": 188,
   "metadata": {},
   "outputs": [],
   "source": [
    "# Compile model\n",
    "model_transfer.compile(optimizer= 'adam',\n",
    "              loss='binary_crossentropy',\n",
    "              metrics=['accuracy'])\n"
   ]
  },
  {
   "cell_type": "code",
   "execution_count": 189,
   "metadata": {},
   "outputs": [],
   "source": [
    "earlystop = EarlyStopping(patience=10)\n",
    "learning_rate_reduction = ReduceLROnPlateau(monitor='val_accuracy', \n",
    "                                            patience=2, \n",
    "                                            verbose=1, \n",
    "                                            factor=0.5, \n",
    "                                            min_lr=0.00001)\n",
    "\n",
    "callbacks = [earlystop, learning_rate_reduction]"
   ]
  },
  {
   "cell_type": "code",
   "execution_count": 190,
   "metadata": {},
   "outputs": [
    {
     "name": "stdout",
     "output_type": "stream",
     "text": [
      "Train on 10863 samples, validate on 3018 samples\n",
      "Epoch 1/50\n",
      "10863/10863 [==============================] - 4s 393us/step - loss: 0.5423 - accuracy: 0.7361 - val_loss: 0.5460 - val_accuracy: 0.7230\n",
      "Epoch 2/50\n",
      "10863/10863 [==============================] - 4s 375us/step - loss: 0.5130 - accuracy: 0.7553 - val_loss: 0.4949 - val_accuracy: 0.7621\n",
      "Epoch 3/50\n",
      "10863/10863 [==============================] - 4s 375us/step - loss: 0.5024 - accuracy: 0.7632 - val_loss: 0.4909 - val_accuracy: 0.7608\n",
      "Epoch 4/50\n",
      "10863/10863 [==============================] - 4s 379us/step - loss: 0.4891 - accuracy: 0.7748 - val_loss: 0.4949 - val_accuracy: 0.7681\n",
      "Epoch 5/50\n",
      "10863/10863 [==============================] - 4s 380us/step - loss: 0.4968 - accuracy: 0.7678 - val_loss: 0.4965 - val_accuracy: 0.7601\n",
      "Epoch 6/50\n",
      "10863/10863 [==============================] - 4s 379us/step - loss: 0.4887 - accuracy: 0.7712 - val_loss: 0.4812 - val_accuracy: 0.7671\n",
      "Epoch 7/50\n",
      "10863/10863 [==============================] - 4s 380us/step - loss: 0.4906 - accuracy: 0.7709 - val_loss: 0.4827 - val_accuracy: 0.7641\n",
      "Epoch 8/50\n",
      "10863/10863 [==============================] - 4s 400us/step - loss: 0.4856 - accuracy: 0.7751 - val_loss: 0.4836 - val_accuracy: 0.7694\n",
      "Epoch 9/50\n",
      "10863/10863 [==============================] - 4s 386us/step - loss: 0.4837 - accuracy: 0.7739 - val_loss: 0.4795 - val_accuracy: 0.7710\n",
      "Epoch 10/50\n",
      "10863/10863 [==============================] - 4s 397us/step - loss: 0.4823 - accuracy: 0.7763 - val_loss: 0.4796 - val_accuracy: 0.7667\n",
      "Epoch 11/50\n",
      "10863/10863 [==============================] - 4s 387us/step - loss: 0.4816 - accuracy: 0.7775 - val_loss: 0.4787 - val_accuracy: 0.7687\n",
      "Epoch 12/50\n",
      "10863/10863 [==============================] - 4s 376us/step - loss: 0.4795 - accuracy: 0.7765 - val_loss: 0.4800 - val_accuracy: 0.7734\n",
      "Epoch 13/50\n",
      "10863/10863 [==============================] - 4s 378us/step - loss: 0.4804 - accuracy: 0.7732 - val_loss: 0.4775 - val_accuracy: 0.7684\n",
      "Epoch 14/50\n",
      "10863/10863 [==============================] - 4s 378us/step - loss: 0.4792 - accuracy: 0.7799 - val_loss: 0.4756 - val_accuracy: 0.7714\n",
      "Epoch 15/50\n",
      "10863/10863 [==============================] - 4s 378us/step - loss: 0.4737 - accuracy: 0.7784 - val_loss: 0.5074 - val_accuracy: 0.7535\n",
      "Epoch 16/50\n",
      "10863/10863 [==============================] - 4s 378us/step - loss: 0.4746 - accuracy: 0.7796 - val_loss: 0.4846 - val_accuracy: 0.7700\n",
      "Epoch 17/50\n",
      "10863/10863 [==============================] - 4s 377us/step - loss: 0.4758 - accuracy: 0.7810 - val_loss: 0.4866 - val_accuracy: 0.7677\n",
      "Epoch 18/50\n",
      "10863/10863 [==============================] - 4s 378us/step - loss: 0.4752 - accuracy: 0.7806 - val_loss: 0.4866 - val_accuracy: 0.7697\n",
      "Epoch 19/50\n",
      "10863/10863 [==============================] - 4s 390us/step - loss: 0.4723 - accuracy: 0.7802 - val_loss: 0.4807 - val_accuracy: 0.7694\n",
      "Epoch 20/50\n",
      "10863/10863 [==============================] - 4s 378us/step - loss: 0.4731 - accuracy: 0.7801 - val_loss: 0.4755 - val_accuracy: 0.7740\n",
      "Epoch 21/50\n",
      "10863/10863 [==============================] - 4s 376us/step - loss: 0.4710 - accuracy: 0.7838 - val_loss: 0.4782 - val_accuracy: 0.7740\n",
      "Epoch 22/50\n",
      "10863/10863 [==============================] - 4s 380us/step - loss: 0.4704 - accuracy: 0.7862 - val_loss: 0.4724 - val_accuracy: 0.7737\n",
      "Epoch 23/50\n",
      "10863/10863 [==============================] - 4s 388us/step - loss: 0.4693 - accuracy: 0.7836 - val_loss: 0.4756 - val_accuracy: 0.7750\n",
      "Epoch 24/50\n",
      "10863/10863 [==============================] - 4s 378us/step - loss: 0.4671 - accuracy: 0.7851 - val_loss: 0.4725 - val_accuracy: 0.7740\n",
      "Epoch 25/50\n",
      "10863/10863 [==============================] - 4s 379us/step - loss: 0.4671 - accuracy: 0.7852 - val_loss: 0.4810 - val_accuracy: 0.7681\n",
      "Epoch 26/50\n",
      "10863/10863 [==============================] - 4s 380us/step - loss: 0.4711 - accuracy: 0.7833 - val_loss: 0.4727 - val_accuracy: 0.7720\n",
      "Epoch 27/50\n",
      "10863/10863 [==============================] - 4s 381us/step - loss: 0.4649 - accuracy: 0.7831 - val_loss: 0.4679 - val_accuracy: 0.7737\n",
      "Epoch 28/50\n",
      "10863/10863 [==============================] - 4s 388us/step - loss: 0.4672 - accuracy: 0.7808 - val_loss: 0.4713 - val_accuracy: 0.7737\n",
      "Epoch 29/50\n",
      "10863/10863 [==============================] - 4s 381us/step - loss: 0.4655 - accuracy: 0.7812 - val_loss: 0.4707 - val_accuracy: 0.7700\n",
      "Epoch 30/50\n",
      "10863/10863 [==============================] - 4s 376us/step - loss: 0.4698 - accuracy: 0.7846 - val_loss: 0.4799 - val_accuracy: 0.7691\n",
      "Epoch 31/50\n",
      "10863/10863 [==============================] - 4s 383us/step - loss: 0.4635 - accuracy: 0.7871 - val_loss: 0.4751 - val_accuracy: 0.7704\n",
      "Epoch 32/50\n",
      "10863/10863 [==============================] - 4s 376us/step - loss: 0.4666 - accuracy: 0.7825 - val_loss: 0.4707 - val_accuracy: 0.7704\n",
      "Epoch 33/50\n",
      "10863/10863 [==============================] - 4s 378us/step - loss: 0.4624 - accuracy: 0.7838 - val_loss: 0.4699 - val_accuracy: 0.7727\n",
      "Epoch 34/50\n",
      "10863/10863 [==============================] - 4s 389us/step - loss: 0.4650 - accuracy: 0.7802 - val_loss: 0.4682 - val_accuracy: 0.7770\n",
      "Epoch 35/50\n",
      "10863/10863 [==============================] - 4s 380us/step - loss: 0.4631 - accuracy: 0.7852 - val_loss: 0.4730 - val_accuracy: 0.7793\n",
      "Epoch 36/50\n",
      "10863/10863 [==============================] - 4s 381us/step - loss: 0.4596 - accuracy: 0.7851 - val_loss: 0.4700 - val_accuracy: 0.7747\n",
      "Epoch 37/50\n",
      "10863/10863 [==============================] - 4s 398us/step - loss: 0.4624 - accuracy: 0.7841 - val_loss: 0.4733 - val_accuracy: 0.7704\n",
      "Epoch 38/50\n",
      "10863/10863 [==============================] - 4s 398us/step - loss: 0.4618 - accuracy: 0.7861 - val_loss: 0.4713 - val_accuracy: 0.7714\n",
      "Epoch 39/50\n",
      "10863/10863 [==============================] - 4s 381us/step - loss: 0.4627 - accuracy: 0.7848 - val_loss: 0.4677 - val_accuracy: 0.7780\n",
      "Epoch 40/50\n",
      "10863/10863 [==============================] - 4s 379us/step - loss: 0.4579 - accuracy: 0.7898 - val_loss: 0.4671 - val_accuracy: 0.7734\n",
      "Epoch 41/50\n",
      "10863/10863 [==============================] - 4s 382us/step - loss: 0.4603 - accuracy: 0.7848 - val_loss: 0.4652 - val_accuracy: 0.7803\n",
      "Epoch 42/50\n",
      "10863/10863 [==============================] - 4s 378us/step - loss: 0.4568 - accuracy: 0.7889 - val_loss: 0.4676 - val_accuracy: 0.7777\n",
      "Epoch 43/50\n",
      "10863/10863 [==============================] - 4s 380us/step - loss: 0.4617 - accuracy: 0.7816 - val_loss: 0.4922 - val_accuracy: 0.7681\n",
      "Epoch 44/50\n",
      "10863/10863 [==============================] - 4s 379us/step - loss: 0.4608 - accuracy: 0.7862 - val_loss: 0.4715 - val_accuracy: 0.7763\n",
      "Epoch 45/50\n",
      "10863/10863 [==============================] - 4s 382us/step - loss: 0.4584 - accuracy: 0.7881 - val_loss: 0.4654 - val_accuracy: 0.7767\n",
      "Epoch 46/50\n",
      "10863/10863 [==============================] - 4s 381us/step - loss: 0.4594 - accuracy: 0.7858 - val_loss: 0.4701 - val_accuracy: 0.7760\n",
      "Epoch 47/50\n",
      "10863/10863 [==============================] - 4s 383us/step - loss: 0.4584 - accuracy: 0.7863 - val_loss: 0.4793 - val_accuracy: 0.7654\n",
      "Epoch 48/50\n",
      "10863/10863 [==============================] - 4s 385us/step - loss: 0.4582 - accuracy: 0.7867 - val_loss: 0.4720 - val_accuracy: 0.7760\n",
      "Epoch 49/50\n",
      "10863/10863 [==============================] - 4s 384us/step - loss: 0.4551 - accuracy: 0.7885 - val_loss: 0.4641 - val_accuracy: 0.7763\n",
      "Epoch 50/50\n",
      "10863/10863 [==============================] - 4s 385us/step - loss: 0.4544 - accuracy: 0.7880 - val_loss: 0.4636 - val_accuracy: 0.7767\n"
     ]
    }
   ],
   "source": [
    "d28 = model_transfer.fit(train_features, train_labels, batch_size=32, epochs=50,\n",
    "          validation_data=(test_features, test_labels),shuffle=True)"
   ]
  },
  {
   "cell_type": "code",
   "execution_count": 191,
   "metadata": {},
   "outputs": [
    {
     "data": {
      "image/png": "[encoded data removed]",
      "text/plain": [
       "<Figure size 864x360 with 2 Axes>"
      ]
     },
     "metadata": {
      "needs_background": "light"
     },
     "output_type": "display_data"
    }
   ],
   "source": [
    "# plot the model loss and accuracy\n",
    "train_loss = d28.history['loss']\n",
    "train_acc = d28.history['accuracy']\n",
    "valid_loss = d28.history['val_loss']\n",
    "valid_acc = d28.history['val_accuracy']\n",
    "\n",
    "x = [(i+1) for i in range(len(train_loss))]\n",
    "\n",
    "f,ax = plt.subplots(1,2, figsize=(12,5))\n",
    "ax[0].plot(x, train_loss)\n",
    "ax[0].plot(x, valid_loss)\n",
    "ax[0].set_title(\"Loss plot\")\n",
    "ax[0].set_xlabel(\"Epochs\")\n",
    "ax[0].set_ylabel(\"loss\")\n",
    "ax[0].legend(['train', 'valid'])\n",
    "\n",
    "\n",
    "ax[1].plot(x, train_acc)\n",
    "ax[1].plot(x, valid_acc)\n",
    "ax[1].set_title(\"Accuracy plot\")\n",
    "ax[1].set_xlabel(\"Epochs\")\n",
    "ax[1].set_ylabel(\"acc\")\n",
    "ax[1].legend(['train', 'valid'])\n",
    "\n",
    "plt.show()"
   ]
  },
  {
   "cell_type": "code",
   "execution_count": 172,
   "metadata": {},
   "outputs": [],
   "source": [
    "predictions = model_transfer.predict(validate_features)\n",
    "predictions = [1 if x>0.5 else 0 for x in predictions]\n"
   ]
  },
  {
   "cell_type": "code",
   "execution_count": 173,
   "metadata": {},
   "outputs": [],
   "source": [
    "from sklearn.metrics import accuracy_score\n",
    "accuracy = accuracy_score(validate_labels, predictions)"
   ]
  },
  {
   "cell_type": "code",
   "execution_count": 174,
   "metadata": {},
   "outputs": [
    {
     "name": "stdout",
     "output_type": "stream",
     "text": [
      "Val Accuracy = 0.79\n"
     ]
    }
   ],
   "source": [
    "print('Val Accuracy = %.2f' % accuracy)"
   ]
  },
  {
   "cell_type": "code",
   "execution_count": 175,
   "metadata": {},
   "outputs": [],
   "source": [
    "confusion_mtx = confusion_matrix(validate_labels, predictions) "
   ]
  },
  {
   "cell_type": "code",
   "execution_count": 176,
   "metadata": {},
   "outputs": [
    {
     "data": {
      "text/plain": [
       "array([[528,  87],\n",
       "       [170, 423]])"
      ]
     },
     "execution_count": 176,
     "metadata": {},
     "output_type": "execute_result"
    }
   ],
   "source": [
    "confusion_mtx"
   ]
  },
  {
   "cell_type": "code",
   "execution_count": 41,
   "metadata": {},
   "outputs": [
    {
     "data": {
      "text/plain": [
       "(<Figure size 432x432 with 2 Axes>,\n",
       " <matplotlib.axes._subplots.AxesSubplot at 0x1a44ac5810>)"
      ]
     },
     "execution_count": 41,
     "metadata": {},
     "output_type": "execute_result"
    },
    {
     "data": {
      "image/png": "[encoded data removed]",
      "text/plain": [
       "<Figure size 432x432 with 2 Axes>"
      ]
     },
     "metadata": {
      "needs_background": "light"
     },
     "output_type": "display_data"
    }
   ],
   "source": [
    "plot_confusion_matrix(confusion_mtx, show_absolute=True, cmap=plt.cm.Greens, figsize=(6,6), colorbar=True)"
   ]
  },
  {
   "cell_type": "code",
   "execution_count": 42,
   "metadata": {},
   "outputs": [
    {
     "data": {
      "text/plain": [
       "0.7900110415836934"
      ]
     },
     "execution_count": 42,
     "metadata": {},
     "output_type": "execute_result"
    }
   ],
   "source": [
    "f1_score(validate_labels, predictions, average='weighted')"
   ]
  },
  {
   "cell_type": "code",
   "execution_count": null,
   "metadata": {},
   "outputs": [],
   "source": []
  }
 ],
 "metadata": {
  "kernelspec": {
   "display_name": "Python 3",
   "language": "python",
   "name": "python3"
  },
  "language_info": {
   "codemirror_mode": {
    "name": "ipython",
    "version": 3
   },
   "file_extension": ".py",
   "mimetype": "text/x-python",
   "name": "python",
   "nbconvert_exporter": "python",
   "pygments_lexer": "ipython3",
   "version": "3.7.4"
  }
 },
 "nbformat": 4,
 "nbformat_minor": 2
}
